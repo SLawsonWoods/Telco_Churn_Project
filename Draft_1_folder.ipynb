{
 "cells": [
  {
   "cell_type": "code",
   "execution_count": 1,
   "id": "24fc586d",
   "metadata": {},
   "outputs": [],
   "source": [
    "# ignore warnings\n",
    "import warnings\n",
    "warnings.filterwarnings(\"ignore\")\n",
    "import pandas as pd\n",
    "import numpy as np\n",
    "import os\n",
    "from pydataset import data\n",
    "from math import sqrt\n",
    "from scipy import stats\n",
    "\n",
    "from sklearn.model_selection import train_test_split\n",
    "from sklearn.ensemble import RandomForestClassifier\n",
    "from sklearn.metrics import classification_report\n",
    "from sklearn.metrics import confusion_matrix\n",
    "from sklearn.metrics import accuracy_score\n",
    "\n",
    "import matplotlib.pyplot as plt\n",
    "%matplotlib inline\n",
    "import seaborn as sns\n",
    "import acquire\n",
    "import env\n",
    "import explore\n",
    "import prepare\n",
    "\n",
    "import graphviz\n",
    "from graphviz import Graph"
   ]
  },
  {
   "cell_type": "code",
   "execution_count": 2,
   "id": "93a801c6",
   "metadata": {},
   "outputs": [],
   "source": [
    "#sns.set(rc={'figure.figsize':(11.7,8.27)})"
   ]
  },
  {
   "cell_type": "markdown",
   "id": "77f54768",
   "metadata": {},
   "source": [
    "Project Objectives\n",
    "\n",
    "Document code, process (data acquistion, preparation, exploratory data analysis and statistical testing, modeling, and model evaluation), findings, and key takeaways in a Jupyter Notebook report.\n",
    "\n",
    "Create modules (acquire.py, prepare.py) that make your process repeateable.\n",
    "\n",
    "Construct a model to predict customer churn using classification techniques."
   ]
  },
  {
   "cell_type": "code",
   "execution_count": 3,
   "id": "8b577a5f",
   "metadata": {},
   "outputs": [],
   "source": [
    "#acquire the data\n",
    "\n",
    "df = pd.read_sql('''SELECT *\n",
    "FROM customers\n",
    "JOIN contract_types USING(contract_type_id)\n",
    "JOIN internet_service_types USING(internet_service_type_id)\n",
    "JOIN payment_types USING(payment_type_id);''', acquire.get_connection(\"telco_churn\"))"
   ]
  },
  {
   "cell_type": "code",
   "execution_count": 4,
   "id": "4102118d",
   "metadata": {},
   "outputs": [
    {
     "data": {
      "text/html": [
       "<div>\n",
       "<style scoped>\n",
       "    .dataframe tbody tr th:only-of-type {\n",
       "        vertical-align: middle;\n",
       "    }\n",
       "\n",
       "    .dataframe tbody tr th {\n",
       "        vertical-align: top;\n",
       "    }\n",
       "\n",
       "    .dataframe thead th {\n",
       "        text-align: right;\n",
       "    }\n",
       "</style>\n",
       "<table border=\"1\" class=\"dataframe\">\n",
       "  <thead>\n",
       "    <tr style=\"text-align: right;\">\n",
       "      <th></th>\n",
       "      <th>payment_type_id</th>\n",
       "      <th>internet_service_type_id</th>\n",
       "      <th>contract_type_id</th>\n",
       "      <th>customer_id</th>\n",
       "      <th>gender</th>\n",
       "      <th>senior_citizen</th>\n",
       "      <th>partner</th>\n",
       "      <th>dependents</th>\n",
       "      <th>tenure</th>\n",
       "      <th>phone_service</th>\n",
       "      <th>...</th>\n",
       "      <th>tech_support</th>\n",
       "      <th>streaming_tv</th>\n",
       "      <th>streaming_movies</th>\n",
       "      <th>paperless_billing</th>\n",
       "      <th>monthly_charges</th>\n",
       "      <th>total_charges</th>\n",
       "      <th>churn</th>\n",
       "      <th>contract_type</th>\n",
       "      <th>internet_service_type</th>\n",
       "      <th>payment_type</th>\n",
       "    </tr>\n",
       "  </thead>\n",
       "  <tbody>\n",
       "    <tr>\n",
       "      <th>0</th>\n",
       "      <td>2</td>\n",
       "      <td>1</td>\n",
       "      <td>3</td>\n",
       "      <td>0016-QLJIS</td>\n",
       "      <td>Female</td>\n",
       "      <td>0</td>\n",
       "      <td>Yes</td>\n",
       "      <td>Yes</td>\n",
       "      <td>65</td>\n",
       "      <td>Yes</td>\n",
       "      <td>...</td>\n",
       "      <td>Yes</td>\n",
       "      <td>Yes</td>\n",
       "      <td>Yes</td>\n",
       "      <td>Yes</td>\n",
       "      <td>90.45</td>\n",
       "      <td>5957.9</td>\n",
       "      <td>No</td>\n",
       "      <td>Two year</td>\n",
       "      <td>DSL</td>\n",
       "      <td>Mailed check</td>\n",
       "    </tr>\n",
       "    <tr>\n",
       "      <th>1</th>\n",
       "      <td>4</td>\n",
       "      <td>1</td>\n",
       "      <td>3</td>\n",
       "      <td>0017-DINOC</td>\n",
       "      <td>Male</td>\n",
       "      <td>0</td>\n",
       "      <td>No</td>\n",
       "      <td>No</td>\n",
       "      <td>54</td>\n",
       "      <td>No</td>\n",
       "      <td>...</td>\n",
       "      <td>Yes</td>\n",
       "      <td>Yes</td>\n",
       "      <td>No</td>\n",
       "      <td>No</td>\n",
       "      <td>45.20</td>\n",
       "      <td>2460.55</td>\n",
       "      <td>No</td>\n",
       "      <td>Two year</td>\n",
       "      <td>DSL</td>\n",
       "      <td>Credit card (automatic)</td>\n",
       "    </tr>\n",
       "    <tr>\n",
       "      <th>2</th>\n",
       "      <td>3</td>\n",
       "      <td>1</td>\n",
       "      <td>3</td>\n",
       "      <td>0019-GFNTW</td>\n",
       "      <td>Female</td>\n",
       "      <td>0</td>\n",
       "      <td>No</td>\n",
       "      <td>No</td>\n",
       "      <td>56</td>\n",
       "      <td>No</td>\n",
       "      <td>...</td>\n",
       "      <td>Yes</td>\n",
       "      <td>No</td>\n",
       "      <td>No</td>\n",
       "      <td>No</td>\n",
       "      <td>45.05</td>\n",
       "      <td>2560.1</td>\n",
       "      <td>No</td>\n",
       "      <td>Two year</td>\n",
       "      <td>DSL</td>\n",
       "      <td>Bank transfer (automatic)</td>\n",
       "    </tr>\n",
       "    <tr>\n",
       "      <th>3</th>\n",
       "      <td>4</td>\n",
       "      <td>1</td>\n",
       "      <td>3</td>\n",
       "      <td>0056-EPFBG</td>\n",
       "      <td>Male</td>\n",
       "      <td>0</td>\n",
       "      <td>Yes</td>\n",
       "      <td>Yes</td>\n",
       "      <td>20</td>\n",
       "      <td>No</td>\n",
       "      <td>...</td>\n",
       "      <td>Yes</td>\n",
       "      <td>No</td>\n",
       "      <td>No</td>\n",
       "      <td>Yes</td>\n",
       "      <td>39.40</td>\n",
       "      <td>825.4</td>\n",
       "      <td>No</td>\n",
       "      <td>Two year</td>\n",
       "      <td>DSL</td>\n",
       "      <td>Credit card (automatic)</td>\n",
       "    </tr>\n",
       "    <tr>\n",
       "      <th>4</th>\n",
       "      <td>3</td>\n",
       "      <td>1</td>\n",
       "      <td>3</td>\n",
       "      <td>0078-XZMHT</td>\n",
       "      <td>Male</td>\n",
       "      <td>0</td>\n",
       "      <td>Yes</td>\n",
       "      <td>No</td>\n",
       "      <td>72</td>\n",
       "      <td>Yes</td>\n",
       "      <td>...</td>\n",
       "      <td>Yes</td>\n",
       "      <td>Yes</td>\n",
       "      <td>Yes</td>\n",
       "      <td>Yes</td>\n",
       "      <td>85.15</td>\n",
       "      <td>6316.2</td>\n",
       "      <td>No</td>\n",
       "      <td>Two year</td>\n",
       "      <td>DSL</td>\n",
       "      <td>Bank transfer (automatic)</td>\n",
       "    </tr>\n",
       "  </tbody>\n",
       "</table>\n",
       "<p>5 rows × 24 columns</p>\n",
       "</div>"
      ],
      "text/plain": [
       "   payment_type_id  internet_service_type_id  contract_type_id customer_id  \\\n",
       "0                2                         1                 3  0016-QLJIS   \n",
       "1                4                         1                 3  0017-DINOC   \n",
       "2                3                         1                 3  0019-GFNTW   \n",
       "3                4                         1                 3  0056-EPFBG   \n",
       "4                3                         1                 3  0078-XZMHT   \n",
       "\n",
       "   gender  senior_citizen partner dependents  tenure phone_service  ...  \\\n",
       "0  Female               0     Yes        Yes      65           Yes  ...   \n",
       "1    Male               0      No         No      54            No  ...   \n",
       "2  Female               0      No         No      56            No  ...   \n",
       "3    Male               0     Yes        Yes      20            No  ...   \n",
       "4    Male               0     Yes         No      72           Yes  ...   \n",
       "\n",
       "  tech_support streaming_tv streaming_movies paperless_billing  \\\n",
       "0          Yes          Yes              Yes               Yes   \n",
       "1          Yes          Yes               No                No   \n",
       "2          Yes           No               No                No   \n",
       "3          Yes           No               No               Yes   \n",
       "4          Yes          Yes              Yes               Yes   \n",
       "\n",
       "  monthly_charges total_charges churn contract_type  internet_service_type  \\\n",
       "0           90.45        5957.9    No      Two year                    DSL   \n",
       "1           45.20       2460.55    No      Two year                    DSL   \n",
       "2           45.05        2560.1    No      Two year                    DSL   \n",
       "3           39.40         825.4    No      Two year                    DSL   \n",
       "4           85.15        6316.2    No      Two year                    DSL   \n",
       "\n",
       "                payment_type  \n",
       "0               Mailed check  \n",
       "1    Credit card (automatic)  \n",
       "2  Bank transfer (automatic)  \n",
       "3    Credit card (automatic)  \n",
       "4  Bank transfer (automatic)  \n",
       "\n",
       "[5 rows x 24 columns]"
      ]
     },
     "execution_count": 4,
     "metadata": {},
     "output_type": "execute_result"
    }
   ],
   "source": [
    "df.head()"
   ]
  },
  {
   "cell_type": "code",
   "execution_count": 5,
   "id": "45d68861",
   "metadata": {},
   "outputs": [],
   "source": [
    "#complete some initial summarization"
   ]
  },
  {
   "cell_type": "code",
   "execution_count": 6,
   "id": "28fbaac4",
   "metadata": {},
   "outputs": [
    {
     "name": "stdout",
     "output_type": "stream",
     "text": [
      "<class 'pandas.core.frame.DataFrame'>\n",
      "RangeIndex: 7043 entries, 0 to 7042\n",
      "Data columns (total 24 columns):\n",
      " #   Column                    Non-Null Count  Dtype  \n",
      "---  ------                    --------------  -----  \n",
      " 0   payment_type_id           7043 non-null   int64  \n",
      " 1   internet_service_type_id  7043 non-null   int64  \n",
      " 2   contract_type_id          7043 non-null   int64  \n",
      " 3   customer_id               7043 non-null   object \n",
      " 4   gender                    7043 non-null   object \n",
      " 5   senior_citizen            7043 non-null   int64  \n",
      " 6   partner                   7043 non-null   object \n",
      " 7   dependents                7043 non-null   object \n",
      " 8   tenure                    7043 non-null   int64  \n",
      " 9   phone_service             7043 non-null   object \n",
      " 10  multiple_lines            7043 non-null   object \n",
      " 11  online_security           7043 non-null   object \n",
      " 12  online_backup             7043 non-null   object \n",
      " 13  device_protection         7043 non-null   object \n",
      " 14  tech_support              7043 non-null   object \n",
      " 15  streaming_tv              7043 non-null   object \n",
      " 16  streaming_movies          7043 non-null   object \n",
      " 17  paperless_billing         7043 non-null   object \n",
      " 18  monthly_charges           7043 non-null   float64\n",
      " 19  total_charges             7043 non-null   object \n",
      " 20  churn                     7043 non-null   object \n",
      " 21  contract_type             7043 non-null   object \n",
      " 22  internet_service_type     7043 non-null   object \n",
      " 23  payment_type              7043 non-null   object \n",
      "dtypes: float64(1), int64(5), object(18)\n",
      "memory usage: 1.3+ MB\n"
     ]
    }
   ],
   "source": [
    "df.info()"
   ]
  },
  {
   "cell_type": "code",
   "execution_count": 7,
   "id": "68ab54c7",
   "metadata": {},
   "outputs": [
    {
     "data": {
      "text/plain": [
       "payment_type_id  internet_service_type_id  contract_type_id  customer_id  gender  senior_citizen  partner  dependents  tenure  phone_service  multiple_lines  online_security      online_backup        device_protection    tech_support         streaming_tv         streaming_movies     paperless_billing  monthly_charges  total_charges  churn  contract_type   internet_service_type  payment_type             \n",
       "1                1                         1                 0015-UOCOJ   Female  1               No       No          7       Yes            No              Yes                  No                   No                   No                   No                   No                   Yes                48.20            340.35         No     Month-to-month  DSL                    Electronic check             1\n",
       "3                2                         1                 4361-BKAXE   Female  0               No       No          41      Yes            Yes             Yes                  Yes                  Yes                  Yes                  Yes                  Yes                  Yes                114.50           4527.45        Yes    Month-to-month  Fiber optic            Bank transfer (automatic)    1\n",
       "                                                             4526-ZJJTM   Female  1               Yes      No          25      Yes            No              No                   Yes                  Yes                  No                   No                   Yes                  No                 88.40            2191.15        No     Month-to-month  Fiber optic            Bank transfer (automatic)    1\n",
       "                                                             4512-ZUIYL   Female  0               No       No          2       Yes            No              No                   No                   No                   No                   No                   No                   No                 70.00            153.05         Yes    Month-to-month  Fiber optic            Bank transfer (automatic)    1\n",
       "                                                             4501-EQDRN   Female  0               No       No          1       Yes            No              No                   No                   No                   No                   No                   No                   No                 69.70            69.7           Yes    Month-to-month  Fiber optic            Bank transfer (automatic)    1\n",
       "                                                                                                                                                                                                                                                                                                                                                                                                                         ..\n",
       "1                3                         2                 8958-JPTRR   Female  0               Yes      No          56      Yes            Yes             No internet service  No internet service  No internet service  No internet service  No internet service  No internet service  No                 24.30            1261.7         No     One year        None                   Electronic check             1\n",
       "                                                             8461-EFQYM   Female  0               No       No          38      Yes            Yes             No internet service  No internet service  No internet service  No internet service  No internet service  No internet service  Yes                24.25            914.4          No     One year        None                   Electronic check             1\n",
       "                                                             7356-AYNJP   Female  0               No       No          4       Yes            Yes             No internet service  No internet service  No internet service  No internet service  No internet service  No internet service  No                 23.90            97.5           No     One year        None                   Electronic check             1\n",
       "                                                             7319-ZNRTR   Male    0               Yes      Yes         25      Yes            No              No internet service  No internet service  No internet service  No internet service  No internet service  No internet service  No                 19.60            411.15         No     One year        None                   Electronic check             1\n",
       "4                3                         3                 9975-GPKZU   Male    0               Yes      Yes         46      Yes            No              No internet service  No internet service  No internet service  No internet service  No internet service  No internet service  No                 19.75            856.5          No     Two year        None                   Credit card (automatic)      1\n",
       "Length: 7043, dtype: int64"
      ]
     },
     "execution_count": 7,
     "metadata": {},
     "output_type": "execute_result"
    }
   ],
   "source": [
    "df.value_counts()"
   ]
  },
  {
   "cell_type": "code",
   "execution_count": 8,
   "id": "835c5a0d",
   "metadata": {},
   "outputs": [],
   "source": [
    "################################################################ PREPARE"
   ]
  },
  {
   "cell_type": "code",
   "execution_count": 9,
   "id": "a24ea0d7",
   "metadata": {},
   "outputs": [
    {
     "data": {
      "text/plain": [
       "(7043, 24)"
      ]
     },
     "execution_count": 9,
     "metadata": {},
     "output_type": "execute_result"
    }
   ],
   "source": [
    "#investigate the data from all angles and prepare\n",
    "df.shape"
   ]
  },
  {
   "cell_type": "code",
   "execution_count": 10,
   "id": "12a99c01",
   "metadata": {},
   "outputs": [
    {
     "name": "stdout",
     "output_type": "stream",
     "text": [
      "No     5174\n",
      "Yes    1869\n",
      "Name: churn, dtype: int64\n"
     ]
    }
   ],
   "source": [
    "print(df.churn.value_counts())"
   ]
  },
  {
   "cell_type": "code",
   "execution_count": 11,
   "id": "beaad97f",
   "metadata": {
    "scrolled": true
   },
   "outputs": [
    {
     "data": {
      "text/html": [
       "<div>\n",
       "<style scoped>\n",
       "    .dataframe tbody tr th:only-of-type {\n",
       "        vertical-align: middle;\n",
       "    }\n",
       "\n",
       "    .dataframe tbody tr th {\n",
       "        vertical-align: top;\n",
       "    }\n",
       "\n",
       "    .dataframe thead th {\n",
       "        text-align: right;\n",
       "    }\n",
       "</style>\n",
       "<table border=\"1\" class=\"dataframe\">\n",
       "  <thead>\n",
       "    <tr style=\"text-align: right;\">\n",
       "      <th></th>\n",
       "      <th>payment_type_id</th>\n",
       "      <th>internet_service_type_id</th>\n",
       "      <th>contract_type_id</th>\n",
       "      <th>senior_citizen</th>\n",
       "      <th>tenure</th>\n",
       "      <th>monthly_charges</th>\n",
       "    </tr>\n",
       "  </thead>\n",
       "  <tbody>\n",
       "    <tr>\n",
       "      <th>count</th>\n",
       "      <td>7043.000000</td>\n",
       "      <td>7043.000000</td>\n",
       "      <td>7043.000000</td>\n",
       "      <td>7043.000000</td>\n",
       "      <td>7043.000000</td>\n",
       "      <td>7043.000000</td>\n",
       "    </tr>\n",
       "    <tr>\n",
       "      <th>mean</th>\n",
       "      <td>2.315633</td>\n",
       "      <td>1.872923</td>\n",
       "      <td>1.690473</td>\n",
       "      <td>0.162147</td>\n",
       "      <td>32.371149</td>\n",
       "      <td>64.761692</td>\n",
       "    </tr>\n",
       "    <tr>\n",
       "      <th>std</th>\n",
       "      <td>1.148907</td>\n",
       "      <td>0.737796</td>\n",
       "      <td>0.833755</td>\n",
       "      <td>0.368612</td>\n",
       "      <td>24.559481</td>\n",
       "      <td>30.090047</td>\n",
       "    </tr>\n",
       "    <tr>\n",
       "      <th>min</th>\n",
       "      <td>1.000000</td>\n",
       "      <td>1.000000</td>\n",
       "      <td>1.000000</td>\n",
       "      <td>0.000000</td>\n",
       "      <td>0.000000</td>\n",
       "      <td>18.250000</td>\n",
       "    </tr>\n",
       "    <tr>\n",
       "      <th>25%</th>\n",
       "      <td>1.000000</td>\n",
       "      <td>1.000000</td>\n",
       "      <td>1.000000</td>\n",
       "      <td>0.000000</td>\n",
       "      <td>9.000000</td>\n",
       "      <td>35.500000</td>\n",
       "    </tr>\n",
       "    <tr>\n",
       "      <th>50%</th>\n",
       "      <td>2.000000</td>\n",
       "      <td>2.000000</td>\n",
       "      <td>1.000000</td>\n",
       "      <td>0.000000</td>\n",
       "      <td>29.000000</td>\n",
       "      <td>70.350000</td>\n",
       "    </tr>\n",
       "    <tr>\n",
       "      <th>75%</th>\n",
       "      <td>3.000000</td>\n",
       "      <td>2.000000</td>\n",
       "      <td>2.000000</td>\n",
       "      <td>0.000000</td>\n",
       "      <td>55.000000</td>\n",
       "      <td>89.850000</td>\n",
       "    </tr>\n",
       "    <tr>\n",
       "      <th>max</th>\n",
       "      <td>4.000000</td>\n",
       "      <td>3.000000</td>\n",
       "      <td>3.000000</td>\n",
       "      <td>1.000000</td>\n",
       "      <td>72.000000</td>\n",
       "      <td>118.750000</td>\n",
       "    </tr>\n",
       "  </tbody>\n",
       "</table>\n",
       "</div>"
      ],
      "text/plain": [
       "       payment_type_id  internet_service_type_id  contract_type_id  \\\n",
       "count      7043.000000               7043.000000       7043.000000   \n",
       "mean          2.315633                  1.872923          1.690473   \n",
       "std           1.148907                  0.737796          0.833755   \n",
       "min           1.000000                  1.000000          1.000000   \n",
       "25%           1.000000                  1.000000          1.000000   \n",
       "50%           2.000000                  2.000000          1.000000   \n",
       "75%           3.000000                  2.000000          2.000000   \n",
       "max           4.000000                  3.000000          3.000000   \n",
       "\n",
       "       senior_citizen       tenure  monthly_charges  \n",
       "count     7043.000000  7043.000000      7043.000000  \n",
       "mean         0.162147    32.371149        64.761692  \n",
       "std          0.368612    24.559481        30.090047  \n",
       "min          0.000000     0.000000        18.250000  \n",
       "25%          0.000000     9.000000        35.500000  \n",
       "50%          0.000000    29.000000        70.350000  \n",
       "75%          0.000000    55.000000        89.850000  \n",
       "max          1.000000    72.000000       118.750000  "
      ]
     },
     "execution_count": 11,
     "metadata": {},
     "output_type": "execute_result"
    }
   ],
   "source": [
    "df.describe()"
   ]
  },
  {
   "cell_type": "markdown",
   "id": "d5a2e5eb",
   "metadata": {},
   "source": [
    "**What are some possible drivers of churn?**\n",
    "Is a high monthly bill a driver of churn?\n",
    "Do new customers with less tenure drive churn?\n",
    "Does subscription to fiber optics drive churn?\n",
    "Do customers with no partner or dependents churn more?\n",
    "Do senior citizens churn more?\n",
    "Does payment type effect the churn rate?"
   ]
  },
  {
   "cell_type": "code",
   "execution_count": null,
   "id": "9f022ccb",
   "metadata": {},
   "outputs": [],
   "source": []
  },
  {
   "cell_type": "code",
   "execution_count": 12,
   "id": "a6c4279d",
   "metadata": {},
   "outputs": [],
   "source": [
    "#drop columns with id since I used those just to JOIN the data\n",
    "df.drop(columns=['payment_type_id','internet_service_type_id', 'contract_type_id'],inplace=True)"
   ]
  },
  {
   "cell_type": "code",
   "execution_count": 13,
   "id": "68896025",
   "metadata": {},
   "outputs": [
    {
     "data": {
      "text/html": [
       "<div>\n",
       "<style scoped>\n",
       "    .dataframe tbody tr th:only-of-type {\n",
       "        vertical-align: middle;\n",
       "    }\n",
       "\n",
       "    .dataframe tbody tr th {\n",
       "        vertical-align: top;\n",
       "    }\n",
       "\n",
       "    .dataframe thead th {\n",
       "        text-align: right;\n",
       "    }\n",
       "</style>\n",
       "<table border=\"1\" class=\"dataframe\">\n",
       "  <thead>\n",
       "    <tr style=\"text-align: right;\">\n",
       "      <th></th>\n",
       "      <th>customer_id</th>\n",
       "      <th>gender</th>\n",
       "      <th>senior_citizen</th>\n",
       "      <th>partner</th>\n",
       "      <th>dependents</th>\n",
       "      <th>tenure</th>\n",
       "      <th>phone_service</th>\n",
       "      <th>multiple_lines</th>\n",
       "      <th>online_security</th>\n",
       "      <th>online_backup</th>\n",
       "      <th>...</th>\n",
       "      <th>tech_support</th>\n",
       "      <th>streaming_tv</th>\n",
       "      <th>streaming_movies</th>\n",
       "      <th>paperless_billing</th>\n",
       "      <th>monthly_charges</th>\n",
       "      <th>total_charges</th>\n",
       "      <th>churn</th>\n",
       "      <th>contract_type</th>\n",
       "      <th>internet_service_type</th>\n",
       "      <th>payment_type</th>\n",
       "    </tr>\n",
       "  </thead>\n",
       "  <tbody>\n",
       "    <tr>\n",
       "      <th>0</th>\n",
       "      <td>0016-QLJIS</td>\n",
       "      <td>Female</td>\n",
       "      <td>0</td>\n",
       "      <td>Yes</td>\n",
       "      <td>Yes</td>\n",
       "      <td>65</td>\n",
       "      <td>Yes</td>\n",
       "      <td>Yes</td>\n",
       "      <td>Yes</td>\n",
       "      <td>Yes</td>\n",
       "      <td>...</td>\n",
       "      <td>Yes</td>\n",
       "      <td>Yes</td>\n",
       "      <td>Yes</td>\n",
       "      <td>Yes</td>\n",
       "      <td>90.45</td>\n",
       "      <td>5957.9</td>\n",
       "      <td>No</td>\n",
       "      <td>Two year</td>\n",
       "      <td>DSL</td>\n",
       "      <td>Mailed check</td>\n",
       "    </tr>\n",
       "    <tr>\n",
       "      <th>1</th>\n",
       "      <td>0017-DINOC</td>\n",
       "      <td>Male</td>\n",
       "      <td>0</td>\n",
       "      <td>No</td>\n",
       "      <td>No</td>\n",
       "      <td>54</td>\n",
       "      <td>No</td>\n",
       "      <td>No phone service</td>\n",
       "      <td>Yes</td>\n",
       "      <td>No</td>\n",
       "      <td>...</td>\n",
       "      <td>Yes</td>\n",
       "      <td>Yes</td>\n",
       "      <td>No</td>\n",
       "      <td>No</td>\n",
       "      <td>45.20</td>\n",
       "      <td>2460.55</td>\n",
       "      <td>No</td>\n",
       "      <td>Two year</td>\n",
       "      <td>DSL</td>\n",
       "      <td>Credit card (automatic)</td>\n",
       "    </tr>\n",
       "    <tr>\n",
       "      <th>2</th>\n",
       "      <td>0019-GFNTW</td>\n",
       "      <td>Female</td>\n",
       "      <td>0</td>\n",
       "      <td>No</td>\n",
       "      <td>No</td>\n",
       "      <td>56</td>\n",
       "      <td>No</td>\n",
       "      <td>No phone service</td>\n",
       "      <td>Yes</td>\n",
       "      <td>Yes</td>\n",
       "      <td>...</td>\n",
       "      <td>Yes</td>\n",
       "      <td>No</td>\n",
       "      <td>No</td>\n",
       "      <td>No</td>\n",
       "      <td>45.05</td>\n",
       "      <td>2560.1</td>\n",
       "      <td>No</td>\n",
       "      <td>Two year</td>\n",
       "      <td>DSL</td>\n",
       "      <td>Bank transfer (automatic)</td>\n",
       "    </tr>\n",
       "    <tr>\n",
       "      <th>3</th>\n",
       "      <td>0056-EPFBG</td>\n",
       "      <td>Male</td>\n",
       "      <td>0</td>\n",
       "      <td>Yes</td>\n",
       "      <td>Yes</td>\n",
       "      <td>20</td>\n",
       "      <td>No</td>\n",
       "      <td>No phone service</td>\n",
       "      <td>Yes</td>\n",
       "      <td>No</td>\n",
       "      <td>...</td>\n",
       "      <td>Yes</td>\n",
       "      <td>No</td>\n",
       "      <td>No</td>\n",
       "      <td>Yes</td>\n",
       "      <td>39.40</td>\n",
       "      <td>825.4</td>\n",
       "      <td>No</td>\n",
       "      <td>Two year</td>\n",
       "      <td>DSL</td>\n",
       "      <td>Credit card (automatic)</td>\n",
       "    </tr>\n",
       "    <tr>\n",
       "      <th>4</th>\n",
       "      <td>0078-XZMHT</td>\n",
       "      <td>Male</td>\n",
       "      <td>0</td>\n",
       "      <td>Yes</td>\n",
       "      <td>No</td>\n",
       "      <td>72</td>\n",
       "      <td>Yes</td>\n",
       "      <td>Yes</td>\n",
       "      <td>No</td>\n",
       "      <td>Yes</td>\n",
       "      <td>...</td>\n",
       "      <td>Yes</td>\n",
       "      <td>Yes</td>\n",
       "      <td>Yes</td>\n",
       "      <td>Yes</td>\n",
       "      <td>85.15</td>\n",
       "      <td>6316.2</td>\n",
       "      <td>No</td>\n",
       "      <td>Two year</td>\n",
       "      <td>DSL</td>\n",
       "      <td>Bank transfer (automatic)</td>\n",
       "    </tr>\n",
       "  </tbody>\n",
       "</table>\n",
       "<p>5 rows × 21 columns</p>\n",
       "</div>"
      ],
      "text/plain": [
       "  customer_id  gender  senior_citizen partner dependents  tenure  \\\n",
       "0  0016-QLJIS  Female               0     Yes        Yes      65   \n",
       "1  0017-DINOC    Male               0      No         No      54   \n",
       "2  0019-GFNTW  Female               0      No         No      56   \n",
       "3  0056-EPFBG    Male               0     Yes        Yes      20   \n",
       "4  0078-XZMHT    Male               0     Yes         No      72   \n",
       "\n",
       "  phone_service    multiple_lines online_security online_backup  ...  \\\n",
       "0           Yes               Yes             Yes           Yes  ...   \n",
       "1            No  No phone service             Yes            No  ...   \n",
       "2            No  No phone service             Yes           Yes  ...   \n",
       "3            No  No phone service             Yes            No  ...   \n",
       "4           Yes               Yes              No           Yes  ...   \n",
       "\n",
       "  tech_support streaming_tv streaming_movies paperless_billing  \\\n",
       "0          Yes          Yes              Yes               Yes   \n",
       "1          Yes          Yes               No                No   \n",
       "2          Yes           No               No                No   \n",
       "3          Yes           No               No               Yes   \n",
       "4          Yes          Yes              Yes               Yes   \n",
       "\n",
       "  monthly_charges  total_charges churn contract_type internet_service_type  \\\n",
       "0           90.45         5957.9    No      Two year                   DSL   \n",
       "1           45.20        2460.55    No      Two year                   DSL   \n",
       "2           45.05         2560.1    No      Two year                   DSL   \n",
       "3           39.40          825.4    No      Two year                   DSL   \n",
       "4           85.15         6316.2    No      Two year                   DSL   \n",
       "\n",
       "                payment_type  \n",
       "0               Mailed check  \n",
       "1    Credit card (automatic)  \n",
       "2  Bank transfer (automatic)  \n",
       "3    Credit card (automatic)  \n",
       "4  Bank transfer (automatic)  \n",
       "\n",
       "[5 rows x 21 columns]"
      ]
     },
     "execution_count": 13,
     "metadata": {},
     "output_type": "execute_result"
    }
   ],
   "source": [
    "#make sure they are gone\n",
    "df.head()"
   ]
  },
  {
   "cell_type": "code",
   "execution_count": 14,
   "id": "01a3b1f5",
   "metadata": {},
   "outputs": [],
   "source": [
    "#make target column binary\n",
    "df.churn.replace(to_replace=['yes','no'],value=[1,0], inplace=True)"
   ]
  },
  {
   "cell_type": "code",
   "execution_count": 15,
   "id": "eec5041e",
   "metadata": {},
   "outputs": [
    {
     "data": {
      "text/html": [
       "<div>\n",
       "<style scoped>\n",
       "    .dataframe tbody tr th:only-of-type {\n",
       "        vertical-align: middle;\n",
       "    }\n",
       "\n",
       "    .dataframe tbody tr th {\n",
       "        vertical-align: top;\n",
       "    }\n",
       "\n",
       "    .dataframe thead th {\n",
       "        text-align: right;\n",
       "    }\n",
       "</style>\n",
       "<table border=\"1\" class=\"dataframe\">\n",
       "  <thead>\n",
       "    <tr style=\"text-align: right;\">\n",
       "      <th></th>\n",
       "      <th>customer_id</th>\n",
       "      <th>gender</th>\n",
       "      <th>senior_citizen</th>\n",
       "      <th>partner</th>\n",
       "      <th>dependents</th>\n",
       "      <th>tenure</th>\n",
       "      <th>phone_service</th>\n",
       "      <th>multiple_lines</th>\n",
       "      <th>online_security</th>\n",
       "      <th>online_backup</th>\n",
       "      <th>...</th>\n",
       "      <th>tech_support</th>\n",
       "      <th>streaming_tv</th>\n",
       "      <th>streaming_movies</th>\n",
       "      <th>paperless_billing</th>\n",
       "      <th>monthly_charges</th>\n",
       "      <th>total_charges</th>\n",
       "      <th>churn</th>\n",
       "      <th>contract_type</th>\n",
       "      <th>internet_service_type</th>\n",
       "      <th>payment_type</th>\n",
       "    </tr>\n",
       "  </thead>\n",
       "  <tbody>\n",
       "    <tr>\n",
       "      <th>0</th>\n",
       "      <td>0016-QLJIS</td>\n",
       "      <td>Female</td>\n",
       "      <td>0</td>\n",
       "      <td>Yes</td>\n",
       "      <td>Yes</td>\n",
       "      <td>65</td>\n",
       "      <td>Yes</td>\n",
       "      <td>Yes</td>\n",
       "      <td>Yes</td>\n",
       "      <td>Yes</td>\n",
       "      <td>...</td>\n",
       "      <td>Yes</td>\n",
       "      <td>Yes</td>\n",
       "      <td>Yes</td>\n",
       "      <td>Yes</td>\n",
       "      <td>90.45</td>\n",
       "      <td>5957.9</td>\n",
       "      <td>No</td>\n",
       "      <td>Two year</td>\n",
       "      <td>DSL</td>\n",
       "      <td>Mailed check</td>\n",
       "    </tr>\n",
       "    <tr>\n",
       "      <th>1</th>\n",
       "      <td>0017-DINOC</td>\n",
       "      <td>Male</td>\n",
       "      <td>0</td>\n",
       "      <td>No</td>\n",
       "      <td>No</td>\n",
       "      <td>54</td>\n",
       "      <td>No</td>\n",
       "      <td>No phone service</td>\n",
       "      <td>Yes</td>\n",
       "      <td>No</td>\n",
       "      <td>...</td>\n",
       "      <td>Yes</td>\n",
       "      <td>Yes</td>\n",
       "      <td>No</td>\n",
       "      <td>No</td>\n",
       "      <td>45.20</td>\n",
       "      <td>2460.55</td>\n",
       "      <td>No</td>\n",
       "      <td>Two year</td>\n",
       "      <td>DSL</td>\n",
       "      <td>Credit card (automatic)</td>\n",
       "    </tr>\n",
       "    <tr>\n",
       "      <th>2</th>\n",
       "      <td>0019-GFNTW</td>\n",
       "      <td>Female</td>\n",
       "      <td>0</td>\n",
       "      <td>No</td>\n",
       "      <td>No</td>\n",
       "      <td>56</td>\n",
       "      <td>No</td>\n",
       "      <td>No phone service</td>\n",
       "      <td>Yes</td>\n",
       "      <td>Yes</td>\n",
       "      <td>...</td>\n",
       "      <td>Yes</td>\n",
       "      <td>No</td>\n",
       "      <td>No</td>\n",
       "      <td>No</td>\n",
       "      <td>45.05</td>\n",
       "      <td>2560.1</td>\n",
       "      <td>No</td>\n",
       "      <td>Two year</td>\n",
       "      <td>DSL</td>\n",
       "      <td>Bank transfer (automatic)</td>\n",
       "    </tr>\n",
       "    <tr>\n",
       "      <th>3</th>\n",
       "      <td>0056-EPFBG</td>\n",
       "      <td>Male</td>\n",
       "      <td>0</td>\n",
       "      <td>Yes</td>\n",
       "      <td>Yes</td>\n",
       "      <td>20</td>\n",
       "      <td>No</td>\n",
       "      <td>No phone service</td>\n",
       "      <td>Yes</td>\n",
       "      <td>No</td>\n",
       "      <td>...</td>\n",
       "      <td>Yes</td>\n",
       "      <td>No</td>\n",
       "      <td>No</td>\n",
       "      <td>Yes</td>\n",
       "      <td>39.40</td>\n",
       "      <td>825.4</td>\n",
       "      <td>No</td>\n",
       "      <td>Two year</td>\n",
       "      <td>DSL</td>\n",
       "      <td>Credit card (automatic)</td>\n",
       "    </tr>\n",
       "    <tr>\n",
       "      <th>4</th>\n",
       "      <td>0078-XZMHT</td>\n",
       "      <td>Male</td>\n",
       "      <td>0</td>\n",
       "      <td>Yes</td>\n",
       "      <td>No</td>\n",
       "      <td>72</td>\n",
       "      <td>Yes</td>\n",
       "      <td>Yes</td>\n",
       "      <td>No</td>\n",
       "      <td>Yes</td>\n",
       "      <td>...</td>\n",
       "      <td>Yes</td>\n",
       "      <td>Yes</td>\n",
       "      <td>Yes</td>\n",
       "      <td>Yes</td>\n",
       "      <td>85.15</td>\n",
       "      <td>6316.2</td>\n",
       "      <td>No</td>\n",
       "      <td>Two year</td>\n",
       "      <td>DSL</td>\n",
       "      <td>Bank transfer (automatic)</td>\n",
       "    </tr>\n",
       "  </tbody>\n",
       "</table>\n",
       "<p>5 rows × 21 columns</p>\n",
       "</div>"
      ],
      "text/plain": [
       "  customer_id  gender  senior_citizen partner dependents  tenure  \\\n",
       "0  0016-QLJIS  Female               0     Yes        Yes      65   \n",
       "1  0017-DINOC    Male               0      No         No      54   \n",
       "2  0019-GFNTW  Female               0      No         No      56   \n",
       "3  0056-EPFBG    Male               0     Yes        Yes      20   \n",
       "4  0078-XZMHT    Male               0     Yes         No      72   \n",
       "\n",
       "  phone_service    multiple_lines online_security online_backup  ...  \\\n",
       "0           Yes               Yes             Yes           Yes  ...   \n",
       "1            No  No phone service             Yes            No  ...   \n",
       "2            No  No phone service             Yes           Yes  ...   \n",
       "3            No  No phone service             Yes            No  ...   \n",
       "4           Yes               Yes              No           Yes  ...   \n",
       "\n",
       "  tech_support streaming_tv streaming_movies paperless_billing  \\\n",
       "0          Yes          Yes              Yes               Yes   \n",
       "1          Yes          Yes               No                No   \n",
       "2          Yes           No               No                No   \n",
       "3          Yes           No               No               Yes   \n",
       "4          Yes          Yes              Yes               Yes   \n",
       "\n",
       "  monthly_charges  total_charges churn contract_type internet_service_type  \\\n",
       "0           90.45         5957.9    No      Two year                   DSL   \n",
       "1           45.20        2460.55    No      Two year                   DSL   \n",
       "2           45.05         2560.1    No      Two year                   DSL   \n",
       "3           39.40          825.4    No      Two year                   DSL   \n",
       "4           85.15         6316.2    No      Two year                   DSL   \n",
       "\n",
       "                payment_type  \n",
       "0               Mailed check  \n",
       "1    Credit card (automatic)  \n",
       "2  Bank transfer (automatic)  \n",
       "3    Credit card (automatic)  \n",
       "4  Bank transfer (automatic)  \n",
       "\n",
       "[5 rows x 21 columns]"
      ]
     },
     "execution_count": 15,
     "metadata": {},
     "output_type": "execute_result"
    }
   ],
   "source": [
    "#check to see that the target is binary\n",
    "df.head()"
   ]
  },
  {
   "cell_type": "code",
   "execution_count": 16,
   "id": "b3a83e4f",
   "metadata": {},
   "outputs": [],
   "source": [
    "#drop all additional services since I am not interested in exploring\n",
    "df.drop(columns=['online_security','online_backup','device_protection','tech_support','streaming_tv','streaming_movies','paperless_billing'],inplace=True)"
   ]
  },
  {
   "cell_type": "code",
   "execution_count": 17,
   "id": "304c6d23",
   "metadata": {},
   "outputs": [
    {
     "data": {
      "text/html": [
       "<div>\n",
       "<style scoped>\n",
       "    .dataframe tbody tr th:only-of-type {\n",
       "        vertical-align: middle;\n",
       "    }\n",
       "\n",
       "    .dataframe tbody tr th {\n",
       "        vertical-align: top;\n",
       "    }\n",
       "\n",
       "    .dataframe thead th {\n",
       "        text-align: right;\n",
       "    }\n",
       "</style>\n",
       "<table border=\"1\" class=\"dataframe\">\n",
       "  <thead>\n",
       "    <tr style=\"text-align: right;\">\n",
       "      <th></th>\n",
       "      <th>customer_id</th>\n",
       "      <th>gender</th>\n",
       "      <th>senior_citizen</th>\n",
       "      <th>partner</th>\n",
       "      <th>dependents</th>\n",
       "      <th>tenure</th>\n",
       "      <th>phone_service</th>\n",
       "      <th>multiple_lines</th>\n",
       "      <th>monthly_charges</th>\n",
       "      <th>total_charges</th>\n",
       "      <th>churn</th>\n",
       "      <th>contract_type</th>\n",
       "      <th>internet_service_type</th>\n",
       "      <th>payment_type</th>\n",
       "    </tr>\n",
       "  </thead>\n",
       "  <tbody>\n",
       "    <tr>\n",
       "      <th>0</th>\n",
       "      <td>0016-QLJIS</td>\n",
       "      <td>Female</td>\n",
       "      <td>0</td>\n",
       "      <td>Yes</td>\n",
       "      <td>Yes</td>\n",
       "      <td>65</td>\n",
       "      <td>Yes</td>\n",
       "      <td>Yes</td>\n",
       "      <td>90.45</td>\n",
       "      <td>5957.9</td>\n",
       "      <td>No</td>\n",
       "      <td>Two year</td>\n",
       "      <td>DSL</td>\n",
       "      <td>Mailed check</td>\n",
       "    </tr>\n",
       "    <tr>\n",
       "      <th>1</th>\n",
       "      <td>0017-DINOC</td>\n",
       "      <td>Male</td>\n",
       "      <td>0</td>\n",
       "      <td>No</td>\n",
       "      <td>No</td>\n",
       "      <td>54</td>\n",
       "      <td>No</td>\n",
       "      <td>No phone service</td>\n",
       "      <td>45.20</td>\n",
       "      <td>2460.55</td>\n",
       "      <td>No</td>\n",
       "      <td>Two year</td>\n",
       "      <td>DSL</td>\n",
       "      <td>Credit card (automatic)</td>\n",
       "    </tr>\n",
       "    <tr>\n",
       "      <th>2</th>\n",
       "      <td>0019-GFNTW</td>\n",
       "      <td>Female</td>\n",
       "      <td>0</td>\n",
       "      <td>No</td>\n",
       "      <td>No</td>\n",
       "      <td>56</td>\n",
       "      <td>No</td>\n",
       "      <td>No phone service</td>\n",
       "      <td>45.05</td>\n",
       "      <td>2560.1</td>\n",
       "      <td>No</td>\n",
       "      <td>Two year</td>\n",
       "      <td>DSL</td>\n",
       "      <td>Bank transfer (automatic)</td>\n",
       "    </tr>\n",
       "    <tr>\n",
       "      <th>3</th>\n",
       "      <td>0056-EPFBG</td>\n",
       "      <td>Male</td>\n",
       "      <td>0</td>\n",
       "      <td>Yes</td>\n",
       "      <td>Yes</td>\n",
       "      <td>20</td>\n",
       "      <td>No</td>\n",
       "      <td>No phone service</td>\n",
       "      <td>39.40</td>\n",
       "      <td>825.4</td>\n",
       "      <td>No</td>\n",
       "      <td>Two year</td>\n",
       "      <td>DSL</td>\n",
       "      <td>Credit card (automatic)</td>\n",
       "    </tr>\n",
       "    <tr>\n",
       "      <th>4</th>\n",
       "      <td>0078-XZMHT</td>\n",
       "      <td>Male</td>\n",
       "      <td>0</td>\n",
       "      <td>Yes</td>\n",
       "      <td>No</td>\n",
       "      <td>72</td>\n",
       "      <td>Yes</td>\n",
       "      <td>Yes</td>\n",
       "      <td>85.15</td>\n",
       "      <td>6316.2</td>\n",
       "      <td>No</td>\n",
       "      <td>Two year</td>\n",
       "      <td>DSL</td>\n",
       "      <td>Bank transfer (automatic)</td>\n",
       "    </tr>\n",
       "  </tbody>\n",
       "</table>\n",
       "</div>"
      ],
      "text/plain": [
       "  customer_id  gender  senior_citizen partner dependents  tenure  \\\n",
       "0  0016-QLJIS  Female               0     Yes        Yes      65   \n",
       "1  0017-DINOC    Male               0      No         No      54   \n",
       "2  0019-GFNTW  Female               0      No         No      56   \n",
       "3  0056-EPFBG    Male               0     Yes        Yes      20   \n",
       "4  0078-XZMHT    Male               0     Yes         No      72   \n",
       "\n",
       "  phone_service    multiple_lines  monthly_charges total_charges churn  \\\n",
       "0           Yes               Yes            90.45        5957.9    No   \n",
       "1            No  No phone service            45.20       2460.55    No   \n",
       "2            No  No phone service            45.05        2560.1    No   \n",
       "3            No  No phone service            39.40         825.4    No   \n",
       "4           Yes               Yes            85.15        6316.2    No   \n",
       "\n",
       "  contract_type internet_service_type               payment_type  \n",
       "0      Two year                   DSL               Mailed check  \n",
       "1      Two year                   DSL    Credit card (automatic)  \n",
       "2      Two year                   DSL  Bank transfer (automatic)  \n",
       "3      Two year                   DSL    Credit card (automatic)  \n",
       "4      Two year                   DSL  Bank transfer (automatic)  "
      ]
     },
     "execution_count": 17,
     "metadata": {},
     "output_type": "execute_result"
    }
   ],
   "source": [
    "#make sure they are actually gone\n",
    "df.head()"
   ]
  },
  {
   "cell_type": "code",
   "execution_count": 18,
   "id": "b76fac95",
   "metadata": {},
   "outputs": [
    {
     "data": {
      "text/plain": [
       "0       True\n",
       "1       True\n",
       "2       True\n",
       "3       True\n",
       "4       True\n",
       "        ... \n",
       "7038    True\n",
       "7039    True\n",
       "7040    True\n",
       "7041    True\n",
       "7042    True\n",
       "Name: total_charges, Length: 7043, dtype: bool"
      ]
     },
     "execution_count": 18,
     "metadata": {},
     "output_type": "execute_result"
    }
   ],
   "source": [
    "#check for missing values in the total_charges column\n",
    "df.total_charges.str.contains('')"
   ]
  },
  {
   "cell_type": "code",
   "execution_count": 19,
   "id": "5501d3d9",
   "metadata": {},
   "outputs": [
    {
     "data": {
      "text/plain": [
       "           11\n",
       "20.2       11\n",
       "19.75       9\n",
       "19.65       8\n",
       "19.9        8\n",
       "           ..\n",
       "6669.45     1\n",
       "5737.6      1\n",
       "5785.5      1\n",
       "6028.95     1\n",
       "7321.05     1\n",
       "Name: total_charges, Length: 6531, dtype: int64"
      ]
     },
     "execution_count": 19,
     "metadata": {},
     "output_type": "execute_result"
    }
   ],
   "source": [
    "#find any missing values\n",
    "df.total_charges.value_counts()"
   ]
  },
  {
   "cell_type": "code",
   "execution_count": 20,
   "id": "a2da78ab",
   "metadata": {},
   "outputs": [
    {
     "data": {
      "text/html": [
       "<div>\n",
       "<style scoped>\n",
       "    .dataframe tbody tr th:only-of-type {\n",
       "        vertical-align: middle;\n",
       "    }\n",
       "\n",
       "    .dataframe tbody tr th {\n",
       "        vertical-align: top;\n",
       "    }\n",
       "\n",
       "    .dataframe thead th {\n",
       "        text-align: right;\n",
       "    }\n",
       "</style>\n",
       "<table border=\"1\" class=\"dataframe\">\n",
       "  <thead>\n",
       "    <tr style=\"text-align: right;\">\n",
       "      <th></th>\n",
       "      <th>customer_id</th>\n",
       "      <th>gender</th>\n",
       "      <th>senior_citizen</th>\n",
       "      <th>partner</th>\n",
       "      <th>dependents</th>\n",
       "      <th>tenure</th>\n",
       "      <th>phone_service</th>\n",
       "      <th>multiple_lines</th>\n",
       "      <th>monthly_charges</th>\n",
       "      <th>total_charges</th>\n",
       "      <th>churn</th>\n",
       "      <th>contract_type</th>\n",
       "      <th>internet_service_type</th>\n",
       "      <th>payment_type</th>\n",
       "    </tr>\n",
       "  </thead>\n",
       "  <tbody>\n",
       "    <tr>\n",
       "      <th>85</th>\n",
       "      <td>1371-DWPAZ</td>\n",
       "      <td>Female</td>\n",
       "      <td>0</td>\n",
       "      <td>Yes</td>\n",
       "      <td>Yes</td>\n",
       "      <td>0</td>\n",
       "      <td>No</td>\n",
       "      <td>No phone service</td>\n",
       "      <td>56.05</td>\n",
       "      <td></td>\n",
       "      <td>No</td>\n",
       "      <td>Two year</td>\n",
       "      <td>DSL</td>\n",
       "      <td>Credit card (automatic)</td>\n",
       "    </tr>\n",
       "    <tr>\n",
       "      <th>156</th>\n",
       "      <td>2775-SEFEE</td>\n",
       "      <td>Male</td>\n",
       "      <td>0</td>\n",
       "      <td>No</td>\n",
       "      <td>Yes</td>\n",
       "      <td>0</td>\n",
       "      <td>Yes</td>\n",
       "      <td>Yes</td>\n",
       "      <td>61.90</td>\n",
       "      <td></td>\n",
       "      <td>No</td>\n",
       "      <td>Two year</td>\n",
       "      <td>DSL</td>\n",
       "      <td>Bank transfer (automatic)</td>\n",
       "    </tr>\n",
       "    <tr>\n",
       "      <th>236</th>\n",
       "      <td>4075-WKNIU</td>\n",
       "      <td>Female</td>\n",
       "      <td>0</td>\n",
       "      <td>Yes</td>\n",
       "      <td>Yes</td>\n",
       "      <td>0</td>\n",
       "      <td>Yes</td>\n",
       "      <td>Yes</td>\n",
       "      <td>73.35</td>\n",
       "      <td></td>\n",
       "      <td>No</td>\n",
       "      <td>Two year</td>\n",
       "      <td>DSL</td>\n",
       "      <td>Mailed check</td>\n",
       "    </tr>\n",
       "    <tr>\n",
       "      <th>255</th>\n",
       "      <td>4472-LVYGI</td>\n",
       "      <td>Female</td>\n",
       "      <td>0</td>\n",
       "      <td>Yes</td>\n",
       "      <td>Yes</td>\n",
       "      <td>0</td>\n",
       "      <td>No</td>\n",
       "      <td>No phone service</td>\n",
       "      <td>52.55</td>\n",
       "      <td></td>\n",
       "      <td>No</td>\n",
       "      <td>Two year</td>\n",
       "      <td>DSL</td>\n",
       "      <td>Bank transfer (automatic)</td>\n",
       "    </tr>\n",
       "    <tr>\n",
       "      <th>339</th>\n",
       "      <td>5709-LVOEQ</td>\n",
       "      <td>Female</td>\n",
       "      <td>0</td>\n",
       "      <td>Yes</td>\n",
       "      <td>Yes</td>\n",
       "      <td>0</td>\n",
       "      <td>Yes</td>\n",
       "      <td>No</td>\n",
       "      <td>80.85</td>\n",
       "      <td></td>\n",
       "      <td>No</td>\n",
       "      <td>Two year</td>\n",
       "      <td>DSL</td>\n",
       "      <td>Mailed check</td>\n",
       "    </tr>\n",
       "    <tr>\n",
       "      <th>5681</th>\n",
       "      <td>2520-SGTTA</td>\n",
       "      <td>Female</td>\n",
       "      <td>0</td>\n",
       "      <td>Yes</td>\n",
       "      <td>Yes</td>\n",
       "      <td>0</td>\n",
       "      <td>Yes</td>\n",
       "      <td>No</td>\n",
       "      <td>20.00</td>\n",
       "      <td></td>\n",
       "      <td>No</td>\n",
       "      <td>Two year</td>\n",
       "      <td>None</td>\n",
       "      <td>Mailed check</td>\n",
       "    </tr>\n",
       "    <tr>\n",
       "      <th>5717</th>\n",
       "      <td>3115-CZMZD</td>\n",
       "      <td>Male</td>\n",
       "      <td>0</td>\n",
       "      <td>No</td>\n",
       "      <td>Yes</td>\n",
       "      <td>0</td>\n",
       "      <td>Yes</td>\n",
       "      <td>No</td>\n",
       "      <td>20.25</td>\n",
       "      <td></td>\n",
       "      <td>No</td>\n",
       "      <td>Two year</td>\n",
       "      <td>None</td>\n",
       "      <td>Mailed check</td>\n",
       "    </tr>\n",
       "    <tr>\n",
       "      <th>5727</th>\n",
       "      <td>3213-VVOLG</td>\n",
       "      <td>Male</td>\n",
       "      <td>0</td>\n",
       "      <td>Yes</td>\n",
       "      <td>Yes</td>\n",
       "      <td>0</td>\n",
       "      <td>Yes</td>\n",
       "      <td>Yes</td>\n",
       "      <td>25.35</td>\n",
       "      <td></td>\n",
       "      <td>No</td>\n",
       "      <td>Two year</td>\n",
       "      <td>None</td>\n",
       "      <td>Mailed check</td>\n",
       "    </tr>\n",
       "    <tr>\n",
       "      <th>5798</th>\n",
       "      <td>4367-NUYAO</td>\n",
       "      <td>Male</td>\n",
       "      <td>0</td>\n",
       "      <td>Yes</td>\n",
       "      <td>Yes</td>\n",
       "      <td>0</td>\n",
       "      <td>Yes</td>\n",
       "      <td>Yes</td>\n",
       "      <td>25.75</td>\n",
       "      <td></td>\n",
       "      <td>No</td>\n",
       "      <td>Two year</td>\n",
       "      <td>None</td>\n",
       "      <td>Mailed check</td>\n",
       "    </tr>\n",
       "    <tr>\n",
       "      <th>6007</th>\n",
       "      <td>7644-OMVMY</td>\n",
       "      <td>Male</td>\n",
       "      <td>0</td>\n",
       "      <td>Yes</td>\n",
       "      <td>Yes</td>\n",
       "      <td>0</td>\n",
       "      <td>Yes</td>\n",
       "      <td>No</td>\n",
       "      <td>19.85</td>\n",
       "      <td></td>\n",
       "      <td>No</td>\n",
       "      <td>Two year</td>\n",
       "      <td>None</td>\n",
       "      <td>Mailed check</td>\n",
       "    </tr>\n",
       "    <tr>\n",
       "      <th>6257</th>\n",
       "      <td>2923-ARZLG</td>\n",
       "      <td>Male</td>\n",
       "      <td>0</td>\n",
       "      <td>Yes</td>\n",
       "      <td>Yes</td>\n",
       "      <td>0</td>\n",
       "      <td>Yes</td>\n",
       "      <td>No</td>\n",
       "      <td>19.70</td>\n",
       "      <td></td>\n",
       "      <td>No</td>\n",
       "      <td>One year</td>\n",
       "      <td>None</td>\n",
       "      <td>Mailed check</td>\n",
       "    </tr>\n",
       "  </tbody>\n",
       "</table>\n",
       "</div>"
      ],
      "text/plain": [
       "     customer_id  gender  senior_citizen partner dependents  tenure  \\\n",
       "85    1371-DWPAZ  Female               0     Yes        Yes       0   \n",
       "156   2775-SEFEE    Male               0      No        Yes       0   \n",
       "236   4075-WKNIU  Female               0     Yes        Yes       0   \n",
       "255   4472-LVYGI  Female               0     Yes        Yes       0   \n",
       "339   5709-LVOEQ  Female               0     Yes        Yes       0   \n",
       "5681  2520-SGTTA  Female               0     Yes        Yes       0   \n",
       "5717  3115-CZMZD    Male               0      No        Yes       0   \n",
       "5727  3213-VVOLG    Male               0     Yes        Yes       0   \n",
       "5798  4367-NUYAO    Male               0     Yes        Yes       0   \n",
       "6007  7644-OMVMY    Male               0     Yes        Yes       0   \n",
       "6257  2923-ARZLG    Male               0     Yes        Yes       0   \n",
       "\n",
       "     phone_service    multiple_lines  monthly_charges total_charges churn  \\\n",
       "85              No  No phone service            56.05                  No   \n",
       "156            Yes               Yes            61.90                  No   \n",
       "236            Yes               Yes            73.35                  No   \n",
       "255             No  No phone service            52.55                  No   \n",
       "339            Yes                No            80.85                  No   \n",
       "5681           Yes                No            20.00                  No   \n",
       "5717           Yes                No            20.25                  No   \n",
       "5727           Yes               Yes            25.35                  No   \n",
       "5798           Yes               Yes            25.75                  No   \n",
       "6007           Yes                No            19.85                  No   \n",
       "6257           Yes                No            19.70                  No   \n",
       "\n",
       "     contract_type internet_service_type               payment_type  \n",
       "85        Two year                   DSL    Credit card (automatic)  \n",
       "156       Two year                   DSL  Bank transfer (automatic)  \n",
       "236       Two year                   DSL               Mailed check  \n",
       "255       Two year                   DSL  Bank transfer (automatic)  \n",
       "339       Two year                   DSL               Mailed check  \n",
       "5681      Two year                  None               Mailed check  \n",
       "5717      Two year                  None               Mailed check  \n",
       "5727      Two year                  None               Mailed check  \n",
       "5798      Two year                  None               Mailed check  \n",
       "6007      Two year                  None               Mailed check  \n",
       "6257      One year                  None               Mailed check  "
      ]
     },
     "execution_count": 20,
     "metadata": {},
     "output_type": "execute_result"
    }
   ],
   "source": [
    "#this shows me each row where the total_charges column have a missing vlaue\n",
    "df[df['total_charges'].str.contains(' ')]"
   ]
  },
  {
   "cell_type": "code",
   "execution_count": 21,
   "id": "b881867d",
   "metadata": {},
   "outputs": [],
   "source": [
    "# this will get rid of the rows with no value in the total_charges column\n",
    "df.drop(df[df['total_charges'].str.contains(\" \")].index, inplace = True)"
   ]
  },
  {
   "cell_type": "code",
   "execution_count": 22,
   "id": "93542cbb",
   "metadata": {},
   "outputs": [
    {
     "data": {
      "text/plain": [
       "20.2       11\n",
       "19.75       9\n",
       "19.9        8\n",
       "20.05       8\n",
       "19.65       8\n",
       "           ..\n",
       "5737.6      1\n",
       "5785.5      1\n",
       "6028.95     1\n",
       "1043.4      1\n",
       "7321.05     1\n",
       "Name: total_charges, Length: 6530, dtype: int64"
      ]
     },
     "execution_count": 22,
     "metadata": {},
     "output_type": "execute_result"
    }
   ],
   "source": [
    "# now I am checking that the missing values don't exist anymore\n",
    "df.total_charges.value_counts()"
   ]
  },
  {
   "cell_type": "code",
   "execution_count": 23,
   "id": "5b02dba7",
   "metadata": {},
   "outputs": [],
   "source": [
    "#split the dataset\n",
    "#prepare.prep_telco(df)"
   ]
  },
  {
   "cell_type": "code",
   "execution_count": 24,
   "id": "aabfc060",
   "metadata": {},
   "outputs": [],
   "source": [
    "def train_validate_test_split(df, target, seed=123):\n",
    "    '''\n",
    "    This function takes in a dataframe, the name of the target variable\n",
    "    (for stratification purposes), and an integer for a setting a seed\n",
    "    and splits the data into train, validate and test. \n",
    "    Test is 20% of the original dataset, validate is .30*.80= 24% of the \n",
    "    original dataset, and train is .70*.80= 56% of the original dataset. \n",
    "    The function returns, in this order, train, validate and test dataframes. \n",
    "    '''\n",
    "    train_validate, test = train_test_split(df, test_size=0.2, \n",
    "                                            random_state=seed, \n",
    "                                            stratify=df[target])\n",
    "    train, validate = train_test_split(train_validate, test_size=0.3, \n",
    "                                       random_state=seed,\n",
    "                                       stratify=train_validate[target])\n",
    "    return train, validate, test"
   ]
  },
  {
   "cell_type": "code",
   "execution_count": 25,
   "id": "72bfda75",
   "metadata": {},
   "outputs": [
    {
     "data": {
      "text/html": [
       "<div>\n",
       "<style scoped>\n",
       "    .dataframe tbody tr th:only-of-type {\n",
       "        vertical-align: middle;\n",
       "    }\n",
       "\n",
       "    .dataframe tbody tr th {\n",
       "        vertical-align: top;\n",
       "    }\n",
       "\n",
       "    .dataframe thead th {\n",
       "        text-align: right;\n",
       "    }\n",
       "</style>\n",
       "<table border=\"1\" class=\"dataframe\">\n",
       "  <thead>\n",
       "    <tr style=\"text-align: right;\">\n",
       "      <th></th>\n",
       "      <th>customer_id</th>\n",
       "      <th>gender</th>\n",
       "      <th>senior_citizen</th>\n",
       "      <th>partner</th>\n",
       "      <th>dependents</th>\n",
       "      <th>tenure</th>\n",
       "      <th>phone_service</th>\n",
       "      <th>multiple_lines</th>\n",
       "      <th>monthly_charges</th>\n",
       "      <th>total_charges</th>\n",
       "      <th>churn</th>\n",
       "      <th>contract_type</th>\n",
       "      <th>internet_service_type</th>\n",
       "      <th>payment_type</th>\n",
       "    </tr>\n",
       "  </thead>\n",
       "  <tbody>\n",
       "    <tr>\n",
       "      <th>6096</th>\n",
       "      <td>8966-SNIZF</td>\n",
       "      <td>Female</td>\n",
       "      <td>0</td>\n",
       "      <td>Yes</td>\n",
       "      <td>No</td>\n",
       "      <td>70</td>\n",
       "      <td>Yes</td>\n",
       "      <td>No</td>\n",
       "      <td>19.45</td>\n",
       "      <td>1303.5</td>\n",
       "      <td>No</td>\n",
       "      <td>Two year</td>\n",
       "      <td>None</td>\n",
       "      <td>Bank transfer (automatic)</td>\n",
       "    </tr>\n",
       "    <tr>\n",
       "      <th>1603</th>\n",
       "      <td>3466-BYAVD</td>\n",
       "      <td>Male</td>\n",
       "      <td>0</td>\n",
       "      <td>Yes</td>\n",
       "      <td>Yes</td>\n",
       "      <td>15</td>\n",
       "      <td>Yes</td>\n",
       "      <td>No</td>\n",
       "      <td>69.50</td>\n",
       "      <td>1071.4</td>\n",
       "      <td>No</td>\n",
       "      <td>Month-to-month</td>\n",
       "      <td>DSL</td>\n",
       "      <td>Mailed check</td>\n",
       "    </tr>\n",
       "  </tbody>\n",
       "</table>\n",
       "</div>"
      ],
      "text/plain": [
       "     customer_id  gender  senior_citizen partner dependents  tenure  \\\n",
       "6096  8966-SNIZF  Female               0     Yes         No      70   \n",
       "1603  3466-BYAVD    Male               0     Yes        Yes      15   \n",
       "\n",
       "     phone_service multiple_lines  monthly_charges total_charges churn  \\\n",
       "6096           Yes             No            19.45        1303.5    No   \n",
       "1603           Yes             No            69.50        1071.4    No   \n",
       "\n",
       "       contract_type internet_service_type               payment_type  \n",
       "6096        Two year                  None  Bank transfer (automatic)  \n",
       "1603  Month-to-month                   DSL               Mailed check  "
      ]
     },
     "execution_count": 25,
     "metadata": {},
     "output_type": "execute_result"
    }
   ],
   "source": [
    "train, validate, test = train_validate_test_split(df, target='churn')\n",
    "train.head(2)"
   ]
  },
  {
   "cell_type": "code",
   "execution_count": 26,
   "id": "d54c9d9c",
   "metadata": {},
   "outputs": [
    {
     "name": "stdout",
     "output_type": "stream",
     "text": [
      "Index(['customer_id', 'gender', 'senior_citizen', 'partner', 'dependents',\n",
      "       'tenure', 'phone_service', 'multiple_lines', 'monthly_charges',\n",
      "       'total_charges', 'contract_type', 'internet_service_type',\n",
      "       'payment_type'],\n",
      "      dtype='object')\n"
     ]
    },
    {
     "data": {
      "text/html": [
       "<div>\n",
       "<style scoped>\n",
       "    .dataframe tbody tr th:only-of-type {\n",
       "        vertical-align: middle;\n",
       "    }\n",
       "\n",
       "    .dataframe tbody tr th {\n",
       "        vertical-align: top;\n",
       "    }\n",
       "\n",
       "    .dataframe thead th {\n",
       "        text-align: right;\n",
       "    }\n",
       "</style>\n",
       "<table border=\"1\" class=\"dataframe\">\n",
       "  <thead>\n",
       "    <tr style=\"text-align: right;\">\n",
       "      <th></th>\n",
       "      <th>customer_id</th>\n",
       "      <th>gender</th>\n",
       "      <th>senior_citizen</th>\n",
       "      <th>partner</th>\n",
       "      <th>dependents</th>\n",
       "      <th>tenure</th>\n",
       "      <th>phone_service</th>\n",
       "      <th>multiple_lines</th>\n",
       "      <th>monthly_charges</th>\n",
       "      <th>total_charges</th>\n",
       "      <th>contract_type</th>\n",
       "      <th>internet_service_type</th>\n",
       "      <th>payment_type</th>\n",
       "    </tr>\n",
       "  </thead>\n",
       "  <tbody>\n",
       "    <tr>\n",
       "      <th>0</th>\n",
       "      <td>0016-QLJIS</td>\n",
       "      <td>Female</td>\n",
       "      <td>0</td>\n",
       "      <td>Yes</td>\n",
       "      <td>Yes</td>\n",
       "      <td>65</td>\n",
       "      <td>Yes</td>\n",
       "      <td>Yes</td>\n",
       "      <td>90.45</td>\n",
       "      <td>5957.9</td>\n",
       "      <td>Two year</td>\n",
       "      <td>DSL</td>\n",
       "      <td>Mailed check</td>\n",
       "    </tr>\n",
       "    <tr>\n",
       "      <th>1</th>\n",
       "      <td>0017-DINOC</td>\n",
       "      <td>Male</td>\n",
       "      <td>0</td>\n",
       "      <td>No</td>\n",
       "      <td>No</td>\n",
       "      <td>54</td>\n",
       "      <td>No</td>\n",
       "      <td>No phone service</td>\n",
       "      <td>45.20</td>\n",
       "      <td>2460.55</td>\n",
       "      <td>Two year</td>\n",
       "      <td>DSL</td>\n",
       "      <td>Credit card (automatic)</td>\n",
       "    </tr>\n",
       "    <tr>\n",
       "      <th>2</th>\n",
       "      <td>0019-GFNTW</td>\n",
       "      <td>Female</td>\n",
       "      <td>0</td>\n",
       "      <td>No</td>\n",
       "      <td>No</td>\n",
       "      <td>56</td>\n",
       "      <td>No</td>\n",
       "      <td>No phone service</td>\n",
       "      <td>45.05</td>\n",
       "      <td>2560.1</td>\n",
       "      <td>Two year</td>\n",
       "      <td>DSL</td>\n",
       "      <td>Bank transfer (automatic)</td>\n",
       "    </tr>\n",
       "    <tr>\n",
       "      <th>3</th>\n",
       "      <td>0056-EPFBG</td>\n",
       "      <td>Male</td>\n",
       "      <td>0</td>\n",
       "      <td>Yes</td>\n",
       "      <td>Yes</td>\n",
       "      <td>20</td>\n",
       "      <td>No</td>\n",
       "      <td>No phone service</td>\n",
       "      <td>39.40</td>\n",
       "      <td>825.4</td>\n",
       "      <td>Two year</td>\n",
       "      <td>DSL</td>\n",
       "      <td>Credit card (automatic)</td>\n",
       "    </tr>\n",
       "    <tr>\n",
       "      <th>4</th>\n",
       "      <td>0078-XZMHT</td>\n",
       "      <td>Male</td>\n",
       "      <td>0</td>\n",
       "      <td>Yes</td>\n",
       "      <td>No</td>\n",
       "      <td>72</td>\n",
       "      <td>Yes</td>\n",
       "      <td>Yes</td>\n",
       "      <td>85.15</td>\n",
       "      <td>6316.2</td>\n",
       "      <td>Two year</td>\n",
       "      <td>DSL</td>\n",
       "      <td>Bank transfer (automatic)</td>\n",
       "    </tr>\n",
       "  </tbody>\n",
       "</table>\n",
       "</div>"
      ],
      "text/plain": [
       "  customer_id  gender  senior_citizen partner dependents  tenure  \\\n",
       "0  0016-QLJIS  Female               0     Yes        Yes      65   \n",
       "1  0017-DINOC    Male               0      No         No      54   \n",
       "2  0019-GFNTW  Female               0      No         No      56   \n",
       "3  0056-EPFBG    Male               0     Yes        Yes      20   \n",
       "4  0078-XZMHT    Male               0     Yes         No      72   \n",
       "\n",
       "  phone_service    multiple_lines  monthly_charges total_charges  \\\n",
       "0           Yes               Yes            90.45        5957.9   \n",
       "1            No  No phone service            45.20       2460.55   \n",
       "2            No  No phone service            45.05        2560.1   \n",
       "3            No  No phone service            39.40         825.4   \n",
       "4           Yes               Yes            85.15        6316.2   \n",
       "\n",
       "  contract_type internet_service_type               payment_type  \n",
       "0      Two year                   DSL               Mailed check  \n",
       "1      Two year                   DSL    Credit card (automatic)  \n",
       "2      Two year                   DSL  Bank transfer (automatic)  \n",
       "3      Two year                   DSL    Credit card (automatic)  \n",
       "4      Two year                   DSL  Bank transfer (automatic)  "
      ]
     },
     "execution_count": 26,
     "metadata": {},
     "output_type": "execute_result"
    }
   ],
   "source": [
    "# separate attributes into a dataframe called 'X'\n",
    "X = df.drop(columns=['churn'])\n",
    "\n",
    "print(X.columns)\n",
    "X.head()"
   ]
  },
  {
   "cell_type": "code",
   "execution_count": 27,
   "id": "09a91132",
   "metadata": {},
   "outputs": [
    {
     "name": "stdout",
     "output_type": "stream",
     "text": [
      "Index(['churn'], dtype='object')\n"
     ]
    },
    {
     "data": {
      "text/html": [
       "<div>\n",
       "<style scoped>\n",
       "    .dataframe tbody tr th:only-of-type {\n",
       "        vertical-align: middle;\n",
       "    }\n",
       "\n",
       "    .dataframe tbody tr th {\n",
       "        vertical-align: top;\n",
       "    }\n",
       "\n",
       "    .dataframe thead th {\n",
       "        text-align: right;\n",
       "    }\n",
       "</style>\n",
       "<table border=\"1\" class=\"dataframe\">\n",
       "  <thead>\n",
       "    <tr style=\"text-align: right;\">\n",
       "      <th></th>\n",
       "      <th>churn</th>\n",
       "    </tr>\n",
       "  </thead>\n",
       "  <tbody>\n",
       "    <tr>\n",
       "      <th>0</th>\n",
       "      <td>No</td>\n",
       "    </tr>\n",
       "    <tr>\n",
       "      <th>1</th>\n",
       "      <td>No</td>\n",
       "    </tr>\n",
       "    <tr>\n",
       "      <th>2</th>\n",
       "      <td>No</td>\n",
       "    </tr>\n",
       "    <tr>\n",
       "      <th>3</th>\n",
       "      <td>No</td>\n",
       "    </tr>\n",
       "    <tr>\n",
       "      <th>4</th>\n",
       "      <td>No</td>\n",
       "    </tr>\n",
       "  </tbody>\n",
       "</table>\n",
       "</div>"
      ],
      "text/plain": [
       "  churn\n",
       "0    No\n",
       "1    No\n",
       "2    No\n",
       "3    No\n",
       "4    No"
      ]
     },
     "execution_count": 27,
     "metadata": {},
     "output_type": "execute_result"
    }
   ],
   "source": [
    "# separate y into its own dataframe \n",
    "y = df[['churn']]\n",
    "\n",
    "print(y.columns)\n",
    "y.head(5)"
   ]
  },
  {
   "cell_type": "code",
   "execution_count": 65,
   "id": "06866114",
   "metadata": {},
   "outputs": [
    {
     "name": "stdout",
     "output_type": "stream",
     "text": [
      "X train shape:  (4922, 13)\n",
      "y train shape:  (4922, 1)\n"
     ]
    }
   ],
   "source": [
    "# split X and y into 70/30 split of train sample/test sample\n",
    "from sklearn.model_selection import learning_curve, train_test_split\n",
    "\n",
    "X_train, X_test, y_train, y_test = train_test_split(X, y, test_size=.30, random_state=123)\n",
    "\n",
    "print(\"X train shape: \",X_train.shape)\n",
    "print(\"y train shape: \",y_train.shape)"
   ]
  },
  {
   "cell_type": "code",
   "execution_count": 66,
   "id": "2183ef60",
   "metadata": {},
   "outputs": [
    {
     "name": "stdout",
     "output_type": "stream",
     "text": [
      "X train shape:  (4922, 13)\n",
      "y train shape:  (4922, 1)\n"
     ]
    }
   ],
   "source": [
    "# split X and y into 70/30 split of train sample/test sample\n",
    "from sklearn.model_selection import learning_curve, train_test_split\n",
    "\n",
    "X_train, X_test, y_train, y_test = train_test_split(X, y, test_size=.30, random_state=123)\n",
    "\n",
    "print(\"X train shape: \",X_train.shape)\n",
    "print(\"y train shape: \",y_train.shape)"
   ]
  },
  {
   "cell_type": "code",
   "execution_count": 67,
   "id": "dd5c2ddc",
   "metadata": {},
   "outputs": [
    {
     "name": "stdout",
     "output_type": "stream",
     "text": [
      "(3937, 14) (1688, 14) (1407, 14)\n"
     ]
    }
   ],
   "source": [
    "print(train.shape, validate.shape, test.shape)"
   ]
  },
  {
   "cell_type": "code",
   "execution_count": 68,
   "id": "86c42843",
   "metadata": {},
   "outputs": [],
   "source": [
    "############################################################ EXPLORE"
   ]
  },
  {
   "cell_type": "code",
   "execution_count": 69,
   "id": "1e8b945d",
   "metadata": {},
   "outputs": [
    {
     "data": {
      "text/html": [
       "<style  type=\"text/css\" >\n",
       "#T_08b0e_row0_col0{\n",
       "            background-color:  #feda78;\n",
       "            color:  #000000;\n",
       "        }#T_08b0e_row0_col1{\n",
       "            background-color:  #b70026;\n",
       "            color:  #f1f1f1;\n",
       "        }#T_08b0e_row0_col2{\n",
       "            background-color:  #fd9e43;\n",
       "            color:  #000000;\n",
       "        }#T_08b0e_row1_col0,#T_08b0e_row1_col2,#T_08b0e_row2_col1{\n",
       "            background-color:  #ffffcc;\n",
       "            color:  #000000;\n",
       "        }#T_08b0e_row1_col1{\n",
       "            background-color:  #fff7b7;\n",
       "            color:  #000000;\n",
       "        }#T_08b0e_row2_col0{\n",
       "            background-color:  #fff4b2;\n",
       "            color:  #000000;\n",
       "        }#T_08b0e_row2_col2{\n",
       "            background-color:  #fffac1;\n",
       "            color:  #000000;\n",
       "        }#T_08b0e_row3_col0,#T_08b0e_row3_col1,#T_08b0e_row3_col2{\n",
       "            background-color:  #800026;\n",
       "            color:  #f1f1f1;\n",
       "        }</style><table id=\"T_08b0e_\" ><thead>    <tr>        <th class=\"index_name level0\" >churn</th>        <th class=\"col_heading level0 col0\" >No</th>        <th class=\"col_heading level0 col1\" >Yes</th>        <th class=\"col_heading level0 col2\" >All</th>    </tr>    <tr>        <th class=\"index_name level0\" >contract_type</th>        <th class=\"blank\" ></th>        <th class=\"blank\" ></th>        <th class=\"blank\" ></th>    </tr></thead><tbody>\n",
       "                <tr>\n",
       "                        <th id=\"T_08b0e_level0_row0\" class=\"row_heading level0 row0\" >Month-to-month</th>\n",
       "                        <td id=\"T_08b0e_row0_col0\" class=\"data row0 col0\" >1565</td>\n",
       "                        <td id=\"T_08b0e_row0_col1\" class=\"data row0 col1\" >1183</td>\n",
       "                        <td id=\"T_08b0e_row0_col2\" class=\"data row0 col2\" >2748</td>\n",
       "            </tr>\n",
       "            <tr>\n",
       "                        <th id=\"T_08b0e_level0_row1\" class=\"row_heading level0 row1\" >One year</th>\n",
       "                        <td id=\"T_08b0e_row1_col0\" class=\"data row1 col0\" >910</td>\n",
       "                        <td id=\"T_08b0e_row1_col1\" class=\"data row1 col1\" >114</td>\n",
       "                        <td id=\"T_08b0e_row1_col2\" class=\"data row1 col2\" >1024</td>\n",
       "            </tr>\n",
       "            <tr>\n",
       "                        <th id=\"T_08b0e_level0_row2\" class=\"row_heading level0 row2\" >Two year</th>\n",
       "                        <td id=\"T_08b0e_row2_col0\" class=\"data row2 col0\" >1117</td>\n",
       "                        <td id=\"T_08b0e_row2_col1\" class=\"data row2 col1\" >33</td>\n",
       "                        <td id=\"T_08b0e_row2_col2\" class=\"data row2 col2\" >1150</td>\n",
       "            </tr>\n",
       "            <tr>\n",
       "                        <th id=\"T_08b0e_level0_row3\" class=\"row_heading level0 row3\" >All</th>\n",
       "                        <td id=\"T_08b0e_row3_col0\" class=\"data row3 col0\" >3592</td>\n",
       "                        <td id=\"T_08b0e_row3_col1\" class=\"data row3 col1\" >1330</td>\n",
       "                        <td id=\"T_08b0e_row3_col2\" class=\"data row3 col2\" >4922</td>\n",
       "            </tr>\n",
       "    </tbody></table>"
      ],
      "text/plain": [
       "<pandas.io.formats.style.Styler at 0x7fad6f76ec40>"
      ]
     },
     "execution_count": 69,
     "metadata": {},
     "output_type": "execute_result"
    }
   ],
   "source": [
    "#create a heatmap contract_type and churn\n",
    "pd.crosstab(X_train.contract_type, y_train.churn, margins=True).style.background_gradient(cmap='YlOrRd')"
   ]
  },
  {
   "cell_type": "code",
   "execution_count": 70,
   "id": "03041a25",
   "metadata": {},
   "outputs": [
    {
     "data": {
      "text/html": [
       "<style  type=\"text/css\" >\n",
       "#T_de461_row0_col0{\n",
       "            background-color:  #ffea99;\n",
       "            color:  #000000;\n",
       "        }#T_de461_row0_col1{\n",
       "            background-color:  #fee288;\n",
       "            color:  #000000;\n",
       "        }#T_de461_row0_col2{\n",
       "            background-color:  #ffe794;\n",
       "            color:  #000000;\n",
       "        }#T_de461_row1_col0{\n",
       "            background-color:  #fff1ab;\n",
       "            color:  #000000;\n",
       "        }#T_de461_row1_col1{\n",
       "            background-color:  #f03523;\n",
       "            color:  #f1f1f1;\n",
       "        }#T_de461_row1_col2{\n",
       "            background-color:  #fece6a;\n",
       "            color:  #000000;\n",
       "        }#T_de461_row2_col0,#T_de461_row2_col1,#T_de461_row2_col2{\n",
       "            background-color:  #ffffcc;\n",
       "            color:  #000000;\n",
       "        }#T_de461_row3_col0,#T_de461_row3_col1,#T_de461_row3_col2{\n",
       "            background-color:  #800026;\n",
       "            color:  #f1f1f1;\n",
       "        }</style><table id=\"T_de461_\" ><thead>    <tr>        <th class=\"index_name level0\" >churn</th>        <th class=\"col_heading level0 col0\" >No</th>        <th class=\"col_heading level0 col1\" >Yes</th>        <th class=\"col_heading level0 col2\" >All</th>    </tr>    <tr>        <th class=\"index_name level0\" >internet_service_type</th>        <th class=\"blank\" ></th>        <th class=\"blank\" ></th>        <th class=\"blank\" ></th>    </tr></thead><tbody>\n",
       "                <tr>\n",
       "                        <th id=\"T_de461_level0_row0\" class=\"row_heading level0 row0\" >DSL</th>\n",
       "                        <td id=\"T_de461_row0_col0\" class=\"data row0 col0\" >1370</td>\n",
       "                        <td id=\"T_de461_row0_col1\" class=\"data row0 col1\" >321</td>\n",
       "                        <td id=\"T_de461_row0_col2\" class=\"data row0 col2\" >1691</td>\n",
       "            </tr>\n",
       "            <tr>\n",
       "                        <th id=\"T_de461_level0_row1\" class=\"row_heading level0 row1\" >Fiber optic</th>\n",
       "                        <td id=\"T_de461_row1_col0\" class=\"data row1 col0\" >1236</td>\n",
       "                        <td id=\"T_de461_row1_col1\" class=\"data row1 col1\" >934</td>\n",
       "                        <td id=\"T_de461_row1_col2\" class=\"data row1 col2\" >2170</td>\n",
       "            </tr>\n",
       "            <tr>\n",
       "                        <th id=\"T_de461_level0_row2\" class=\"row_heading level0 row2\" >None</th>\n",
       "                        <td id=\"T_de461_row2_col0\" class=\"data row2 col0\" >986</td>\n",
       "                        <td id=\"T_de461_row2_col1\" class=\"data row2 col1\" >75</td>\n",
       "                        <td id=\"T_de461_row2_col2\" class=\"data row2 col2\" >1061</td>\n",
       "            </tr>\n",
       "            <tr>\n",
       "                        <th id=\"T_de461_level0_row3\" class=\"row_heading level0 row3\" >All</th>\n",
       "                        <td id=\"T_de461_row3_col0\" class=\"data row3 col0\" >3592</td>\n",
       "                        <td id=\"T_de461_row3_col1\" class=\"data row3 col1\" >1330</td>\n",
       "                        <td id=\"T_de461_row3_col2\" class=\"data row3 col2\" >4922</td>\n",
       "            </tr>\n",
       "    </tbody></table>"
      ],
      "text/plain": [
       "<pandas.io.formats.style.Styler at 0x7fad88786850>"
      ]
     },
     "execution_count": 70,
     "metadata": {},
     "output_type": "execute_result"
    }
   ],
   "source": [
    "#create a heatmap internet_service_type and churn\n",
    "pd.crosstab(X_train.internet_service_type, y_train.churn, margins=True).style.background_gradient(cmap='YlOrRd')"
   ]
  },
  {
   "cell_type": "code",
   "execution_count": 71,
   "id": "a2f9a2c3",
   "metadata": {},
   "outputs": [
    {
     "data": {
      "text/html": [
       "<style  type=\"text/css\" >\n",
       "#T_71b33_row0_col0,#T_71b33_row1_col0,#T_71b33_row1_col1,#T_71b33_row1_col2,#T_71b33_row2_col0,#T_71b33_row3_col0{\n",
       "            background-color:  #ffffcc;\n",
       "            color:  #000000;\n",
       "        }#T_71b33_row0_col1{\n",
       "            background-color:  #fffdc6;\n",
       "            color:  #000000;\n",
       "        }#T_71b33_row0_col2{\n",
       "            background-color:  #fffecb;\n",
       "            color:  #000000;\n",
       "        }#T_71b33_row2_col1{\n",
       "            background-color:  #fd8c3c;\n",
       "            color:  #000000;\n",
       "        }#T_71b33_row2_col2{\n",
       "            background-color:  #ffe998;\n",
       "            color:  #000000;\n",
       "        }#T_71b33_row3_col1{\n",
       "            background-color:  #fff9bd;\n",
       "            color:  #000000;\n",
       "        }#T_71b33_row3_col2{\n",
       "            background-color:  #fffdc8;\n",
       "            color:  #000000;\n",
       "        }#T_71b33_row4_col0,#T_71b33_row4_col1,#T_71b33_row4_col2{\n",
       "            background-color:  #800026;\n",
       "            color:  #f1f1f1;\n",
       "        }</style><table id=\"T_71b33_\" ><thead>    <tr>        <th class=\"index_name level0\" >churn</th>        <th class=\"col_heading level0 col0\" >No</th>        <th class=\"col_heading level0 col1\" >Yes</th>        <th class=\"col_heading level0 col2\" >All</th>    </tr>    <tr>        <th class=\"index_name level0\" >payment_type</th>        <th class=\"blank\" ></th>        <th class=\"blank\" ></th>        <th class=\"blank\" ></th>    </tr></thead><tbody>\n",
       "                <tr>\n",
       "                        <th id=\"T_71b33_level0_row0\" class=\"row_heading level0 row0\" >Bank transfer (automatic)</th>\n",
       "                        <td id=\"T_71b33_row0_col0\" class=\"data row0 col0\" >894</td>\n",
       "                        <td id=\"T_71b33_row0_col1\" class=\"data row0 col1\" >189</td>\n",
       "                        <td id=\"T_71b33_row0_col2\" class=\"data row0 col2\" >1083</td>\n",
       "            </tr>\n",
       "            <tr>\n",
       "                        <th id=\"T_71b33_level0_row1\" class=\"row_heading level0 row1\" >Credit card (automatic)</th>\n",
       "                        <td id=\"T_71b33_row1_col0\" class=\"data row1 col0\" >898</td>\n",
       "                        <td id=\"T_71b33_row1_col1\" class=\"data row1 col1\" >169</td>\n",
       "                        <td id=\"T_71b33_row1_col2\" class=\"data row1 col2\" >1067</td>\n",
       "            </tr>\n",
       "            <tr>\n",
       "                        <th id=\"T_71b33_level0_row2\" class=\"row_heading level0 row2\" >Electronic check</th>\n",
       "                        <td id=\"T_71b33_row2_col0\" class=\"data row2 col0\" >898</td>\n",
       "                        <td id=\"T_71b33_row2_col1\" class=\"data row2 col1\" >753</td>\n",
       "                        <td id=\"T_71b33_row2_col2\" class=\"data row2 col2\" >1651</td>\n",
       "            </tr>\n",
       "            <tr>\n",
       "                        <th id=\"T_71b33_level0_row3\" class=\"row_heading level0 row3\" >Mailed check</th>\n",
       "                        <td id=\"T_71b33_row3_col0\" class=\"data row3 col0\" >902</td>\n",
       "                        <td id=\"T_71b33_row3_col1\" class=\"data row3 col1\" >219</td>\n",
       "                        <td id=\"T_71b33_row3_col2\" class=\"data row3 col2\" >1121</td>\n",
       "            </tr>\n",
       "            <tr>\n",
       "                        <th id=\"T_71b33_level0_row4\" class=\"row_heading level0 row4\" >All</th>\n",
       "                        <td id=\"T_71b33_row4_col0\" class=\"data row4 col0\" >3592</td>\n",
       "                        <td id=\"T_71b33_row4_col1\" class=\"data row4 col1\" >1330</td>\n",
       "                        <td id=\"T_71b33_row4_col2\" class=\"data row4 col2\" >4922</td>\n",
       "            </tr>\n",
       "    </tbody></table>"
      ],
      "text/plain": [
       "<pandas.io.formats.style.Styler at 0x7fad88b602b0>"
      ]
     },
     "execution_count": 71,
     "metadata": {},
     "output_type": "execute_result"
    }
   ],
   "source": [
    "#create a heatmap payment_type and churn\n",
    "pd.crosstab(X_train.payment_type, y_train.churn, margins=True).style.background_gradient(cmap='YlOrRd')"
   ]
  },
  {
   "cell_type": "code",
   "execution_count": 72,
   "id": "a928ba4f",
   "metadata": {},
   "outputs": [
    {
     "data": {
      "text/html": [
       "<style  type=\"text/css\" >\n",
       "#T_0edba_row0_col0{\n",
       "            background-color:  #c30424;\n",
       "            color:  #f1f1f1;\n",
       "        }#T_0edba_row0_col1{\n",
       "            background-color:  #f94828;\n",
       "            color:  #000000;\n",
       "        }#T_0edba_row0_col2{\n",
       "            background-color:  #d30f20;\n",
       "            color:  #f1f1f1;\n",
       "        }#T_0edba_row1_col0,#T_0edba_row1_col1,#T_0edba_row1_col2{\n",
       "            background-color:  #ffffcc;\n",
       "            color:  #000000;\n",
       "        }#T_0edba_row2_col0,#T_0edba_row2_col1,#T_0edba_row2_col2{\n",
       "            background-color:  #800026;\n",
       "            color:  #f1f1f1;\n",
       "        }</style><table id=\"T_0edba_\" ><thead>    <tr>        <th class=\"index_name level0\" >churn</th>        <th class=\"col_heading level0 col0\" >No</th>        <th class=\"col_heading level0 col1\" >Yes</th>        <th class=\"col_heading level0 col2\" >All</th>    </tr>    <tr>        <th class=\"index_name level0\" >senior_citizen</th>        <th class=\"blank\" ></th>        <th class=\"blank\" ></th>        <th class=\"blank\" ></th>    </tr></thead><tbody>\n",
       "                <tr>\n",
       "                        <th id=\"T_0edba_level0_row0\" class=\"row_heading level0 row0\" >0</th>\n",
       "                        <td id=\"T_0edba_row0_col0\" class=\"data row0 col0\" >3136</td>\n",
       "                        <td id=\"T_0edba_row0_col1\" class=\"data row0 col1\" >976</td>\n",
       "                        <td id=\"T_0edba_row0_col2\" class=\"data row0 col2\" >4112</td>\n",
       "            </tr>\n",
       "            <tr>\n",
       "                        <th id=\"T_0edba_level0_row1\" class=\"row_heading level0 row1\" >1</th>\n",
       "                        <td id=\"T_0edba_row1_col0\" class=\"data row1 col0\" >456</td>\n",
       "                        <td id=\"T_0edba_row1_col1\" class=\"data row1 col1\" >354</td>\n",
       "                        <td id=\"T_0edba_row1_col2\" class=\"data row1 col2\" >810</td>\n",
       "            </tr>\n",
       "            <tr>\n",
       "                        <th id=\"T_0edba_level0_row2\" class=\"row_heading level0 row2\" >All</th>\n",
       "                        <td id=\"T_0edba_row2_col0\" class=\"data row2 col0\" >3592</td>\n",
       "                        <td id=\"T_0edba_row2_col1\" class=\"data row2 col1\" >1330</td>\n",
       "                        <td id=\"T_0edba_row2_col2\" class=\"data row2 col2\" >4922</td>\n",
       "            </tr>\n",
       "    </tbody></table>"
      ],
      "text/plain": [
       "<pandas.io.formats.style.Styler at 0x7fad6f5a7ca0>"
      ]
     },
     "execution_count": 72,
     "metadata": {},
     "output_type": "execute_result"
    }
   ],
   "source": [
    "#create a heatmap senior_citizen and churn\n",
    "pd.crosstab(X_train.senior_citizen, y_train.churn, margins=True).style.background_gradient(cmap='YlOrRd')"
   ]
  },
  {
   "cell_type": "markdown",
   "id": "6d46b0e1",
   "metadata": {},
   "source": [
    "**Takeaways from heatmaps**\n",
    "-month-to-month customers churn the most of contract_type approximately 43%\n",
    "-Fiber optics has the highest rate of churn at 43% churning of this internet_service_type\n",
    "-Electronic check has the highest churn rate at 46%\n",
    "-senior_citizens churn at a much higher rate than other customers 44% compared to 23% for overall customers"
   ]
  },
  {
   "cell_type": "code",
   "execution_count": 73,
   "id": "fcc2ee6e",
   "metadata": {},
   "outputs": [],
   "source": [
    "cat_vars = ['churn', 'gender', 'senior_citizen', 'partner', 'dependents', 'internet_service_type', 'phone_service','multiple_lines','contract_type']\n",
    "quant_vars = ['monthly_charges', 'total_charges','tenure']"
   ]
  },
  {
   "cell_type": "code",
   "execution_count": 74,
   "id": "6441ce2a",
   "metadata": {},
   "outputs": [
    {
     "data": {
      "image/png": "[encoded data removed]",
      "text/plain": [
       "<Figure size 144x144 with 1 Axes>"
      ]
     },
     "metadata": {
      "needs_background": "light"
     },
     "output_type": "display_data"
    },
    {
     "name": "stdout",
     "output_type": "stream",
     "text": [
      "    churn  Count  Percent\n",
      "No     No   2891    73.43\n",
      "Yes   Yes   1046    26.57\n",
      "_________________________________________________________________\n"
     ]
    },
    {
     "data": {
      "image/png": "[encoded data removed]",
      "text/plain": [
       "<Figure size 144x144 with 1 Axes>"
      ]
     },
     "metadata": {
      "needs_background": "light"
     },
     "output_type": "display_data"
    },
    {
     "name": "stdout",
     "output_type": "stream",
     "text": [
      "        gender  Count  Percent\n",
      "Male    Female   2002    50.85\n",
      "Female    Male   1935    49.15\n",
      "_________________________________________________________________\n"
     ]
    },
    {
     "data": {
      "image/png": "[encoded data removed]",
      "text/plain": [
       "<Figure size 144x144 with 1 Axes>"
      ]
     },
     "metadata": {
      "needs_background": "light"
     },
     "output_type": "display_data"
    },
    {
     "name": "stdout",
     "output_type": "stream",
     "text": [
      "   senior_citizen  Count  Percent\n",
      "0               0   3290    83.57\n",
      "1               1    647    16.43\n",
      "_________________________________________________________________\n"
     ]
    },
    {
     "data": {
      "image/png": "[encoded data removed]",
      "text/plain": [
       "<Figure size 144x144 with 1 Axes>"
      ]
     },
     "metadata": {
      "needs_background": "light"
     },
     "output_type": "display_data"
    },
    {
     "name": "stdout",
     "output_type": "stream",
     "text": [
      "    partner  Count  Percent\n",
      "No      Yes   2033    51.64\n",
      "Yes      No   1904    48.36\n",
      "_________________________________________________________________\n"
     ]
    },
    {
     "data": {
      "image/png": "[encoded data removed]",
      "text/plain": [
       "<Figure size 144x144 with 1 Axes>"
      ]
     },
     "metadata": {
      "needs_background": "light"
     },
     "output_type": "display_data"
    },
    {
     "name": "stdout",
     "output_type": "stream",
     "text": [
      "    dependents  Count  Percent\n",
      "No          No   2764    70.21\n",
      "Yes        Yes   1173    29.79\n",
      "_________________________________________________________________\n"
     ]
    },
    {
     "data": {
      "image/png": "[encoded data removed]",
      "text/plain": [
       "<Figure size 144x144 with 1 Axes>"
      ]
     },
     "metadata": {
      "needs_background": "light"
     },
     "output_type": "display_data"
    },
    {
     "name": "stdout",
     "output_type": "stream",
     "text": [
      "            internet_service_type  Count  Percent\n",
      "Fiber optic                  None   1698    43.13\n",
      "DSL                           DSL   1368    34.75\n",
      "None                  Fiber optic    871    22.12\n",
      "_________________________________________________________________\n"
     ]
    },
    {
     "data": {
      "image/png": "[encoded data removed]",
      "text/plain": [
       "<Figure size 144x144 with 1 Axes>"
      ]
     },
     "metadata": {
      "needs_background": "light"
     },
     "output_type": "display_data"
    },
    {
     "name": "stdout",
     "output_type": "stream",
     "text": [
      "    phone_service  Count  Percent\n",
      "Yes           Yes   3548    90.12\n",
      "No             No    389     9.88\n",
      "_________________________________________________________________\n"
     ]
    },
    {
     "data": {
      "image/png": "[encoded data removed]",
      "text/plain": [
       "<Figure size 144x144 with 1 Axes>"
      ]
     },
     "metadata": {
      "needs_background": "light"
     },
     "output_type": "display_data"
    },
    {
     "name": "stdout",
     "output_type": "stream",
     "text": [
      "                    multiple_lines  Count  Percent\n",
      "No                              No   1906    48.41\n",
      "Yes                            Yes   1642    41.71\n",
      "No phone service  No phone service    389     9.88\n",
      "_________________________________________________________________\n"
     ]
    },
    {
     "data": {
      "image/png": "[encoded data removed]",
      "text/plain": [
       "<Figure size 144x144 with 1 Axes>"
      ]
     },
     "metadata": {
      "needs_background": "light"
     },
     "output_type": "display_data"
    },
    {
     "name": "stdout",
     "output_type": "stream",
     "text": [
      "                 contract_type  Count  Percent\n",
      "Month-to-month        Two year   2135    54.23\n",
      "Two year        Month-to-month    972    24.69\n",
      "One year              One year    830    21.08\n",
      "_________________________________________________________________\n"
     ]
    },
    {
     "data": {
      "image/png": "[encoded data removed]",
      "text/plain": [
       "<Figure size 576x144 with 2 Axes>"
      ]
     },
     "metadata": {
      "needs_background": "light"
     },
     "output_type": "display_data"
    },
    {
     "name": "stdout",
     "output_type": "stream",
     "text": [
      "count    3937.000000\n",
      "mean       64.191046\n",
      "std        30.129425\n",
      "min        18.550000\n",
      "25%        34.950000\n",
      "50%        69.950000\n",
      "75%        89.450000\n",
      "max       118.750000\n",
      "Name: monthly_charges, dtype: float64\n"
     ]
    },
    {
     "ename": "TypeError",
     "evalue": "ufunc 'true_divide' not supported for the input types, and the inputs could not be safely coerced to any supported types according to the casting rule ''safe''",
     "output_type": "error",
     "traceback": [
      "\u001b[0;31m---------------------------------------------------------------------------\u001b[0m",
      "\u001b[0;31mTypeError\u001b[0m                                 Traceback (most recent call last)",
      "\u001b[0;32m<ipython-input-74-4f175545aa56>\u001b[0m in \u001b[0;36m<module>\u001b[0;34m\u001b[0m\n\u001b[0;32m----> 1\u001b[0;31m \u001b[0mexplore\u001b[0m\u001b[0;34m.\u001b[0m\u001b[0mexplore_univariate\u001b[0m\u001b[0;34m(\u001b[0m\u001b[0mtrain\u001b[0m\u001b[0;34m,\u001b[0m \u001b[0mcat_vars\u001b[0m\u001b[0;34m,\u001b[0m \u001b[0mquant_vars\u001b[0m\u001b[0;34m)\u001b[0m\u001b[0;34m\u001b[0m\u001b[0;34m\u001b[0m\u001b[0m\n\u001b[0m",
      "\u001b[0;32m~/codeup-data-science/telco_churn_project/explore.py\u001b[0m in \u001b[0;36mexplore_univariate\u001b[0;34m(train, cat_vars, quant_vars)\u001b[0m\n\u001b[1;32m     29\u001b[0m         \u001b[0mprint\u001b[0m\u001b[0;34m(\u001b[0m\u001b[0;34m'_________________________________________________________________'\u001b[0m\u001b[0;34m)\u001b[0m\u001b[0;34m\u001b[0m\u001b[0;34m\u001b[0m\u001b[0m\n\u001b[1;32m     30\u001b[0m     \u001b[0;32mfor\u001b[0m \u001b[0mcol\u001b[0m \u001b[0;32min\u001b[0m \u001b[0mquant_vars\u001b[0m\u001b[0;34m:\u001b[0m\u001b[0;34m\u001b[0m\u001b[0;34m\u001b[0m\u001b[0m\n\u001b[0;32m---> 31\u001b[0;31m         \u001b[0mp\u001b[0m\u001b[0;34m,\u001b[0m \u001b[0mdescriptive_stats\u001b[0m \u001b[0;34m=\u001b[0m \u001b[0mexplore_univariate_quant\u001b[0m\u001b[0;34m(\u001b[0m\u001b[0mtrain\u001b[0m\u001b[0;34m,\u001b[0m \u001b[0mcol\u001b[0m\u001b[0;34m)\u001b[0m\u001b[0;34m\u001b[0m\u001b[0;34m\u001b[0m\u001b[0m\n\u001b[0m\u001b[1;32m     32\u001b[0m         \u001b[0mplt\u001b[0m\u001b[0;34m.\u001b[0m\u001b[0mshow\u001b[0m\u001b[0;34m(\u001b[0m\u001b[0mp\u001b[0m\u001b[0;34m)\u001b[0m\u001b[0;34m\u001b[0m\u001b[0;34m\u001b[0m\u001b[0m\n\u001b[1;32m     33\u001b[0m         \u001b[0mprint\u001b[0m\u001b[0;34m(\u001b[0m\u001b[0mdescriptive_stats\u001b[0m\u001b[0;34m)\u001b[0m\u001b[0;34m\u001b[0m\u001b[0;34m\u001b[0m\u001b[0m\n",
      "\u001b[0;32m~/codeup-data-science/telco_churn_project/explore.py\u001b[0m in \u001b[0;36mexplore_univariate_quant\u001b[0;34m(train, quant_var)\u001b[0m\n\u001b[1;32m     80\u001b[0m     \u001b[0;31m# second plot: box plot\u001b[0m\u001b[0;34m\u001b[0m\u001b[0;34m\u001b[0m\u001b[0;34m\u001b[0m\u001b[0m\n\u001b[1;32m     81\u001b[0m     \u001b[0mp\u001b[0m \u001b[0;34m=\u001b[0m \u001b[0mplt\u001b[0m\u001b[0;34m.\u001b[0m\u001b[0msubplot\u001b[0m\u001b[0;34m(\u001b[0m\u001b[0;36m1\u001b[0m\u001b[0;34m,\u001b[0m \u001b[0;36m2\u001b[0m\u001b[0;34m,\u001b[0m \u001b[0;36m2\u001b[0m\u001b[0;34m)\u001b[0m\u001b[0;34m\u001b[0m\u001b[0;34m\u001b[0m\u001b[0m\n\u001b[0;32m---> 82\u001b[0;31m     \u001b[0mp\u001b[0m \u001b[0;34m=\u001b[0m \u001b[0mplt\u001b[0m\u001b[0;34m.\u001b[0m\u001b[0mboxplot\u001b[0m\u001b[0;34m(\u001b[0m\u001b[0mtrain\u001b[0m\u001b[0;34m[\u001b[0m\u001b[0mquant_var\u001b[0m\u001b[0;34m]\u001b[0m\u001b[0;34m)\u001b[0m\u001b[0;34m\u001b[0m\u001b[0;34m\u001b[0m\u001b[0m\n\u001b[0m\u001b[1;32m     83\u001b[0m     \u001b[0mp\u001b[0m \u001b[0;34m=\u001b[0m \u001b[0mplt\u001b[0m\u001b[0;34m.\u001b[0m\u001b[0mtitle\u001b[0m\u001b[0;34m(\u001b[0m\u001b[0mquant_var\u001b[0m\u001b[0;34m)\u001b[0m\u001b[0;34m\u001b[0m\u001b[0;34m\u001b[0m\u001b[0m\n\u001b[1;32m     84\u001b[0m     \u001b[0;32mreturn\u001b[0m \u001b[0mp\u001b[0m\u001b[0;34m,\u001b[0m \u001b[0mdescriptive_stats\u001b[0m\u001b[0;34m\u001b[0m\u001b[0;34m\u001b[0m\u001b[0m\n",
      "\u001b[0;32m/usr/local/anaconda3/lib/python3.8/site-packages/matplotlib/pyplot.py\u001b[0m in \u001b[0;36mboxplot\u001b[0;34m(x, notch, sym, vert, whis, positions, widths, patch_artist, bootstrap, usermedians, conf_intervals, meanline, showmeans, showcaps, showbox, showfliers, boxprops, labels, flierprops, medianprops, meanprops, capprops, whiskerprops, manage_ticks, autorange, zorder, data)\u001b[0m\n\u001b[1;32m   2515\u001b[0m         \u001b[0mwhiskerprops\u001b[0m\u001b[0;34m=\u001b[0m\u001b[0;32mNone\u001b[0m\u001b[0;34m,\u001b[0m \u001b[0mmanage_ticks\u001b[0m\u001b[0;34m=\u001b[0m\u001b[0;32mTrue\u001b[0m\u001b[0;34m,\u001b[0m \u001b[0mautorange\u001b[0m\u001b[0;34m=\u001b[0m\u001b[0;32mFalse\u001b[0m\u001b[0;34m,\u001b[0m\u001b[0;34m\u001b[0m\u001b[0;34m\u001b[0m\u001b[0m\n\u001b[1;32m   2516\u001b[0m         zorder=None, *, data=None):\n\u001b[0;32m-> 2517\u001b[0;31m     return gca().boxplot(\n\u001b[0m\u001b[1;32m   2518\u001b[0m         \u001b[0mx\u001b[0m\u001b[0;34m,\u001b[0m \u001b[0mnotch\u001b[0m\u001b[0;34m=\u001b[0m\u001b[0mnotch\u001b[0m\u001b[0;34m,\u001b[0m \u001b[0msym\u001b[0m\u001b[0;34m=\u001b[0m\u001b[0msym\u001b[0m\u001b[0;34m,\u001b[0m \u001b[0mvert\u001b[0m\u001b[0;34m=\u001b[0m\u001b[0mvert\u001b[0m\u001b[0;34m,\u001b[0m \u001b[0mwhis\u001b[0m\u001b[0;34m=\u001b[0m\u001b[0mwhis\u001b[0m\u001b[0;34m,\u001b[0m\u001b[0;34m\u001b[0m\u001b[0;34m\u001b[0m\u001b[0m\n\u001b[1;32m   2519\u001b[0m         \u001b[0mpositions\u001b[0m\u001b[0;34m=\u001b[0m\u001b[0mpositions\u001b[0m\u001b[0;34m,\u001b[0m \u001b[0mwidths\u001b[0m\u001b[0;34m=\u001b[0m\u001b[0mwidths\u001b[0m\u001b[0;34m,\u001b[0m \u001b[0mpatch_artist\u001b[0m\u001b[0;34m=\u001b[0m\u001b[0mpatch_artist\u001b[0m\u001b[0;34m,\u001b[0m\u001b[0;34m\u001b[0m\u001b[0;34m\u001b[0m\u001b[0m\n",
      "\u001b[0;32m/usr/local/anaconda3/lib/python3.8/site-packages/matplotlib/__init__.py\u001b[0m in \u001b[0;36minner\u001b[0;34m(ax, data, *args, **kwargs)\u001b[0m\n\u001b[1;32m   1445\u001b[0m     \u001b[0;32mdef\u001b[0m \u001b[0minner\u001b[0m\u001b[0;34m(\u001b[0m\u001b[0max\u001b[0m\u001b[0;34m,\u001b[0m \u001b[0;34m*\u001b[0m\u001b[0margs\u001b[0m\u001b[0;34m,\u001b[0m \u001b[0mdata\u001b[0m\u001b[0;34m=\u001b[0m\u001b[0;32mNone\u001b[0m\u001b[0;34m,\u001b[0m \u001b[0;34m**\u001b[0m\u001b[0mkwargs\u001b[0m\u001b[0;34m)\u001b[0m\u001b[0;34m:\u001b[0m\u001b[0;34m\u001b[0m\u001b[0;34m\u001b[0m\u001b[0m\n\u001b[1;32m   1446\u001b[0m         \u001b[0;32mif\u001b[0m \u001b[0mdata\u001b[0m \u001b[0;32mis\u001b[0m \u001b[0;32mNone\u001b[0m\u001b[0;34m:\u001b[0m\u001b[0;34m\u001b[0m\u001b[0;34m\u001b[0m\u001b[0m\n\u001b[0;32m-> 1447\u001b[0;31m             \u001b[0;32mreturn\u001b[0m \u001b[0mfunc\u001b[0m\u001b[0;34m(\u001b[0m\u001b[0max\u001b[0m\u001b[0;34m,\u001b[0m \u001b[0;34m*\u001b[0m\u001b[0mmap\u001b[0m\u001b[0;34m(\u001b[0m\u001b[0msanitize_sequence\u001b[0m\u001b[0;34m,\u001b[0m \u001b[0margs\u001b[0m\u001b[0;34m)\u001b[0m\u001b[0;34m,\u001b[0m \u001b[0;34m**\u001b[0m\u001b[0mkwargs\u001b[0m\u001b[0;34m)\u001b[0m\u001b[0;34m\u001b[0m\u001b[0;34m\u001b[0m\u001b[0m\n\u001b[0m\u001b[1;32m   1448\u001b[0m \u001b[0;34m\u001b[0m\u001b[0m\n\u001b[1;32m   1449\u001b[0m         \u001b[0mbound\u001b[0m \u001b[0;34m=\u001b[0m \u001b[0mnew_sig\u001b[0m\u001b[0;34m.\u001b[0m\u001b[0mbind\u001b[0m\u001b[0;34m(\u001b[0m\u001b[0max\u001b[0m\u001b[0;34m,\u001b[0m \u001b[0;34m*\u001b[0m\u001b[0margs\u001b[0m\u001b[0;34m,\u001b[0m \u001b[0;34m**\u001b[0m\u001b[0mkwargs\u001b[0m\u001b[0;34m)\u001b[0m\u001b[0;34m\u001b[0m\u001b[0;34m\u001b[0m\u001b[0m\n",
      "\u001b[0;32m/usr/local/anaconda3/lib/python3.8/site-packages/matplotlib/axes/_axes.py\u001b[0m in \u001b[0;36mboxplot\u001b[0;34m(self, x, notch, sym, vert, whis, positions, widths, patch_artist, bootstrap, usermedians, conf_intervals, meanline, showmeans, showcaps, showbox, showfliers, boxprops, labels, flierprops, medianprops, meanprops, capprops, whiskerprops, manage_ticks, autorange, zorder)\u001b[0m\n\u001b[1;32m   3681\u001b[0m             \u001b[0mbootstrap\u001b[0m \u001b[0;34m=\u001b[0m \u001b[0mrcParams\u001b[0m\u001b[0;34m[\u001b[0m\u001b[0;34m'boxplot.bootstrap'\u001b[0m\u001b[0;34m]\u001b[0m\u001b[0;34m\u001b[0m\u001b[0;34m\u001b[0m\u001b[0m\n\u001b[1;32m   3682\u001b[0m \u001b[0;34m\u001b[0m\u001b[0m\n\u001b[0;32m-> 3683\u001b[0;31m         bxpstats = cbook.boxplot_stats(x, whis=whis, bootstrap=bootstrap,\n\u001b[0m\u001b[1;32m   3684\u001b[0m                                        labels=labels, autorange=autorange)\n\u001b[1;32m   3685\u001b[0m         \u001b[0;32mif\u001b[0m \u001b[0mnotch\u001b[0m \u001b[0;32mis\u001b[0m \u001b[0;32mNone\u001b[0m\u001b[0;34m:\u001b[0m\u001b[0;34m\u001b[0m\u001b[0;34m\u001b[0m\u001b[0m\n",
      "\u001b[0;32m/usr/local/anaconda3/lib/python3.8/site-packages/matplotlib/cbook/__init__.py\u001b[0m in \u001b[0;36mboxplot_stats\u001b[0;34m(X, whis, bootstrap, labels, autorange)\u001b[0m\n\u001b[1;32m   1175\u001b[0m \u001b[0;34m\u001b[0m\u001b[0m\n\u001b[1;32m   1176\u001b[0m         \u001b[0;31m# arithmetic mean\u001b[0m\u001b[0;34m\u001b[0m\u001b[0;34m\u001b[0m\u001b[0;34m\u001b[0m\u001b[0m\n\u001b[0;32m-> 1177\u001b[0;31m         \u001b[0mstats\u001b[0m\u001b[0;34m[\u001b[0m\u001b[0;34m'mean'\u001b[0m\u001b[0;34m]\u001b[0m \u001b[0;34m=\u001b[0m \u001b[0mnp\u001b[0m\u001b[0;34m.\u001b[0m\u001b[0mmean\u001b[0m\u001b[0;34m(\u001b[0m\u001b[0mx\u001b[0m\u001b[0;34m)\u001b[0m\u001b[0;34m\u001b[0m\u001b[0;34m\u001b[0m\u001b[0m\n\u001b[0m\u001b[1;32m   1178\u001b[0m \u001b[0;34m\u001b[0m\u001b[0m\n\u001b[1;32m   1179\u001b[0m         \u001b[0;31m# medians and quartiles\u001b[0m\u001b[0;34m\u001b[0m\u001b[0;34m\u001b[0m\u001b[0;34m\u001b[0m\u001b[0m\n",
      "\u001b[0;32m<__array_function__ internals>\u001b[0m in \u001b[0;36mmean\u001b[0;34m(*args, **kwargs)\u001b[0m\n",
      "\u001b[0;32m/usr/local/anaconda3/lib/python3.8/site-packages/numpy/core/fromnumeric.py\u001b[0m in \u001b[0;36mmean\u001b[0;34m(a, axis, dtype, out, keepdims, where)\u001b[0m\n\u001b[1;32m   3417\u001b[0m             \u001b[0;32mreturn\u001b[0m \u001b[0mmean\u001b[0m\u001b[0;34m(\u001b[0m\u001b[0maxis\u001b[0m\u001b[0;34m=\u001b[0m\u001b[0maxis\u001b[0m\u001b[0;34m,\u001b[0m \u001b[0mdtype\u001b[0m\u001b[0;34m=\u001b[0m\u001b[0mdtype\u001b[0m\u001b[0;34m,\u001b[0m \u001b[0mout\u001b[0m\u001b[0;34m=\u001b[0m\u001b[0mout\u001b[0m\u001b[0;34m,\u001b[0m \u001b[0;34m**\u001b[0m\u001b[0mkwargs\u001b[0m\u001b[0;34m)\u001b[0m\u001b[0;34m\u001b[0m\u001b[0;34m\u001b[0m\u001b[0m\n\u001b[1;32m   3418\u001b[0m \u001b[0;34m\u001b[0m\u001b[0m\n\u001b[0;32m-> 3419\u001b[0;31m     return _methods._mean(a, axis=axis, dtype=dtype,\n\u001b[0m\u001b[1;32m   3420\u001b[0m                           out=out, **kwargs)\n\u001b[1;32m   3421\u001b[0m \u001b[0;34m\u001b[0m\u001b[0m\n",
      "\u001b[0;32m/usr/local/anaconda3/lib/python3.8/site-packages/numpy/core/_methods.py\u001b[0m in \u001b[0;36m_mean\u001b[0;34m(a, axis, dtype, out, keepdims, where)\u001b[0m\n\u001b[1;32m    188\u001b[0m             \u001b[0mret\u001b[0m \u001b[0;34m=\u001b[0m \u001b[0mret\u001b[0m\u001b[0;34m.\u001b[0m\u001b[0mdtype\u001b[0m\u001b[0;34m.\u001b[0m\u001b[0mtype\u001b[0m\u001b[0;34m(\u001b[0m\u001b[0mret\u001b[0m \u001b[0;34m/\u001b[0m \u001b[0mrcount\u001b[0m\u001b[0;34m)\u001b[0m\u001b[0;34m\u001b[0m\u001b[0;34m\u001b[0m\u001b[0m\n\u001b[1;32m    189\u001b[0m     \u001b[0;32melse\u001b[0m\u001b[0;34m:\u001b[0m\u001b[0;34m\u001b[0m\u001b[0;34m\u001b[0m\u001b[0m\n\u001b[0;32m--> 190\u001b[0;31m         \u001b[0mret\u001b[0m \u001b[0;34m=\u001b[0m \u001b[0mret\u001b[0m \u001b[0;34m/\u001b[0m \u001b[0mrcount\u001b[0m\u001b[0;34m\u001b[0m\u001b[0;34m\u001b[0m\u001b[0m\n\u001b[0m\u001b[1;32m    191\u001b[0m \u001b[0;34m\u001b[0m\u001b[0m\n\u001b[1;32m    192\u001b[0m     \u001b[0;32mreturn\u001b[0m \u001b[0mret\u001b[0m\u001b[0;34m\u001b[0m\u001b[0;34m\u001b[0m\u001b[0m\n",
      "\u001b[0;31mTypeError\u001b[0m: ufunc 'true_divide' not supported for the input types, and the inputs could not be safely coerced to any supported types according to the casting rule ''safe''"
     ]
    },
    {
     "data": {
      "image/png": "[encoded data removed]",
      "text/plain": [
       "<Figure size 576x144 with 2 Axes>"
      ]
     },
     "metadata": {
      "needs_background": "light"
     },
     "output_type": "display_data"
    }
   ],
   "source": [
    "explore.explore_univariate(train, cat_vars, quant_vars)"
   ]
  },
  {
   "cell_type": "code",
   "execution_count": 75,
   "id": "347d4eba",
   "metadata": {},
   "outputs": [],
   "source": [
    "cat_vars = ['senior_citizen']"
   ]
  },
  {
   "cell_type": "code",
   "execution_count": 76,
   "id": "58349ae9",
   "metadata": {},
   "outputs": [],
   "source": [
    "quant_vars = ['monthly_charge','tenure','total_charges']"
   ]
  },
  {
   "cell_type": "code",
   "execution_count": 77,
   "id": "25c0da2a",
   "metadata": {},
   "outputs": [
    {
     "name": "stdout",
     "output_type": "stream",
     "text": [
      "senior_citizen \n",
      "_____________________\n",
      "\n"
     ]
    },
    {
     "ename": "TypeError",
     "evalue": "Could not convert NoNoNoNoNoYesNoNoYesNoNoNoYesYesYesYesYesYesNoYesNoNoNoNoNoNoNoYesYesNoNoNoNoYesNoNoYesNoNoNoNoNoNoNoNoYesNoYesYesNoYesNoNoNoNoNoYesNoNoNoYesNoNoNoNoNoNoNoYesNoNoYesNoNoNoYesNoNoNoNoNoNoNoNoNoNoNoNoNoYesYesNoNoNoYesNoNoNoNoNoNoNoNoNoNoNoNoNoYesYesNoNoNoNoNoNoNoNoNoNoNoNoYesNoYesNoNoNoNoYesNoNoYesNoNoYesYesNoNoNoNoNoNoNoNoNoNoNoYesNoYesNoNoNoYesNoNoYesYesYesNoNoYesYesNoNoNoNoYesNoYesYesNoYesYesYesYesYesNoNoNoYesNoNoNoNoNoNoNoYesNoYesYesNoYesNoNoNoNoNoNoYesNoNoNoNoNoNoYesNoYesNoNoNoNoNoNoNoYesNoYesYesNoYesNoNoNoNoYesNoYesNoYesYesYesYesNoNoNoYesYesNoNoNoNoYesNoNoNoYesNoYesYesNoNoNoNoYesNoNoYesYesYesNoNoNoNoNoYesNoNoNoNoNoNoYesNoNoYesNoNoNoNoNoNoNoNoYesNoNoNoYesNoNoNoNoNoNoNoYesNoYesNoNoYesYesNoNoNoNoNoNoNoNoYesNoNoNoYesNoYesYesNoYesNoYesNoNoYesNoNoYesNoYesYesNoYesYesNoYesNoNoNoNoNoYesNoNoNoNoNoNoNoNoYesNoNoNoYesYesYesNoNoNoNoNoNoYesNoNoYesNoYesNoYesNoNoYesNoNoNoYesYesNoNoNoNoNoNoYesYesNoNoNoNoNoNoYesNoNoNoNoYesNoYesNoNoNoNoYesNoNoNoNoNoYesNoNoNoYesNoYesNoYesNoYesNoNoNoYesYesNoNoNoNoYesYesNoNoYesNoYesNoNoNoYesNoNoNoNoNoNoNoNoNoYesNoYesNoNoNoNoNoNoYesNoYesNoYesNoNoNoNoNoNoNoYesNoNoNoYesNoYesYesYesNoNoNoNoNoNoNoNoYesYesNoYesNoNoNoNoNoNoNoNoNoNoNoYesNoNoNoNoNoNoNoYesNoNoNoYesNoNoNoNoYesNoNoNoNoNoNoYesYesYesNoYesNoNoNoYesNoYesNoNoNoNoYesYesNoNoNoNoNoNoNoNoYesNoNoNoYesYesNoNoNoNoNoNoNoNoNoNoYesYesYesYesNoNoNoNoNoNoNoNoYesYesNoNoNoNoYesNoYesYesYesNoNoNoNoNoNoNoNoYesNoNoNoNoYesNoNoYesNoNoNoNoNoNoNoNoYesYesNoYesNoNoNoYesYesYesNoYesNoNoNoNoNoYesYesYesNoYesNoNoNoNoNoNoYesNoNoNoYesNoNoNoNoNoNoYesNoNoNoNoNoNoYesNoNoNoNoNoNoYesNoYesYesNoNoNoNoYesYesNoYesYesNoNoNoYesNoNoNoNoNoNoYesNoNoNoNoNoNoNoNoNoYesNoNoNoNoNoNoNoNoNoNoYesYesYesYesNoNoNoNoNoNoYesYesYesYesNoNoNoNoNoNoNoYesNoNoNoNoNoYesNoYesNoNoNoNoNoNoNoNoNoNoNoNoNoNoYesYesYesYesNoNoNoNoNoNoNoNoYesNoNoNoNoYesNoNoNoNoNoNoYesYesNoNoNoNoNoNoNoNoYesNoNoNoNoNoNoYesNoNoNoNoNoNoNoNoYesNoNoNoNoNoNoNoNoNoNoNoNoNoYesNoYesNoNoYesNoNoNoNoNoNoNoNoNoNoNoNoNoNoNoNoNoNoYesNoNoYesNoYesNoNoNoYesYesNoNoNoYesNoNoNoNoYesNoNoNoNoNoYesYesYesNoNoNoNoNoNoNoYesYesNoNoNoNoYesNoNoNoNoNoYesNoNoNoNoYesNoNoNoNoYesNoNoNoYesYesYesNoNoNoNoNoNoYesNoNoNoYesYesYesNoNoYesYesNoYesNoNoYesNoNoNoNoNoYesNoNoNoYesNoNoNoYesNoNoNoNoNoNoYesNoNoNoNoNoNoNoNoYesNoNoYesYesNoYesNoNoNoNoNoNoNoYesYesNoNoNoNoYesNoYesNoNoNoYesNoNoNoYesNoNoNoYesNoNoNoNoNoNoNoNoYesNoNoNoNoNoYesYesYesYesNoYesNoNoNoYesYesYesNoNoNoNoYesYesNoNoYesNoNoNoYesNoNoYesNoNoNoNoYesYesYesNoNoNoNoNoNoNoNoNoYesNoNoNoNoYesNoYesNoNoNoNoNoNoNoNoYesNoNoNoYesNoNoNoNoNoNoNoNoNoNoYesNoYesYesNoNoNoNoNoNoNoNoYesNoNoYesNoYesNoYesNoYesNoNoYesNoNoYesNoNoYesNoNoYesYesNoYesNoYesNoYesNoNoYesYesNoYesYesNoNoNoNoYesNoYesNoYesNoNoNoNoNoNoYesYesNoYesYesNoNoNoNoYesNoNoYesNoNoNoNoNoNoNoNoYesYesNoNoNoYesNoNoNoNoNoNoNoNoNoYesNoNoNoYesNoNoNoNoNoNoNoNoNoNoNoNoNoNoYesNoYesYesNoNoYesNoYesNoNoNoNoYesNoNoNoNoNoNoNoNoNoYesNoNoNoNoNoNoNoNoNoNoNoNoNoNoNoNoNoYesNoNoNoNoYesNoYesNoNoNoNoNoYesYesYesNoNoNoNoNoNoYesNoNoNoYesNoNoNoNoYesNoNoNoNoNoYesNoNoNoNoNoNoNoNoNoNoYesNoNoNoYesNoNoNoYesYesYesNoYesNoYesNoNoYesNoNoYesNoNoNoNoNoNoNoNoYesNoNoYesYesNoNoYesNoNoNoNoNoNoYesYesNoNoYesYesNoYesNoYesNoNoNoNoNoYesNoNoNoYesNoYesYesNoNoYesNoYesYesYesNoYesNoNoNoNoNoNoNoNoNoNoNoNoNoYesYesNoYesNoNoNoNoYesYesNoNoYesNoNoNoNoYesYesYesYesYesNoYesNoYesNoYesNoNoNoYesNoNoNoNoYesNoNoYesYesNoNoNoNoYesNoNoNoNoNoNoNoNoYesNoYesNoNoYesNoNoYesNoNoYesNoNoNoNoNoYesNoNoNoNoYesYesNoYesNoNoNoNoNoYesNoNoNoYesNoNoYesNoNoNoNoNoNoNoNoNoNoNoNoNoNoNoYesNoNoNoNoNoYesNoNoYesNoNoNoNoYesNoYesYesYesYesYesNoNoNoNoNoNoNoYesNoNoYesNoNoNoNoNoNoNoNoNoNoYesYesNoYesNoNoNoNoNoNoYesNoNoYesNoNoNoNoNoNoNoYesYesNoNoYesNoNoNoNoNoNoNoNoYesNoNoNoYesNoNoYesNoNoNoYesNoYesNoYesNoNoNoNoNoYesYesNoYesYesNoNoNoYesNoNoYesYesYesNoNoNoYesYesNoNoNoNoYesYesNoYesNoYesYesNoNoNoNoNoYesNoYesNoYesNoNoYesNoNoNoYesYesYesYesNoNoNoNoNoNoNoNoNoNoNoNoYesNoNoNoYesNoNoYesNoYesYesNoNoNoNoNoNoYesNoNoNoNoYesYesYesNoNoNoNoYesNoNoYesNoNoYesNoNoYesYesYesNoYesNoYesYesNoNoYesNoNoNoNoNoYesNoNoYesNoNoNoYesNoYesNoNoNoNoNoNoNoNoYesYesNoNoNoNoNoNoNoNoYesNoNoYesNoYesNoNoNoNoNoNoNoNoNoYesNoYesNoYesNoYesNoNoNoNoNoNoNoNoYesYesNoNoNoYesNoYesYesNoYesNoYesNoNoYesNoNoNoNoNoYesNoNoYesNoNoNoNoNoNoNoNoNoNoYesNoNoNoNoNoNoNoNoNoNoNoNoNoNoNoYesNoYesYesNoNoNoNoYesYesNoNoYesYesNoNoNoNoNoYesNoNoNoNoNoNoNoYesNoYesNoNoNoNoNoNoNoNoNoYesNoNoNoYesNoNoNoNoYesYesNoYesYesNoYesNoYesNoNoNoNoNoYesNoNoNoNoNoNoNoNoNoYesNoNoNoNoNoYesYesNoNoYesNoNoNoNoNoNoNoNoNoNoNoNoNoNoNoNoNoNoYesNoNoYesYesYesNoYesNoYesNoNoYesYesYesNoNoNoNoNoNoNoNoNoYesYesNoNoNoNoNoYesYesNoNoNoNoNoNoNoNoNoNoNoNoYesNoYesNoYesYesYesYesNoNoNoNoYesNoNoNoYesYesNoYesNoNoNoNoNoNoNoNoYesNoNoNoNoNoNoNoNoNoNoNoNoNoNoNoYesNoNoNoYesNoNoNoNoNoNoNoNoNoYesNoNoNoYesNoNoNoNoNoNoNoYesYesNoNoNoYesYesNoNoNoYesNoNoYesNoYesYesNoNoNoNoYesNoNoYesNoNoNoNoYesNoYesYesNoNoNoNoNoNoNoNoNoYesNoNoNoNoNoNoNoNoNoNoNoNoNoYesYesNoNoNoNoNoYesNoNoYesNoNoNoYesNoYesNoYesNoNoNoNoNoNoNoNoNoNoNoNoYesNoNoNoNoNoNoNoNoNoNoNoNoYesNoNoNoNoNoYesNoNoNoNoNoNoNoNoNoNoYesNoNoNoNoYesNoNoYesNoNoNoNoNoYesNoNoNoYesYesNoNoYesYesNoNoNoNoYesYesNoNoNoNoNoNoNoYesNoNoNoYesYesNoNoNoNoNoYesYesNoNoNoNoNoYesYesNoYesYesNoNoNoYesNoYesNoNoNoNoYesYesNoNoNoNoNoNoNoNoNoNoYesYesNoNoYesNoYesNoYesNoNoNoNoYesNoYesYesYesNoYesNoNoNoYesYesNoNoNoNoNoYesNoYesNoNoNoYesNoNoYesNoNoYesNoYesNoNoNoNoNoYesNoNoNoNoYesYesNoNoNoYesYesYesNoNoNoNoNoNoNoNoYesYesNoNoYesYesNoNoNoNoNoNoNoNoYesNoNoYesNoYesYesNoNoNoYesNoNoNoNoYesNoYesNoNoYesYesNoNoYesNoNoNoNoYesNoNoNoNoNoNoNoNoYesYesNoNoNoNoNoNoYesNoNoNoYesNoNoNoYesNoNoYesYesNoYesNoYesNoYesNoNoNoNoNoNoNoNoNoNoNoYesYesYesNoNoNoNoNoNoYesNoYesYesYesYesNoNoNoNoNoYesNoNoNoNoNoNoNoYesNoYesNoNoNoNoNoNoNoYesYesYesNoNoYesNoNoNoNoYesNoYesNoNoNoNoNoNoNoNoNoNoYesNoYesYesYesNoNoNoYesNoNoNoNoNoYesNoNoNoNoNoYesNoYesNoNoNoNoNoYesYesYesNoNoNoYesNoYesYesNoNoNoNoNoYesNoNoNoNoNoNoYesYesYesNoNoNoNoNoYesNoYesNoNoNoNoNoNoNoNoNoNoNoNoNoNoNoYesNoYesYesNoNoYesYesNoNoYesNoYesNoNoNoNoNoNoNoNoYesYesNoYesNoNoNoNoNoNoYesNoNoNoNoYesYesNoNoNoNoNoNoNoYesYesYesNoNoYesNoNoNoNoNoNoYesNoNoNoNoNoNoNoNoNoNoNoYesNoNoNoNoNoNoYesNoNoNoNoNoNoYesNoYesNoNoNoYesNoYesNoNoNoYesYesNoNoNoYesNoNoNoYesNoYesNoYesNoNoNoNoNoNoNoNoNoNoNoNoNoNoNoNoNoNoYesNoNoYesYesNoNoNoNoNoYesNoNoNoNoNoYesNoNoNoNoNoNoNoNoNoYesNoNoYesNoNoNoYesNoNoNoNoNoNoNoNoYesYesYesNoNoYesNoNoYesNoYesNoNoNoNoNoYesYesNoNoNoNoYesNoNoYesYesNoNoNoNoNoYesNoNoNoNoNoNoNoYesNoNoNoNoNoYesNoNoYesNoNoNoYesNoNoNoYesNoNoNoNoYesNoNoNoYesYesNoNoNoNoNoNoNoNoNoNoNoNoNoNoNoYesNoYesNoNoNoNoNoNoNoNoNoYesNoYesYesNoNoNoNoNoNoNoNoYesNoYesYesNoNoNoNoYesNoNoNoYesYesYesNoNoYesNoNoNoNoNoNoNoNoYesNoNoNoNoNoNoNoYesNoNoNoNoNoNoNoYesYesYesNoNoNoNoNoNoYesNoYesNoNoNoNoNoNoNoNoYesNoYesYesNoNoNoNoNoNoYesNoYesNoNoNoYesNoNoNoNoNoNoNoNoNoNoNoYesYesNoNoNoYesNoYesNoNoNoNoNoNoNoNoNoNoYesNoNoYesNoYesYesNoNoYesNoYesNoNoNoNoYesNoNoYesNoNoNoYesYesYesNoNoNoYesNoNoNoYesYesNoYesNoNoYesNoNoNoNoNoYesNoNoNoNoYesYesNoYesNoNoNoYesNoNoNoNoNoNoNoNoNoYesNoYesNoNoYesNoNoNoYesYesNoNoNoNoNoYesNoNoNoYesNoYesYesYesNoYesNoNoNoNoNoNoNoYesNoNoNoNoNoNoNoYesNoNoNoYesNoNoYesNoNoNoNoYesNoNoNoYesYesNoNoNoNoYesNoNoNoNoYesNoYesNoYesNoNoNoNoNoNoNoNoYesYesYesNoNoNoNoNoNoNoNoYesNoNoNoNoNoNoNoNoYesNoNoNoYesYesNoNoNoYesNoYesNoYesNoYesNoNoNoNoNoYesNoYesNoNoYesNoNoNoNoNoNoNoNoNoNoNoYesNoNoNoNoNoNoYesNoNoNoYesYesYesYesNoNoNoYesYesNoNoYesYesNoNoNoNoNoNoYesNoNoNoNoNoNoNoNoNoNoYesNoNoNoNoYesYesNoNoNoYesNoNoNoNoNoNoNoYesNoNoNoNoNoNoNoNoNoNoNoNoNoNoYesYesYesNoNoNoNoNoNoYesNoNoYesNoNoNoNoNoNoNoNoYesNoNoNoNoNoYesNoNoNoYesNoNoNoNoYesNoNoYesYesYesYesNoNoNoYesNoNoNoNoYesNoNoNoNoNoNoNoNoYesNoNoNoNoNoYesYesNoNoYesNoNoNoNoYesNoNoNoNoNoYesNoNoNoYesYesNoNoNoNoNoNoNoNoNoNoNoNoNoNoNoNoYesNoNoNoNoNoNoYesNoNoNoNoNoYesNoYesNoNoNoNoNoNoYesYesNoNoNoNoNoYesNoNoNoYesYesNoNoNoNoNoNoYesNoNoYesNoNoNoNoNoNoYesNoNoNoYesNoNoNoNoYesNoYesNoNoYesNoNoNoYesYesYesNoNoNoNoNoYesNoNoNoYesNoNoNoYesNoNoNoNoYesNoNoYesNoYesNoNoNoNoYesNoNoNoYesNoNoNoNoYesNoNoYesYesNoYesNoNoNoYesNoNoNoNoYesYesNoYesNoYesNoYesNoNoNoNoNoNoNoNoNoYesNoYesYesNoNoNoNoNoNoYesNoYesYesYesYesNoNoNoNoNoYesNoNoNoNoYesNoNoYesNoNoNoNoYesNoNoNoNoNoNoNoYesNoNoYesNoYesYesNoNoYesYesNoYesYesNoNoYesNoNoNoNoYesYesYesYesNoYesNoYesNoNoNoNoYesNoNoYesYesNoNoNoNoYesNoNoNoNoNoNoNoYesNoYesNoNoNoYesYesNoNoYesYesNoNoNoYesNoYesNoNoYesNoYesNoNoYesNoYesNoNoYesYesNoNoYesYesNoNoNoNoNoNoYesYesNoNoYesYesNoNoNoNoNoYesNoNoNoYesNoNoYesNoNoYesYesNoNoNoNoNoYesNoNoYesYesNoNoNoNoNoNoYesNoNoNoNoNoYesNoNoNoNoNoNoNoNoNoNoYesNoYesNoNoNoNoNoNoNoYesYesNoNoNoNoYesYesNoNoNoYesNoYesNoNoNoYesNoYesNoNoNoNoNoYesNoNoNoYesNoNoNoYesNoYesYesNoNoYesYesNoNoNoNoNoNoNoNoYesNoNoYesYesNoYesYesNoNoNoNoNoNoYesNoNoNoNoNoNoNoNoNoNoYesNoNoYesYesYesNoNoYesNoNoYesNoNoNoNoNoYesNoNoYesNoNoYesNoNoNoNoNoYesNoNoNoYesYesNoNoNoNoYesNoNoNoNoNoNoNoNoNoNoYesYesNoYesYesYesNoYesYesYesNoNoNoYesYesNoYesYesNoNoYesNoNoNoNoNoYesYesNoNoYesNoNoNoNoYesYesYesNoYesNoNoNoNoYesYesYesNoNoYesNoNoNoYesNoYesNoNoNoNoNoNoYesNoNoNoYesNoNoNoNoYesNoNoNoNoNoNoNoNoYesNoNoNoNoYesNoYesYesNoYesNoNoNoNoNoNoNoYesNoNoNoNoNoYesNoYesNoYesNoYesYesYesNoNoNoNoNoYesNoYesNoYesNoYesNoNoNoNoNoNoNoNoNoNoYesNoNoNoNoYesNoNoYesYesNoNoNoYesNoYesNoNoNoNoNoNoNoNoYesYesNoNoNoYesNoYesYesNoYesYesNoNoYesNoNoNo to numeric",
     "output_type": "error",
     "traceback": [
      "\u001b[0;31m---------------------------------------------------------------------------\u001b[0m",
      "\u001b[0;31mValueError\u001b[0m                                Traceback (most recent call last)",
      "\u001b[0;32m/usr/local/anaconda3/lib/python3.8/site-packages/pandas/core/nanops.py\u001b[0m in \u001b[0;36m_ensure_numeric\u001b[0;34m(x)\u001b[0m\n\u001b[1;32m   1536\u001b[0m         \u001b[0;32mtry\u001b[0m\u001b[0;34m:\u001b[0m\u001b[0;34m\u001b[0m\u001b[0;34m\u001b[0m\u001b[0m\n\u001b[0;32m-> 1537\u001b[0;31m             \u001b[0mx\u001b[0m \u001b[0;34m=\u001b[0m \u001b[0mfloat\u001b[0m\u001b[0;34m(\u001b[0m\u001b[0mx\u001b[0m\u001b[0;34m)\u001b[0m\u001b[0;34m\u001b[0m\u001b[0;34m\u001b[0m\u001b[0m\n\u001b[0m\u001b[1;32m   1538\u001b[0m         \u001b[0;32mexcept\u001b[0m \u001b[0mValueError\u001b[0m\u001b[0;34m:\u001b[0m\u001b[0;34m\u001b[0m\u001b[0;34m\u001b[0m\u001b[0m\n",
      "\u001b[0;31mValueError\u001b[0m: could not convert string to float: 'NoNoNoNoNoYesNoNoYesNoNoNoYesYesYesYesYesYesNoYesNoNoNoNoNoNoNoYesYesNoNoNoNoYesNoNoYesNoNoNoNoNoNoNoNoYesNoYesYesNoYesNoNoNoNoNoYesNoNoNoYesNoNoNoNoNoNoNoYesNoNoYesNoNoNoYesNoNoNoNoNoNoNoNoNoNoNoNoNoYesYesNoNoNoYesNoNoNoNoNoNoNoNoNoNoNoNoNoYesYesNoNoNoNoNoNoNoNoNoNoNoNoYesNoYesNoNoNoNoYesNoNoYesNoNoYesYesNoNoNoNoNoNoNoNoNoNoNoYesNoYesNoNoNoYesNoNoYesYesYesNoNoYesYesNoNoNoNoYesNoYesYesNoYesYesYesYesYesNoNoNoYesNoNoNoNoNoNoNoYesNoYesYesNoYesNoNoNoNoNoNoYesNoNoNoNoNoNoYesNoYesNoNoNoNoNoNoNoYesNoYesYesNoYesNoNoNoNoYesNoYesNoYesYesYesYesNoNoNoYesYesNoNoNoNoYesNoNoNoYesNoYesYesNoNoNoNoYesNoNoYesYesYesNoNoNoNoNoYesNoNoNoNoNoNoYesNoNoYesNoNoNoNoNoNoNoNoYesNoNoNoYesNoNoNoNoNoNoNoYesNoYesNoNoYesYesNoNoNoNoNoNoNoNoYesNoNoNoYesNoYesYesNoYesNoYesNoNoYesNoNoYesNoYesYesNoYesYesNoYesNoNoNoNoNoYesNoNoNoNoNoNoNoNoYesNoNoNoYesYesYesNoNoNoNoNoNoYesNoNoYesNoYesNoYesNoNoYesNoNoNoYesYesNoNoNoNoNoNoYesYesNoNoNoNoNoNoYesNoNoNoNoYesNoYesNoNoNoNoYesNoNoNoNoNoYesNoNoNoYesNoYesNoYesNoYesNoNoNoYesYesNoNoNoNoYesYesNoNoYesNoYesNoNoNoYesNoNoNoNoNoNoNoNoNoYesNoYesNoNoNoNoNoNoYesNoYesNoYesNoNoNoNoNoNoNoYesNoNoNoYesNoYesYesYesNoNoNoNoNoNoNoNoYesYesNoYesNoNoNoNoNoNoNoNoNoNoNoYesNoNoNoNoNoNoNoYesNoNoNoYesNoNoNoNoYesNoNoNoNoNoNoYesYesYesNoYesNoNoNoYesNoYesNoNoNoNoYesYesNoNoNoNoNoNoNoNoYesNoNoNoYesYesNoNoNoNoNoNoNoNoNoNoYesYesYesYesNoNoNoNoNoNoNoNoYesYesNoNoNoNoYesNoYesYesYesNoNoNoNoNoNoNoNoYesNoNoNoNoYesNoNoYesNoNoNoNoNoNoNoNoYesYesNoYesNoNoNoYesYesYesNoYesNoNoNoNoNoYesYesYesNoYesNoNoNoNoNoNoYesNoNoNoYesNoNoNoNoNoNoYesNoNoNoNoNoNoYesNoNoNoNoNoNoYesNoYesYesNoNoNoNoYesYesNoYesYesNoNoNoYesNoNoNoNoNoNoYesNoNoNoNoNoNoNoNoNoYesNoNoNoNoNoNoNoNoNoNoYesYesYesYesNoNoNoNoNoNoYesYesYesYesNoNoNoNoNoNoNoYesNoNoNoNoNoYesNoYesNoNoNoNoNoNoNoNoNoNoNoNoNoNoYesYesYesYesNoNoNoNoNoNoNoNoYesNoNoNoNoYesNoNoNoNoNoNoYesYesNoNoNoNoNoNoNoNoYesNoNoNoNoNoNoYesNoNoNoNoNoNoNoNoYesNoNoNoNoNoNoNoNoNoNoNoNoNoYesNoYesNoNoYesNoNoNoNoNoNoNoNoNoNoNoNoNoNoNoNoNoNoYesNoNoYesNoYesNoNoNoYesYesNoNoNoYesNoNoNoNoYesNoNoNoNoNoYesYesYesNoNoNoNoNoNoNoYesYesNoNoNoNoYesNoNoNoNoNoYesNoNoNoNoYesNoNoNoNoYesNoNoNoYesYesYesNoNoNoNoNoNoYesNoNoNoYesYesYesNoNoYesYesNoYesNoNoYesNoNoNoNoNoYesNoNoNoYesNoNoNoYesNoNoNoNoNoNoYesNoNoNoNoNoNoNoNoYesNoNoYesYesNoYesNoNoNoNoNoNoNoYesYesNoNoNoNoYesNoYesNoNoNoYesNoNoNoYesNoNoNoYesNoNoNoNoNoNoNoNoYesNoNoNoNoNoYesYesYesYesNoYesNoNoNoYesYesYesNoNoNoNoYesYesNoNoYesNoNoNoYesNoNoYesNoNoNoNoYesYesYesNoNoNoNoNoNoNoNoNoYesNoNoNoNoYesNoYesNoNoNoNoNoNoNoNoYesNoNoNoYesNoNoNoNoNoNoNoNoNoNoYesNoYesYesNoNoNoNoNoNoNoNoYesNoNoYesNoYesNoYesNoYesNoNoYesNoNoYesNoNoYesNoNoYesYesNoYesNoYesNoYesNoNoYesYesNoYesYesNoNoNoNoYesNoYesNoYesNoNoNoNoNoNoYesYesNoYesYesNoNoNoNoYesNoNoYesNoNoNoNoNoNoNoNoYesYesNoNoNoYesNoNoNoNoNoNoNoNoNoYesNoNoNoYesNoNoNoNoNoNoNoNoNoNoNoNoNoNoYesNoYesYesNoNoYesNoYesNoNoNoNoYesNoNoNoNoNoNoNoNoNoYesNoNoNoNoNoNoNoNoNoNoNoNoNoNoNoNoNoYesNoNoNoNoYesNoYesNoNoNoNoNoYesYesYesNoNoNoNoNoNoYesNoNoNoYesNoNoNoNoYesNoNoNoNoNoYesNoNoNoNoNoNoNoNoNoNoYesNoNoNoYesNoNoNoYesYesYesNoYesNoYesNoNoYesNoNoYesNoNoNoNoNoNoNoNoYesNoNoYesYesNoNoYesNoNoNoNoNoNoYesYesNoNoYesYesNoYesNoYesNoNoNoNoNoYesNoNoNoYesNoYesYesNoNoYesNoYesYesYesNoYesNoNoNoNoNoNoNoNoNoNoNoNoNoYesYesNoYesNoNoNoNoYesYesNoNoYesNoNoNoNoYesYesYesYesYesNoYesNoYesNoYesNoNoNoYesNoNoNoNoYesNoNoYesYesNoNoNoNoYesNoNoNoNoNoNoNoNoYesNoYesNoNoYesNoNoYesNoNoYesNoNoNoNoNoYesNoNoNoNoYesYesNoYesNoNoNoNoNoYesNoNoNoYesNoNoYesNoNoNoNoNoNoNoNoNoNoNoNoNoNoNoYesNoNoNoNoNoYesNoNoYesNoNoNoNoYesNoYesYesYesYesYesNoNoNoNoNoNoNoYesNoNoYesNoNoNoNoNoNoNoNoNoNoYesYesNoYesNoNoNoNoNoNoYesNoNoYesNoNoNoNoNoNoNoYesYesNoNoYesNoNoNoNoNoNoNoNoYesNoNoNoYesNoNoYesNoNoNoYesNoYesNoYesNoNoNoNoNoYesYesNoYesYesNoNoNoYesNoNoYesYesYesNoNoNoYesYesNoNoNoNoYesYesNoYesNoYesYesNoNoNoNoNoYesNoYesNoYesNoNoYesNoNoNoYesYesYesYesNoNoNoNoNoNoNoNoNoNoNoNoYesNoNoNoYesNoNoYesNoYesYesNoNoNoNoNoNoYesNoNoNoNoYesYesYesNoNoNoNoYesNoNoYesNoNoYesNoNoYesYesYesNoYesNoYesYesNoNoYesNoNoNoNoNoYesNoNoYesNoNoNoYesNoYesNoNoNoNoNoNoNoNoYesYesNoNoNoNoNoNoNoNoYesNoNoYesNoYesNoNoNoNoNoNoNoNoNoYesNoYesNoYesNoYesNoNoNoNoNoNoNoNoYesYesNoNoNoYesNoYesYesNoYesNoYesNoNoYesNoNoNoNoNoYesNoNoYesNoNoNoNoNoNoNoNoNoNoYesNoNoNoNoNoNoNoNoNoNoNoNoNoNoNoYesNoYesYesNoNoNoNoYesYesNoNoYesYesNoNoNoNoNoYesNoNoNoNoNoNoNoYesNoYesNoNoNoNoNoNoNoNoNoYesNoNoNoYesNoNoNoNoYesYesNoYesYesNoYesNoYesNoNoNoNoNoYesNoNoNoNoNoNoNoNoNoYesNoNoNoNoNoYesYesNoNoYesNoNoNoNoNoNoNoNoNoNoNoNoNoNoNoNoNoNoYesNoNoYesYesYesNoYesNoYesNoNoYesYesYesNoNoNoNoNoNoNoNoNoYesYesNoNoNoNoNoYesYesNoNoNoNoNoNoNoNoNoNoNoNoYesNoYesNoYesYesYesYesNoNoNoNoYesNoNoNoYesYesNoYesNoNoNoNoNoNoNoNoYesNoNoNoNoNoNoNoNoNoNoNoNoNoNoNoYesNoNoNoYesNoNoNoNoNoNoNoNoNoYesNoNoNoYesNoNoNoNoNoNoNoYesYesNoNoNoYesYesNoNoNoYesNoNoYesNoYesYesNoNoNoNoYesNoNoYesNoNoNoNoYesNoYesYesNoNoNoNoNoNoNoNoNoYesNoNoNoNoNoNoNoNoNoNoNoNoNoYesYesNoNoNoNoNoYesNoNoYesNoNoNoYesNoYesNoYesNoNoNoNoNoNoNoNoNoNoNoNoYesNoNoNoNoNoNoNoNoNoNoNoNoYesNoNoNoNoNoYesNoNoNoNoNoNoNoNoNoNoYesNoNoNoNoYesNoNoYesNoNoNoNoNoYesNoNoNoYesYesNoNoYesYesNoNoNoNoYesYesNoNoNoNoNoNoNoYesNoNoNoYesYesNoNoNoNoNoYesYesNoNoNoNoNoYesYesNoYesYesNoNoNoYesNoYesNoNoNoNoYesYesNoNoNoNoNoNoNoNoNoNoYesYesNoNoYesNoYesNoYesNoNoNoNoYesNoYesYesYesNoYesNoNoNoYesYesNoNoNoNoNoYesNoYesNoNoNoYesNoNoYesNoNoYesNoYesNoNoNoNoNoYesNoNoNoNoYesYesNoNoNoYesYesYesNoNoNoNoNoNoNoNoYesYesNoNoYesYesNoNoNoNoNoNoNoNoYesNoNoYesNoYesYesNoNoNoYesNoNoNoNoYesNoYesNoNoYesYesNoNoYesNoNoNoNoYesNoNoNoNoNoNoNoNoYesYesNoNoNoNoNoNoYesNoNoNoYesNoNoNoYesNoNoYesYesNoYesNoYesNoYesNoNoNoNoNoNoNoNoNoNoNoYesYesYesNoNoNoNoNoNoYesNoYesYesYesYesNoNoNoNoNoYesNoNoNoNoNoNoNoYesNoYesNoNoNoNoNoNoNoYesYesYesNoNoYesNoNoNoNoYesNoYesNoNoNoNoNoNoNoNoNoNoYesNoYesYesYesNoNoNoYesNoNoNoNoNoYesNoNoNoNoNoYesNoYesNoNoNoNoNoYesYesYesNoNoNoYesNoYesYesNoNoNoNoNoYesNoNoNoNoNoNoYesYesYesNoNoNoNoNoYesNoYesNoNoNoNoNoNoNoNoNoNoNoNoNoNoNoYesNoYesYesNoNoYesYesNoNoYesNoYesNoNoNoNoNoNoNoNoYesYesNoYesNoNoNoNoNoNoYesNoNoNoNoYesYesNoNoNoNoNoNoNoYesYesYesNoNoYesNoNoNoNoNoNoYesNoNoNoNoNoNoNoNoNoNoNoYesNoNoNoNoNoNoYesNoNoNoNoNoNoYesNoYesNoNoNoYesNoYesNoNoNoYesYesNoNoNoYesNoNoNoYesNoYesNoYesNoNoNoNoNoNoNoNoNoNoNoNoNoNoNoNoNoNoYesNoNoYesYesNoNoNoNoNoYesNoNoNoNoNoYesNoNoNoNoNoNoNoNoNoYesNoNoYesNoNoNoYesNoNoNoNoNoNoNoNoYesYesYesNoNoYesNoNoYesNoYesNoNoNoNoNoYesYesNoNoNoNoYesNoNoYesYesNoNoNoNoNoYesNoNoNoNoNoNoNoYesNoNoNoNoNoYesNoNoYesNoNoNoYesNoNoNoYesNoNoNoNoYesNoNoNoYesYesNoNoNoNoNoNoNoNoNoNoNoNoNoNoNoYesNoYesNoNoNoNoNoNoNoNoNoYesNoYesYesNoNoNoNoNoNoNoNoYesNoYesYesNoNoNoNoYesNoNoNoYesYesYesNoNoYesNoNoNoNoNoNoNoNoYesNoNoNoNoNoNoNoYesNoNoNoNoNoNoNoYesYesYesNoNoNoNoNoNoYesNoYesNoNoNoNoNoNoNoNoYesNoYesYesNoNoNoNoNoNoYesNoYesNoNoNoYesNoNoNoNoNoNoNoNoNoNoNoYesYesNoNoNoYesNoYesNoNoNoNoNoNoNoNoNoNoYesNoNoYesNoYesYesNoNoYesNoYesNoNoNoNoYesNoNoYesNoNoNoYesYesYesNoNoNoYesNoNoNoYesYesNoYesNoNoYesNoNoNoNoNoYesNoNoNoNoYesYesNoYesNoNoNoYesNoNoNoNoNoNoNoNoNoYesNoYesNoNoYesNoNoNoYesYesNoNoNoNoNoYesNoNoNoYesNoYesYesYesNoYesNoNoNoNoNoNoNoYesNoNoNoNoNoNoNoYesNoNoNoYesNoNoYesNoNoNoNoYesNoNoNoYesYesNoNoNoNoYesNoNoNoNoYesNoYesNoYesNoNoNoNoNoNoNoNoYesYesYesNoNoNoNoNoNoNoNoYesNoNoNoNoNoNoNoNoYesNoNoNoYesYesNoNoNoYesNoYesNoYesNoYesNoNoNoNoNoYesNoYesNoNoYesNoNoNoNoNoNoNoNoNoNoNoYesNoNoNoNoNoNoYesNoNoNoYesYesYesYesNoNoNoYesYesNoNoYesYesNoNoNoNoNoNoYesNoNoNoNoNoNoNoNoNoNoYesNoNoNoNoYesYesNoNoNoYesNoNoNoNoNoNoNoYesNoNoNoNoNoNoNoNoNoNoNoNoNoNoYesYesYesNoNoNoNoNoNoYesNoNoYesNoNoNoNoNoNoNoNoYesNoNoNoNoNoYesNoNoNoYesNoNoNoNoYesNoNoYesYesYesYesNoNoNoYesNoNoNoNoYesNoNoNoNoNoNoNoNoYesNoNoNoNoNoYesYesNoNoYesNoNoNoNoYesNoNoNoNoNoYesNoNoNoYesYesNoNoNoNoNoNoNoNoNoNoNoNoNoNoNoNoYesNoNoNoNoNoNoYesNoNoNoNoNoYesNoYesNoNoNoNoNoNoYesYesNoNoNoNoNoYesNoNoNoYesYesNoNoNoNoNoNoYesNoNoYesNoNoNoNoNoNoYesNoNoNoYesNoNoNoNoYesNoYesNoNoYesNoNoNoYesYesYesNoNoNoNoNoYesNoNoNoYesNoNoNoYesNoNoNoNoYesNoNoYesNoYesNoNoNoNoYesNoNoNoYesNoNoNoNoYesNoNoYesYesNoYesNoNoNoYesNoNoNoNoYesYesNoYesNoYesNoYesNoNoNoNoNoNoNoNoNoYesNoYesYesNoNoNoNoNoNoYesNoYesYesYesYesNoNoNoNoNoYesNoNoNoNoYesNoNoYesNoNoNoNoYesNoNoNoNoNoNoNoYesNoNoYesNoYesYesNoNoYesYesNoYesYesNoNoYesNoNoNoNoYesYesYesYesNoYesNoYesNoNoNoNoYesNoNoYesYesNoNoNoNoYesNoNoNoNoNoNoNoYesNoYesNoNoNoYesYesNoNoYesYesNoNoNoYesNoYesNoNoYesNoYesNoNoYesNoYesNoNoYesYesNoNoYesYesNoNoNoNoNoNoYesYesNoNoYesYesNoNoNoNoNoYesNoNoNoYesNoNoYesNoNoYesYesNoNoNoNoNoYesNoNoYesYesNoNoNoNoNoNoYesNoNoNoNoNoYesNoNoNoNoNoNoNoNoNoNoYesNoYesNoNoNoNoNoNoNoYesYesNoNoNoNoYesYesNoNoNoYesNoYesNoNoNoYesNoYesNoNoNoNoNoYesNoNoNoYesNoNoNoYesNoYesYesNoNoYesYesNoNoNoNoNoNoNoNoYesNoNoYesYesNoYesYesNoNoNoNoNoNoYesNoNoNoNoNoNoNoNoNoNoYesNoNoYesYesYesNoNoYesNoNoYesNoNoNoNoNoYesNoNoYesNoNoYesNoNoNoNoNoYesNoNoNoYesYesNoNoNoNoYesNoNoNoNoNoNoNoNoNoNoYesYesNoYesYesYesNoYesYesYesNoNoNoYesYesNoYesYesNoNoYesNoNoNoNoNoYesYesNoNoYesNoNoNoNoYesYesYesNoYesNoNoNoNoYesYesYesNoNoYesNoNoNoYesNoYesNoNoNoNoNoNoYesNoNoNoYesNoNoNoNoYesNoNoNoNoNoNoNoNoYesNoNoNoNoYesNoYesYesNoYesNoNoNoNoNoNoNoYesNoNoNoNoNoYesNoYesNoYesNoYesYesYesNoNoNoNoNoYesNoYesNoYesNoYesNoNoNoNoNoNoNoNoNoNoYesNoNoNoNoYesNoNoYesYesNoNoNoYesNoYesNoNoNoNoNoNoNoNoYesYesNoNoNoYesNoYesYesNoYesYesNoNoYesNoNoNo'",
      "\nDuring handling of the above exception, another exception occurred:\n",
      "\u001b[0;31mValueError\u001b[0m                                Traceback (most recent call last)",
      "\u001b[0;32m/usr/local/anaconda3/lib/python3.8/site-packages/pandas/core/nanops.py\u001b[0m in \u001b[0;36m_ensure_numeric\u001b[0;34m(x)\u001b[0m\n\u001b[1;32m   1540\u001b[0m             \u001b[0;32mtry\u001b[0m\u001b[0;34m:\u001b[0m\u001b[0;34m\u001b[0m\u001b[0;34m\u001b[0m\u001b[0m\n\u001b[0;32m-> 1541\u001b[0;31m                 \u001b[0mx\u001b[0m \u001b[0;34m=\u001b[0m \u001b[0mcomplex\u001b[0m\u001b[0;34m(\u001b[0m\u001b[0mx\u001b[0m\u001b[0;34m)\u001b[0m\u001b[0;34m\u001b[0m\u001b[0;34m\u001b[0m\u001b[0m\n\u001b[0m\u001b[1;32m   1542\u001b[0m             \u001b[0;32mexcept\u001b[0m \u001b[0mValueError\u001b[0m \u001b[0;32mas\u001b[0m \u001b[0merr\u001b[0m\u001b[0;34m:\u001b[0m\u001b[0;34m\u001b[0m\u001b[0;34m\u001b[0m\u001b[0m\n",
      "\u001b[0;31mValueError\u001b[0m: complex() arg is a malformed string",
      "\nThe above exception was the direct cause of the following exception:\n",
      "\u001b[0;31mTypeError\u001b[0m                                 Traceback (most recent call last)",
      "\u001b[0;32m<ipython-input-77-bf9a0eda7a63>\u001b[0m in \u001b[0;36m<module>\u001b[0;34m\u001b[0m\n\u001b[0;32m----> 1\u001b[0;31m \u001b[0mexplore\u001b[0m\u001b[0;34m.\u001b[0m\u001b[0mexplore_bivariate\u001b[0m\u001b[0;34m(\u001b[0m\u001b[0mtrain\u001b[0m\u001b[0;34m,\u001b[0m \u001b[0;34m'churn'\u001b[0m\u001b[0;34m,\u001b[0m \u001b[0mcat_vars\u001b[0m\u001b[0;34m,\u001b[0m \u001b[0mquant_vars\u001b[0m\u001b[0;34m)\u001b[0m\u001b[0;34m\u001b[0m\u001b[0;34m\u001b[0m\u001b[0m\n\u001b[0m",
      "\u001b[0;32m~/codeup-data-science/telco_churn_project/explore.py\u001b[0m in \u001b[0;36mexplore_bivariate\u001b[0;34m(train, target, cat_vars, quant_vars)\u001b[0m\n\u001b[1;32m     35\u001b[0m \u001b[0;32mdef\u001b[0m \u001b[0mexplore_bivariate\u001b[0m\u001b[0;34m(\u001b[0m\u001b[0mtrain\u001b[0m\u001b[0;34m,\u001b[0m \u001b[0mtarget\u001b[0m\u001b[0;34m,\u001b[0m \u001b[0mcat_vars\u001b[0m\u001b[0;34m,\u001b[0m \u001b[0mquant_vars\u001b[0m\u001b[0;34m)\u001b[0m\u001b[0;34m:\u001b[0m\u001b[0;34m\u001b[0m\u001b[0;34m\u001b[0m\u001b[0m\n\u001b[1;32m     36\u001b[0m     \u001b[0;32mfor\u001b[0m \u001b[0mcat\u001b[0m \u001b[0;32min\u001b[0m \u001b[0mcat_vars\u001b[0m\u001b[0;34m:\u001b[0m\u001b[0;34m\u001b[0m\u001b[0;34m\u001b[0m\u001b[0m\n\u001b[0;32m---> 37\u001b[0;31m         \u001b[0mexplore_bivariate_categorical\u001b[0m\u001b[0;34m(\u001b[0m\u001b[0mtrain\u001b[0m\u001b[0;34m,\u001b[0m \u001b[0mtarget\u001b[0m\u001b[0;34m,\u001b[0m \u001b[0mcat\u001b[0m\u001b[0;34m)\u001b[0m\u001b[0;34m\u001b[0m\u001b[0;34m\u001b[0m\u001b[0m\n\u001b[0m\u001b[1;32m     38\u001b[0m     \u001b[0;32mfor\u001b[0m \u001b[0mquant\u001b[0m \u001b[0;32min\u001b[0m \u001b[0mquant_vars\u001b[0m\u001b[0;34m:\u001b[0m\u001b[0;34m\u001b[0m\u001b[0;34m\u001b[0m\u001b[0m\n\u001b[1;32m     39\u001b[0m         \u001b[0mexplore_bivariate_quant\u001b[0m\u001b[0;34m(\u001b[0m\u001b[0mtrain\u001b[0m\u001b[0;34m,\u001b[0m \u001b[0mtarget\u001b[0m\u001b[0;34m,\u001b[0m \u001b[0mquant\u001b[0m\u001b[0;34m)\u001b[0m\u001b[0;34m\u001b[0m\u001b[0;34m\u001b[0m\u001b[0m\n",
      "\u001b[0;32m~/codeup-data-science/telco_churn_project/explore.py\u001b[0m in \u001b[0;36mexplore_bivariate_categorical\u001b[0;34m(train, target, cat_var)\u001b[0m\n\u001b[1;32m    112\u001b[0m     \u001b[0mct\u001b[0m \u001b[0;34m=\u001b[0m \u001b[0mpd\u001b[0m\u001b[0;34m.\u001b[0m\u001b[0mcrosstab\u001b[0m\u001b[0;34m(\u001b[0m\u001b[0mtrain\u001b[0m\u001b[0;34m[\u001b[0m\u001b[0mcat_var\u001b[0m\u001b[0;34m]\u001b[0m\u001b[0;34m,\u001b[0m \u001b[0mtrain\u001b[0m\u001b[0;34m[\u001b[0m\u001b[0mtarget\u001b[0m\u001b[0;34m]\u001b[0m\u001b[0;34m,\u001b[0m \u001b[0mmargins\u001b[0m\u001b[0;34m=\u001b[0m\u001b[0;32mTrue\u001b[0m\u001b[0;34m)\u001b[0m\u001b[0;34m\u001b[0m\u001b[0;34m\u001b[0m\u001b[0m\n\u001b[1;32m    113\u001b[0m     \u001b[0mchi2_summary\u001b[0m\u001b[0;34m,\u001b[0m \u001b[0mobserved\u001b[0m\u001b[0;34m,\u001b[0m \u001b[0mexpected\u001b[0m \u001b[0;34m=\u001b[0m \u001b[0mrun_chi2\u001b[0m\u001b[0;34m(\u001b[0m\u001b[0mtrain\u001b[0m\u001b[0;34m,\u001b[0m \u001b[0mcat_var\u001b[0m\u001b[0;34m,\u001b[0m \u001b[0mtarget\u001b[0m\u001b[0;34m)\u001b[0m\u001b[0;34m\u001b[0m\u001b[0;34m\u001b[0m\u001b[0m\n\u001b[0;32m--> 114\u001b[0;31m     \u001b[0mp\u001b[0m \u001b[0;34m=\u001b[0m \u001b[0mplot_cat_by_target\u001b[0m\u001b[0;34m(\u001b[0m\u001b[0mtrain\u001b[0m\u001b[0;34m,\u001b[0m \u001b[0mtarget\u001b[0m\u001b[0;34m,\u001b[0m \u001b[0mcat_var\u001b[0m\u001b[0;34m)\u001b[0m\u001b[0;34m\u001b[0m\u001b[0;34m\u001b[0m\u001b[0m\n\u001b[0m\u001b[1;32m    115\u001b[0m \u001b[0;34m\u001b[0m\u001b[0m\n\u001b[1;32m    116\u001b[0m     \u001b[0mprint\u001b[0m\u001b[0;34m(\u001b[0m\u001b[0mchi2_summary\u001b[0m\u001b[0;34m)\u001b[0m\u001b[0;34m\u001b[0m\u001b[0;34m\u001b[0m\u001b[0m\n",
      "\u001b[0;32m~/codeup-data-science/telco_churn_project/explore.py\u001b[0m in \u001b[0;36mplot_cat_by_target\u001b[0;34m(train, target, cat_var)\u001b[0m\n\u001b[1;32m    152\u001b[0m     \u001b[0mp\u001b[0m \u001b[0;34m=\u001b[0m \u001b[0mplt\u001b[0m\u001b[0;34m.\u001b[0m\u001b[0mfigure\u001b[0m\u001b[0;34m(\u001b[0m\u001b[0mfigsize\u001b[0m\u001b[0;34m=\u001b[0m\u001b[0;34m(\u001b[0m\u001b[0;36m2\u001b[0m\u001b[0;34m,\u001b[0m\u001b[0;36m2\u001b[0m\u001b[0;34m)\u001b[0m\u001b[0;34m)\u001b[0m\u001b[0;34m\u001b[0m\u001b[0;34m\u001b[0m\u001b[0m\n\u001b[1;32m    153\u001b[0m     \u001b[0mp\u001b[0m \u001b[0;34m=\u001b[0m \u001b[0msns\u001b[0m\u001b[0;34m.\u001b[0m\u001b[0mbarplot\u001b[0m\u001b[0;34m(\u001b[0m\u001b[0mcat_var\u001b[0m\u001b[0;34m,\u001b[0m \u001b[0mtarget\u001b[0m\u001b[0;34m,\u001b[0m \u001b[0mdata\u001b[0m\u001b[0;34m=\u001b[0m\u001b[0mtrain\u001b[0m\u001b[0;34m,\u001b[0m \u001b[0malpha\u001b[0m\u001b[0;34m=\u001b[0m\u001b[0;36m.8\u001b[0m\u001b[0;34m,\u001b[0m \u001b[0mcolor\u001b[0m\u001b[0;34m=\u001b[0m\u001b[0;34m'lightseagreen'\u001b[0m\u001b[0;34m)\u001b[0m\u001b[0;34m\u001b[0m\u001b[0;34m\u001b[0m\u001b[0m\n\u001b[0;32m--> 154\u001b[0;31m     \u001b[0moverall_rate\u001b[0m \u001b[0;34m=\u001b[0m \u001b[0mtrain\u001b[0m\u001b[0;34m[\u001b[0m\u001b[0mtarget\u001b[0m\u001b[0;34m]\u001b[0m\u001b[0;34m.\u001b[0m\u001b[0mmean\u001b[0m\u001b[0;34m(\u001b[0m\u001b[0;34m)\u001b[0m\u001b[0;34m\u001b[0m\u001b[0;34m\u001b[0m\u001b[0m\n\u001b[0m\u001b[1;32m    155\u001b[0m     \u001b[0mp\u001b[0m \u001b[0;34m=\u001b[0m \u001b[0mplt\u001b[0m\u001b[0;34m.\u001b[0m\u001b[0maxhline\u001b[0m\u001b[0;34m(\u001b[0m\u001b[0moverall_rate\u001b[0m\u001b[0;34m,\u001b[0m \u001b[0mls\u001b[0m\u001b[0;34m=\u001b[0m\u001b[0;34m'--'\u001b[0m\u001b[0;34m,\u001b[0m \u001b[0mcolor\u001b[0m\u001b[0;34m=\u001b[0m\u001b[0;34m'gray'\u001b[0m\u001b[0;34m)\u001b[0m\u001b[0;34m\u001b[0m\u001b[0;34m\u001b[0m\u001b[0m\n\u001b[1;32m    156\u001b[0m     \u001b[0;32mreturn\u001b[0m \u001b[0mp\u001b[0m\u001b[0;34m\u001b[0m\u001b[0;34m\u001b[0m\u001b[0m\n",
      "\u001b[0;32m/usr/local/anaconda3/lib/python3.8/site-packages/pandas/core/generic.py\u001b[0m in \u001b[0;36mmean\u001b[0;34m(self, axis, skipna, level, numeric_only, **kwargs)\u001b[0m\n\u001b[1;32m  11116\u001b[0m         )\n\u001b[1;32m  11117\u001b[0m         \u001b[0;32mdef\u001b[0m \u001b[0mmean\u001b[0m\u001b[0;34m(\u001b[0m\u001b[0mself\u001b[0m\u001b[0;34m,\u001b[0m \u001b[0maxis\u001b[0m\u001b[0;34m=\u001b[0m\u001b[0;32mNone\u001b[0m\u001b[0;34m,\u001b[0m \u001b[0mskipna\u001b[0m\u001b[0;34m=\u001b[0m\u001b[0;32mNone\u001b[0m\u001b[0;34m,\u001b[0m \u001b[0mlevel\u001b[0m\u001b[0;34m=\u001b[0m\u001b[0;32mNone\u001b[0m\u001b[0;34m,\u001b[0m \u001b[0mnumeric_only\u001b[0m\u001b[0;34m=\u001b[0m\u001b[0;32mNone\u001b[0m\u001b[0;34m,\u001b[0m \u001b[0;34m**\u001b[0m\u001b[0mkwargs\u001b[0m\u001b[0;34m)\u001b[0m\u001b[0;34m:\u001b[0m\u001b[0;34m\u001b[0m\u001b[0;34m\u001b[0m\u001b[0m\n\u001b[0;32m> 11118\u001b[0;31m             \u001b[0;32mreturn\u001b[0m \u001b[0mNDFrame\u001b[0m\u001b[0;34m.\u001b[0m\u001b[0mmean\u001b[0m\u001b[0;34m(\u001b[0m\u001b[0mself\u001b[0m\u001b[0;34m,\u001b[0m \u001b[0maxis\u001b[0m\u001b[0;34m,\u001b[0m \u001b[0mskipna\u001b[0m\u001b[0;34m,\u001b[0m \u001b[0mlevel\u001b[0m\u001b[0;34m,\u001b[0m \u001b[0mnumeric_only\u001b[0m\u001b[0;34m,\u001b[0m \u001b[0;34m**\u001b[0m\u001b[0mkwargs\u001b[0m\u001b[0;34m)\u001b[0m\u001b[0;34m\u001b[0m\u001b[0;34m\u001b[0m\u001b[0m\n\u001b[0m\u001b[1;32m  11119\u001b[0m \u001b[0;34m\u001b[0m\u001b[0m\n\u001b[1;32m  11120\u001b[0m         \u001b[0;31m# pandas\\core\\generic.py:10924: error: Cannot assign to a method\u001b[0m\u001b[0;34m\u001b[0m\u001b[0;34m\u001b[0m\u001b[0;34m\u001b[0m\u001b[0m\n",
      "\u001b[0;32m/usr/local/anaconda3/lib/python3.8/site-packages/pandas/core/generic.py\u001b[0m in \u001b[0;36mmean\u001b[0;34m(self, axis, skipna, level, numeric_only, **kwargs)\u001b[0m\n\u001b[1;32m  10724\u001b[0m \u001b[0;34m\u001b[0m\u001b[0m\n\u001b[1;32m  10725\u001b[0m     \u001b[0;32mdef\u001b[0m \u001b[0mmean\u001b[0m\u001b[0;34m(\u001b[0m\u001b[0mself\u001b[0m\u001b[0;34m,\u001b[0m \u001b[0maxis\u001b[0m\u001b[0;34m=\u001b[0m\u001b[0;32mNone\u001b[0m\u001b[0;34m,\u001b[0m \u001b[0mskipna\u001b[0m\u001b[0;34m=\u001b[0m\u001b[0;32mNone\u001b[0m\u001b[0;34m,\u001b[0m \u001b[0mlevel\u001b[0m\u001b[0;34m=\u001b[0m\u001b[0;32mNone\u001b[0m\u001b[0;34m,\u001b[0m \u001b[0mnumeric_only\u001b[0m\u001b[0;34m=\u001b[0m\u001b[0;32mNone\u001b[0m\u001b[0;34m,\u001b[0m \u001b[0;34m**\u001b[0m\u001b[0mkwargs\u001b[0m\u001b[0;34m)\u001b[0m\u001b[0;34m:\u001b[0m\u001b[0;34m\u001b[0m\u001b[0;34m\u001b[0m\u001b[0m\n\u001b[0;32m> 10726\u001b[0;31m         return self._stat_function(\n\u001b[0m\u001b[1;32m  10727\u001b[0m             \u001b[0;34m\"mean\"\u001b[0m\u001b[0;34m,\u001b[0m \u001b[0mnanops\u001b[0m\u001b[0;34m.\u001b[0m\u001b[0mnanmean\u001b[0m\u001b[0;34m,\u001b[0m \u001b[0maxis\u001b[0m\u001b[0;34m,\u001b[0m \u001b[0mskipna\u001b[0m\u001b[0;34m,\u001b[0m \u001b[0mlevel\u001b[0m\u001b[0;34m,\u001b[0m \u001b[0mnumeric_only\u001b[0m\u001b[0;34m,\u001b[0m \u001b[0;34m**\u001b[0m\u001b[0mkwargs\u001b[0m\u001b[0;34m\u001b[0m\u001b[0;34m\u001b[0m\u001b[0m\n\u001b[1;32m  10728\u001b[0m         )\n",
      "\u001b[0;32m/usr/local/anaconda3/lib/python3.8/site-packages/pandas/core/generic.py\u001b[0m in \u001b[0;36m_stat_function\u001b[0;34m(self, name, func, axis, skipna, level, numeric_only, **kwargs)\u001b[0m\n\u001b[1;32m  10709\u001b[0m         \u001b[0;32mif\u001b[0m \u001b[0mlevel\u001b[0m \u001b[0;32mis\u001b[0m \u001b[0;32mnot\u001b[0m \u001b[0;32mNone\u001b[0m\u001b[0;34m:\u001b[0m\u001b[0;34m\u001b[0m\u001b[0;34m\u001b[0m\u001b[0m\n\u001b[1;32m  10710\u001b[0m             \u001b[0;32mreturn\u001b[0m \u001b[0mself\u001b[0m\u001b[0;34m.\u001b[0m\u001b[0m_agg_by_level\u001b[0m\u001b[0;34m(\u001b[0m\u001b[0mname\u001b[0m\u001b[0;34m,\u001b[0m \u001b[0maxis\u001b[0m\u001b[0;34m=\u001b[0m\u001b[0maxis\u001b[0m\u001b[0;34m,\u001b[0m \u001b[0mlevel\u001b[0m\u001b[0;34m=\u001b[0m\u001b[0mlevel\u001b[0m\u001b[0;34m,\u001b[0m \u001b[0mskipna\u001b[0m\u001b[0;34m=\u001b[0m\u001b[0mskipna\u001b[0m\u001b[0;34m)\u001b[0m\u001b[0;34m\u001b[0m\u001b[0;34m\u001b[0m\u001b[0m\n\u001b[0;32m> 10711\u001b[0;31m         return self._reduce(\n\u001b[0m\u001b[1;32m  10712\u001b[0m             \u001b[0mfunc\u001b[0m\u001b[0;34m,\u001b[0m \u001b[0mname\u001b[0m\u001b[0;34m=\u001b[0m\u001b[0mname\u001b[0m\u001b[0;34m,\u001b[0m \u001b[0maxis\u001b[0m\u001b[0;34m=\u001b[0m\u001b[0maxis\u001b[0m\u001b[0;34m,\u001b[0m \u001b[0mskipna\u001b[0m\u001b[0;34m=\u001b[0m\u001b[0mskipna\u001b[0m\u001b[0;34m,\u001b[0m \u001b[0mnumeric_only\u001b[0m\u001b[0;34m=\u001b[0m\u001b[0mnumeric_only\u001b[0m\u001b[0;34m\u001b[0m\u001b[0;34m\u001b[0m\u001b[0m\n\u001b[1;32m  10713\u001b[0m         )\n",
      "\u001b[0;32m/usr/local/anaconda3/lib/python3.8/site-packages/pandas/core/series.py\u001b[0m in \u001b[0;36m_reduce\u001b[0;34m(self, op, name, axis, skipna, numeric_only, filter_type, **kwds)\u001b[0m\n\u001b[1;32m   4180\u001b[0m                 )\n\u001b[1;32m   4181\u001b[0m             \u001b[0;32mwith\u001b[0m \u001b[0mnp\u001b[0m\u001b[0;34m.\u001b[0m\u001b[0merrstate\u001b[0m\u001b[0;34m(\u001b[0m\u001b[0mall\u001b[0m\u001b[0;34m=\u001b[0m\u001b[0;34m\"ignore\"\u001b[0m\u001b[0;34m)\u001b[0m\u001b[0;34m:\u001b[0m\u001b[0;34m\u001b[0m\u001b[0;34m\u001b[0m\u001b[0m\n\u001b[0;32m-> 4182\u001b[0;31m                 \u001b[0;32mreturn\u001b[0m \u001b[0mop\u001b[0m\u001b[0;34m(\u001b[0m\u001b[0mdelegate\u001b[0m\u001b[0;34m,\u001b[0m \u001b[0mskipna\u001b[0m\u001b[0;34m=\u001b[0m\u001b[0mskipna\u001b[0m\u001b[0;34m,\u001b[0m \u001b[0;34m**\u001b[0m\u001b[0mkwds\u001b[0m\u001b[0;34m)\u001b[0m\u001b[0;34m\u001b[0m\u001b[0;34m\u001b[0m\u001b[0m\n\u001b[0m\u001b[1;32m   4183\u001b[0m \u001b[0;34m\u001b[0m\u001b[0m\n\u001b[1;32m   4184\u001b[0m     \u001b[0;32mdef\u001b[0m \u001b[0m_reindex_indexer\u001b[0m\u001b[0;34m(\u001b[0m\u001b[0mself\u001b[0m\u001b[0;34m,\u001b[0m \u001b[0mnew_index\u001b[0m\u001b[0;34m,\u001b[0m \u001b[0mindexer\u001b[0m\u001b[0;34m,\u001b[0m \u001b[0mcopy\u001b[0m\u001b[0;34m)\u001b[0m\u001b[0;34m:\u001b[0m\u001b[0;34m\u001b[0m\u001b[0;34m\u001b[0m\u001b[0m\n",
      "\u001b[0;32m/usr/local/anaconda3/lib/python3.8/site-packages/pandas/core/nanops.py\u001b[0m in \u001b[0;36m_f\u001b[0;34m(*args, **kwargs)\u001b[0m\n\u001b[1;32m     71\u001b[0m             \u001b[0;32mtry\u001b[0m\u001b[0;34m:\u001b[0m\u001b[0;34m\u001b[0m\u001b[0;34m\u001b[0m\u001b[0m\n\u001b[1;32m     72\u001b[0m                 \u001b[0;32mwith\u001b[0m \u001b[0mnp\u001b[0m\u001b[0;34m.\u001b[0m\u001b[0merrstate\u001b[0m\u001b[0;34m(\u001b[0m\u001b[0minvalid\u001b[0m\u001b[0;34m=\u001b[0m\u001b[0;34m\"ignore\"\u001b[0m\u001b[0;34m)\u001b[0m\u001b[0;34m:\u001b[0m\u001b[0;34m\u001b[0m\u001b[0;34m\u001b[0m\u001b[0m\n\u001b[0;32m---> 73\u001b[0;31m                     \u001b[0;32mreturn\u001b[0m \u001b[0mf\u001b[0m\u001b[0;34m(\u001b[0m\u001b[0;34m*\u001b[0m\u001b[0margs\u001b[0m\u001b[0;34m,\u001b[0m \u001b[0;34m**\u001b[0m\u001b[0mkwargs\u001b[0m\u001b[0;34m)\u001b[0m\u001b[0;34m\u001b[0m\u001b[0;34m\u001b[0m\u001b[0m\n\u001b[0m\u001b[1;32m     74\u001b[0m             \u001b[0;32mexcept\u001b[0m \u001b[0mValueError\u001b[0m \u001b[0;32mas\u001b[0m \u001b[0me\u001b[0m\u001b[0;34m:\u001b[0m\u001b[0;34m\u001b[0m\u001b[0;34m\u001b[0m\u001b[0m\n\u001b[1;32m     75\u001b[0m                 \u001b[0;31m# we want to transform an object array\u001b[0m\u001b[0;34m\u001b[0m\u001b[0;34m\u001b[0m\u001b[0;34m\u001b[0m\u001b[0m\n",
      "\u001b[0;32m/usr/local/anaconda3/lib/python3.8/site-packages/pandas/core/nanops.py\u001b[0m in \u001b[0;36mf\u001b[0;34m(values, axis, skipna, **kwds)\u001b[0m\n\u001b[1;32m    133\u001b[0m                     \u001b[0mresult\u001b[0m \u001b[0;34m=\u001b[0m \u001b[0malt\u001b[0m\u001b[0;34m(\u001b[0m\u001b[0mvalues\u001b[0m\u001b[0;34m,\u001b[0m \u001b[0maxis\u001b[0m\u001b[0;34m=\u001b[0m\u001b[0maxis\u001b[0m\u001b[0;34m,\u001b[0m \u001b[0mskipna\u001b[0m\u001b[0;34m=\u001b[0m\u001b[0mskipna\u001b[0m\u001b[0;34m,\u001b[0m \u001b[0;34m**\u001b[0m\u001b[0mkwds\u001b[0m\u001b[0;34m)\u001b[0m\u001b[0;34m\u001b[0m\u001b[0;34m\u001b[0m\u001b[0m\n\u001b[1;32m    134\u001b[0m             \u001b[0;32melse\u001b[0m\u001b[0;34m:\u001b[0m\u001b[0;34m\u001b[0m\u001b[0;34m\u001b[0m\u001b[0m\n\u001b[0;32m--> 135\u001b[0;31m                 \u001b[0mresult\u001b[0m \u001b[0;34m=\u001b[0m \u001b[0malt\u001b[0m\u001b[0;34m(\u001b[0m\u001b[0mvalues\u001b[0m\u001b[0;34m,\u001b[0m \u001b[0maxis\u001b[0m\u001b[0;34m=\u001b[0m\u001b[0maxis\u001b[0m\u001b[0;34m,\u001b[0m \u001b[0mskipna\u001b[0m\u001b[0;34m=\u001b[0m\u001b[0mskipna\u001b[0m\u001b[0;34m,\u001b[0m \u001b[0;34m**\u001b[0m\u001b[0mkwds\u001b[0m\u001b[0;34m)\u001b[0m\u001b[0;34m\u001b[0m\u001b[0;34m\u001b[0m\u001b[0m\n\u001b[0m\u001b[1;32m    136\u001b[0m \u001b[0;34m\u001b[0m\u001b[0m\n\u001b[1;32m    137\u001b[0m             \u001b[0;32mreturn\u001b[0m \u001b[0mresult\u001b[0m\u001b[0;34m\u001b[0m\u001b[0;34m\u001b[0m\u001b[0m\n",
      "\u001b[0;32m/usr/local/anaconda3/lib/python3.8/site-packages/pandas/core/nanops.py\u001b[0m in \u001b[0;36mnew_func\u001b[0;34m(values, axis, skipna, mask, **kwargs)\u001b[0m\n\u001b[1;32m    392\u001b[0m             \u001b[0mmask\u001b[0m \u001b[0;34m=\u001b[0m \u001b[0misna\u001b[0m\u001b[0;34m(\u001b[0m\u001b[0mvalues\u001b[0m\u001b[0;34m)\u001b[0m\u001b[0;34m\u001b[0m\u001b[0;34m\u001b[0m\u001b[0m\n\u001b[1;32m    393\u001b[0m \u001b[0;34m\u001b[0m\u001b[0m\n\u001b[0;32m--> 394\u001b[0;31m         \u001b[0mresult\u001b[0m \u001b[0;34m=\u001b[0m \u001b[0mfunc\u001b[0m\u001b[0;34m(\u001b[0m\u001b[0mvalues\u001b[0m\u001b[0;34m,\u001b[0m \u001b[0maxis\u001b[0m\u001b[0;34m=\u001b[0m\u001b[0maxis\u001b[0m\u001b[0;34m,\u001b[0m \u001b[0mskipna\u001b[0m\u001b[0;34m=\u001b[0m\u001b[0mskipna\u001b[0m\u001b[0;34m,\u001b[0m \u001b[0mmask\u001b[0m\u001b[0;34m=\u001b[0m\u001b[0mmask\u001b[0m\u001b[0;34m,\u001b[0m \u001b[0;34m**\u001b[0m\u001b[0mkwargs\u001b[0m\u001b[0;34m)\u001b[0m\u001b[0;34m\u001b[0m\u001b[0;34m\u001b[0m\u001b[0m\n\u001b[0m\u001b[1;32m    395\u001b[0m \u001b[0;34m\u001b[0m\u001b[0m\n\u001b[1;32m    396\u001b[0m         \u001b[0;32mif\u001b[0m \u001b[0mdatetimelike\u001b[0m\u001b[0;34m:\u001b[0m\u001b[0;34m\u001b[0m\u001b[0;34m\u001b[0m\u001b[0m\n",
      "\u001b[0;32m/usr/local/anaconda3/lib/python3.8/site-packages/pandas/core/nanops.py\u001b[0m in \u001b[0;36mnanmean\u001b[0;34m(values, axis, skipna, mask)\u001b[0m\n\u001b[1;32m    631\u001b[0m \u001b[0;34m\u001b[0m\u001b[0m\n\u001b[1;32m    632\u001b[0m     \u001b[0mcount\u001b[0m \u001b[0;34m=\u001b[0m \u001b[0m_get_counts\u001b[0m\u001b[0;34m(\u001b[0m\u001b[0mvalues\u001b[0m\u001b[0;34m.\u001b[0m\u001b[0mshape\u001b[0m\u001b[0;34m,\u001b[0m \u001b[0mmask\u001b[0m\u001b[0;34m,\u001b[0m \u001b[0maxis\u001b[0m\u001b[0;34m,\u001b[0m \u001b[0mdtype\u001b[0m\u001b[0;34m=\u001b[0m\u001b[0mdtype_count\u001b[0m\u001b[0;34m)\u001b[0m\u001b[0;34m\u001b[0m\u001b[0;34m\u001b[0m\u001b[0m\n\u001b[0;32m--> 633\u001b[0;31m     \u001b[0mthe_sum\u001b[0m \u001b[0;34m=\u001b[0m \u001b[0m_ensure_numeric\u001b[0m\u001b[0;34m(\u001b[0m\u001b[0mvalues\u001b[0m\u001b[0;34m.\u001b[0m\u001b[0msum\u001b[0m\u001b[0;34m(\u001b[0m\u001b[0maxis\u001b[0m\u001b[0;34m,\u001b[0m \u001b[0mdtype\u001b[0m\u001b[0;34m=\u001b[0m\u001b[0mdtype_sum\u001b[0m\u001b[0;34m)\u001b[0m\u001b[0;34m)\u001b[0m\u001b[0;34m\u001b[0m\u001b[0;34m\u001b[0m\u001b[0m\n\u001b[0m\u001b[1;32m    634\u001b[0m \u001b[0;34m\u001b[0m\u001b[0m\n\u001b[1;32m    635\u001b[0m     \u001b[0;32mif\u001b[0m \u001b[0maxis\u001b[0m \u001b[0;32mis\u001b[0m \u001b[0;32mnot\u001b[0m \u001b[0;32mNone\u001b[0m \u001b[0;32mand\u001b[0m \u001b[0mgetattr\u001b[0m\u001b[0;34m(\u001b[0m\u001b[0mthe_sum\u001b[0m\u001b[0;34m,\u001b[0m \u001b[0;34m\"ndim\"\u001b[0m\u001b[0;34m,\u001b[0m \u001b[0;32mFalse\u001b[0m\u001b[0;34m)\u001b[0m\u001b[0;34m:\u001b[0m\u001b[0;34m\u001b[0m\u001b[0;34m\u001b[0m\u001b[0m\n",
      "\u001b[0;32m/usr/local/anaconda3/lib/python3.8/site-packages/pandas/core/nanops.py\u001b[0m in \u001b[0;36m_ensure_numeric\u001b[0;34m(x)\u001b[0m\n\u001b[1;32m   1542\u001b[0m             \u001b[0;32mexcept\u001b[0m \u001b[0mValueError\u001b[0m \u001b[0;32mas\u001b[0m \u001b[0merr\u001b[0m\u001b[0;34m:\u001b[0m\u001b[0;34m\u001b[0m\u001b[0;34m\u001b[0m\u001b[0m\n\u001b[1;32m   1543\u001b[0m                 \u001b[0;31m# e.g. \"foo\"\u001b[0m\u001b[0;34m\u001b[0m\u001b[0;34m\u001b[0m\u001b[0;34m\u001b[0m\u001b[0m\n\u001b[0;32m-> 1544\u001b[0;31m                 \u001b[0;32mraise\u001b[0m \u001b[0mTypeError\u001b[0m\u001b[0;34m(\u001b[0m\u001b[0;34mf\"Could not convert {x} to numeric\"\u001b[0m\u001b[0;34m)\u001b[0m \u001b[0;32mfrom\u001b[0m \u001b[0merr\u001b[0m\u001b[0;34m\u001b[0m\u001b[0;34m\u001b[0m\u001b[0m\n\u001b[0m\u001b[1;32m   1545\u001b[0m     \u001b[0;32mreturn\u001b[0m \u001b[0mx\u001b[0m\u001b[0;34m\u001b[0m\u001b[0;34m\u001b[0m\u001b[0m\n\u001b[1;32m   1546\u001b[0m \u001b[0;34m\u001b[0m\u001b[0m\n",
      "\u001b[0;31mTypeError\u001b[0m: Could not convert NoNoNoNoNoYesNoNoYesNoNoNoYesYesYesYesYesYesNoYesNoNoNoNoNoNoNoYesYesNoNoNoNoYesNoNoYesNoNoNoNoNoNoNoNoYesNoYesYesNoYesNoNoNoNoNoYesNoNoNoYesNoNoNoNoNoNoNoYesNoNoYesNoNoNoYesNoNoNoNoNoNoNoNoNoNoNoNoNoYesYesNoNoNoYesNoNoNoNoNoNoNoNoNoNoNoNoNoYesYesNoNoNoNoNoNoNoNoNoNoNoNoYesNoYesNoNoNoNoYesNoNoYesNoNoYesYesNoNoNoNoNoNoNoNoNoNoNoYesNoYesNoNoNoYesNoNoYesYesYesNoNoYesYesNoNoNoNoYesNoYesYesNoYesYesYesYesYesNoNoNoYesNoNoNoNoNoNoNoYesNoYesYesNoYesNoNoNoNoNoNoYesNoNoNoNoNoNoYesNoYesNoNoNoNoNoNoNoYesNoYesYesNoYesNoNoNoNoYesNoYesNoYesYesYesYesNoNoNoYesYesNoNoNoNoYesNoNoNoYesNoYesYesNoNoNoNoYesNoNoYesYesYesNoNoNoNoNoYesNoNoNoNoNoNoYesNoNoYesNoNoNoNoNoNoNoNoYesNoNoNoYesNoNoNoNoNoNoNoYesNoYesNoNoYesYesNoNoNoNoNoNoNoNoYesNoNoNoYesNoYesYesNoYesNoYesNoNoYesNoNoYesNoYesYesNoYesYesNoYesNoNoNoNoNoYesNoNoNoNoNoNoNoNoYesNoNoNoYesYesYesNoNoNoNoNoNoYesNoNoYesNoYesNoYesNoNoYesNoNoNoYesYesNoNoNoNoNoNoYesYesNoNoNoNoNoNoYesNoNoNoNoYesNoYesNoNoNoNoYesNoNoNoNoNoYesNoNoNoYesNoYesNoYesNoYesNoNoNoYesYesNoNoNoNoYesYesNoNoYesNoYesNoNoNoYesNoNoNoNoNoNoNoNoNoYesNoYesNoNoNoNoNoNoYesNoYesNoYesNoNoNoNoNoNoNoYesNoNoNoYesNoYesYesYesNoNoNoNoNoNoNoNoYesYesNoYesNoNoNoNoNoNoNoNoNoNoNoYesNoNoNoNoNoNoNoYesNoNoNoYesNoNoNoNoYesNoNoNoNoNoNoYesYesYesNoYesNoNoNoYesNoYesNoNoNoNoYesYesNoNoNoNoNoNoNoNoYesNoNoNoYesYesNoNoNoNoNoNoNoNoNoNoYesYesYesYesNoNoNoNoNoNoNoNoYesYesNoNoNoNoYesNoYesYesYesNoNoNoNoNoNoNoNoYesNoNoNoNoYesNoNoYesNoNoNoNoNoNoNoNoYesYesNoYesNoNoNoYesYesYesNoYesNoNoNoNoNoYesYesYesNoYesNoNoNoNoNoNoYesNoNoNoYesNoNoNoNoNoNoYesNoNoNoNoNoNoYesNoNoNoNoNoNoYesNoYesYesNoNoNoNoYesYesNoYesYesNoNoNoYesNoNoNoNoNoNoYesNoNoNoNoNoNoNoNoNoYesNoNoNoNoNoNoNoNoNoNoYesYesYesYesNoNoNoNoNoNoYesYesYesYesNoNoNoNoNoNoNoYesNoNoNoNoNoYesNoYesNoNoNoNoNoNoNoNoNoNoNoNoNoNoYesYesYesYesNoNoNoNoNoNoNoNoYesNoNoNoNoYesNoNoNoNoNoNoYesYesNoNoNoNoNoNoNoNoYesNoNoNoNoNoNoYesNoNoNoNoNoNoNoNoYesNoNoNoNoNoNoNoNoNoNoNoNoNoYesNoYesNoNoYesNoNoNoNoNoNoNoNoNoNoNoNoNoNoNoNoNoNoYesNoNoYesNoYesNoNoNoYesYesNoNoNoYesNoNoNoNoYesNoNoNoNoNoYesYesYesNoNoNoNoNoNoNoYesYesNoNoNoNoYesNoNoNoNoNoYesNoNoNoNoYesNoNoNoNoYesNoNoNoYesYesYesNoNoNoNoNoNoYesNoNoNoYesYesYesNoNoYesYesNoYesNoNoYesNoNoNoNoNoYesNoNoNoYesNoNoNoYesNoNoNoNoNoNoYesNoNoNoNoNoNoNoNoYesNoNoYesYesNoYesNoNoNoNoNoNoNoYesYesNoNoNoNoYesNoYesNoNoNoYesNoNoNoYesNoNoNoYesNoNoNoNoNoNoNoNoYesNoNoNoNoNoYesYesYesYesNoYesNoNoNoYesYesYesNoNoNoNoYesYesNoNoYesNoNoNoYesNoNoYesNoNoNoNoYesYesYesNoNoNoNoNoNoNoNoNoYesNoNoNoNoYesNoYesNoNoNoNoNoNoNoNoYesNoNoNoYesNoNoNoNoNoNoNoNoNoNoYesNoYesYesNoNoNoNoNoNoNoNoYesNoNoYesNoYesNoYesNoYesNoNoYesNoNoYesNoNoYesNoNoYesYesNoYesNoYesNoYesNoNoYesYesNoYesYesNoNoNoNoYesNoYesNoYesNoNoNoNoNoNoYesYesNoYesYesNoNoNoNoYesNoNoYesNoNoNoNoNoNoNoNoYesYesNoNoNoYesNoNoNoNoNoNoNoNoNoYesNoNoNoYesNoNoNoNoNoNoNoNoNoNoNoNoNoNoYesNoYesYesNoNoYesNoYesNoNoNoNoYesNoNoNoNoNoNoNoNoNoYesNoNoNoNoNoNoNoNoNoNoNoNoNoNoNoNoNoYesNoNoNoNoYesNoYesNoNoNoNoNoYesYesYesNoNoNoNoNoNoYesNoNoNoYesNoNoNoNoYesNoNoNoNoNoYesNoNoNoNoNoNoNoNoNoNoYesNoNoNoYesNoNoNoYesYesYesNoYesNoYesNoNoYesNoNoYesNoNoNoNoNoNoNoNoYesNoNoYesYesNoNoYesNoNoNoNoNoNoYesYesNoNoYesYesNoYesNoYesNoNoNoNoNoYesNoNoNoYesNoYesYesNoNoYesNoYesYesYesNoYesNoNoNoNoNoNoNoNoNoNoNoNoNoYesYesNoYesNoNoNoNoYesYesNoNoYesNoNoNoNoYesYesYesYesYesNoYesNoYesNoYesNoNoNoYesNoNoNoNoYesNoNoYesYesNoNoNoNoYesNoNoNoNoNoNoNoNoYesNoYesNoNoYesNoNoYesNoNoYesNoNoNoNoNoYesNoNoNoNoYesYesNoYesNoNoNoNoNoYesNoNoNoYesNoNoYesNoNoNoNoNoNoNoNoNoNoNoNoNoNoNoYesNoNoNoNoNoYesNoNoYesNoNoNoNoYesNoYesYesYesYesYesNoNoNoNoNoNoNoYesNoNoYesNoNoNoNoNoNoNoNoNoNoYesYesNoYesNoNoNoNoNoNoYesNoNoYesNoNoNoNoNoNoNoYesYesNoNoYesNoNoNoNoNoNoNoNoYesNoNoNoYesNoNoYesNoNoNoYesNoYesNoYesNoNoNoNoNoYesYesNoYesYesNoNoNoYesNoNoYesYesYesNoNoNoYesYesNoNoNoNoYesYesNoYesNoYesYesNoNoNoNoNoYesNoYesNoYesNoNoYesNoNoNoYesYesYesYesNoNoNoNoNoNoNoNoNoNoNoNoYesNoNoNoYesNoNoYesNoYesYesNoNoNoNoNoNoYesNoNoNoNoYesYesYesNoNoNoNoYesNoNoYesNoNoYesNoNoYesYesYesNoYesNoYesYesNoNoYesNoNoNoNoNoYesNoNoYesNoNoNoYesNoYesNoNoNoNoNoNoNoNoYesYesNoNoNoNoNoNoNoNoYesNoNoYesNoYesNoNoNoNoNoNoNoNoNoYesNoYesNoYesNoYesNoNoNoNoNoNoNoNoYesYesNoNoNoYesNoYesYesNoYesNoYesNoNoYesNoNoNoNoNoYesNoNoYesNoNoNoNoNoNoNoNoNoNoYesNoNoNoNoNoNoNoNoNoNoNoNoNoNoNoYesNoYesYesNoNoNoNoYesYesNoNoYesYesNoNoNoNoNoYesNoNoNoNoNoNoNoYesNoYesNoNoNoNoNoNoNoNoNoYesNoNoNoYesNoNoNoNoYesYesNoYesYesNoYesNoYesNoNoNoNoNoYesNoNoNoNoNoNoNoNoNoYesNoNoNoNoNoYesYesNoNoYesNoNoNoNoNoNoNoNoNoNoNoNoNoNoNoNoNoNoYesNoNoYesYesYesNoYesNoYesNoNoYesYesYesNoNoNoNoNoNoNoNoNoYesYesNoNoNoNoNoYesYesNoNoNoNoNoNoNoNoNoNoNoNoYesNoYesNoYesYesYesYesNoNoNoNoYesNoNoNoYesYesNoYesNoNoNoNoNoNoNoNoYesNoNoNoNoNoNoNoNoNoNoNoNoNoNoNoYesNoNoNoYesNoNoNoNoNoNoNoNoNoYesNoNoNoYesNoNoNoNoNoNoNoYesYesNoNoNoYesYesNoNoNoYesNoNoYesNoYesYesNoNoNoNoYesNoNoYesNoNoNoNoYesNoYesYesNoNoNoNoNoNoNoNoNoYesNoNoNoNoNoNoNoNoNoNoNoNoNoYesYesNoNoNoNoNoYesNoNoYesNoNoNoYesNoYesNoYesNoNoNoNoNoNoNoNoNoNoNoNoYesNoNoNoNoNoNoNoNoNoNoNoNoYesNoNoNoNoNoYesNoNoNoNoNoNoNoNoNoNoYesNoNoNoNoYesNoNoYesNoNoNoNoNoYesNoNoNoYesYesNoNoYesYesNoNoNoNoYesYesNoNoNoNoNoNoNoYesNoNoNoYesYesNoNoNoNoNoYesYesNoNoNoNoNoYesYesNoYesYesNoNoNoYesNoYesNoNoNoNoYesYesNoNoNoNoNoNoNoNoNoNoYesYesNoNoYesNoYesNoYesNoNoNoNoYesNoYesYesYesNoYesNoNoNoYesYesNoNoNoNoNoYesNoYesNoNoNoYesNoNoYesNoNoYesNoYesNoNoNoNoNoYesNoNoNoNoYesYesNoNoNoYesYesYesNoNoNoNoNoNoNoNoYesYesNoNoYesYesNoNoNoNoNoNoNoNoYesNoNoYesNoYesYesNoNoNoYesNoNoNoNoYesNoYesNoNoYesYesNoNoYesNoNoNoNoYesNoNoNoNoNoNoNoNoYesYesNoNoNoNoNoNoYesNoNoNoYesNoNoNoYesNoNoYesYesNoYesNoYesNoYesNoNoNoNoNoNoNoNoNoNoNoYesYesYesNoNoNoNoNoNoYesNoYesYesYesYesNoNoNoNoNoYesNoNoNoNoNoNoNoYesNoYesNoNoNoNoNoNoNoYesYesYesNoNoYesNoNoNoNoYesNoYesNoNoNoNoNoNoNoNoNoNoYesNoYesYesYesNoNoNoYesNoNoNoNoNoYesNoNoNoNoNoYesNoYesNoNoNoNoNoYesYesYesNoNoNoYesNoYesYesNoNoNoNoNoYesNoNoNoNoNoNoYesYesYesNoNoNoNoNoYesNoYesNoNoNoNoNoNoNoNoNoNoNoNoNoNoNoYesNoYesYesNoNoYesYesNoNoYesNoYesNoNoNoNoNoNoNoNoYesYesNoYesNoNoNoNoNoNoYesNoNoNoNoYesYesNoNoNoNoNoNoNoYesYesYesNoNoYesNoNoNoNoNoNoYesNoNoNoNoNoNoNoNoNoNoNoYesNoNoNoNoNoNoYesNoNoNoNoNoNoYesNoYesNoNoNoYesNoYesNoNoNoYesYesNoNoNoYesNoNoNoYesNoYesNoYesNoNoNoNoNoNoNoNoNoNoNoNoNoNoNoNoNoNoYesNoNoYesYesNoNoNoNoNoYesNoNoNoNoNoYesNoNoNoNoNoNoNoNoNoYesNoNoYesNoNoNoYesNoNoNoNoNoNoNoNoYesYesYesNoNoYesNoNoYesNoYesNoNoNoNoNoYesYesNoNoNoNoYesNoNoYesYesNoNoNoNoNoYesNoNoNoNoNoNoNoYesNoNoNoNoNoYesNoNoYesNoNoNoYesNoNoNoYesNoNoNoNoYesNoNoNoYesYesNoNoNoNoNoNoNoNoNoNoNoNoNoNoNoYesNoYesNoNoNoNoNoNoNoNoNoYesNoYesYesNoNoNoNoNoNoNoNoYesNoYesYesNoNoNoNoYesNoNoNoYesYesYesNoNoYesNoNoNoNoNoNoNoNoYesNoNoNoNoNoNoNoYesNoNoNoNoNoNoNoYesYesYesNoNoNoNoNoNoYesNoYesNoNoNoNoNoNoNoNoYesNoYesYesNoNoNoNoNoNoYesNoYesNoNoNoYesNoNoNoNoNoNoNoNoNoNoNoYesYesNoNoNoYesNoYesNoNoNoNoNoNoNoNoNoNoYesNoNoYesNoYesYesNoNoYesNoYesNoNoNoNoYesNoNoYesNoNoNoYesYesYesNoNoNoYesNoNoNoYesYesNoYesNoNoYesNoNoNoNoNoYesNoNoNoNoYesYesNoYesNoNoNoYesNoNoNoNoNoNoNoNoNoYesNoYesNoNoYesNoNoNoYesYesNoNoNoNoNoYesNoNoNoYesNoYesYesYesNoYesNoNoNoNoNoNoNoYesNoNoNoNoNoNoNoYesNoNoNoYesNoNoYesNoNoNoNoYesNoNoNoYesYesNoNoNoNoYesNoNoNoNoYesNoYesNoYesNoNoNoNoNoNoNoNoYesYesYesNoNoNoNoNoNoNoNoYesNoNoNoNoNoNoNoNoYesNoNoNoYesYesNoNoNoYesNoYesNoYesNoYesNoNoNoNoNoYesNoYesNoNoYesNoNoNoNoNoNoNoNoNoNoNoYesNoNoNoNoNoNoYesNoNoNoYesYesYesYesNoNoNoYesYesNoNoYesYesNoNoNoNoNoNoYesNoNoNoNoNoNoNoNoNoNoYesNoNoNoNoYesYesNoNoNoYesNoNoNoNoNoNoNoYesNoNoNoNoNoNoNoNoNoNoNoNoNoNoYesYesYesNoNoNoNoNoNoYesNoNoYesNoNoNoNoNoNoNoNoYesNoNoNoNoNoYesNoNoNoYesNoNoNoNoYesNoNoYesYesYesYesNoNoNoYesNoNoNoNoYesNoNoNoNoNoNoNoNoYesNoNoNoNoNoYesYesNoNoYesNoNoNoNoYesNoNoNoNoNoYesNoNoNoYesYesNoNoNoNoNoNoNoNoNoNoNoNoNoNoNoNoYesNoNoNoNoNoNoYesNoNoNoNoNoYesNoYesNoNoNoNoNoNoYesYesNoNoNoNoNoYesNoNoNoYesYesNoNoNoNoNoNoYesNoNoYesNoNoNoNoNoNoYesNoNoNoYesNoNoNoNoYesNoYesNoNoYesNoNoNoYesYesYesNoNoNoNoNoYesNoNoNoYesNoNoNoYesNoNoNoNoYesNoNoYesNoYesNoNoNoNoYesNoNoNoYesNoNoNoNoYesNoNoYesYesNoYesNoNoNoYesNoNoNoNoYesYesNoYesNoYesNoYesNoNoNoNoNoNoNoNoNoYesNoYesYesNoNoNoNoNoNoYesNoYesYesYesYesNoNoNoNoNoYesNoNoNoNoYesNoNoYesNoNoNoNoYesNoNoNoNoNoNoNoYesNoNoYesNoYesYesNoNoYesYesNoYesYesNoNoYesNoNoNoNoYesYesYesYesNoYesNoYesNoNoNoNoYesNoNoYesYesNoNoNoNoYesNoNoNoNoNoNoNoYesNoYesNoNoNoYesYesNoNoYesYesNoNoNoYesNoYesNoNoYesNoYesNoNoYesNoYesNoNoYesYesNoNoYesYesNoNoNoNoNoNoYesYesNoNoYesYesNoNoNoNoNoYesNoNoNoYesNoNoYesNoNoYesYesNoNoNoNoNoYesNoNoYesYesNoNoNoNoNoNoYesNoNoNoNoNoYesNoNoNoNoNoNoNoNoNoNoYesNoYesNoNoNoNoNoNoNoYesYesNoNoNoNoYesYesNoNoNoYesNoYesNoNoNoYesNoYesNoNoNoNoNoYesNoNoNoYesNoNoNoYesNoYesYesNoNoYesYesNoNoNoNoNoNoNoNoYesNoNoYesYesNoYesYesNoNoNoNoNoNoYesNoNoNoNoNoNoNoNoNoNoYesNoNoYesYesYesNoNoYesNoNoYesNoNoNoNoNoYesNoNoYesNoNoYesNoNoNoNoNoYesNoNoNoYesYesNoNoNoNoYesNoNoNoNoNoNoNoNoNoNoYesYesNoYesYesYesNoYesYesYesNoNoNoYesYesNoYesYesNoNoYesNoNoNoNoNoYesYesNoNoYesNoNoNoNoYesYesYesNoYesNoNoNoNoYesYesYesNoNoYesNoNoNoYesNoYesNoNoNoNoNoNoYesNoNoNoYesNoNoNoNoYesNoNoNoNoNoNoNoNoYesNoNoNoNoYesNoYesYesNoYesNoNoNoNoNoNoNoYesNoNoNoNoNoYesNoYesNoYesNoYesYesYesNoNoNoNoNoYesNoYesNoYesNoYesNoNoNoNoNoNoNoNoNoNoYesNoNoNoNoYesNoNoYesYesNoNoNoYesNoYesNoNoNoNoNoNoNoNoYesYesNoNoNoYesNoYesYesNoYesYesNoNoYesNoNoNo to numeric"
     ]
    },
    {
     "data": {
      "image/png": "[encoded data removed]",
      "text/plain": [
       "<Figure size 144x144 with 1 Axes>"
      ]
     },
     "metadata": {
      "needs_background": "light"
     },
     "output_type": "display_data"
    }
   ],
   "source": [
    "explore.explore_bivariate(train, 'churn', cat_vars, quant_vars)"
   ]
  },
  {
   "cell_type": "code",
   "execution_count": 78,
   "id": "4e33cc2f",
   "metadata": {},
   "outputs": [],
   "source": [
    "def explore_multivariate(train, churn, cat_vars, quant_vars):\n",
    "    '''\n",
    "    '''\n",
    "    plot_swarm_grid_with_color(train, churn, cat_vars, quant_vars)\n",
    "    plt.show()\n",
    "    violin = plot_violin_grid_with_color(train, churn, cat_vars, quant_vars)\n",
    "    plt.show()\n",
    "    pair = sns.pairplot(data=train, vars=quant_vars, hue=churn)\n",
    "    plt.show()\n",
    "    plot_all_continuous_vars(train, churn, quant_vars)\n",
    "    plt.show()    "
   ]
  },
  {
   "cell_type": "code",
   "execution_count": 79,
   "id": "ba596d05",
   "metadata": {},
   "outputs": [],
   "source": [
    "target = 'churn'"
   ]
  },
  {
   "cell_type": "code",
   "execution_count": 80,
   "id": "cc236af5",
   "metadata": {},
   "outputs": [
    {
     "ename": "TypeError",
     "evalue": "'AxesSubplot' object is not subscriptable",
     "output_type": "error",
     "traceback": [
      "\u001b[0;31m---------------------------------------------------------------------------\u001b[0m",
      "\u001b[0;31mTypeError\u001b[0m                                 Traceback (most recent call last)",
      "\u001b[0;32m<ipython-input-80-08bba10e12db>\u001b[0m in \u001b[0;36m<module>\u001b[0;34m\u001b[0m\n\u001b[0;32m----> 1\u001b[0;31m \u001b[0mexplore\u001b[0m\u001b[0;34m.\u001b[0m\u001b[0mexplore_multivariate\u001b[0m\u001b[0;34m(\u001b[0m\u001b[0mtrain\u001b[0m\u001b[0;34m,\u001b[0m \u001b[0;34m'churn'\u001b[0m\u001b[0;34m,\u001b[0m \u001b[0mcat_vars\u001b[0m\u001b[0;34m,\u001b[0m \u001b[0mquant_vars\u001b[0m\u001b[0;34m)\u001b[0m\u001b[0;34m\u001b[0m\u001b[0;34m\u001b[0m\u001b[0m\n\u001b[0m",
      "\u001b[0;32m~/codeup-data-science/telco_churn_project/explore.py\u001b[0m in \u001b[0;36mexplore_multivariate\u001b[0;34m(train, target, cat_vars, quant_vars)\u001b[0m\n\u001b[1;32m     42\u001b[0m     '''\n\u001b[1;32m     43\u001b[0m     '''\n\u001b[0;32m---> 44\u001b[0;31m     \u001b[0mplot_swarm_grid_with_color\u001b[0m\u001b[0;34m(\u001b[0m\u001b[0mtrain\u001b[0m\u001b[0;34m,\u001b[0m \u001b[0mtarget\u001b[0m\u001b[0;34m,\u001b[0m \u001b[0mcat_vars\u001b[0m\u001b[0;34m,\u001b[0m \u001b[0mquant_vars\u001b[0m\u001b[0;34m)\u001b[0m\u001b[0;34m\u001b[0m\u001b[0;34m\u001b[0m\u001b[0m\n\u001b[0m\u001b[1;32m     45\u001b[0m     \u001b[0mplt\u001b[0m\u001b[0;34m.\u001b[0m\u001b[0mshow\u001b[0m\u001b[0;34m(\u001b[0m\u001b[0;34m)\u001b[0m\u001b[0;34m\u001b[0m\u001b[0;34m\u001b[0m\u001b[0m\n\u001b[1;32m     46\u001b[0m     \u001b[0mviolin\u001b[0m \u001b[0;34m=\u001b[0m \u001b[0mplot_violin_grid_with_color\u001b[0m\u001b[0;34m(\u001b[0m\u001b[0mtrain\u001b[0m\u001b[0;34m,\u001b[0m \u001b[0mtarget\u001b[0m\u001b[0;34m,\u001b[0m \u001b[0mcat_vars\u001b[0m\u001b[0;34m,\u001b[0m \u001b[0mquant_vars\u001b[0m\u001b[0;34m)\u001b[0m\u001b[0;34m\u001b[0m\u001b[0;34m\u001b[0m\u001b[0m\n",
      "\u001b[0;32m~/codeup-data-science/telco_churn_project/explore.py\u001b[0m in \u001b[0;36mplot_swarm_grid_with_color\u001b[0;34m(train, target, cat_vars, quant_vars)\u001b[0m\n\u001b[1;32m    213\u001b[0m         \u001b[0m_\u001b[0m\u001b[0;34m,\u001b[0m \u001b[0max\u001b[0m \u001b[0;34m=\u001b[0m \u001b[0mplt\u001b[0m\u001b[0;34m.\u001b[0m\u001b[0msubplots\u001b[0m\u001b[0;34m(\u001b[0m\u001b[0mnrows\u001b[0m\u001b[0;34m=\u001b[0m\u001b[0;36m1\u001b[0m\u001b[0;34m,\u001b[0m \u001b[0mncols\u001b[0m\u001b[0;34m=\u001b[0m\u001b[0mcols\u001b[0m\u001b[0;34m,\u001b[0m \u001b[0mfigsize\u001b[0m\u001b[0;34m=\u001b[0m\u001b[0;34m(\u001b[0m\u001b[0;36m16\u001b[0m\u001b[0;34m,\u001b[0m \u001b[0;36m4\u001b[0m\u001b[0;34m)\u001b[0m\u001b[0;34m,\u001b[0m \u001b[0msharey\u001b[0m\u001b[0;34m=\u001b[0m\u001b[0;32mTrue\u001b[0m\u001b[0;34m)\u001b[0m\u001b[0;34m\u001b[0m\u001b[0;34m\u001b[0m\u001b[0m\n\u001b[1;32m    214\u001b[0m         \u001b[0;32mfor\u001b[0m \u001b[0mi\u001b[0m\u001b[0;34m,\u001b[0m \u001b[0mcat\u001b[0m \u001b[0;32min\u001b[0m \u001b[0menumerate\u001b[0m\u001b[0;34m(\u001b[0m\u001b[0mcat_vars\u001b[0m\u001b[0;34m)\u001b[0m\u001b[0;34m:\u001b[0m\u001b[0;34m\u001b[0m\u001b[0;34m\u001b[0m\u001b[0m\n\u001b[0;32m--> 215\u001b[0;31m             \u001b[0msns\u001b[0m\u001b[0;34m.\u001b[0m\u001b[0mswarmplot\u001b[0m\u001b[0;34m(\u001b[0m\u001b[0mx\u001b[0m\u001b[0;34m=\u001b[0m\u001b[0mcat\u001b[0m\u001b[0;34m,\u001b[0m \u001b[0my\u001b[0m\u001b[0;34m=\u001b[0m\u001b[0mquant\u001b[0m\u001b[0;34m,\u001b[0m \u001b[0mdata\u001b[0m\u001b[0;34m=\u001b[0m\u001b[0mtrain\u001b[0m\u001b[0;34m,\u001b[0m \u001b[0max\u001b[0m\u001b[0;34m=\u001b[0m\u001b[0max\u001b[0m\u001b[0;34m[\u001b[0m\u001b[0mi\u001b[0m\u001b[0;34m]\u001b[0m\u001b[0;34m,\u001b[0m \u001b[0mhue\u001b[0m\u001b[0;34m=\u001b[0m\u001b[0mtarget\u001b[0m\u001b[0;34m,\u001b[0m \u001b[0mpalette\u001b[0m\u001b[0;34m=\u001b[0m\u001b[0;34m\"Set2\"\u001b[0m\u001b[0;34m)\u001b[0m\u001b[0;34m\u001b[0m\u001b[0;34m\u001b[0m\u001b[0m\n\u001b[0m\u001b[1;32m    216\u001b[0m             \u001b[0max\u001b[0m\u001b[0;34m[\u001b[0m\u001b[0mi\u001b[0m\u001b[0;34m]\u001b[0m\u001b[0;34m.\u001b[0m\u001b[0mset_xlabel\u001b[0m\u001b[0;34m(\u001b[0m\u001b[0;34m''\u001b[0m\u001b[0;34m)\u001b[0m\u001b[0;34m\u001b[0m\u001b[0;34m\u001b[0m\u001b[0m\n\u001b[1;32m    217\u001b[0m             \u001b[0max\u001b[0m\u001b[0;34m[\u001b[0m\u001b[0mi\u001b[0m\u001b[0;34m]\u001b[0m\u001b[0;34m.\u001b[0m\u001b[0mset_ylabel\u001b[0m\u001b[0;34m(\u001b[0m\u001b[0mquant\u001b[0m\u001b[0;34m)\u001b[0m\u001b[0;34m\u001b[0m\u001b[0;34m\u001b[0m\u001b[0m\n",
      "\u001b[0;31mTypeError\u001b[0m: 'AxesSubplot' object is not subscriptable"
     ]
    },
    {
     "data": {
      "image/png": "[encoded data removed]",
      "text/plain": [
       "<Figure size 1152x288 with 1 Axes>"
      ]
     },
     "metadata": {
      "needs_background": "light"
     },
     "output_type": "display_data"
    }
   ],
   "source": [
    "explore.explore_multivariate(train, 'churn', cat_vars, quant_vars)"
   ]
  },
  {
   "cell_type": "markdown",
   "id": "53fd8f8b",
   "metadata": {},
   "source": [
    "**Descriptive stats, frequencies, histograms Takeaways**"
   ]
  },
  {
   "cell_type": "code",
   "execution_count": 81,
   "id": "04615193",
   "metadata": {},
   "outputs": [
    {
     "data": {
      "image/png": "[encoded data removed]",
      "text/plain": [
       "<Figure size 1152x432 with 1 Axes>"
      ]
     },
     "metadata": {
      "needs_background": "light"
     },
     "output_type": "display_data"
    }
   ],
   "source": [
    "plt.figure(figsize=(16, 6)) # changes the size of the figure\n",
    "sns.countplot(data=train, x='tenure', hue='churn')\n",
    "plt.show()"
   ]
  },
  {
   "cell_type": "code",
   "execution_count": 82,
   "id": "ba64c45a",
   "metadata": {
    "scrolled": true
   },
   "outputs": [
    {
     "data": {
      "image/png": "[encoded data removed]",
      "text/plain": [
       "<Figure size 1440x432 with 1 Axes>"
      ]
     },
     "metadata": {
      "needs_background": "light"
     },
     "output_type": "display_data"
    }
   ],
   "source": [
    "# plot monthly_charges by churn\n",
    "plt.figure(figsize=(20, 6))\n",
    "sns.countplot(data=train, x='monthly_charges', hue='churn')\n",
    "plt.show()"
   ]
  },
  {
   "cell_type": "code",
   "execution_count": 83,
   "id": "2f912588",
   "metadata": {},
   "outputs": [
    {
     "data": {
      "image/png": "[encoded data removed]",
      "text/plain": [
       "<Figure size 432x288 with 1 Axes>"
      ]
     },
     "metadata": {
      "needs_background": "light"
     },
     "output_type": "display_data"
    }
   ],
   "source": [
    "# plot internet_service_type by churn\n",
    "sns.countplot(data=train, x='internet_service_type', hue='churn')\n",
    "plt.show()"
   ]
  },
  {
   "cell_type": "code",
   "execution_count": 84,
   "id": "ffd16d0e",
   "metadata": {},
   "outputs": [
    {
     "data": {
      "image/png": "[encoded data removed]",
      "text/plain": [
       "<Figure size 432x288 with 1 Axes>"
      ]
     },
     "metadata": {
      "needs_background": "light"
     },
     "output_type": "display_data"
    }
   ],
   "source": [
    "# plot with or without partner by churn\n",
    "sns.countplot(data=train, x='partner',hue='churn')\n",
    "plt.show()"
   ]
  },
  {
   "cell_type": "code",
   "execution_count": 85,
   "id": "b0ebb52b",
   "metadata": {},
   "outputs": [
    {
     "data": {
      "image/png": "[encoded data removed]",
      "text/plain": [
       "<Figure size 432x288 with 1 Axes>"
      ]
     },
     "metadata": {
      "needs_background": "light"
     },
     "output_type": "display_data"
    }
   ],
   "source": [
    "# plot with or without dependents by churn\n",
    "sns.countplot(data=train, x='dependents', hue='churn')\n",
    "plt.show()"
   ]
  },
  {
   "cell_type": "code",
   "execution_count": 86,
   "id": "a59e599e",
   "metadata": {},
   "outputs": [
    {
     "data": {
      "image/png": "[encoded data removed]",
      "text/plain": [
       "<Figure size 432x288 with 1 Axes>"
      ]
     },
     "metadata": {
      "needs_background": "light"
     },
     "output_type": "display_data"
    }
   ],
   "source": [
    "# plot senior_citizen by churn\n",
    "sns.countplot(data=train, x='senior_citizen', hue='churn')\n",
    "plt.show()"
   ]
  },
  {
   "cell_type": "code",
   "execution_count": 87,
   "id": "2b693229",
   "metadata": {},
   "outputs": [
    {
     "data": {
      "image/png": "[encoded data removed]",
      "text/plain": [
       "<Figure size 432x288 with 1 Axes>"
      ]
     },
     "metadata": {
      "needs_background": "light"
     },
     "output_type": "display_data"
    }
   ],
   "source": [
    "# plot payment_type by churn\n",
    "sns.countplot(data=train, x='payment_type', hue='churn')\n",
    "plt.show()"
   ]
  },
  {
   "cell_type": "markdown",
   "id": "844f3731",
   "metadata": {},
   "source": [
    "**Countplot Takeaways**\n",
    "-tenure is by far highest at one month and by far least at 72 months\n",
    "-customers with the lowest monthly bills are churning the most\n",
    "-fiber optics service type churns at a rate by far higher than the other two\n",
    "-those customers without partners churn at a much higher rate\n",
    "-customers with dependents churn at a slightly higher rate\n",
    "-seniors churn at a much higher rate than other customers\n",
    "-customers who pay with electronic check churn near as much as all the other 3 payment types combined"
   ]
  },
  {
   "cell_type": "code",
   "execution_count": 88,
   "id": "a6c95ee2",
   "metadata": {},
   "outputs": [
    {
     "data": {
      "image/png": "[encoded data removed]",
      "text/plain": [
       "<Figure size 432x288 with 1 Axes>"
      ]
     },
     "metadata": {
      "needs_background": "light"
     },
     "output_type": "display_data"
    }
   ],
   "source": [
    "#let's look at some more visualizations\n",
    "A = sns.regplot(x=df['churn'], y=df['monthly_charges'], fit_reg=False)"
   ]
  },
  {
   "cell_type": "code",
   "execution_count": 89,
   "id": "673b9df4",
   "metadata": {},
   "outputs": [
    {
     "data": {
      "text/plain": [
       "<AxesSubplot:xlabel='churn', ylabel='tenure'>"
      ]
     },
     "execution_count": 89,
     "metadata": {},
     "output_type": "execute_result"
    },
    {
     "data": {
      "image/png": "[encoded data removed]",
      "text/plain": [
       "<Figure size 432x288 with 1 Axes>"
      ]
     },
     "metadata": {
      "needs_background": "light"
     },
     "output_type": "display_data"
    }
   ],
   "source": [
    "sns.violinplot(x=train[\"churn\"], y=df[\"tenure\"])"
   ]
  },
  {
   "cell_type": "code",
   "execution_count": 90,
   "id": "793e99e8",
   "metadata": {},
   "outputs": [
    {
     "data": {
      "text/plain": [
       "<AxesSubplot:xlabel='churn', ylabel='monthly_charges'>"
      ]
     },
     "execution_count": 90,
     "metadata": {},
     "output_type": "execute_result"
    },
    {
     "data": {
      "image/png": "[encoded data removed]",
      "text/plain": [
       "<Figure size 432x288 with 1 Axes>"
      ]
     },
     "metadata": {
      "needs_background": "light"
     },
     "output_type": "display_data"
    }
   ],
   "source": [
    "sns.violinplot(x=train[\"churn\"], y=df[\"monthly_charges\"])"
   ]
  },
  {
   "cell_type": "markdown",
   "id": "f6e40ca6",
   "metadata": {},
   "source": [
    "**Violinplot takeaways**\n",
    "-churn is much higher at the lowesst tenure\n",
    "-churn is higher for customers with higher monthly charges"
   ]
  },
  {
   "cell_type": "code",
   "execution_count": 91,
   "id": "5268f89f",
   "metadata": {},
   "outputs": [
    {
     "ename": "AttributeError",
     "evalue": "module 'seaborn' has no attribute 'plt'",
     "output_type": "error",
     "traceback": [
      "\u001b[0;31m---------------------------------------------------------------------------\u001b[0m",
      "\u001b[0;31mAttributeError\u001b[0m                            Traceback (most recent call last)",
      "\u001b[0;32m<ipython-input-91-7484be8b349a>\u001b[0m in \u001b[0;36m<module>\u001b[0;34m\u001b[0m\n\u001b[1;32m      1\u001b[0m \u001b[0;31m# make a correlogram\u001b[0m\u001b[0;34m\u001b[0m\u001b[0;34m\u001b[0m\u001b[0;34m\u001b[0m\u001b[0m\n\u001b[1;32m      2\u001b[0m \u001b[0msns\u001b[0m\u001b[0;34m.\u001b[0m\u001b[0mpairplot\u001b[0m\u001b[0;34m(\u001b[0m\u001b[0mtrain\u001b[0m\u001b[0;34m)\u001b[0m\u001b[0;34m\u001b[0m\u001b[0;34m\u001b[0m\u001b[0m\n\u001b[0;32m----> 3\u001b[0;31m \u001b[0msns\u001b[0m\u001b[0;34m.\u001b[0m\u001b[0mplt\u001b[0m\u001b[0;34m.\u001b[0m\u001b[0mshow\u001b[0m\u001b[0;34m(\u001b[0m\u001b[0;34m)\u001b[0m\u001b[0;34m\u001b[0m\u001b[0;34m\u001b[0m\u001b[0m\n\u001b[0m",
      "\u001b[0;31mAttributeError\u001b[0m: module 'seaborn' has no attribute 'plt'"
     ]
    },
    {
     "data": {
      "image/png": "[encoded data removed]",
      "text/plain": [
       "<Figure size 540x540 with 12 Axes>"
      ]
     },
     "metadata": {
      "needs_background": "light"
     },
     "output_type": "display_data"
    }
   ],
   "source": [
    "# make a correlogram\n",
    "sns.pairplot(train)\n",
    "sns.plt.show()"
   ]
  },
  {
   "cell_type": "code",
   "execution_count": null,
   "id": "8edc1975",
   "metadata": {},
   "outputs": [],
   "source": [
    "sns.pairplot(train, hue='churn')\n",
    "plt.show()"
   ]
  },
  {
   "cell_type": "markdown",
   "id": "d9558a0c",
   "metadata": {},
   "source": [
    "**Takeaway from pairplot**\n",
    "-customers churn more often at the lower tenures\n",
    "-customers churn the lesast with high monthly bills and high tenure\n",
    "-senior citizens with all types of tenure churn at a similar rate unlike the rest of the population that mostly churns at a lower tenure"
   ]
  },
  {
   "cell_type": "code",
   "execution_count": null,
   "id": "3f8afec7",
   "metadata": {},
   "outputs": [],
   "source": [
    "#####################################################Statistical Testing"
   ]
  },
  {
   "cell_type": "markdown",
   "id": "505dc137",
   "metadata": {},
   "source": [
    "Hypothesis 1 Senior citizens churn at a higher rate than other customers\n",
    "alpha = .05\n",
    "$H_0$: Being a senior citizen is independent of churn. \n",
    "$H_a$: Churn is dependent on whether or not a customer is a senior citizen. "
   ]
  },
  {
   "cell_type": "markdown",
   "id": "bb56069a",
   "metadata": {},
   "source": [
    "Hypothesis 2 - Electronic check payment type has a higher rate of churn than the rest.\n",
    "alpha = .05\n",
    "$H_0$: Payment type is independent of churn.\n",
    "$H_a$: Churn is dependent on payment type.\n",
    "Outcome: I rejected the Null Hypothesis; there is a difference in ..."
   ]
  },
  {
   "cell_type": "code",
   "execution_count": null,
   "id": "e23a9cb6",
   "metadata": {},
   "outputs": [],
   "source": [
    "# calculate the numbers expected if the two groups are independent"
   ]
  },
  {
   "cell_type": "code",
   "execution_count": null,
   "id": "2645b3a7",
   "metadata": {},
   "outputs": [],
   "source": []
  },
  {
   "cell_type": "code",
   "execution_count": null,
   "id": "26d378e6",
   "metadata": {},
   "outputs": [],
   "source": []
  },
  {
   "cell_type": "code",
   "execution_count": null,
   "id": "b8e9210d",
   "metadata": {},
   "outputs": [],
   "source": [
    "########################### Model & Evaluate"
   ]
  },
  {
   "cell_type": "code",
   "execution_count": null,
   "id": "1753e134",
   "metadata": {},
   "outputs": [],
   "source": [
    "# make dummy columns for variables I am concerned with exploring\n",
    "train.head()"
   ]
  },
  {
   "cell_type": "code",
   "execution_count": null,
   "id": "22c3f284",
   "metadata": {},
   "outputs": [],
   "source": [
    "#make target column binary\n",
    "df.churn.replace(to_replace=['yes','no'],value=[1,0], inplace=True)"
   ]
  },
  {
   "cell_type": "code",
   "execution_count": null,
   "id": "0976f13f",
   "metadata": {},
   "outputs": [],
   "source": [
    "#check it\n",
    "train.head()"
   ]
  },
  {
   "cell_type": "code",
   "execution_count": null,
   "id": "12ec0e6d",
   "metadata": {},
   "outputs": [],
   "source": [
    "# calculate baseline_accuracy\n",
    "train.churn.value_counts()"
   ]
  },
  {
   "cell_type": "code",
   "execution_count": null,
   "id": "c62f6c5d",
   "metadata": {},
   "outputs": [],
   "source": [
    "baseline_accuracy=(train.churn == 0).mean()\n",
    "round(baseline_accuracy,2)"
   ]
  },
  {
   "cell_type": "code",
   "execution_count": 60,
   "id": "c9283667",
   "metadata": {},
   "outputs": [
    {
     "name": "stdout",
     "output_type": "stream",
     "text": [
      "               payment_type\n",
      "0  Bank transfer (automatic\n",
      "1              Mailed check\n",
      "2          Electronic check\n"
     ]
    },
    {
     "data": {
      "text/html": [
       "<div>\n",
       "<style scoped>\n",
       "    .dataframe tbody tr th:only-of-type {\n",
       "        vertical-align: middle;\n",
       "    }\n",
       "\n",
       "    .dataframe tbody tr th {\n",
       "        vertical-align: top;\n",
       "    }\n",
       "\n",
       "    .dataframe thead th {\n",
       "        text-align: right;\n",
       "    }\n",
       "</style>\n",
       "<table border=\"1\" class=\"dataframe\">\n",
       "  <thead>\n",
       "    <tr style=\"text-align: right;\">\n",
       "      <th></th>\n",
       "      <th>senior_citizen</th>\n",
       "      <th>tenure</th>\n",
       "      <th>monthly_charges</th>\n",
       "      <th>customer_id_0002-ORFBO</th>\n",
       "      <th>customer_id_0003-MKNFE</th>\n",
       "      <th>customer_id_0004-TLHLJ</th>\n",
       "      <th>customer_id_0011-IGKFF</th>\n",
       "      <th>customer_id_0013-EXCHZ</th>\n",
       "      <th>customer_id_0013-MHZWF</th>\n",
       "      <th>customer_id_0013-SMEOE</th>\n",
       "      <th>...</th>\n",
       "      <th>contract_type_Month-to-month</th>\n",
       "      <th>contract_type_One year</th>\n",
       "      <th>contract_type_Two year</th>\n",
       "      <th>internet_service_type_DSL</th>\n",
       "      <th>internet_service_type_Fiber optic</th>\n",
       "      <th>internet_service_type_None</th>\n",
       "      <th>payment_type_Bank transfer (automatic)</th>\n",
       "      <th>payment_type_Credit card (automatic)</th>\n",
       "      <th>payment_type_Electronic check</th>\n",
       "      <th>payment_type_Mailed check</th>\n",
       "    </tr>\n",
       "  </thead>\n",
       "  <tbody>\n",
       "    <tr>\n",
       "      <th>0</th>\n",
       "      <td>0</td>\n",
       "      <td>65</td>\n",
       "      <td>90.45</td>\n",
       "      <td>0</td>\n",
       "      <td>0</td>\n",
       "      <td>0</td>\n",
       "      <td>0</td>\n",
       "      <td>0</td>\n",
       "      <td>0</td>\n",
       "      <td>0</td>\n",
       "      <td>...</td>\n",
       "      <td>0</td>\n",
       "      <td>0</td>\n",
       "      <td>1</td>\n",
       "      <td>1</td>\n",
       "      <td>0</td>\n",
       "      <td>0</td>\n",
       "      <td>0</td>\n",
       "      <td>0</td>\n",
       "      <td>0</td>\n",
       "      <td>1</td>\n",
       "    </tr>\n",
       "    <tr>\n",
       "      <th>1</th>\n",
       "      <td>0</td>\n",
       "      <td>54</td>\n",
       "      <td>45.20</td>\n",
       "      <td>0</td>\n",
       "      <td>0</td>\n",
       "      <td>0</td>\n",
       "      <td>0</td>\n",
       "      <td>0</td>\n",
       "      <td>0</td>\n",
       "      <td>0</td>\n",
       "      <td>...</td>\n",
       "      <td>0</td>\n",
       "      <td>0</td>\n",
       "      <td>1</td>\n",
       "      <td>1</td>\n",
       "      <td>0</td>\n",
       "      <td>0</td>\n",
       "      <td>0</td>\n",
       "      <td>1</td>\n",
       "      <td>0</td>\n",
       "      <td>0</td>\n",
       "    </tr>\n",
       "    <tr>\n",
       "      <th>2</th>\n",
       "      <td>0</td>\n",
       "      <td>56</td>\n",
       "      <td>45.05</td>\n",
       "      <td>0</td>\n",
       "      <td>0</td>\n",
       "      <td>0</td>\n",
       "      <td>0</td>\n",
       "      <td>0</td>\n",
       "      <td>0</td>\n",
       "      <td>0</td>\n",
       "      <td>...</td>\n",
       "      <td>0</td>\n",
       "      <td>0</td>\n",
       "      <td>1</td>\n",
       "      <td>1</td>\n",
       "      <td>0</td>\n",
       "      <td>0</td>\n",
       "      <td>1</td>\n",
       "      <td>0</td>\n",
       "      <td>0</td>\n",
       "      <td>0</td>\n",
       "    </tr>\n",
       "    <tr>\n",
       "      <th>3</th>\n",
       "      <td>0</td>\n",
       "      <td>20</td>\n",
       "      <td>39.40</td>\n",
       "      <td>0</td>\n",
       "      <td>0</td>\n",
       "      <td>0</td>\n",
       "      <td>0</td>\n",
       "      <td>0</td>\n",
       "      <td>0</td>\n",
       "      <td>0</td>\n",
       "      <td>...</td>\n",
       "      <td>0</td>\n",
       "      <td>0</td>\n",
       "      <td>1</td>\n",
       "      <td>1</td>\n",
       "      <td>0</td>\n",
       "      <td>0</td>\n",
       "      <td>0</td>\n",
       "      <td>1</td>\n",
       "      <td>0</td>\n",
       "      <td>0</td>\n",
       "    </tr>\n",
       "    <tr>\n",
       "      <th>4</th>\n",
       "      <td>0</td>\n",
       "      <td>72</td>\n",
       "      <td>85.15</td>\n",
       "      <td>0</td>\n",
       "      <td>0</td>\n",
       "      <td>0</td>\n",
       "      <td>0</td>\n",
       "      <td>0</td>\n",
       "      <td>0</td>\n",
       "      <td>0</td>\n",
       "      <td>...</td>\n",
       "      <td>0</td>\n",
       "      <td>0</td>\n",
       "      <td>1</td>\n",
       "      <td>1</td>\n",
       "      <td>0</td>\n",
       "      <td>0</td>\n",
       "      <td>1</td>\n",
       "      <td>0</td>\n",
       "      <td>0</td>\n",
       "      <td>0</td>\n",
       "    </tr>\n",
       "    <tr>\n",
       "      <th>...</th>\n",
       "      <td>...</td>\n",
       "      <td>...</td>\n",
       "      <td>...</td>\n",
       "      <td>...</td>\n",
       "      <td>...</td>\n",
       "      <td>...</td>\n",
       "      <td>...</td>\n",
       "      <td>...</td>\n",
       "      <td>...</td>\n",
       "      <td>...</td>\n",
       "      <td>...</td>\n",
       "      <td>...</td>\n",
       "      <td>...</td>\n",
       "      <td>...</td>\n",
       "      <td>...</td>\n",
       "      <td>...</td>\n",
       "      <td>...</td>\n",
       "      <td>...</td>\n",
       "      <td>...</td>\n",
       "      <td>...</td>\n",
       "      <td>...</td>\n",
       "    </tr>\n",
       "    <tr>\n",
       "      <th>7038</th>\n",
       "      <td>0</td>\n",
       "      <td>1</td>\n",
       "      <td>20.05</td>\n",
       "      <td>0</td>\n",
       "      <td>0</td>\n",
       "      <td>0</td>\n",
       "      <td>0</td>\n",
       "      <td>0</td>\n",
       "      <td>0</td>\n",
       "      <td>0</td>\n",
       "      <td>...</td>\n",
       "      <td>1</td>\n",
       "      <td>0</td>\n",
       "      <td>0</td>\n",
       "      <td>0</td>\n",
       "      <td>0</td>\n",
       "      <td>1</td>\n",
       "      <td>0</td>\n",
       "      <td>0</td>\n",
       "      <td>0</td>\n",
       "      <td>1</td>\n",
       "    </tr>\n",
       "    <tr>\n",
       "      <th>7039</th>\n",
       "      <td>0</td>\n",
       "      <td>19</td>\n",
       "      <td>19.90</td>\n",
       "      <td>0</td>\n",
       "      <td>0</td>\n",
       "      <td>0</td>\n",
       "      <td>0</td>\n",
       "      <td>0</td>\n",
       "      <td>0</td>\n",
       "      <td>0</td>\n",
       "      <td>...</td>\n",
       "      <td>1</td>\n",
       "      <td>0</td>\n",
       "      <td>0</td>\n",
       "      <td>0</td>\n",
       "      <td>0</td>\n",
       "      <td>1</td>\n",
       "      <td>0</td>\n",
       "      <td>0</td>\n",
       "      <td>0</td>\n",
       "      <td>1</td>\n",
       "    </tr>\n",
       "    <tr>\n",
       "      <th>7040</th>\n",
       "      <td>0</td>\n",
       "      <td>6</td>\n",
       "      <td>19.70</td>\n",
       "      <td>0</td>\n",
       "      <td>0</td>\n",
       "      <td>0</td>\n",
       "      <td>0</td>\n",
       "      <td>0</td>\n",
       "      <td>0</td>\n",
       "      <td>0</td>\n",
       "      <td>...</td>\n",
       "      <td>1</td>\n",
       "      <td>0</td>\n",
       "      <td>0</td>\n",
       "      <td>0</td>\n",
       "      <td>0</td>\n",
       "      <td>1</td>\n",
       "      <td>0</td>\n",
       "      <td>1</td>\n",
       "      <td>0</td>\n",
       "      <td>0</td>\n",
       "    </tr>\n",
       "    <tr>\n",
       "      <th>7041</th>\n",
       "      <td>0</td>\n",
       "      <td>1</td>\n",
       "      <td>18.90</td>\n",
       "      <td>0</td>\n",
       "      <td>0</td>\n",
       "      <td>0</td>\n",
       "      <td>0</td>\n",
       "      <td>0</td>\n",
       "      <td>0</td>\n",
       "      <td>0</td>\n",
       "      <td>...</td>\n",
       "      <td>1</td>\n",
       "      <td>0</td>\n",
       "      <td>0</td>\n",
       "      <td>0</td>\n",
       "      <td>0</td>\n",
       "      <td>1</td>\n",
       "      <td>0</td>\n",
       "      <td>0</td>\n",
       "      <td>0</td>\n",
       "      <td>1</td>\n",
       "    </tr>\n",
       "    <tr>\n",
       "      <th>7042</th>\n",
       "      <td>0</td>\n",
       "      <td>4</td>\n",
       "      <td>20.95</td>\n",
       "      <td>0</td>\n",
       "      <td>0</td>\n",
       "      <td>0</td>\n",
       "      <td>0</td>\n",
       "      <td>0</td>\n",
       "      <td>0</td>\n",
       "      <td>0</td>\n",
       "      <td>...</td>\n",
       "      <td>1</td>\n",
       "      <td>0</td>\n",
       "      <td>0</td>\n",
       "      <td>0</td>\n",
       "      <td>0</td>\n",
       "      <td>1</td>\n",
       "      <td>1</td>\n",
       "      <td>0</td>\n",
       "      <td>0</td>\n",
       "      <td>0</td>\n",
       "    </tr>\n",
       "  </tbody>\n",
       "</table>\n",
       "<p>7032 rows × 13588 columns</p>\n",
       "</div>"
      ],
      "text/plain": [
       "      senior_citizen  tenure  monthly_charges  customer_id_0002-ORFBO  \\\n",
       "0                  0      65            90.45                       0   \n",
       "1                  0      54            45.20                       0   \n",
       "2                  0      56            45.05                       0   \n",
       "3                  0      20            39.40                       0   \n",
       "4                  0      72            85.15                       0   \n",
       "...              ...     ...              ...                     ...   \n",
       "7038               0       1            20.05                       0   \n",
       "7039               0      19            19.90                       0   \n",
       "7040               0       6            19.70                       0   \n",
       "7041               0       1            18.90                       0   \n",
       "7042               0       4            20.95                       0   \n",
       "\n",
       "      customer_id_0003-MKNFE  customer_id_0004-TLHLJ  customer_id_0011-IGKFF  \\\n",
       "0                          0                       0                       0   \n",
       "1                          0                       0                       0   \n",
       "2                          0                       0                       0   \n",
       "3                          0                       0                       0   \n",
       "4                          0                       0                       0   \n",
       "...                      ...                     ...                     ...   \n",
       "7038                       0                       0                       0   \n",
       "7039                       0                       0                       0   \n",
       "7040                       0                       0                       0   \n",
       "7041                       0                       0                       0   \n",
       "7042                       0                       0                       0   \n",
       "\n",
       "      customer_id_0013-EXCHZ  customer_id_0013-MHZWF  customer_id_0013-SMEOE  \\\n",
       "0                          0                       0                       0   \n",
       "1                          0                       0                       0   \n",
       "2                          0                       0                       0   \n",
       "3                          0                       0                       0   \n",
       "4                          0                       0                       0   \n",
       "...                      ...                     ...                     ...   \n",
       "7038                       0                       0                       0   \n",
       "7039                       0                       0                       0   \n",
       "7040                       0                       0                       0   \n",
       "7041                       0                       0                       0   \n",
       "7042                       0                       0                       0   \n",
       "\n",
       "      ...  contract_type_Month-to-month  contract_type_One year  \\\n",
       "0     ...                             0                       0   \n",
       "1     ...                             0                       0   \n",
       "2     ...                             0                       0   \n",
       "3     ...                             0                       0   \n",
       "4     ...                             0                       0   \n",
       "...   ...                           ...                     ...   \n",
       "7038  ...                             1                       0   \n",
       "7039  ...                             1                       0   \n",
       "7040  ...                             1                       0   \n",
       "7041  ...                             1                       0   \n",
       "7042  ...                             1                       0   \n",
       "\n",
       "      contract_type_Two year  internet_service_type_DSL  \\\n",
       "0                          1                          1   \n",
       "1                          1                          1   \n",
       "2                          1                          1   \n",
       "3                          1                          1   \n",
       "4                          1                          1   \n",
       "...                      ...                        ...   \n",
       "7038                       0                          0   \n",
       "7039                       0                          0   \n",
       "7040                       0                          0   \n",
       "7041                       0                          0   \n",
       "7042                       0                          0   \n",
       "\n",
       "      internet_service_type_Fiber optic  internet_service_type_None  \\\n",
       "0                                     0                           0   \n",
       "1                                     0                           0   \n",
       "2                                     0                           0   \n",
       "3                                     0                           0   \n",
       "4                                     0                           0   \n",
       "...                                 ...                         ...   \n",
       "7038                                  0                           1   \n",
       "7039                                  0                           1   \n",
       "7040                                  0                           1   \n",
       "7041                                  0                           1   \n",
       "7042                                  0                           1   \n",
       "\n",
       "      payment_type_Bank transfer (automatic)  \\\n",
       "0                                          0   \n",
       "1                                          0   \n",
       "2                                          1   \n",
       "3                                          0   \n",
       "4                                          1   \n",
       "...                                      ...   \n",
       "7038                                       0   \n",
       "7039                                       0   \n",
       "7040                                       0   \n",
       "7041                                       0   \n",
       "7042                                       1   \n",
       "\n",
       "      payment_type_Credit card (automatic)  payment_type_Electronic check  \\\n",
       "0                                        0                              0   \n",
       "1                                        1                              0   \n",
       "2                                        0                              0   \n",
       "3                                        1                              0   \n",
       "4                                        0                              0   \n",
       "...                                    ...                            ...   \n",
       "7038                                     0                              0   \n",
       "7039                                     0                              0   \n",
       "7040                                     1                              0   \n",
       "7041                                     0                              0   \n",
       "7042                                     0                              0   \n",
       "\n",
       "      payment_type_Mailed check  \n",
       "0                             1  \n",
       "1                             0  \n",
       "2                             0  \n",
       "3                             0  \n",
       "4                             0  \n",
       "...                         ...  \n",
       "7038                          1  \n",
       "7039                          1  \n",
       "7040                          0  \n",
       "7041                          1  \n",
       "7042                          0  \n",
       "\n",
       "[7032 rows x 13588 columns]"
      ]
     },
     "execution_count": 60,
     "metadata": {},
     "output_type": "execute_result"
    }
   ],
   "source": [
    "dummy = pd.DataFrame({'payment_type': ['Bank transfer (automatic','Mailed check','Electronic check']})\n",
    "print(dummy)\n",
    "pd.get_dummies(df)"
   ]
  },
  {
   "cell_type": "code",
   "execution_count": 92,
   "id": "66711a42",
   "metadata": {},
   "outputs": [
    {
     "data": {
      "text/html": [
       "<div>\n",
       "<style scoped>\n",
       "    .dataframe tbody tr th:only-of-type {\n",
       "        vertical-align: middle;\n",
       "    }\n",
       "\n",
       "    .dataframe tbody tr th {\n",
       "        vertical-align: top;\n",
       "    }\n",
       "\n",
       "    .dataframe thead th {\n",
       "        text-align: right;\n",
       "    }\n",
       "</style>\n",
       "<table border=\"1\" class=\"dataframe\">\n",
       "  <thead>\n",
       "    <tr style=\"text-align: right;\">\n",
       "      <th></th>\n",
       "      <th>customer_id</th>\n",
       "      <th>gender</th>\n",
       "      <th>senior_citizen</th>\n",
       "      <th>partner</th>\n",
       "      <th>dependents</th>\n",
       "      <th>tenure</th>\n",
       "      <th>phone_service</th>\n",
       "      <th>multiple_lines</th>\n",
       "      <th>monthly_charges</th>\n",
       "      <th>total_charges</th>\n",
       "      <th>churn</th>\n",
       "      <th>contract_type</th>\n",
       "      <th>internet_service_type</th>\n",
       "      <th>payment_type</th>\n",
       "      <th>payment_type</th>\n",
       "    </tr>\n",
       "  </thead>\n",
       "  <tbody>\n",
       "    <tr>\n",
       "      <th>0</th>\n",
       "      <td>0016-QLJIS</td>\n",
       "      <td>Female</td>\n",
       "      <td>0</td>\n",
       "      <td>Yes</td>\n",
       "      <td>Yes</td>\n",
       "      <td>65</td>\n",
       "      <td>Yes</td>\n",
       "      <td>Yes</td>\n",
       "      <td>90.45</td>\n",
       "      <td>5957.9</td>\n",
       "      <td>No</td>\n",
       "      <td>Two year</td>\n",
       "      <td>DSL</td>\n",
       "      <td>Mailed check</td>\n",
       "      <td>Bank transfer (automatic</td>\n",
       "    </tr>\n",
       "    <tr>\n",
       "      <th>1</th>\n",
       "      <td>0017-DINOC</td>\n",
       "      <td>Male</td>\n",
       "      <td>0</td>\n",
       "      <td>No</td>\n",
       "      <td>No</td>\n",
       "      <td>54</td>\n",
       "      <td>No</td>\n",
       "      <td>No phone service</td>\n",
       "      <td>45.20</td>\n",
       "      <td>2460.55</td>\n",
       "      <td>No</td>\n",
       "      <td>Two year</td>\n",
       "      <td>DSL</td>\n",
       "      <td>Credit card (automatic)</td>\n",
       "      <td>Mailed check</td>\n",
       "    </tr>\n",
       "    <tr>\n",
       "      <th>2</th>\n",
       "      <td>0019-GFNTW</td>\n",
       "      <td>Female</td>\n",
       "      <td>0</td>\n",
       "      <td>No</td>\n",
       "      <td>No</td>\n",
       "      <td>56</td>\n",
       "      <td>No</td>\n",
       "      <td>No phone service</td>\n",
       "      <td>45.05</td>\n",
       "      <td>2560.1</td>\n",
       "      <td>No</td>\n",
       "      <td>Two year</td>\n",
       "      <td>DSL</td>\n",
       "      <td>Bank transfer (automatic)</td>\n",
       "      <td>Electronic check</td>\n",
       "    </tr>\n",
       "    <tr>\n",
       "      <th>3</th>\n",
       "      <td>0056-EPFBG</td>\n",
       "      <td>Male</td>\n",
       "      <td>0</td>\n",
       "      <td>Yes</td>\n",
       "      <td>Yes</td>\n",
       "      <td>20</td>\n",
       "      <td>No</td>\n",
       "      <td>No phone service</td>\n",
       "      <td>39.40</td>\n",
       "      <td>825.4</td>\n",
       "      <td>No</td>\n",
       "      <td>Two year</td>\n",
       "      <td>DSL</td>\n",
       "      <td>Credit card (automatic)</td>\n",
       "      <td>NaN</td>\n",
       "    </tr>\n",
       "    <tr>\n",
       "      <th>4</th>\n",
       "      <td>0078-XZMHT</td>\n",
       "      <td>Male</td>\n",
       "      <td>0</td>\n",
       "      <td>Yes</td>\n",
       "      <td>No</td>\n",
       "      <td>72</td>\n",
       "      <td>Yes</td>\n",
       "      <td>Yes</td>\n",
       "      <td>85.15</td>\n",
       "      <td>6316.2</td>\n",
       "      <td>No</td>\n",
       "      <td>Two year</td>\n",
       "      <td>DSL</td>\n",
       "      <td>Bank transfer (automatic)</td>\n",
       "      <td>NaN</td>\n",
       "    </tr>\n",
       "  </tbody>\n",
       "</table>\n",
       "</div>"
      ],
      "text/plain": [
       "  customer_id  gender  senior_citizen partner dependents  tenure  \\\n",
       "0  0016-QLJIS  Female               0     Yes        Yes      65   \n",
       "1  0017-DINOC    Male               0      No         No      54   \n",
       "2  0019-GFNTW  Female               0      No         No      56   \n",
       "3  0056-EPFBG    Male               0     Yes        Yes      20   \n",
       "4  0078-XZMHT    Male               0     Yes         No      72   \n",
       "\n",
       "  phone_service    multiple_lines  monthly_charges total_charges churn  \\\n",
       "0           Yes               Yes            90.45        5957.9    No   \n",
       "1            No  No phone service            45.20       2460.55    No   \n",
       "2            No  No phone service            45.05        2560.1    No   \n",
       "3            No  No phone service            39.40         825.4    No   \n",
       "4           Yes               Yes            85.15        6316.2    No   \n",
       "\n",
       "  contract_type internet_service_type               payment_type  \\\n",
       "0      Two year                   DSL               Mailed check   \n",
       "1      Two year                   DSL    Credit card (automatic)   \n",
       "2      Two year                   DSL  Bank transfer (automatic)   \n",
       "3      Two year                   DSL    Credit card (automatic)   \n",
       "4      Two year                   DSL  Bank transfer (automatic)   \n",
       "\n",
       "               payment_type  \n",
       "0  Bank transfer (automatic  \n",
       "1              Mailed check  \n",
       "2          Electronic check  \n",
       "3                       NaN  \n",
       "4                       NaN  "
      ]
     },
     "execution_count": 92,
     "metadata": {},
     "output_type": "execute_result"
    }
   ],
   "source": [
    "df =pd.concat([df,dummy],axis=1)\n",
    "df.head()"
   ]
  },
  {
   "cell_type": "code",
   "execution_count": null,
   "id": "20b2fd80",
   "metadata": {},
   "outputs": [],
   "source": [
    "train.churn.value_counts()"
   ]
  },
  {
   "cell_type": "code",
   "execution_count": null,
   "id": "eed902dd",
   "metadata": {},
   "outputs": [],
   "source": [
    "#To start with, we'll calculate the proportions for payment_type:\n",
    "n = df.shape[0]\n",
    "\n",
    "payment_proportions = df.payment_type.value_counts() / n\n",
    "payment_proportions"
   ]
  },
  {
   "cell_type": "code",
   "execution_count": null,
   "id": "3e4d2ea0",
   "metadata": {},
   "outputs": [],
   "source": [
    "e_check = train[train['payment_type'] == 'electronic_check'].churn\n",
    "bank_transfer = train[train['payment_type'] == 'Bank transfer (automatic)'].churn\n",
    "\n",
    "t, p = stats.ttest_ind(e_check, bank_transfer)\n",
    "\n",
    "t, p"
   ]
  },
  {
   "cell_type": "code",
   "execution_count": null,
   "id": "fbb70b15",
   "metadata": {},
   "outputs": [],
   "source": [
    "Electronic check payment type has a higher rate of churn than bank_transer\n",
    "\n",
    "$H_0$: Electronic check churn rate is less than or equal to the bank transer churn rate (t<0)<br>\n",
    "$H_a$: Electronic check churn rate is higher than that of bank transfer churn rate (t>0)"
   ]
  },
  {
   "cell_type": "code",
   "execution_count": null,
   "id": "800ee3f8",
   "metadata": {},
   "outputs": [],
   "source": [
    "alpha = .05\n",
    "if (alpha < p):\n",
    "    print(\"reject Null Hypothesis\")\n",
    "elif((t > 0)):\n",
    "    print(\"Reject Null Hypothesis\")\n",
    "else:\n",
    "    print(\"Fail to reject Null Hypthesis\")"
   ]
  },
  {
   "cell_type": "code",
   "execution_count": null,
   "id": "2d6dcfc8",
   "metadata": {},
   "outputs": [],
   "source": []
  }
 ],
 "metadata": {
  "kernelspec": {
   "display_name": "Python 3",
   "language": "python",
   "name": "python3"
  },
  "language_info": {
   "codemirror_mode": {
    "name": "ipython",
    "version": 3
   },
   "file_extension": ".py",
   "mimetype": "text/x-python",
   "name": "python",
   "nbconvert_exporter": "python",
   "pygments_lexer": "ipython3",
   "version": "3.8.8"
  }
 },
 "nbformat": 4,
 "nbformat_minor": 5
}
