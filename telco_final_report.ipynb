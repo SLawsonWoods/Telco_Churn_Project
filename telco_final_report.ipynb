{
 "cells": [
  {
   "cell_type": "markdown",
   "id": "ba279718",
   "metadata": {},
   "source": [
    "**Telco Churn Classification Project**"
   ]
  },
  {
   "cell_type": "code",
   "execution_count": 1,
   "id": "2801a2a6",
   "metadata": {},
   "outputs": [],
   "source": [
    "# ignore warnings\n",
    "import warnings\n",
    "warnings.filterwarnings(\"ignore\")\n",
    "import pandas as pd\n",
    "import numpy as np\n",
    "import os\n",
    "from pydataset import data\n",
    "from math import sqrt\n",
    "from scipy import stats\n",
    "\n",
    "#Acquire functions\n",
    "from acquire import get_connection\n",
    "\n",
    "#Prepare function\n",
    "#from prepare import \n",
    "\n",
    "#sklearn for machine learning\n",
    "from sklearn.metrics import accuracy_score\n",
    "from sklearn.model_selection import train_test_split\n",
    "from sklearn.metrics import confusion_matrix\n",
    "from sklearn.metrics import classification_report\n",
    "from sklearn.tree import DecisionTreeClassifier, plot_tree, export_text\n",
    "#from sklearn.tree import export_graphviz\n",
    "import sklearn.metrics\n",
    "from sklearn.neighbors import KNeighborsClassifier\n",
    "from sklearn.linear_model import LogisticRegression\n",
    "from sklearn.ensemble import RandomForestClassifier\n",
    "\n",
    "import matplotlib.pyplot as plt\n",
    "%matplotlib inline\n",
    "import seaborn as sns\n",
    "import env\n",
    "import explore\n",
    "import prepare\n",
    "from prepare import prep_telco\n",
    "\n",
    "#import graphviz\n",
    "#from graphviz import Graph"
   ]
  },
  {
   "cell_type": "markdown",
   "id": "968c0051",
   "metadata": {},
   "source": [
    "____________________________________________________________________________________________"
   ]
  },
  {
   "cell_type": "markdown",
   "id": "342292f0",
   "metadata": {},
   "source": [
    "**Project Planning**\n",
    "\n",
    "Create README.md with data dictionary, project and business goals, come up with initial hypotheses.\n",
    "\n",
    "Acquire data from the Codeup Database and create a function to automate this process. Save the function in an acquire.py file to import into the Final Report Notebook.\n",
    "\n",
    "Clean and prepare data for run through of the pipeline. Create a function to automate the preparation, store the function in a prepare.py module, and prepare data in Final Report Notebook by importing and using the funtion.\n",
    "\n",
    "Define two hypotheses, set an alpha, run the statistical tests needed, reject or fail to reject the Null Hypothesis, and document findings and takeaways.\n",
    "\n",
    "Establish a baseline accuracy and document.\n",
    "\n",
    "Train three different classification models.\n",
    "\n",
    "Evaluate models on train and validate datasets.\n",
    "\n",
    "Choose the model with that performs the best and evaluate that single model on the test dataset.\n",
    "\n",
    "Create csv file with the measurement id, the probability of the target values, and the model's prediction for each observation in my test dataset.\n",
    "\n",
    "Document conclusions, takeaways, and next steps in the Final Report Notebook."
   ]
  },
  {
   "cell_type": "markdown",
   "id": "25307c14",
   "metadata": {},
   "source": [
    "____________________________________________________________________________________________"
   ]
  },
  {
   "cell_type": "markdown",
   "id": "18742037",
   "metadata": {},
   "source": [
    "**Description**\n",
    "Project Objectives\n",
    "\n",
    "Document code, process (data acquistion, preparation, exploratory data analysis and statistical testing, modeling, and model evaluation), findings, and key takeaways in a Jupyter Notebook report.\n",
    "\n",
    "Create modules (acquire.py, prepare.py) that make your process repeateable.\n",
    "\n",
    "Construct a model to predict customer churn using classification techniques.\n",
    "\n",
    "Deliver a 5 minute presentation consisting of a high-level notebook walkthrough using your Jupyter Notebook from above; your presentation should be appropriate for your target audience.\n",
    "\n",
    "Answer panel questions about your code, process, findings and key takeaways, and model.\n"
   ]
  },
  {
   "cell_type": "markdown",
   "id": "5ed01283",
   "metadata": {},
   "source": [
    "____________________________________________________________________________________________"
   ]
  },
  {
   "cell_type": "markdown",
   "id": "ba27d1e8",
   "metadata": {},
   "source": [
    "**Business Goals**\n",
    "\n",
    "Find drivers for customer churn at Telco. Why are customers churning?\n",
    "\n",
    "Construct a ML classification model that accurately predicts customer churn.\n",
    "\n",
    "Document your process well enough to be presented or read like a report."
   ]
  },
  {
   "cell_type": "markdown",
   "id": "e64352e9",
   "metadata": {},
   "source": [
    "____________________________________________________________________________________________"
   ]
  },
  {
   "cell_type": "markdown",
   "id": "08b60dd4",
   "metadata": {},
   "source": [
    "**Executive Summary - Conclusions & Next Steps**\n",
    "\n",
    "I found that all of the classification models I created DecisionTree, RandomForest, and KNeighborsthey all predicted the churn of customers with similar accuracy with KNN performing the best, using the features gender, contract_type, partner, dependents, phone_service,multiple_lines, internet_service_type and payment_type.\n",
    "\n",
    "I chose my KNN model as my best model with a 78% accuracy rate for predicting my target value, churn. This model outperformed my baseline score of 73% accuracy, so it has value.\n",
    "Some initial exploration and statistical testing revealed that low tenure can be linked to high churn, senior citizens churn more often than non-seniors and fiber optics subscribers churn much more than any other internet type subscriber so these would be the areas I would focus on with more time that might increase the model accuracy predictions."
   ]
  },
  {
   "cell_type": "markdown",
   "id": "2022b2f6",
   "metadata": {},
   "source": [
    "Takeaways from heatmaps -month-to-month customers churn the most of contract_type approximately 43% -Fiber optics has the highest rate of churn at 43% churning of this internet_service_type -Electronic check has the highest churn  at 46% -senior_citizens churn at a much higher rate than other customers 44% compared to 23% for overall customers"
   ]
  },
  {
   "cell_type": "markdown",
   "id": "9ded7cc8",
   "metadata": {},
   "source": [
    "Countplot Takeaways -tenure is by far highest at one month and by far least at 72 months -customers with the lowest monthly bills are churning the most -fiber optics service type churns at a rate by far higher than the other two -those customers without partners churn at a much higher rate -customers with dependents churn at a slightly higher rate -seniors churn at a much higher rate than other customers -customers who pay with electronic check churn near as much as all the other 3 payment types combined"
   ]
  },
  {
   "cell_type": "markdown",
   "id": "3556c090",
   "metadata": {},
   "source": [
    "Takeaway from pairplot -customers churn more often at the lower tenures -customers churn the lesast with high monthly bills and high tenure -senior citizens with all types of tenure churn at a similar rate unlike the rest of the population that mostly churns at a lower tenure"
   ]
  },
  {
   "cell_type": "markdown",
   "id": "820a7543",
   "metadata": {},
   "source": [
    "Violinplot takeaways -churn is much higher at the lowest tenure -churn is higher for customers with higher monthly charges"
   ]
  },
  {
   "cell_type": "markdown",
   "id": "067df955",
   "metadata": {},
   "source": [
    "____________________________________________________________________________________________"
   ]
  },
  {
   "cell_type": "markdown",
   "id": "29ae775c",
   "metadata": {},
   "source": [
    "   **Acquire**"
   ]
  },
  {
   "cell_type": "code",
   "execution_count": 2,
   "id": "41aec9bd",
   "metadata": {},
   "outputs": [],
   "source": [
    "#acquire the data\n",
    "\n",
    "df = pd.read_sql('''SELECT *\n",
    "FROM customers\n",
    "JOIN contract_types USING(contract_type_id)\n",
    "JOIN internet_service_types USING(internet_service_type_id)\n",
    "JOIN payment_types USING(payment_type_id);''', get_connection(\"telco_churn\"))"
   ]
  },
  {
   "cell_type": "code",
   "execution_count": 3,
   "id": "030c2199",
   "metadata": {},
   "outputs": [
    {
     "data": {
      "text/html": [
       "<div>\n",
       "<style scoped>\n",
       "    .dataframe tbody tr th:only-of-type {\n",
       "        vertical-align: middle;\n",
       "    }\n",
       "\n",
       "    .dataframe tbody tr th {\n",
       "        vertical-align: top;\n",
       "    }\n",
       "\n",
       "    .dataframe thead th {\n",
       "        text-align: right;\n",
       "    }\n",
       "</style>\n",
       "<table border=\"1\" class=\"dataframe\">\n",
       "  <thead>\n",
       "    <tr style=\"text-align: right;\">\n",
       "      <th></th>\n",
       "      <th>payment_type_id</th>\n",
       "      <th>internet_service_type_id</th>\n",
       "      <th>contract_type_id</th>\n",
       "      <th>customer_id</th>\n",
       "      <th>gender</th>\n",
       "      <th>senior_citizen</th>\n",
       "      <th>partner</th>\n",
       "      <th>dependents</th>\n",
       "      <th>tenure</th>\n",
       "      <th>phone_service</th>\n",
       "      <th>...</th>\n",
       "      <th>tech_support</th>\n",
       "      <th>streaming_tv</th>\n",
       "      <th>streaming_movies</th>\n",
       "      <th>paperless_billing</th>\n",
       "      <th>monthly_charges</th>\n",
       "      <th>total_charges</th>\n",
       "      <th>churn</th>\n",
       "      <th>contract_type</th>\n",
       "      <th>internet_service_type</th>\n",
       "      <th>payment_type</th>\n",
       "    </tr>\n",
       "  </thead>\n",
       "  <tbody>\n",
       "    <tr>\n",
       "      <th>0</th>\n",
       "      <td>2</td>\n",
       "      <td>1</td>\n",
       "      <td>3</td>\n",
       "      <td>0016-QLJIS</td>\n",
       "      <td>Female</td>\n",
       "      <td>0</td>\n",
       "      <td>Yes</td>\n",
       "      <td>Yes</td>\n",
       "      <td>65</td>\n",
       "      <td>Yes</td>\n",
       "      <td>...</td>\n",
       "      <td>Yes</td>\n",
       "      <td>Yes</td>\n",
       "      <td>Yes</td>\n",
       "      <td>Yes</td>\n",
       "      <td>90.45</td>\n",
       "      <td>5957.9</td>\n",
       "      <td>No</td>\n",
       "      <td>Two year</td>\n",
       "      <td>DSL</td>\n",
       "      <td>Mailed check</td>\n",
       "    </tr>\n",
       "    <tr>\n",
       "      <th>1</th>\n",
       "      <td>4</td>\n",
       "      <td>1</td>\n",
       "      <td>3</td>\n",
       "      <td>0017-DINOC</td>\n",
       "      <td>Male</td>\n",
       "      <td>0</td>\n",
       "      <td>No</td>\n",
       "      <td>No</td>\n",
       "      <td>54</td>\n",
       "      <td>No</td>\n",
       "      <td>...</td>\n",
       "      <td>Yes</td>\n",
       "      <td>Yes</td>\n",
       "      <td>No</td>\n",
       "      <td>No</td>\n",
       "      <td>45.20</td>\n",
       "      <td>2460.55</td>\n",
       "      <td>No</td>\n",
       "      <td>Two year</td>\n",
       "      <td>DSL</td>\n",
       "      <td>Credit card (automatic)</td>\n",
       "    </tr>\n",
       "    <tr>\n",
       "      <th>2</th>\n",
       "      <td>3</td>\n",
       "      <td>1</td>\n",
       "      <td>3</td>\n",
       "      <td>0019-GFNTW</td>\n",
       "      <td>Female</td>\n",
       "      <td>0</td>\n",
       "      <td>No</td>\n",
       "      <td>No</td>\n",
       "      <td>56</td>\n",
       "      <td>No</td>\n",
       "      <td>...</td>\n",
       "      <td>Yes</td>\n",
       "      <td>No</td>\n",
       "      <td>No</td>\n",
       "      <td>No</td>\n",
       "      <td>45.05</td>\n",
       "      <td>2560.1</td>\n",
       "      <td>No</td>\n",
       "      <td>Two year</td>\n",
       "      <td>DSL</td>\n",
       "      <td>Bank transfer (automatic)</td>\n",
       "    </tr>\n",
       "    <tr>\n",
       "      <th>3</th>\n",
       "      <td>4</td>\n",
       "      <td>1</td>\n",
       "      <td>3</td>\n",
       "      <td>0056-EPFBG</td>\n",
       "      <td>Male</td>\n",
       "      <td>0</td>\n",
       "      <td>Yes</td>\n",
       "      <td>Yes</td>\n",
       "      <td>20</td>\n",
       "      <td>No</td>\n",
       "      <td>...</td>\n",
       "      <td>Yes</td>\n",
       "      <td>No</td>\n",
       "      <td>No</td>\n",
       "      <td>Yes</td>\n",
       "      <td>39.40</td>\n",
       "      <td>825.4</td>\n",
       "      <td>No</td>\n",
       "      <td>Two year</td>\n",
       "      <td>DSL</td>\n",
       "      <td>Credit card (automatic)</td>\n",
       "    </tr>\n",
       "    <tr>\n",
       "      <th>4</th>\n",
       "      <td>3</td>\n",
       "      <td>1</td>\n",
       "      <td>3</td>\n",
       "      <td>0078-XZMHT</td>\n",
       "      <td>Male</td>\n",
       "      <td>0</td>\n",
       "      <td>Yes</td>\n",
       "      <td>No</td>\n",
       "      <td>72</td>\n",
       "      <td>Yes</td>\n",
       "      <td>...</td>\n",
       "      <td>Yes</td>\n",
       "      <td>Yes</td>\n",
       "      <td>Yes</td>\n",
       "      <td>Yes</td>\n",
       "      <td>85.15</td>\n",
       "      <td>6316.2</td>\n",
       "      <td>No</td>\n",
       "      <td>Two year</td>\n",
       "      <td>DSL</td>\n",
       "      <td>Bank transfer (automatic)</td>\n",
       "    </tr>\n",
       "  </tbody>\n",
       "</table>\n",
       "<p>5 rows × 24 columns</p>\n",
       "</div>"
      ],
      "text/plain": [
       "   payment_type_id  internet_service_type_id  contract_type_id customer_id  \\\n",
       "0                2                         1                 3  0016-QLJIS   \n",
       "1                4                         1                 3  0017-DINOC   \n",
       "2                3                         1                 3  0019-GFNTW   \n",
       "3                4                         1                 3  0056-EPFBG   \n",
       "4                3                         1                 3  0078-XZMHT   \n",
       "\n",
       "   gender  senior_citizen partner dependents  tenure phone_service  ...  \\\n",
       "0  Female               0     Yes        Yes      65           Yes  ...   \n",
       "1    Male               0      No         No      54            No  ...   \n",
       "2  Female               0      No         No      56            No  ...   \n",
       "3    Male               0     Yes        Yes      20            No  ...   \n",
       "4    Male               0     Yes         No      72           Yes  ...   \n",
       "\n",
       "  tech_support streaming_tv streaming_movies paperless_billing  \\\n",
       "0          Yes          Yes              Yes               Yes   \n",
       "1          Yes          Yes               No                No   \n",
       "2          Yes           No               No                No   \n",
       "3          Yes           No               No               Yes   \n",
       "4          Yes          Yes              Yes               Yes   \n",
       "\n",
       "  monthly_charges total_charges churn contract_type  internet_service_type  \\\n",
       "0           90.45        5957.9    No      Two year                    DSL   \n",
       "1           45.20       2460.55    No      Two year                    DSL   \n",
       "2           45.05        2560.1    No      Two year                    DSL   \n",
       "3           39.40         825.4    No      Two year                    DSL   \n",
       "4           85.15        6316.2    No      Two year                    DSL   \n",
       "\n",
       "                payment_type  \n",
       "0               Mailed check  \n",
       "1    Credit card (automatic)  \n",
       "2  Bank transfer (automatic)  \n",
       "3    Credit card (automatic)  \n",
       "4  Bank transfer (automatic)  \n",
       "\n",
       "[5 rows x 24 columns]"
      ]
     },
     "execution_count": 3,
     "metadata": {},
     "output_type": "execute_result"
    }
   ],
   "source": [
    "#check it out\n",
    "df.head()"
   ]
  },
  {
   "cell_type": "code",
   "execution_count": 4,
   "id": "c6ac43f8",
   "metadata": {},
   "outputs": [
    {
     "data": {
      "text/plain": [
       "(7043, 24)"
      ]
     },
     "execution_count": 4,
     "metadata": {},
     "output_type": "execute_result"
    }
   ],
   "source": [
    "#get the shape\n",
    "df.shape"
   ]
  },
  {
   "cell_type": "code",
   "execution_count": 5,
   "id": "f7b7bf83",
   "metadata": {},
   "outputs": [
    {
     "data": {
      "text/html": [
       "<div>\n",
       "<style scoped>\n",
       "    .dataframe tbody tr th:only-of-type {\n",
       "        vertical-align: middle;\n",
       "    }\n",
       "\n",
       "    .dataframe tbody tr th {\n",
       "        vertical-align: top;\n",
       "    }\n",
       "\n",
       "    .dataframe thead th {\n",
       "        text-align: right;\n",
       "    }\n",
       "</style>\n",
       "<table border=\"1\" class=\"dataframe\">\n",
       "  <thead>\n",
       "    <tr style=\"text-align: right;\">\n",
       "      <th></th>\n",
       "      <th>payment_type_id</th>\n",
       "      <th>internet_service_type_id</th>\n",
       "      <th>contract_type_id</th>\n",
       "      <th>senior_citizen</th>\n",
       "      <th>tenure</th>\n",
       "      <th>monthly_charges</th>\n",
       "    </tr>\n",
       "  </thead>\n",
       "  <tbody>\n",
       "    <tr>\n",
       "      <th>count</th>\n",
       "      <td>7043.000000</td>\n",
       "      <td>7043.000000</td>\n",
       "      <td>7043.000000</td>\n",
       "      <td>7043.000000</td>\n",
       "      <td>7043.000000</td>\n",
       "      <td>7043.000000</td>\n",
       "    </tr>\n",
       "    <tr>\n",
       "      <th>mean</th>\n",
       "      <td>2.315633</td>\n",
       "      <td>1.872923</td>\n",
       "      <td>1.690473</td>\n",
       "      <td>0.162147</td>\n",
       "      <td>32.371149</td>\n",
       "      <td>64.761692</td>\n",
       "    </tr>\n",
       "    <tr>\n",
       "      <th>std</th>\n",
       "      <td>1.148907</td>\n",
       "      <td>0.737796</td>\n",
       "      <td>0.833755</td>\n",
       "      <td>0.368612</td>\n",
       "      <td>24.559481</td>\n",
       "      <td>30.090047</td>\n",
       "    </tr>\n",
       "    <tr>\n",
       "      <th>min</th>\n",
       "      <td>1.000000</td>\n",
       "      <td>1.000000</td>\n",
       "      <td>1.000000</td>\n",
       "      <td>0.000000</td>\n",
       "      <td>0.000000</td>\n",
       "      <td>18.250000</td>\n",
       "    </tr>\n",
       "    <tr>\n",
       "      <th>25%</th>\n",
       "      <td>1.000000</td>\n",
       "      <td>1.000000</td>\n",
       "      <td>1.000000</td>\n",
       "      <td>0.000000</td>\n",
       "      <td>9.000000</td>\n",
       "      <td>35.500000</td>\n",
       "    </tr>\n",
       "    <tr>\n",
       "      <th>50%</th>\n",
       "      <td>2.000000</td>\n",
       "      <td>2.000000</td>\n",
       "      <td>1.000000</td>\n",
       "      <td>0.000000</td>\n",
       "      <td>29.000000</td>\n",
       "      <td>70.350000</td>\n",
       "    </tr>\n",
       "    <tr>\n",
       "      <th>75%</th>\n",
       "      <td>3.000000</td>\n",
       "      <td>2.000000</td>\n",
       "      <td>2.000000</td>\n",
       "      <td>0.000000</td>\n",
       "      <td>55.000000</td>\n",
       "      <td>89.850000</td>\n",
       "    </tr>\n",
       "    <tr>\n",
       "      <th>max</th>\n",
       "      <td>4.000000</td>\n",
       "      <td>3.000000</td>\n",
       "      <td>3.000000</td>\n",
       "      <td>1.000000</td>\n",
       "      <td>72.000000</td>\n",
       "      <td>118.750000</td>\n",
       "    </tr>\n",
       "  </tbody>\n",
       "</table>\n",
       "</div>"
      ],
      "text/plain": [
       "       payment_type_id  internet_service_type_id  contract_type_id  \\\n",
       "count      7043.000000               7043.000000       7043.000000   \n",
       "mean          2.315633                  1.872923          1.690473   \n",
       "std           1.148907                  0.737796          0.833755   \n",
       "min           1.000000                  1.000000          1.000000   \n",
       "25%           1.000000                  1.000000          1.000000   \n",
       "50%           2.000000                  2.000000          1.000000   \n",
       "75%           3.000000                  2.000000          2.000000   \n",
       "max           4.000000                  3.000000          3.000000   \n",
       "\n",
       "       senior_citizen       tenure  monthly_charges  \n",
       "count     7043.000000  7043.000000      7043.000000  \n",
       "mean         0.162147    32.371149        64.761692  \n",
       "std          0.368612    24.559481        30.090047  \n",
       "min          0.000000     0.000000        18.250000  \n",
       "25%          0.000000     9.000000        35.500000  \n",
       "50%          0.000000    29.000000        70.350000  \n",
       "75%          0.000000    55.000000        89.850000  \n",
       "max          1.000000    72.000000       118.750000  "
      ]
     },
     "execution_count": 5,
     "metadata": {},
     "output_type": "execute_result"
    }
   ],
   "source": [
    "#return a summary of statistics\n",
    "df.describe()"
   ]
  },
  {
   "cell_type": "code",
   "execution_count": 6,
   "id": "413ab3c6",
   "metadata": {},
   "outputs": [],
   "source": [
    "#plot distribution of individual variables"
   ]
  },
  {
   "cell_type": "code",
   "execution_count": 7,
   "id": "ec30da92",
   "metadata": {},
   "outputs": [
    {
     "data": {
      "text/plain": [
       "<AxesSubplot:xlabel='monthly_charges'>"
      ]
     },
     "execution_count": 7,
     "metadata": {},
     "output_type": "execute_result"
    },
    {
     "data": {
      "image/png": "[encoded data removed]",
      "text/plain": [
       "<Figure size 432x288 with 1 Axes>"
      ]
     },
     "metadata": {
      "needs_background": "light"
     },
     "output_type": "display_data"
    }
   ],
   "source": [
    "sns.distplot( a=df[\"monthly_charges\"], hist=True, kde=False, rug=False )"
   ]
  },
  {
   "cell_type": "code",
   "execution_count": 8,
   "id": "aaedf167",
   "metadata": {},
   "outputs": [
    {
     "data": {
      "text/plain": [
       "<AxesSubplot:xlabel='tenure'>"
      ]
     },
     "execution_count": 8,
     "metadata": {},
     "output_type": "execute_result"
    },
    {
     "data": {
      "image/png": "[encoded data removed]",
      "text/plain": [
       "<Figure size 432x288 with 1 Axes>"
      ]
     },
     "metadata": {
      "needs_background": "light"
     },
     "output_type": "display_data"
    }
   ],
   "source": [
    "sns.distplot( a=df[\"tenure\"], hist=True, kde=False, rug=False )"
   ]
  },
  {
   "cell_type": "code",
   "execution_count": 13,
   "id": "1f42e78f",
   "metadata": {},
   "outputs": [
    {
     "data": {
      "text/plain": [
       "<AxesSubplot:xlabel='total_charges'>"
      ]
     },
     "execution_count": 13,
     "metadata": {},
     "output_type": "execute_result"
    },
    {
     "data": {
      "image/png": "[encoded data removed]",
      "text/plain": [
       "<Figure size 432x288 with 1 Axes>"
      ]
     },
     "metadata": {
      "needs_background": "light"
     },
     "output_type": "display_data"
    }
   ],
   "source": [
    "sns.distplot( a=df[\"total_charges\"], hist=True, kde=False, rug=False )"
   ]
  },
  {
   "cell_type": "markdown",
   "id": "a23759dd",
   "metadata": {},
   "source": [
    "**Acquire Takeaways**\n",
    "\n",
    "I wrote a sql query to acquire my data from the Codeup database.\n",
    "\n",
    "I'm importing my get_connection function from my acquire.py file \n",
    "\n",
    "I'm bringing in 7043 rows and 24 columns on my initial acquisition."
   ]
  },
  {
   "cell_type": "markdown",
   "id": "26990c6a",
   "metadata": {},
   "source": [
    "____________________________________________________________________________________________"
   ]
  },
  {
   "cell_type": "markdown",
   "id": "fa0fa7c4",
   "metadata": {},
   "source": [
    "**Prepare**"
   ]
  },
  {
   "cell_type": "code",
   "execution_count": 12,
   "id": "eb1a7066",
   "metadata": {},
   "outputs": [],
   "source": [
    "# This function takes in a dataframe and preps it according to my specifications\n",
    "prep_telco(df)"
   ]
  },
  {
   "cell_type": "code",
   "execution_count": 14,
   "id": "948a3fa2",
   "metadata": {},
   "outputs": [],
   "source": [
    "def train_validate_test_split(df, target, seed=123):\n",
    "    '''\n",
    "    This function takes in a dataframe, the name of the target variable\n",
    "    (for stratification purposes), and an integer for a setting a seed\n",
    "    and splits the data into train, validate and test. \n",
    "    Test is 20% of the original dataset, validate is .30*.80= 24% of the \n",
    "    original dataset, and train is .70*.80= 56% of the original dataset. \n",
    "    The function returns, in this order, train, validate and test dataframes. \n",
    "    '''\n",
    "    train_validate, test = train_test_split(df, test_size=0.2, \n",
    "                                            random_state=seed, \n",
    "                                            stratify=df[target])\n",
    "    train, validate = train_test_split(train_validate, test_size=0.3, \n",
    "                                       random_state=seed,\n",
    "                                       stratify=train_validate[target])\n",
    "    return train, validate, test"
   ]
  },
  {
   "cell_type": "code",
   "execution_count": 15,
   "id": "39b518d2",
   "metadata": {},
   "outputs": [
    {
     "data": {
      "text/html": [
       "<div>\n",
       "<style scoped>\n",
       "    .dataframe tbody tr th:only-of-type {\n",
       "        vertical-align: middle;\n",
       "    }\n",
       "\n",
       "    .dataframe tbody tr th {\n",
       "        vertical-align: top;\n",
       "    }\n",
       "\n",
       "    .dataframe thead th {\n",
       "        text-align: right;\n",
       "    }\n",
       "</style>\n",
       "<table border=\"1\" class=\"dataframe\">\n",
       "  <thead>\n",
       "    <tr style=\"text-align: right;\">\n",
       "      <th></th>\n",
       "      <th>gender</th>\n",
       "      <th>senior_citizen</th>\n",
       "      <th>partner</th>\n",
       "      <th>dependents</th>\n",
       "      <th>tenure</th>\n",
       "      <th>phone_service</th>\n",
       "      <th>multiple_lines</th>\n",
       "      <th>paperless_billing</th>\n",
       "      <th>monthly_charges</th>\n",
       "      <th>total_charges</th>\n",
       "      <th>churn</th>\n",
       "      <th>contract_type</th>\n",
       "      <th>internet_service_type</th>\n",
       "      <th>payment_type</th>\n",
       "    </tr>\n",
       "  </thead>\n",
       "  <tbody>\n",
       "    <tr>\n",
       "      <th>6096</th>\n",
       "      <td>Female</td>\n",
       "      <td>0</td>\n",
       "      <td>Yes</td>\n",
       "      <td>No</td>\n",
       "      <td>70</td>\n",
       "      <td>Yes</td>\n",
       "      <td>No</td>\n",
       "      <td>No</td>\n",
       "      <td>19.45</td>\n",
       "      <td>1303.5</td>\n",
       "      <td>No</td>\n",
       "      <td>Two year</td>\n",
       "      <td>None</td>\n",
       "      <td>Bank transfer (automatic)</td>\n",
       "    </tr>\n",
       "    <tr>\n",
       "      <th>1603</th>\n",
       "      <td>Male</td>\n",
       "      <td>0</td>\n",
       "      <td>Yes</td>\n",
       "      <td>Yes</td>\n",
       "      <td>15</td>\n",
       "      <td>Yes</td>\n",
       "      <td>No</td>\n",
       "      <td>Yes</td>\n",
       "      <td>69.50</td>\n",
       "      <td>1071.4</td>\n",
       "      <td>No</td>\n",
       "      <td>Month-to-month</td>\n",
       "      <td>DSL</td>\n",
       "      <td>Mailed check</td>\n",
       "    </tr>\n",
       "  </tbody>\n",
       "</table>\n",
       "</div>"
      ],
      "text/plain": [
       "      gender  senior_citizen partner dependents  tenure phone_service  \\\n",
       "6096  Female               0     Yes         No      70           Yes   \n",
       "1603    Male               0     Yes        Yes      15           Yes   \n",
       "\n",
       "     multiple_lines paperless_billing  monthly_charges total_charges churn  \\\n",
       "6096             No                No            19.45        1303.5    No   \n",
       "1603             No               Yes            69.50        1071.4    No   \n",
       "\n",
       "       contract_type internet_service_type               payment_type  \n",
       "6096        Two year                  None  Bank transfer (automatic)  \n",
       "1603  Month-to-month                   DSL               Mailed check  "
      ]
     },
     "execution_count": 15,
     "metadata": {},
     "output_type": "execute_result"
    }
   ],
   "source": [
    "train, validate, test = train_validate_test_split(df, target='churn')\n",
    "train.head(2)"
   ]
  },
  {
   "cell_type": "code",
   "execution_count": 16,
   "id": "d72dab84",
   "metadata": {},
   "outputs": [
    {
     "name": "stdout",
     "output_type": "stream",
     "text": [
      "train -> (3937, 14)\n",
      "validate -> (1688, 14)\n",
      "test -> (1407, 14)\n"
     ]
    }
   ],
   "source": [
    "print(f'train -> {train.shape}')\n",
    "print(f'validate -> {validate.shape}')\n",
    "print(f'test -> {test.shape}')"
   ]
  },
  {
   "cell_type": "markdown",
   "id": "a9449e63",
   "metadata": {},
   "source": [
    "**Prepare Takeaways**\n",
    "\n",
    "I checked for Null values; this is a squeaky clean dataset, so I don't have to deal with missing values.\n",
    "\n",
    "I dropped all the columns that were id's there were 3, I also dropped all the additional services since I'm not intersted in exploring those.\n",
    "\n",
    "I found 11 missing values for customers who never paid their bill in total_charges so I deleted those rows.\n",
    "\n",
    "Next I changed total_charges to numeric from object so I could plot it in explore.\n",
    "\n",
    "On initial viewing of distributions of features, I can see that monthly_charges looks normally distributed other than the huge pile-up at tenure month 1, tenure distribution has bimodal distribution which could correlate with churn or no churn I'll check that out in explore, and total charges is right-skewed.\n",
    "\n",
    "I'll split my data into train, validate, and test datasets, stratifying my churn column."
   ]
  },
  {
   "cell_type": "markdown",
   "id": "a6124845",
   "metadata": {},
   "source": [
    "____________________________________________________________________________________________"
   ]
  },
  {
   "cell_type": "markdown",
   "id": "7e4ffe40",
   "metadata": {},
   "source": [
    "**Explore Data**"
   ]
  },
  {
   "cell_type": "code",
   "execution_count": 17,
   "id": "fe4aeeb2",
   "metadata": {},
   "outputs": [
    {
     "data": {
      "image/png": "[encoded data removed]",
      "text/plain": [
       "<Figure size 592x540 with 12 Axes>"
      ]
     },
     "metadata": {
      "needs_background": "light"
     },
     "output_type": "display_data"
    }
   ],
   "source": [
    "sns.pairplot(train, hue='churn')\n",
    "plt.show()"
   ]
  },
  {
   "cell_type": "markdown",
   "id": "4a149ec2",
   "metadata": {},
   "source": [
    "**Takeaway from pairplot**\n",
    "\n",
    "-customers churn more often at the lower tenures\n",
    "\n",
    "-customers churn the lesast with high monthly bills and high tenure\n",
    "\n",
    "-senior citizens with all types of tenure churn at a similar rate unlike the rest of the population that mostly churns at a lower tenure"
   ]
  },
  {
   "cell_type": "code",
   "execution_count": 18,
   "id": "e4dd3cba",
   "metadata": {},
   "outputs": [],
   "source": [
    "# this will make my charts bigger\n",
    "sns.set(rc={'figure.figsize':(11.7,8.27)})"
   ]
  },
  {
   "cell_type": "code",
   "execution_count": 19,
   "id": "f4b8afa5",
   "metadata": {},
   "outputs": [
    {
     "data": {
      "image/png": "[encoded data removed]",
      "text/plain": [
       "<Figure size 842.4x595.44 with 1 Axes>"
      ]
     },
     "metadata": {},
     "output_type": "display_data"
    }
   ],
   "source": [
    "# plot senior_citizen by churn\n",
    "sns.countplot(data=train, x='senior_citizen', hue='churn')\n",
    "plt.show()"
   ]
  },
  {
   "cell_type": "code",
   "execution_count": 20,
   "id": "7abb8b4a",
   "metadata": {},
   "outputs": [
    {
     "data": {
      "image/png": "[encoded data removed]",
      "text/plain": [
       "<Figure size 842.4x595.44 with 1 Axes>"
      ]
     },
     "metadata": {},
     "output_type": "display_data"
    }
   ],
   "source": [
    "# plot payment_type by churn\n",
    "sns.countplot(data=train, x='payment_type', hue='churn')\n",
    "plt.show()"
   ]
  },
  {
   "cell_type": "markdown",
   "id": "06b867e8",
   "metadata": {},
   "source": [
    "**Countplot Takeaways**\n",
    "\n",
    "-seniors churn at a much higher rate than other customers\n",
    "\n",
    "-customers who pay with electronic check churn near as much as all the other 3 payment types combined"
   ]
  },
  {
   "cell_type": "code",
   "execution_count": 21,
   "id": "896ff791",
   "metadata": {},
   "outputs": [
    {
     "data": {
      "text/html": [
       "<style  type=\"text/css\" >\n",
       "#T_21785_row0_col0,#T_21785_row1_col0,#T_21785_row1_col1,#T_21785_row1_col2{\n",
       "            background-color:  #ffffcc;\n",
       "            color:  #000000;\n",
       "        }#T_21785_row0_col1{\n",
       "            background-color:  #fff8ba;\n",
       "            color:  #000000;\n",
       "        }#T_21785_row0_col2{\n",
       "            background-color:  #fffdc6;\n",
       "            color:  #000000;\n",
       "        }#T_21785_row2_col0{\n",
       "            background-color:  #fffecb;\n",
       "            color:  #000000;\n",
       "        }#T_21785_row2_col1{\n",
       "            background-color:  #fd8a3b;\n",
       "            color:  #000000;\n",
       "        }#T_21785_row2_col2{\n",
       "            background-color:  #ffe997;\n",
       "            color:  #000000;\n",
       "        }#T_21785_row3_col0{\n",
       "            background-color:  #fffec9;\n",
       "            color:  #000000;\n",
       "        }#T_21785_row3_col1{\n",
       "            background-color:  #fff8bb;\n",
       "            color:  #000000;\n",
       "        }#T_21785_row3_col2{\n",
       "            background-color:  #fffcc5;\n",
       "            color:  #000000;\n",
       "        }#T_21785_row4_col0,#T_21785_row4_col1,#T_21785_row4_col2{\n",
       "            background-color:  #800026;\n",
       "            color:  #f1f1f1;\n",
       "        }</style><table id=\"T_21785_\" ><thead>    <tr>        <th class=\"index_name level0\" >churn</th>        <th class=\"col_heading level0 col0\" >No</th>        <th class=\"col_heading level0 col1\" >Yes</th>        <th class=\"col_heading level0 col2\" >All</th>    </tr>    <tr>        <th class=\"index_name level0\" >payment_type</th>        <th class=\"blank\" ></th>        <th class=\"blank\" ></th>        <th class=\"blank\" ></th>    </tr></thead><tbody>\n",
       "                <tr>\n",
       "                        <th id=\"T_21785_level0_row0\" class=\"row_heading level0 row0\" >Bank transfer (automatic)</th>\n",
       "                        <td id=\"T_21785_row0_col0\" class=\"data row0 col0\" >719</td>\n",
       "                        <td id=\"T_21785_row0_col1\" class=\"data row0 col1\" >170</td>\n",
       "                        <td id=\"T_21785_row0_col2\" class=\"data row0 col2\" >889</td>\n",
       "            </tr>\n",
       "            <tr>\n",
       "                        <th id=\"T_21785_level0_row1\" class=\"row_heading level0 row1\" >Credit card (automatic)</th>\n",
       "                        <td id=\"T_21785_row1_col0\" class=\"data row1 col0\" >712</td>\n",
       "                        <td id=\"T_21785_row1_col1\" class=\"data row1 col1\" >122</td>\n",
       "                        <td id=\"T_21785_row1_col2\" class=\"data row1 col2\" >834</td>\n",
       "            </tr>\n",
       "            <tr>\n",
       "                        <th id=\"T_21785_level0_row2\" class=\"row_heading level0 row2\" >Electronic check</th>\n",
       "                        <td id=\"T_21785_row2_col0\" class=\"data row2 col0\" >723</td>\n",
       "                        <td id=\"T_21785_row2_col1\" class=\"data row2 col1\" >588</td>\n",
       "                        <td id=\"T_21785_row2_col2\" class=\"data row2 col2\" >1311</td>\n",
       "            </tr>\n",
       "            <tr>\n",
       "                        <th id=\"T_21785_level0_row3\" class=\"row_heading level0 row3\" >Mailed check</th>\n",
       "                        <td id=\"T_21785_row3_col0\" class=\"data row3 col0\" >737</td>\n",
       "                        <td id=\"T_21785_row3_col1\" class=\"data row3 col1\" >166</td>\n",
       "                        <td id=\"T_21785_row3_col2\" class=\"data row3 col2\" >903</td>\n",
       "            </tr>\n",
       "            <tr>\n",
       "                        <th id=\"T_21785_level0_row4\" class=\"row_heading level0 row4\" >All</th>\n",
       "                        <td id=\"T_21785_row4_col0\" class=\"data row4 col0\" >2891</td>\n",
       "                        <td id=\"T_21785_row4_col1\" class=\"data row4 col1\" >1046</td>\n",
       "                        <td id=\"T_21785_row4_col2\" class=\"data row4 col2\" >3937</td>\n",
       "            </tr>\n",
       "    </tbody></table>"
      ],
      "text/plain": [
       "<pandas.io.formats.style.Styler at 0x7f97bb5d7d00>"
      ]
     },
     "execution_count": 21,
     "metadata": {},
     "output_type": "execute_result"
    }
   ],
   "source": [
    "#create a heatmap payment_type and churn\n",
    "pd.crosstab(train.payment_type, train.churn, margins=True).style.background_gradient(cmap='YlOrRd')"
   ]
  },
  {
   "cell_type": "code",
   "execution_count": 22,
   "id": "06555c8e",
   "metadata": {},
   "outputs": [
    {
     "data": {
      "text/html": [
       "<style  type=\"text/css\" >\n",
       "#T_0b229_row0_col0{\n",
       "            background-color:  #c30424;\n",
       "            color:  #f1f1f1;\n",
       "        }#T_0b229_row0_col1{\n",
       "            background-color:  #fa4a29;\n",
       "            color:  #000000;\n",
       "        }#T_0b229_row0_col2{\n",
       "            background-color:  #d30f20;\n",
       "            color:  #f1f1f1;\n",
       "        }#T_0b229_row1_col0,#T_0b229_row1_col1,#T_0b229_row1_col2{\n",
       "            background-color:  #ffffcc;\n",
       "            color:  #000000;\n",
       "        }#T_0b229_row2_col0,#T_0b229_row2_col1,#T_0b229_row2_col2{\n",
       "            background-color:  #800026;\n",
       "            color:  #f1f1f1;\n",
       "        }</style><table id=\"T_0b229_\" ><thead>    <tr>        <th class=\"index_name level0\" >churn</th>        <th class=\"col_heading level0 col0\" >No</th>        <th class=\"col_heading level0 col1\" >Yes</th>        <th class=\"col_heading level0 col2\" >All</th>    </tr>    <tr>        <th class=\"index_name level0\" >senior_citizen</th>        <th class=\"blank\" ></th>        <th class=\"blank\" ></th>        <th class=\"blank\" ></th>    </tr></thead><tbody>\n",
       "                <tr>\n",
       "                        <th id=\"T_0b229_level0_row0\" class=\"row_heading level0 row0\" >0</th>\n",
       "                        <td id=\"T_0b229_row0_col0\" class=\"data row0 col0\" >2524</td>\n",
       "                        <td id=\"T_0b229_row0_col1\" class=\"data row0 col1\" >766</td>\n",
       "                        <td id=\"T_0b229_row0_col2\" class=\"data row0 col2\" >3290</td>\n",
       "            </tr>\n",
       "            <tr>\n",
       "                        <th id=\"T_0b229_level0_row1\" class=\"row_heading level0 row1\" >1</th>\n",
       "                        <td id=\"T_0b229_row1_col0\" class=\"data row1 col0\" >367</td>\n",
       "                        <td id=\"T_0b229_row1_col1\" class=\"data row1 col1\" >280</td>\n",
       "                        <td id=\"T_0b229_row1_col2\" class=\"data row1 col2\" >647</td>\n",
       "            </tr>\n",
       "            <tr>\n",
       "                        <th id=\"T_0b229_level0_row2\" class=\"row_heading level0 row2\" >All</th>\n",
       "                        <td id=\"T_0b229_row2_col0\" class=\"data row2 col0\" >2891</td>\n",
       "                        <td id=\"T_0b229_row2_col1\" class=\"data row2 col1\" >1046</td>\n",
       "                        <td id=\"T_0b229_row2_col2\" class=\"data row2 col2\" >3937</td>\n",
       "            </tr>\n",
       "    </tbody></table>"
      ],
      "text/plain": [
       "<pandas.io.formats.style.Styler at 0x7f97bcfa7760>"
      ]
     },
     "execution_count": 22,
     "metadata": {},
     "output_type": "execute_result"
    }
   ],
   "source": [
    "#create a heatmap senior_citizen and churn\n",
    "pd.crosstab(train.senior_citizen, train.churn, margins=True).style.background_gradient(cmap='YlOrRd')"
   ]
  },
  {
   "cell_type": "markdown",
   "id": "8db748fd",
   "metadata": {},
   "source": [
    "**Takeaways from heatmaps**\n",
    "-Electronic check has the highest churn \n",
    "-senior_citizens churn more than non-senior_citizens  "
   ]
  },
  {
   "cell_type": "markdown",
   "id": "95ef8f1a",
   "metadata": {},
   "source": [
    "____________________________________________________________________________________________"
   ]
  },
  {
   "cell_type": "markdown",
   "id": "22be4438",
   "metadata": {},
   "source": [
    "**Statistical Testing**"
   ]
  },
  {
   "cell_type": "markdown",
   "id": "1e47eefa",
   "metadata": {},
   "source": [
    "Hypothesis 1: Let's see if there is a relationship between payment type and churn.\n",
    "\n",
    "alpha = .05\n",
    "\n",
    "$H_0$: There is no relationship between payment type and churn, they are independent. \n",
    "\n",
    "$H_a$: There is a relationship between payment type and churn, they are dependent on each other.\n"
   ]
  },
  {
   "cell_type": "markdown",
   "id": "06febb94",
   "metadata": {},
   "source": [
    "**Baseline Accuracy**"
   ]
  },
  {
   "cell_type": "code",
   "execution_count": 23,
   "id": "62f316f4",
   "metadata": {},
   "outputs": [
    {
     "name": "stdout",
     "output_type": "stream",
     "text": [
      "My baseline accuracy is 73.43%.\n"
     ]
    }
   ],
   "source": [
    "baseline = train.churn.value_counts().nlargest(1) / train.shape[0]\n",
    "print(f'My baseline accuracy is {round(baseline.values[0] * 100,2)}%.')"
   ]
  },
  {
   "cell_type": "code",
   "execution_count": 24,
   "id": "242ed143",
   "metadata": {},
   "outputs": [
    {
     "data": {
      "text/html": [
       "<div>\n",
       "<style scoped>\n",
       "    .dataframe tbody tr th:only-of-type {\n",
       "        vertical-align: middle;\n",
       "    }\n",
       "\n",
       "    .dataframe tbody tr th {\n",
       "        vertical-align: top;\n",
       "    }\n",
       "\n",
       "    .dataframe thead th {\n",
       "        text-align: right;\n",
       "    }\n",
       "</style>\n",
       "<table border=\"1\" class=\"dataframe\">\n",
       "  <thead>\n",
       "    <tr style=\"text-align: right;\">\n",
       "      <th></th>\n",
       "      <th>senior_citizen</th>\n",
       "      <th>payment_type_Bank transfer (automatic)</th>\n",
       "      <th>payment_type_Credit card (automatic)</th>\n",
       "      <th>payment_type_Electronic check</th>\n",
       "      <th>payment_type_Mailed check</th>\n",
       "    </tr>\n",
       "  </thead>\n",
       "  <tbody>\n",
       "    <tr>\n",
       "      <th>0</th>\n",
       "      <td>0</td>\n",
       "      <td>0</td>\n",
       "      <td>0</td>\n",
       "      <td>0</td>\n",
       "      <td>1</td>\n",
       "    </tr>\n",
       "    <tr>\n",
       "      <th>1</th>\n",
       "      <td>0</td>\n",
       "      <td>0</td>\n",
       "      <td>1</td>\n",
       "      <td>0</td>\n",
       "      <td>0</td>\n",
       "    </tr>\n",
       "    <tr>\n",
       "      <th>2</th>\n",
       "      <td>0</td>\n",
       "      <td>1</td>\n",
       "      <td>0</td>\n",
       "      <td>0</td>\n",
       "      <td>0</td>\n",
       "    </tr>\n",
       "    <tr>\n",
       "      <th>3</th>\n",
       "      <td>0</td>\n",
       "      <td>0</td>\n",
       "      <td>1</td>\n",
       "      <td>0</td>\n",
       "      <td>0</td>\n",
       "    </tr>\n",
       "    <tr>\n",
       "      <th>4</th>\n",
       "      <td>0</td>\n",
       "      <td>1</td>\n",
       "      <td>0</td>\n",
       "      <td>0</td>\n",
       "      <td>0</td>\n",
       "    </tr>\n",
       "  </tbody>\n",
       "</table>\n",
       "</div>"
      ],
      "text/plain": [
       "   senior_citizen  payment_type_Bank transfer (automatic)  \\\n",
       "0               0                                       0   \n",
       "1               0                                       0   \n",
       "2               0                                       1   \n",
       "3               0                                       0   \n",
       "4               0                                       1   \n",
       "\n",
       "   payment_type_Credit card (automatic)  payment_type_Electronic check  \\\n",
       "0                                     0                              0   \n",
       "1                                     1                              0   \n",
       "2                                     0                              0   \n",
       "3                                     1                              0   \n",
       "4                                     0                              0   \n",
       "\n",
       "   payment_type_Mailed check  \n",
       "0                          1  \n",
       "1                          0  \n",
       "2                          0  \n",
       "3                          0  \n",
       "4                          0  "
      ]
     },
     "execution_count": 24,
     "metadata": {},
     "output_type": "execute_result"
    }
   ],
   "source": [
    "# make dummy variable for senior_citizen and payment_type\n",
    "\n",
    "dummy_df = pd.get_dummies(df[['senior_citizen','payment_type']])\n",
    "dummy_df.head()"
   ]
  },
  {
   "cell_type": "code",
   "execution_count": 25,
   "id": "527b7688",
   "metadata": {},
   "outputs": [
    {
     "data": {
      "text/html": [
       "<div>\n",
       "<style scoped>\n",
       "    .dataframe tbody tr th:only-of-type {\n",
       "        vertical-align: middle;\n",
       "    }\n",
       "\n",
       "    .dataframe tbody tr th {\n",
       "        vertical-align: top;\n",
       "    }\n",
       "\n",
       "    .dataframe thead th {\n",
       "        text-align: right;\n",
       "    }\n",
       "</style>\n",
       "<table border=\"1\" class=\"dataframe\">\n",
       "  <thead>\n",
       "    <tr style=\"text-align: right;\">\n",
       "      <th></th>\n",
       "      <th>gender</th>\n",
       "      <th>senior_citizen</th>\n",
       "      <th>partner</th>\n",
       "      <th>dependents</th>\n",
       "      <th>tenure</th>\n",
       "      <th>phone_service</th>\n",
       "      <th>multiple_lines</th>\n",
       "      <th>paperless_billing</th>\n",
       "      <th>monthly_charges</th>\n",
       "      <th>total_charges</th>\n",
       "      <th>churn</th>\n",
       "      <th>contract_type</th>\n",
       "      <th>internet_service_type</th>\n",
       "      <th>payment_type</th>\n",
       "      <th>senior_citizen</th>\n",
       "      <th>payment_type_Bank transfer (automatic)</th>\n",
       "      <th>payment_type_Credit card (automatic)</th>\n",
       "      <th>payment_type_Electronic check</th>\n",
       "      <th>payment_type_Mailed check</th>\n",
       "    </tr>\n",
       "  </thead>\n",
       "  <tbody>\n",
       "    <tr>\n",
       "      <th>0</th>\n",
       "      <td>Female</td>\n",
       "      <td>0</td>\n",
       "      <td>Yes</td>\n",
       "      <td>Yes</td>\n",
       "      <td>65</td>\n",
       "      <td>Yes</td>\n",
       "      <td>Yes</td>\n",
       "      <td>Yes</td>\n",
       "      <td>90.45</td>\n",
       "      <td>5957.9</td>\n",
       "      <td>No</td>\n",
       "      <td>Two year</td>\n",
       "      <td>DSL</td>\n",
       "      <td>Mailed check</td>\n",
       "      <td>0</td>\n",
       "      <td>0</td>\n",
       "      <td>0</td>\n",
       "      <td>0</td>\n",
       "      <td>1</td>\n",
       "    </tr>\n",
       "  </tbody>\n",
       "</table>\n",
       "</div>"
      ],
      "text/plain": [
       "   gender  senior_citizen partner dependents  tenure phone_service  \\\n",
       "0  Female               0     Yes        Yes      65           Yes   \n",
       "\n",
       "  multiple_lines paperless_billing  monthly_charges total_charges churn  \\\n",
       "0            Yes               Yes            90.45        5957.9    No   \n",
       "\n",
       "  contract_type internet_service_type  payment_type  senior_citizen  \\\n",
       "0      Two year                   DSL  Mailed check               0   \n",
       "\n",
       "   payment_type_Bank transfer (automatic)  \\\n",
       "0                                       0   \n",
       "\n",
       "   payment_type_Credit card (automatic)  payment_type_Electronic check  \\\n",
       "0                                     0                              0   \n",
       "\n",
       "   payment_type_Mailed check  \n",
       "0                          1  "
      ]
     },
     "execution_count": 25,
     "metadata": {},
     "output_type": "execute_result"
    }
   ],
   "source": [
    "# concatenate the dummy_df dataframe above with the original df \n",
    "\n",
    "df = pd.concat([df, dummy_df], axis=1)\n",
    "df.head(1)"
   ]
  },
  {
   "cell_type": "code",
   "execution_count": 26,
   "id": "d595da36",
   "metadata": {},
   "outputs": [],
   "source": [
    "# test hypothesis 1"
   ]
  },
  {
   "cell_type": "code",
   "execution_count": 27,
   "id": "080b5813",
   "metadata": {},
   "outputs": [],
   "source": [
    "#set alpha to .05\n",
    "a = .05"
   ]
  },
  {
   "cell_type": "code",
   "execution_count": 28,
   "id": "5b534e2a",
   "metadata": {},
   "outputs": [
    {
     "data": {
      "text/html": [
       "<div>\n",
       "<style scoped>\n",
       "    .dataframe tbody tr th:only-of-type {\n",
       "        vertical-align: middle;\n",
       "    }\n",
       "\n",
       "    .dataframe tbody tr th {\n",
       "        vertical-align: top;\n",
       "    }\n",
       "\n",
       "    .dataframe thead th {\n",
       "        text-align: right;\n",
       "    }\n",
       "</style>\n",
       "<table border=\"1\" class=\"dataframe\">\n",
       "  <thead>\n",
       "    <tr style=\"text-align: right;\">\n",
       "      <th>payment_type</th>\n",
       "      <th>Bank transfer (automatic)</th>\n",
       "      <th>Credit card (automatic)</th>\n",
       "      <th>Electronic check</th>\n",
       "      <th>Mailed check</th>\n",
       "    </tr>\n",
       "    <tr>\n",
       "      <th>churn</th>\n",
       "      <th></th>\n",
       "      <th></th>\n",
       "      <th></th>\n",
       "      <th></th>\n",
       "    </tr>\n",
       "  </thead>\n",
       "  <tbody>\n",
       "    <tr>\n",
       "      <th>No</th>\n",
       "      <td>719</td>\n",
       "      <td>712</td>\n",
       "      <td>723</td>\n",
       "      <td>737</td>\n",
       "    </tr>\n",
       "    <tr>\n",
       "      <th>Yes</th>\n",
       "      <td>170</td>\n",
       "      <td>122</td>\n",
       "      <td>588</td>\n",
       "      <td>166</td>\n",
       "    </tr>\n",
       "  </tbody>\n",
       "</table>\n",
       "</div>"
      ],
      "text/plain": [
       "payment_type  Bank transfer (automatic)  Credit card (automatic)  \\\n",
       "churn                                                              \n",
       "No                                  719                      712   \n",
       "Yes                                 170                      122   \n",
       "\n",
       "payment_type  Electronic check  Mailed check  \n",
       "churn                                         \n",
       "No                         723           737  \n",
       "Yes                        588           166  "
      ]
     },
     "execution_count": 28,
     "metadata": {},
     "output_type": "execute_result"
    }
   ],
   "source": [
    "observed = pd.crosstab(train.churn, train.payment_type)\n",
    "observed"
   ]
  },
  {
   "cell_type": "code",
   "execution_count": 29,
   "id": "a071f843",
   "metadata": {},
   "outputs": [
    {
     "data": {
      "text/plain": [
       "(341.8332932781657, 8.748945233390548e-74)"
      ]
     },
     "execution_count": 29,
     "metadata": {},
     "output_type": "execute_result"
    }
   ],
   "source": [
    "chi2, p ,degf, expected = stats.chi2_contingency(observed)\n",
    "chi2, p"
   ]
  },
  {
   "cell_type": "code",
   "execution_count": 30,
   "id": "b701ddf8",
   "metadata": {},
   "outputs": [
    {
     "name": "stdout",
     "output_type": "stream",
     "text": [
      "Reject null hypothesis, payment type and churn are not independent\n"
     ]
    }
   ],
   "source": [
    "if p < a:\n",
    "    print(\"Reject null hypothesis, payment type and churn are not independent\")\n",
    "else:\n",
    "    print(\"Fail to reject null hypothesis, payment type and churn are independent, let's keep finding features that are not.\")"
   ]
  },
  {
   "cell_type": "code",
   "execution_count": 31,
   "id": "de694d7f",
   "metadata": {},
   "outputs": [],
   "source": [
    "#test hypothesis 2"
   ]
  },
  {
   "cell_type": "code",
   "execution_count": 32,
   "id": "585cd221",
   "metadata": {},
   "outputs": [],
   "source": [
    "#set alpha to .05\n",
    "a = .05"
   ]
  },
  {
   "cell_type": "code",
   "execution_count": 33,
   "id": "9ab8b9f7",
   "metadata": {},
   "outputs": [
    {
     "data": {
      "text/html": [
       "<div>\n",
       "<style scoped>\n",
       "    .dataframe tbody tr th:only-of-type {\n",
       "        vertical-align: middle;\n",
       "    }\n",
       "\n",
       "    .dataframe tbody tr th {\n",
       "        vertical-align: top;\n",
       "    }\n",
       "\n",
       "    .dataframe thead th {\n",
       "        text-align: right;\n",
       "    }\n",
       "</style>\n",
       "<table border=\"1\" class=\"dataframe\">\n",
       "  <thead>\n",
       "    <tr style=\"text-align: right;\">\n",
       "      <th>senior_citizen</th>\n",
       "      <th>0</th>\n",
       "      <th>1</th>\n",
       "    </tr>\n",
       "    <tr>\n",
       "      <th>churn</th>\n",
       "      <th></th>\n",
       "      <th></th>\n",
       "    </tr>\n",
       "  </thead>\n",
       "  <tbody>\n",
       "    <tr>\n",
       "      <th>No</th>\n",
       "      <td>2524</td>\n",
       "      <td>367</td>\n",
       "    </tr>\n",
       "    <tr>\n",
       "      <th>Yes</th>\n",
       "      <td>766</td>\n",
       "      <td>280</td>\n",
       "    </tr>\n",
       "  </tbody>\n",
       "</table>\n",
       "</div>"
      ],
      "text/plain": [
       "senior_citizen     0    1\n",
       "churn                    \n",
       "No              2524  367\n",
       "Yes              766  280"
      ]
     },
     "execution_count": 33,
     "metadata": {},
     "output_type": "execute_result"
    }
   ],
   "source": [
    "observed = pd.crosstab(train.churn, train.senior_citizen)\n",
    "observed"
   ]
  },
  {
   "cell_type": "code",
   "execution_count": 34,
   "id": "474e61c5",
   "metadata": {},
   "outputs": [
    {
     "data": {
      "text/plain": [
       "(109.76347560274587, 1.1040911367340458e-25)"
      ]
     },
     "execution_count": 34,
     "metadata": {},
     "output_type": "execute_result"
    }
   ],
   "source": [
    "chi2, p ,degf, expected = stats.chi2_contingency(observed)\n",
    "chi2, p"
   ]
  },
  {
   "cell_type": "markdown",
   "id": "5f0d4821",
   "metadata": {},
   "source": [
    "if p < a:\n",
    "    print(\"Reject null hypothesis, payment type and churn are not independent\")\n",
    "else:\n",
    "    print(\"Fail to reject null hypothesis, senior citizen status and churn are independent, let's keep finding features that are not.\")"
   ]
  },
  {
   "cell_type": "markdown",
   "id": "3e042090",
   "metadata": {},
   "source": [
    "Stats testing Takeaway"
   ]
  },
  {
   "cell_type": "markdown",
   "id": "540c555b",
   "metadata": {},
   "source": [
    "**Model & Evaluate**"
   ]
  },
  {
   "cell_type": "code",
   "execution_count": 36,
   "id": "31e4ce56",
   "metadata": {},
   "outputs": [],
   "source": [
    "#copy the train dataset\n",
    "train_encoded = train.copy()"
   ]
  },
  {
   "cell_type": "code",
   "execution_count": 37,
   "id": "da589e49",
   "metadata": {},
   "outputs": [
    {
     "data": {
      "text/html": [
       "<div>\n",
       "<style scoped>\n",
       "    .dataframe tbody tr th:only-of-type {\n",
       "        vertical-align: middle;\n",
       "    }\n",
       "\n",
       "    .dataframe tbody tr th {\n",
       "        vertical-align: top;\n",
       "    }\n",
       "\n",
       "    .dataframe thead th {\n",
       "        text-align: right;\n",
       "    }\n",
       "</style>\n",
       "<table border=\"1\" class=\"dataframe\">\n",
       "  <thead>\n",
       "    <tr style=\"text-align: right;\">\n",
       "      <th></th>\n",
       "      <th>gender</th>\n",
       "      <th>senior_citizen</th>\n",
       "      <th>partner</th>\n",
       "      <th>dependents</th>\n",
       "      <th>tenure</th>\n",
       "      <th>phone_service</th>\n",
       "      <th>multiple_lines</th>\n",
       "      <th>paperless_billing</th>\n",
       "      <th>monthly_charges</th>\n",
       "      <th>total_charges</th>\n",
       "      <th>churn</th>\n",
       "      <th>contract_type</th>\n",
       "      <th>internet_service_type</th>\n",
       "      <th>payment_type</th>\n",
       "    </tr>\n",
       "  </thead>\n",
       "  <tbody>\n",
       "    <tr>\n",
       "      <th>6096</th>\n",
       "      <td>Female</td>\n",
       "      <td>0</td>\n",
       "      <td>Yes</td>\n",
       "      <td>No</td>\n",
       "      <td>70</td>\n",
       "      <td>Yes</td>\n",
       "      <td>No</td>\n",
       "      <td>No</td>\n",
       "      <td>19.45</td>\n",
       "      <td>1303.5</td>\n",
       "      <td>No</td>\n",
       "      <td>Two year</td>\n",
       "      <td>None</td>\n",
       "      <td>Bank transfer (automatic)</td>\n",
       "    </tr>\n",
       "    <tr>\n",
       "      <th>1603</th>\n",
       "      <td>Male</td>\n",
       "      <td>0</td>\n",
       "      <td>Yes</td>\n",
       "      <td>Yes</td>\n",
       "      <td>15</td>\n",
       "      <td>Yes</td>\n",
       "      <td>No</td>\n",
       "      <td>Yes</td>\n",
       "      <td>69.50</td>\n",
       "      <td>1071.4</td>\n",
       "      <td>No</td>\n",
       "      <td>Month-to-month</td>\n",
       "      <td>DSL</td>\n",
       "      <td>Mailed check</td>\n",
       "    </tr>\n",
       "    <tr>\n",
       "      <th>5350</th>\n",
       "      <td>Female</td>\n",
       "      <td>1</td>\n",
       "      <td>Yes</td>\n",
       "      <td>No</td>\n",
       "      <td>52</td>\n",
       "      <td>Yes</td>\n",
       "      <td>Yes</td>\n",
       "      <td>Yes</td>\n",
       "      <td>109.10</td>\n",
       "      <td>5647.95</td>\n",
       "      <td>No</td>\n",
       "      <td>Month-to-month</td>\n",
       "      <td>Fiber optic</td>\n",
       "      <td>Electronic check</td>\n",
       "    </tr>\n",
       "    <tr>\n",
       "      <th>2068</th>\n",
       "      <td>Male</td>\n",
       "      <td>0</td>\n",
       "      <td>No</td>\n",
       "      <td>No</td>\n",
       "      <td>39</td>\n",
       "      <td>No</td>\n",
       "      <td>No phone service</td>\n",
       "      <td>Yes</td>\n",
       "      <td>40.60</td>\n",
       "      <td>1494.5</td>\n",
       "      <td>No</td>\n",
       "      <td>Month-to-month</td>\n",
       "      <td>DSL</td>\n",
       "      <td>Electronic check</td>\n",
       "    </tr>\n",
       "    <tr>\n",
       "      <th>6366</th>\n",
       "      <td>Female</td>\n",
       "      <td>0</td>\n",
       "      <td>Yes</td>\n",
       "      <td>No</td>\n",
       "      <td>32</td>\n",
       "      <td>Yes</td>\n",
       "      <td>No</td>\n",
       "      <td>No</td>\n",
       "      <td>19.30</td>\n",
       "      <td>593.2</td>\n",
       "      <td>No</td>\n",
       "      <td>One year</td>\n",
       "      <td>None</td>\n",
       "      <td>Mailed check</td>\n",
       "    </tr>\n",
       "  </tbody>\n",
       "</table>\n",
       "</div>"
      ],
      "text/plain": [
       "      gender  senior_citizen partner dependents  tenure phone_service  \\\n",
       "6096  Female               0     Yes         No      70           Yes   \n",
       "1603    Male               0     Yes        Yes      15           Yes   \n",
       "5350  Female               1     Yes         No      52           Yes   \n",
       "2068    Male               0      No         No      39            No   \n",
       "6366  Female               0     Yes         No      32           Yes   \n",
       "\n",
       "        multiple_lines paperless_billing  monthly_charges total_charges churn  \\\n",
       "6096                No                No            19.45        1303.5    No   \n",
       "1603                No               Yes            69.50        1071.4    No   \n",
       "5350               Yes               Yes           109.10       5647.95    No   \n",
       "2068  No phone service               Yes            40.60        1494.5    No   \n",
       "6366                No                No            19.30         593.2    No   \n",
       "\n",
       "       contract_type internet_service_type               payment_type  \n",
       "6096        Two year                  None  Bank transfer (automatic)  \n",
       "1603  Month-to-month                   DSL               Mailed check  \n",
       "5350  Month-to-month           Fiber optic           Electronic check  \n",
       "2068  Month-to-month                   DSL           Electronic check  \n",
       "6366        One year                  None               Mailed check  "
      ]
     },
     "execution_count": 37,
     "metadata": {},
     "output_type": "execute_result"
    }
   ],
   "source": [
    "train_encoded.head()"
   ]
  },
  {
   "cell_type": "code",
   "execution_count": 38,
   "id": "f3ff4e42",
   "metadata": {},
   "outputs": [],
   "source": [
    "encoded_columns = ['gender','contract_type','partner','dependents','phone_service','multiple_lines','internet_service_type','payment_type']"
   ]
  },
  {
   "cell_type": "code",
   "execution_count": 39,
   "id": "4ce127b1",
   "metadata": {},
   "outputs": [],
   "source": [
    "#make dummy variables\n",
    "dummy_df = pd.get_dummies(train_encoded[encoded_columns], dummy_na=False, drop_first=[True, True])"
   ]
  },
  {
   "cell_type": "code",
   "execution_count": 40,
   "id": "445e3566",
   "metadata": {},
   "outputs": [],
   "source": [
    "# put it all back together\n",
    "train_encoded = pd.concat([train_encoded, dummy_df], axis=1)"
   ]
  },
  {
   "cell_type": "code",
   "execution_count": 41,
   "id": "3ffa1f53",
   "metadata": {},
   "outputs": [],
   "source": [
    "# drop initial column since we have that information now\n",
    "train_encoded = train_encoded.drop(columns=encoded_columns)"
   ]
  },
  {
   "cell_type": "code",
   "execution_count": 42,
   "id": "dbda328f",
   "metadata": {},
   "outputs": [],
   "source": [
    "# do the same for validate and test sets"
   ]
  },
  {
   "cell_type": "code",
   "execution_count": 43,
   "id": "77c760ad",
   "metadata": {},
   "outputs": [],
   "source": [
    "# copy the validate dataset\n",
    "validate_encoded = validate.copy()"
   ]
  },
  {
   "cell_type": "code",
   "execution_count": 44,
   "id": "b1e2a106",
   "metadata": {},
   "outputs": [],
   "source": [
    "#make dummy variables\n",
    "dummy_df = pd.get_dummies(validate_encoded[encoded_columns], dummy_na=False, drop_first=[True, True])"
   ]
  },
  {
   "cell_type": "code",
   "execution_count": 45,
   "id": "b9f5618f",
   "metadata": {},
   "outputs": [],
   "source": [
    "# put it all back together\n",
    "validate_encoded = pd.concat([validate_encoded, dummy_df], axis=1)"
   ]
  },
  {
   "cell_type": "code",
   "execution_count": 46,
   "id": "1202ca7e",
   "metadata": {},
   "outputs": [],
   "source": [
    "# drop initial column since we have that information now\n",
    "validate_encoded = validate_encoded.drop(columns=encoded_columns)"
   ]
  },
  {
   "cell_type": "code",
   "execution_count": 47,
   "id": "b8b0623e",
   "metadata": {},
   "outputs": [],
   "source": [
    "# copy the test dataset\n",
    "test_encoded = test.copy()"
   ]
  },
  {
   "cell_type": "code",
   "execution_count": 48,
   "id": "518e3052",
   "metadata": {},
   "outputs": [],
   "source": [
    "#make dummy variables\n",
    "dummy_df = pd.get_dummies(test_encoded[encoded_columns], dummy_na=False, drop_first=[True, True])"
   ]
  },
  {
   "cell_type": "code",
   "execution_count": 49,
   "id": "87b7d00f",
   "metadata": {},
   "outputs": [],
   "source": [
    "# put it all back together\n",
    "test_encoded = pd.concat([test_encoded, dummy_df], axis=1)"
   ]
  },
  {
   "cell_type": "code",
   "execution_count": 50,
   "id": "76bc3f6c",
   "metadata": {},
   "outputs": [],
   "source": [
    "# drop initial column since we have that information now\n",
    "test_encoded = test_encoded.drop(columns=encoded_columns)"
   ]
  },
  {
   "cell_type": "code",
   "execution_count": 51,
   "id": "5e969831",
   "metadata": {},
   "outputs": [],
   "source": [
    "train_encoded.drop(columns='paperless_billing',inplace=True)"
   ]
  },
  {
   "cell_type": "code",
   "execution_count": 52,
   "id": "d00bed6c",
   "metadata": {},
   "outputs": [
    {
     "data": {
      "text/html": [
       "<div>\n",
       "<style scoped>\n",
       "    .dataframe tbody tr th:only-of-type {\n",
       "        vertical-align: middle;\n",
       "    }\n",
       "\n",
       "    .dataframe tbody tr th {\n",
       "        vertical-align: top;\n",
       "    }\n",
       "\n",
       "    .dataframe thead th {\n",
       "        text-align: right;\n",
       "    }\n",
       "</style>\n",
       "<table border=\"1\" class=\"dataframe\">\n",
       "  <thead>\n",
       "    <tr style=\"text-align: right;\">\n",
       "      <th></th>\n",
       "      <th>senior_citizen</th>\n",
       "      <th>tenure</th>\n",
       "      <th>monthly_charges</th>\n",
       "      <th>total_charges</th>\n",
       "      <th>churn</th>\n",
       "      <th>gender_Male</th>\n",
       "      <th>contract_type_One year</th>\n",
       "      <th>contract_type_Two year</th>\n",
       "      <th>partner_Yes</th>\n",
       "      <th>dependents_Yes</th>\n",
       "      <th>phone_service_Yes</th>\n",
       "      <th>multiple_lines_No phone service</th>\n",
       "      <th>multiple_lines_Yes</th>\n",
       "      <th>internet_service_type_Fiber optic</th>\n",
       "      <th>internet_service_type_None</th>\n",
       "      <th>payment_type_Credit card (automatic)</th>\n",
       "      <th>payment_type_Electronic check</th>\n",
       "      <th>payment_type_Mailed check</th>\n",
       "    </tr>\n",
       "  </thead>\n",
       "  <tbody>\n",
       "    <tr>\n",
       "      <th>6096</th>\n",
       "      <td>0</td>\n",
       "      <td>70</td>\n",
       "      <td>19.45</td>\n",
       "      <td>1303.5</td>\n",
       "      <td>No</td>\n",
       "      <td>0</td>\n",
       "      <td>0</td>\n",
       "      <td>1</td>\n",
       "      <td>1</td>\n",
       "      <td>0</td>\n",
       "      <td>1</td>\n",
       "      <td>0</td>\n",
       "      <td>0</td>\n",
       "      <td>0</td>\n",
       "      <td>1</td>\n",
       "      <td>0</td>\n",
       "      <td>0</td>\n",
       "      <td>0</td>\n",
       "    </tr>\n",
       "    <tr>\n",
       "      <th>1603</th>\n",
       "      <td>0</td>\n",
       "      <td>15</td>\n",
       "      <td>69.50</td>\n",
       "      <td>1071.4</td>\n",
       "      <td>No</td>\n",
       "      <td>1</td>\n",
       "      <td>0</td>\n",
       "      <td>0</td>\n",
       "      <td>1</td>\n",
       "      <td>1</td>\n",
       "      <td>1</td>\n",
       "      <td>0</td>\n",
       "      <td>0</td>\n",
       "      <td>0</td>\n",
       "      <td>0</td>\n",
       "      <td>0</td>\n",
       "      <td>0</td>\n",
       "      <td>1</td>\n",
       "    </tr>\n",
       "    <tr>\n",
       "      <th>5350</th>\n",
       "      <td>1</td>\n",
       "      <td>52</td>\n",
       "      <td>109.10</td>\n",
       "      <td>5647.95</td>\n",
       "      <td>No</td>\n",
       "      <td>0</td>\n",
       "      <td>0</td>\n",
       "      <td>0</td>\n",
       "      <td>1</td>\n",
       "      <td>0</td>\n",
       "      <td>1</td>\n",
       "      <td>0</td>\n",
       "      <td>1</td>\n",
       "      <td>1</td>\n",
       "      <td>0</td>\n",
       "      <td>0</td>\n",
       "      <td>1</td>\n",
       "      <td>0</td>\n",
       "    </tr>\n",
       "    <tr>\n",
       "      <th>2068</th>\n",
       "      <td>0</td>\n",
       "      <td>39</td>\n",
       "      <td>40.60</td>\n",
       "      <td>1494.5</td>\n",
       "      <td>No</td>\n",
       "      <td>1</td>\n",
       "      <td>0</td>\n",
       "      <td>0</td>\n",
       "      <td>0</td>\n",
       "      <td>0</td>\n",
       "      <td>0</td>\n",
       "      <td>1</td>\n",
       "      <td>0</td>\n",
       "      <td>0</td>\n",
       "      <td>0</td>\n",
       "      <td>0</td>\n",
       "      <td>1</td>\n",
       "      <td>0</td>\n",
       "    </tr>\n",
       "    <tr>\n",
       "      <th>6366</th>\n",
       "      <td>0</td>\n",
       "      <td>32</td>\n",
       "      <td>19.30</td>\n",
       "      <td>593.2</td>\n",
       "      <td>No</td>\n",
       "      <td>0</td>\n",
       "      <td>1</td>\n",
       "      <td>0</td>\n",
       "      <td>1</td>\n",
       "      <td>0</td>\n",
       "      <td>1</td>\n",
       "      <td>0</td>\n",
       "      <td>0</td>\n",
       "      <td>0</td>\n",
       "      <td>1</td>\n",
       "      <td>0</td>\n",
       "      <td>0</td>\n",
       "      <td>1</td>\n",
       "    </tr>\n",
       "  </tbody>\n",
       "</table>\n",
       "</div>"
      ],
      "text/plain": [
       "      senior_citizen  tenure  monthly_charges total_charges churn  \\\n",
       "6096               0      70            19.45        1303.5    No   \n",
       "1603               0      15            69.50        1071.4    No   \n",
       "5350               1      52           109.10       5647.95    No   \n",
       "2068               0      39            40.60        1494.5    No   \n",
       "6366               0      32            19.30         593.2    No   \n",
       "\n",
       "      gender_Male  contract_type_One year  contract_type_Two year  \\\n",
       "6096            0                       0                       1   \n",
       "1603            1                       0                       0   \n",
       "5350            0                       0                       0   \n",
       "2068            1                       0                       0   \n",
       "6366            0                       1                       0   \n",
       "\n",
       "      partner_Yes  dependents_Yes  phone_service_Yes  \\\n",
       "6096            1               0                  1   \n",
       "1603            1               1                  1   \n",
       "5350            1               0                  1   \n",
       "2068            0               0                  0   \n",
       "6366            1               0                  1   \n",
       "\n",
       "      multiple_lines_No phone service  multiple_lines_Yes  \\\n",
       "6096                                0                   0   \n",
       "1603                                0                   0   \n",
       "5350                                0                   1   \n",
       "2068                                1                   0   \n",
       "6366                                0                   0   \n",
       "\n",
       "      internet_service_type_Fiber optic  internet_service_type_None  \\\n",
       "6096                                  0                           1   \n",
       "1603                                  0                           0   \n",
       "5350                                  1                           0   \n",
       "2068                                  0                           0   \n",
       "6366                                  0                           1   \n",
       "\n",
       "      payment_type_Credit card (automatic)  payment_type_Electronic check  \\\n",
       "6096                                     0                              0   \n",
       "1603                                     0                              0   \n",
       "5350                                     0                              1   \n",
       "2068                                     0                              1   \n",
       "6366                                     0                              0   \n",
       "\n",
       "      payment_type_Mailed check  \n",
       "6096                          0  \n",
       "1603                          1  \n",
       "5350                          0  \n",
       "2068                          0  \n",
       "6366                          1  "
      ]
     },
     "execution_count": 52,
     "metadata": {},
     "output_type": "execute_result"
    }
   ],
   "source": [
    "train_encoded.head()"
   ]
  },
  {
   "cell_type": "code",
   "execution_count": 53,
   "id": "2ff6f852",
   "metadata": {},
   "outputs": [],
   "source": [
    "validate_encoded.drop(columns='paperless_billing',inplace=True)"
   ]
  },
  {
   "cell_type": "code",
   "execution_count": 54,
   "id": "ab66bb70",
   "metadata": {},
   "outputs": [],
   "source": [
    "test_encoded.drop(columns='paperless_billing',inplace=True)"
   ]
  },
  {
   "cell_type": "code",
   "execution_count": 57,
   "id": "bcf8e3be",
   "metadata": {},
   "outputs": [],
   "source": [
    "#didn't work\n",
    "#train_encoded.replace(to_replace = {'churn': {'no': 0, 'yes': 1}}, inplace=True)"
   ]
  },
  {
   "cell_type": "code",
   "execution_count": 59,
   "id": "a7f24d57",
   "metadata": {},
   "outputs": [
    {
     "data": {
      "text/html": [
       "<div>\n",
       "<style scoped>\n",
       "    .dataframe tbody tr th:only-of-type {\n",
       "        vertical-align: middle;\n",
       "    }\n",
       "\n",
       "    .dataframe tbody tr th {\n",
       "        vertical-align: top;\n",
       "    }\n",
       "\n",
       "    .dataframe thead th {\n",
       "        text-align: right;\n",
       "    }\n",
       "</style>\n",
       "<table border=\"1\" class=\"dataframe\">\n",
       "  <thead>\n",
       "    <tr style=\"text-align: right;\">\n",
       "      <th></th>\n",
       "      <th>senior_citizen</th>\n",
       "      <th>tenure</th>\n",
       "      <th>monthly_charges</th>\n",
       "      <th>total_charges</th>\n",
       "      <th>churn</th>\n",
       "      <th>gender_Male</th>\n",
       "      <th>contract_type_One year</th>\n",
       "      <th>contract_type_Two year</th>\n",
       "      <th>partner_Yes</th>\n",
       "      <th>dependents_Yes</th>\n",
       "      <th>phone_service_Yes</th>\n",
       "      <th>multiple_lines_No phone service</th>\n",
       "      <th>multiple_lines_Yes</th>\n",
       "      <th>internet_service_type_Fiber optic</th>\n",
       "      <th>internet_service_type_None</th>\n",
       "      <th>payment_type_Credit card (automatic)</th>\n",
       "      <th>payment_type_Electronic check</th>\n",
       "      <th>payment_type_Mailed check</th>\n",
       "    </tr>\n",
       "  </thead>\n",
       "  <tbody>\n",
       "    <tr>\n",
       "      <th>6096</th>\n",
       "      <td>0</td>\n",
       "      <td>70</td>\n",
       "      <td>19.45</td>\n",
       "      <td>1303.5</td>\n",
       "      <td>No</td>\n",
       "      <td>0</td>\n",
       "      <td>0</td>\n",
       "      <td>1</td>\n",
       "      <td>1</td>\n",
       "      <td>0</td>\n",
       "      <td>1</td>\n",
       "      <td>0</td>\n",
       "      <td>0</td>\n",
       "      <td>0</td>\n",
       "      <td>1</td>\n",
       "      <td>0</td>\n",
       "      <td>0</td>\n",
       "      <td>0</td>\n",
       "    </tr>\n",
       "    <tr>\n",
       "      <th>1603</th>\n",
       "      <td>0</td>\n",
       "      <td>15</td>\n",
       "      <td>69.50</td>\n",
       "      <td>1071.4</td>\n",
       "      <td>No</td>\n",
       "      <td>1</td>\n",
       "      <td>0</td>\n",
       "      <td>0</td>\n",
       "      <td>1</td>\n",
       "      <td>1</td>\n",
       "      <td>1</td>\n",
       "      <td>0</td>\n",
       "      <td>0</td>\n",
       "      <td>0</td>\n",
       "      <td>0</td>\n",
       "      <td>0</td>\n",
       "      <td>0</td>\n",
       "      <td>1</td>\n",
       "    </tr>\n",
       "    <tr>\n",
       "      <th>5350</th>\n",
       "      <td>1</td>\n",
       "      <td>52</td>\n",
       "      <td>109.10</td>\n",
       "      <td>5647.95</td>\n",
       "      <td>No</td>\n",
       "      <td>0</td>\n",
       "      <td>0</td>\n",
       "      <td>0</td>\n",
       "      <td>1</td>\n",
       "      <td>0</td>\n",
       "      <td>1</td>\n",
       "      <td>0</td>\n",
       "      <td>1</td>\n",
       "      <td>1</td>\n",
       "      <td>0</td>\n",
       "      <td>0</td>\n",
       "      <td>1</td>\n",
       "      <td>0</td>\n",
       "    </tr>\n",
       "    <tr>\n",
       "      <th>2068</th>\n",
       "      <td>0</td>\n",
       "      <td>39</td>\n",
       "      <td>40.60</td>\n",
       "      <td>1494.5</td>\n",
       "      <td>No</td>\n",
       "      <td>1</td>\n",
       "      <td>0</td>\n",
       "      <td>0</td>\n",
       "      <td>0</td>\n",
       "      <td>0</td>\n",
       "      <td>0</td>\n",
       "      <td>1</td>\n",
       "      <td>0</td>\n",
       "      <td>0</td>\n",
       "      <td>0</td>\n",
       "      <td>0</td>\n",
       "      <td>1</td>\n",
       "      <td>0</td>\n",
       "    </tr>\n",
       "    <tr>\n",
       "      <th>6366</th>\n",
       "      <td>0</td>\n",
       "      <td>32</td>\n",
       "      <td>19.30</td>\n",
       "      <td>593.2</td>\n",
       "      <td>No</td>\n",
       "      <td>0</td>\n",
       "      <td>1</td>\n",
       "      <td>0</td>\n",
       "      <td>1</td>\n",
       "      <td>0</td>\n",
       "      <td>1</td>\n",
       "      <td>0</td>\n",
       "      <td>0</td>\n",
       "      <td>0</td>\n",
       "      <td>1</td>\n",
       "      <td>0</td>\n",
       "      <td>0</td>\n",
       "      <td>1</td>\n",
       "    </tr>\n",
       "  </tbody>\n",
       "</table>\n",
       "</div>"
      ],
      "text/plain": [
       "      senior_citizen  tenure  monthly_charges total_charges churn  \\\n",
       "6096               0      70            19.45        1303.5    No   \n",
       "1603               0      15            69.50        1071.4    No   \n",
       "5350               1      52           109.10       5647.95    No   \n",
       "2068               0      39            40.60        1494.5    No   \n",
       "6366               0      32            19.30         593.2    No   \n",
       "\n",
       "      gender_Male  contract_type_One year  contract_type_Two year  \\\n",
       "6096            0                       0                       1   \n",
       "1603            1                       0                       0   \n",
       "5350            0                       0                       0   \n",
       "2068            1                       0                       0   \n",
       "6366            0                       1                       0   \n",
       "\n",
       "      partner_Yes  dependents_Yes  phone_service_Yes  \\\n",
       "6096            1               0                  1   \n",
       "1603            1               1                  1   \n",
       "5350            1               0                  1   \n",
       "2068            0               0                  0   \n",
       "6366            1               0                  1   \n",
       "\n",
       "      multiple_lines_No phone service  multiple_lines_Yes  \\\n",
       "6096                                0                   0   \n",
       "1603                                0                   0   \n",
       "5350                                0                   1   \n",
       "2068                                1                   0   \n",
       "6366                                0                   0   \n",
       "\n",
       "      internet_service_type_Fiber optic  internet_service_type_None  \\\n",
       "6096                                  0                           1   \n",
       "1603                                  0                           0   \n",
       "5350                                  1                           0   \n",
       "2068                                  0                           0   \n",
       "6366                                  0                           1   \n",
       "\n",
       "      payment_type_Credit card (automatic)  payment_type_Electronic check  \\\n",
       "6096                                     0                              0   \n",
       "1603                                     0                              0   \n",
       "5350                                     0                              1   \n",
       "2068                                     0                              1   \n",
       "6366                                     0                              0   \n",
       "\n",
       "      payment_type_Mailed check  \n",
       "6096                          0  \n",
       "1603                          1  \n",
       "5350                          0  \n",
       "2068                          0  \n",
       "6366                          1  "
      ]
     },
     "execution_count": 59,
     "metadata": {},
     "output_type": "execute_result"
    }
   ],
   "source": [
    "train_encoded.head()"
   ]
  },
  {
   "cell_type": "code",
   "execution_count": 60,
   "id": "458bc197",
   "metadata": {},
   "outputs": [],
   "source": [
    "# create X & y version of encoded_train, where y is a series with just the target variable and X are all the features. \n",
    "\n",
    "X_train = train_encoded.drop(columns=['churn'])\n",
    "y_train = train_encoded.churn\n",
    "\n",
    "X_validate = validate_encoded.drop(columns=['churn'])\n",
    "y_validate = validate_encoded.churn\n",
    "\n",
    "X_test = test_encoded.drop(columns=['churn'])\n",
    "y_test = test_encoded.churn"
   ]
  },
  {
   "cell_type": "code",
   "execution_count": 64,
   "id": "e7de0391",
   "metadata": {},
   "outputs": [
    {
     "data": {
      "text/html": [
       "<div>\n",
       "<style scoped>\n",
       "    .dataframe tbody tr th:only-of-type {\n",
       "        vertical-align: middle;\n",
       "    }\n",
       "\n",
       "    .dataframe tbody tr th {\n",
       "        vertical-align: top;\n",
       "    }\n",
       "\n",
       "    .dataframe thead th {\n",
       "        text-align: right;\n",
       "    }\n",
       "</style>\n",
       "<table border=\"1\" class=\"dataframe\">\n",
       "  <thead>\n",
       "    <tr style=\"text-align: right;\">\n",
       "      <th></th>\n",
       "      <th>senior_citizen</th>\n",
       "      <th>tenure</th>\n",
       "      <th>monthly_charges</th>\n",
       "      <th>total_charges</th>\n",
       "      <th>churn</th>\n",
       "      <th>gender_Male</th>\n",
       "      <th>contract_type_One year</th>\n",
       "      <th>contract_type_Two year</th>\n",
       "      <th>partner_Yes</th>\n",
       "      <th>dependents_Yes</th>\n",
       "      <th>phone_service_Yes</th>\n",
       "      <th>multiple_lines_No phone service</th>\n",
       "      <th>multiple_lines_Yes</th>\n",
       "      <th>internet_service_type_Fiber optic</th>\n",
       "      <th>internet_service_type_None</th>\n",
       "      <th>payment_type_Credit card (automatic)</th>\n",
       "      <th>payment_type_Electronic check</th>\n",
       "      <th>payment_type_Mailed check</th>\n",
       "    </tr>\n",
       "  </thead>\n",
       "  <tbody>\n",
       "    <tr>\n",
       "      <th>611</th>\n",
       "      <td>0</td>\n",
       "      <td>72</td>\n",
       "      <td>92.00</td>\n",
       "      <td>6782.15</td>\n",
       "      <td>No</td>\n",
       "      <td>1</td>\n",
       "      <td>0</td>\n",
       "      <td>1</td>\n",
       "      <td>1</td>\n",
       "      <td>0</td>\n",
       "      <td>1</td>\n",
       "      <td>0</td>\n",
       "      <td>1</td>\n",
       "      <td>0</td>\n",
       "      <td>0</td>\n",
       "      <td>1</td>\n",
       "      <td>0</td>\n",
       "      <td>0</td>\n",
       "    </tr>\n",
       "    <tr>\n",
       "      <th>1155</th>\n",
       "      <td>0</td>\n",
       "      <td>67</td>\n",
       "      <td>75.10</td>\n",
       "      <td>5064.45</td>\n",
       "      <td>No</td>\n",
       "      <td>0</td>\n",
       "      <td>1</td>\n",
       "      <td>0</td>\n",
       "      <td>1</td>\n",
       "      <td>0</td>\n",
       "      <td>1</td>\n",
       "      <td>0</td>\n",
       "      <td>1</td>\n",
       "      <td>0</td>\n",
       "      <td>0</td>\n",
       "      <td>0</td>\n",
       "      <td>0</td>\n",
       "      <td>1</td>\n",
       "    </tr>\n",
       "    <tr>\n",
       "      <th>4916</th>\n",
       "      <td>1</td>\n",
       "      <td>4</td>\n",
       "      <td>70.20</td>\n",
       "      <td>280.35</td>\n",
       "      <td>No</td>\n",
       "      <td>1</td>\n",
       "      <td>0</td>\n",
       "      <td>0</td>\n",
       "      <td>1</td>\n",
       "      <td>0</td>\n",
       "      <td>1</td>\n",
       "      <td>0</td>\n",
       "      <td>0</td>\n",
       "      <td>1</td>\n",
       "      <td>0</td>\n",
       "      <td>0</td>\n",
       "      <td>1</td>\n",
       "      <td>0</td>\n",
       "    </tr>\n",
       "    <tr>\n",
       "      <th>2816</th>\n",
       "      <td>0</td>\n",
       "      <td>72</td>\n",
       "      <td>113.65</td>\n",
       "      <td>8124.2</td>\n",
       "      <td>No</td>\n",
       "      <td>0</td>\n",
       "      <td>0</td>\n",
       "      <td>1</td>\n",
       "      <td>1</td>\n",
       "      <td>0</td>\n",
       "      <td>1</td>\n",
       "      <td>0</td>\n",
       "      <td>1</td>\n",
       "      <td>1</td>\n",
       "      <td>0</td>\n",
       "      <td>1</td>\n",
       "      <td>0</td>\n",
       "      <td>0</td>\n",
       "    </tr>\n",
       "    <tr>\n",
       "      <th>5301</th>\n",
       "      <td>0</td>\n",
       "      <td>42</td>\n",
       "      <td>79.90</td>\n",
       "      <td>3313.4</td>\n",
       "      <td>No</td>\n",
       "      <td>1</td>\n",
       "      <td>0</td>\n",
       "      <td>0</td>\n",
       "      <td>0</td>\n",
       "      <td>0</td>\n",
       "      <td>1</td>\n",
       "      <td>0</td>\n",
       "      <td>1</td>\n",
       "      <td>1</td>\n",
       "      <td>0</td>\n",
       "      <td>0</td>\n",
       "      <td>1</td>\n",
       "      <td>0</td>\n",
       "    </tr>\n",
       "    <tr>\n",
       "      <th>...</th>\n",
       "      <td>...</td>\n",
       "      <td>...</td>\n",
       "      <td>...</td>\n",
       "      <td>...</td>\n",
       "      <td>...</td>\n",
       "      <td>...</td>\n",
       "      <td>...</td>\n",
       "      <td>...</td>\n",
       "      <td>...</td>\n",
       "      <td>...</td>\n",
       "      <td>...</td>\n",
       "      <td>...</td>\n",
       "      <td>...</td>\n",
       "      <td>...</td>\n",
       "      <td>...</td>\n",
       "      <td>...</td>\n",
       "      <td>...</td>\n",
       "      <td>...</td>\n",
       "    </tr>\n",
       "    <tr>\n",
       "      <th>953</th>\n",
       "      <td>0</td>\n",
       "      <td>29</td>\n",
       "      <td>75.35</td>\n",
       "      <td>2243.9</td>\n",
       "      <td>No</td>\n",
       "      <td>1</td>\n",
       "      <td>1</td>\n",
       "      <td>0</td>\n",
       "      <td>0</td>\n",
       "      <td>0</td>\n",
       "      <td>1</td>\n",
       "      <td>0</td>\n",
       "      <td>0</td>\n",
       "      <td>0</td>\n",
       "      <td>0</td>\n",
       "      <td>0</td>\n",
       "      <td>0</td>\n",
       "      <td>0</td>\n",
       "    </tr>\n",
       "    <tr>\n",
       "      <th>2053</th>\n",
       "      <td>0</td>\n",
       "      <td>4</td>\n",
       "      <td>51.75</td>\n",
       "      <td>201.1</td>\n",
       "      <td>Yes</td>\n",
       "      <td>1</td>\n",
       "      <td>0</td>\n",
       "      <td>0</td>\n",
       "      <td>0</td>\n",
       "      <td>0</td>\n",
       "      <td>1</td>\n",
       "      <td>0</td>\n",
       "      <td>1</td>\n",
       "      <td>0</td>\n",
       "      <td>0</td>\n",
       "      <td>1</td>\n",
       "      <td>0</td>\n",
       "      <td>0</td>\n",
       "    </tr>\n",
       "    <tr>\n",
       "      <th>1992</th>\n",
       "      <td>0</td>\n",
       "      <td>16</td>\n",
       "      <td>84.90</td>\n",
       "      <td>1398.25</td>\n",
       "      <td>No</td>\n",
       "      <td>1</td>\n",
       "      <td>0</td>\n",
       "      <td>0</td>\n",
       "      <td>1</td>\n",
       "      <td>1</td>\n",
       "      <td>1</td>\n",
       "      <td>0</td>\n",
       "      <td>1</td>\n",
       "      <td>0</td>\n",
       "      <td>0</td>\n",
       "      <td>0</td>\n",
       "      <td>1</td>\n",
       "      <td>0</td>\n",
       "    </tr>\n",
       "    <tr>\n",
       "      <th>2271</th>\n",
       "      <td>0</td>\n",
       "      <td>1</td>\n",
       "      <td>44.80</td>\n",
       "      <td>44.8</td>\n",
       "      <td>No</td>\n",
       "      <td>1</td>\n",
       "      <td>0</td>\n",
       "      <td>0</td>\n",
       "      <td>0</td>\n",
       "      <td>0</td>\n",
       "      <td>1</td>\n",
       "      <td>0</td>\n",
       "      <td>0</td>\n",
       "      <td>0</td>\n",
       "      <td>0</td>\n",
       "      <td>0</td>\n",
       "      <td>1</td>\n",
       "      <td>0</td>\n",
       "    </tr>\n",
       "    <tr>\n",
       "      <th>4179</th>\n",
       "      <td>0</td>\n",
       "      <td>4</td>\n",
       "      <td>80.60</td>\n",
       "      <td>319.15</td>\n",
       "      <td>Yes</td>\n",
       "      <td>1</td>\n",
       "      <td>0</td>\n",
       "      <td>0</td>\n",
       "      <td>1</td>\n",
       "      <td>0</td>\n",
       "      <td>1</td>\n",
       "      <td>0</td>\n",
       "      <td>0</td>\n",
       "      <td>1</td>\n",
       "      <td>0</td>\n",
       "      <td>0</td>\n",
       "      <td>0</td>\n",
       "      <td>1</td>\n",
       "    </tr>\n",
       "  </tbody>\n",
       "</table>\n",
       "<p>1688 rows × 18 columns</p>\n",
       "</div>"
      ],
      "text/plain": [
       "      senior_citizen  tenure  monthly_charges total_charges churn  \\\n",
       "611                0      72            92.00       6782.15    No   \n",
       "1155               0      67            75.10       5064.45    No   \n",
       "4916               1       4            70.20        280.35    No   \n",
       "2816               0      72           113.65        8124.2    No   \n",
       "5301               0      42            79.90        3313.4    No   \n",
       "...              ...     ...              ...           ...   ...   \n",
       "953                0      29            75.35        2243.9    No   \n",
       "2053               0       4            51.75         201.1   Yes   \n",
       "1992               0      16            84.90       1398.25    No   \n",
       "2271               0       1            44.80          44.8    No   \n",
       "4179               0       4            80.60        319.15   Yes   \n",
       "\n",
       "      gender_Male  contract_type_One year  contract_type_Two year  \\\n",
       "611             1                       0                       1   \n",
       "1155            0                       1                       0   \n",
       "4916            1                       0                       0   \n",
       "2816            0                       0                       1   \n",
       "5301            1                       0                       0   \n",
       "...           ...                     ...                     ...   \n",
       "953             1                       1                       0   \n",
       "2053            1                       0                       0   \n",
       "1992            1                       0                       0   \n",
       "2271            1                       0                       0   \n",
       "4179            1                       0                       0   \n",
       "\n",
       "      partner_Yes  dependents_Yes  phone_service_Yes  \\\n",
       "611             1               0                  1   \n",
       "1155            1               0                  1   \n",
       "4916            1               0                  1   \n",
       "2816            1               0                  1   \n",
       "5301            0               0                  1   \n",
       "...           ...             ...                ...   \n",
       "953             0               0                  1   \n",
       "2053            0               0                  1   \n",
       "1992            1               1                  1   \n",
       "2271            0               0                  1   \n",
       "4179            1               0                  1   \n",
       "\n",
       "      multiple_lines_No phone service  multiple_lines_Yes  \\\n",
       "611                                 0                   1   \n",
       "1155                                0                   1   \n",
       "4916                                0                   0   \n",
       "2816                                0                   1   \n",
       "5301                                0                   1   \n",
       "...                               ...                 ...   \n",
       "953                                 0                   0   \n",
       "2053                                0                   1   \n",
       "1992                                0                   1   \n",
       "2271                                0                   0   \n",
       "4179                                0                   0   \n",
       "\n",
       "      internet_service_type_Fiber optic  internet_service_type_None  \\\n",
       "611                                   0                           0   \n",
       "1155                                  0                           0   \n",
       "4916                                  1                           0   \n",
       "2816                                  1                           0   \n",
       "5301                                  1                           0   \n",
       "...                                 ...                         ...   \n",
       "953                                   0                           0   \n",
       "2053                                  0                           0   \n",
       "1992                                  0                           0   \n",
       "2271                                  0                           0   \n",
       "4179                                  1                           0   \n",
       "\n",
       "      payment_type_Credit card (automatic)  payment_type_Electronic check  \\\n",
       "611                                      1                              0   \n",
       "1155                                     0                              0   \n",
       "4916                                     0                              1   \n",
       "2816                                     1                              0   \n",
       "5301                                     0                              1   \n",
       "...                                    ...                            ...   \n",
       "953                                      0                              0   \n",
       "2053                                     1                              0   \n",
       "1992                                     0                              1   \n",
       "2271                                     0                              1   \n",
       "4179                                     0                              0   \n",
       "\n",
       "      payment_type_Mailed check  \n",
       "611                           0  \n",
       "1155                          1  \n",
       "4916                          0  \n",
       "2816                          0  \n",
       "5301                          0  \n",
       "...                         ...  \n",
       "953                           0  \n",
       "2053                          0  \n",
       "1992                          0  \n",
       "2271                          0  \n",
       "4179                          1  \n",
       "\n",
       "[1688 rows x 18 columns]"
      ]
     },
     "execution_count": 64,
     "metadata": {},
     "output_type": "execute_result"
    }
   ],
   "source": [
    "validate_encoded"
   ]
  },
  {
   "cell_type": "code",
   "execution_count": 67,
   "id": "20bb1112",
   "metadata": {},
   "outputs": [],
   "source": [
    "y_train.replace(to_replace=['yes','no'],value=[1,0], inplace=True)"
   ]
  },
  {
   "cell_type": "code",
   "execution_count": 68,
   "id": "f6dff0ee",
   "metadata": {},
   "outputs": [
    {
     "data": {
      "text/plain": [
       "6096    No\n",
       "1603    No\n",
       "5350    No\n",
       "2068    No\n",
       "6366    No\n",
       "Name: churn, dtype: object"
      ]
     },
     "execution_count": 68,
     "metadata": {},
     "output_type": "execute_result"
    }
   ],
   "source": [
    "y_train.head()"
   ]
  },
  {
   "cell_type": "code",
   "execution_count": 77,
   "id": "feed2b4e",
   "metadata": {},
   "outputs": [],
   "source": [
    "#Model #1"
   ]
  },
  {
   "cell_type": "code",
   "execution_count": 61,
   "id": "aac2f71d",
   "metadata": {},
   "outputs": [],
   "source": [
    "#create the model\n",
    "clf = DecisionTreeClassifier(max_depth=3, random_state=123)"
   ]
  },
  {
   "cell_type": "code",
   "execution_count": 62,
   "id": "0abdf041",
   "metadata": {},
   "outputs": [],
   "source": [
    "# fit the model\n",
    "clf = clf.fit(X_train, y_train)"
   ]
  },
  {
   "cell_type": "code",
   "execution_count": 63,
   "id": "cc86f197",
   "metadata": {},
   "outputs": [
    {
     "data": {
      "text/plain": [
       "array(['No', 'No', 'No', 'No', 'No'], dtype=object)"
      ]
     },
     "execution_count": 63,
     "metadata": {},
     "output_type": "execute_result"
    }
   ],
   "source": [
    "# make prediction on train obeservations\n",
    "\n",
    "y_pred = clf.predict(X_train)\n",
    "y_pred[0:5]"
   ]
  },
  {
   "cell_type": "code",
   "execution_count": 69,
   "id": "b0ee90ea",
   "metadata": {},
   "outputs": [
    {
     "name": "stdout",
     "output_type": "stream",
     "text": [
      "Accuracy of Decision Tree classifier on training set: 0.79\n"
     ]
    }
   ],
   "source": [
    "print('Accuracy of Decision Tree classifier on training set: {:.2f}'\n",
    "      .format(clf.score(X_train, y_train)))"
   ]
  },
  {
   "cell_type": "code",
   "execution_count": 70,
   "id": "ffadbd16",
   "metadata": {},
   "outputs": [
    {
     "data": {
      "text/plain": [
       "array([[2704,  187],\n",
       "       [ 633,  413]])"
      ]
     },
     "execution_count": 70,
     "metadata": {},
     "output_type": "execute_result"
    }
   ],
   "source": [
    "# confusion matrix\n",
    "\n",
    "confusion_matrix(y_train, y_pred)"
   ]
  },
  {
   "cell_type": "code",
   "execution_count": 71,
   "id": "af08bda7",
   "metadata": {},
   "outputs": [
    {
     "data": {
      "text/plain": [
       "No     2891\n",
       "Yes    1046\n",
       "Name: churn, dtype: int64"
      ]
     },
     "execution_count": 71,
     "metadata": {},
     "output_type": "execute_result"
    }
   ],
   "source": [
    "y_train.value_counts()"
   ]
  },
  {
   "cell_type": "code",
   "execution_count": 72,
   "id": "6b9424c3",
   "metadata": {},
   "outputs": [
    {
     "data": {
      "text/html": [
       "<div>\n",
       "<style scoped>\n",
       "    .dataframe tbody tr th:only-of-type {\n",
       "        vertical-align: middle;\n",
       "    }\n",
       "\n",
       "    .dataframe tbody tr th {\n",
       "        vertical-align: top;\n",
       "    }\n",
       "\n",
       "    .dataframe thead th {\n",
       "        text-align: right;\n",
       "    }\n",
       "</style>\n",
       "<table border=\"1\" class=\"dataframe\">\n",
       "  <thead>\n",
       "    <tr style=\"text-align: right;\">\n",
       "      <th></th>\n",
       "      <th>No</th>\n",
       "      <th>Yes</th>\n",
       "    </tr>\n",
       "  </thead>\n",
       "  <tbody>\n",
       "    <tr>\n",
       "      <th>No</th>\n",
       "      <td>2704</td>\n",
       "      <td>187</td>\n",
       "    </tr>\n",
       "    <tr>\n",
       "      <th>Yes</th>\n",
       "      <td>633</td>\n",
       "      <td>413</td>\n",
       "    </tr>\n",
       "  </tbody>\n",
       "</table>\n",
       "</div>"
      ],
      "text/plain": [
       "       No  Yes\n",
       "No   2704  187\n",
       "Yes   633  413"
      ]
     },
     "execution_count": 72,
     "metadata": {},
     "output_type": "execute_result"
    }
   ],
   "source": [
    "labels = sorted(y_train.unique())\n",
    "\n",
    "pd.DataFrame(confusion_matrix(y_train, y_pred), index=labels, columns=labels)"
   ]
  },
  {
   "cell_type": "code",
   "execution_count": 73,
   "id": "c337b04a",
   "metadata": {},
   "outputs": [
    {
     "name": "stdout",
     "output_type": "stream",
     "text": [
      "              precision    recall  f1-score   support\n",
      "\n",
      "          No       0.81      0.94      0.87      2891\n",
      "         Yes       0.69      0.39      0.50      1046\n",
      "\n",
      "    accuracy                           0.79      3937\n",
      "   macro avg       0.75      0.67      0.69      3937\n",
      "weighted avg       0.78      0.79      0.77      3937\n",
      "\n"
     ]
    }
   ],
   "source": [
    "print(classification_report(y_train, y_pred))"
   ]
  },
  {
   "cell_type": "code",
   "execution_count": null,
   "id": "57bce6f6",
   "metadata": {},
   "outputs": [],
   "source": [
    "#test on validate set"
   ]
  },
  {
   "cell_type": "code",
   "execution_count": 74,
   "id": "aae464a1",
   "metadata": {},
   "outputs": [
    {
     "name": "stdout",
     "output_type": "stream",
     "text": [
      "Accuracy of Decision Tree classifier on validate set: 0.79\n"
     ]
    }
   ],
   "source": [
    "print('Accuracy of Decision Tree classifier on validate set: {:.2f}'\n",
    "     .format(clf.score(X_validate, y_validate)))"
   ]
  },
  {
   "cell_type": "code",
   "execution_count": 75,
   "id": "35897823",
   "metadata": {},
   "outputs": [
    {
     "name": "stdout",
     "output_type": "stream",
     "text": [
      "              precision    recall  f1-score   support\n",
      "\n",
      "          No       0.81      0.93      0.87      1239\n",
      "         Yes       0.68      0.41      0.51       449\n",
      "\n",
      "    accuracy                           0.79      1688\n",
      "   macro avg       0.75      0.67      0.69      1688\n",
      "weighted avg       0.78      0.79      0.77      1688\n",
      "\n"
     ]
    }
   ],
   "source": [
    "#produce predictions\n",
    "y_pred = clf.predict(X_validate)\n",
    "\n",
    "#compare actual y values (from validate) to predicted y_values from the model run on X_validate\n",
    "print(classification_report(y_validate, y_pred))"
   ]
  },
  {
   "cell_type": "code",
   "execution_count": 76,
   "id": "95f9e236",
   "metadata": {},
   "outputs": [
    {
     "name": "stdout",
     "output_type": "stream",
     "text": [
      "Accuracy of Decision Tree classifier on validate set: 0.79\n"
     ]
    }
   ],
   "source": [
    "print('Accuracy of Decision Tree classifier on validate set: {:.2f}'\n",
    "     .format(clf.score(X_validate, y_validate)))"
   ]
  },
  {
   "cell_type": "code",
   "execution_count": null,
   "id": "e5c8324d",
   "metadata": {},
   "outputs": [],
   "source": [
    "#Model #2"
   ]
  },
  {
   "cell_type": "code",
   "execution_count": 78,
   "id": "bce06f66",
   "metadata": {},
   "outputs": [],
   "source": [
    "#create the model\n",
    "rf = RandomForestClassifier(bootstrap=True, \n",
    "                            class_weight=None, \n",
    "                            criterion='gini',\n",
    "                            min_samples_leaf=3,\n",
    "                            n_estimators=100,\n",
    "                            max_depth=3, \n",
    "                            random_state=123)"
   ]
  },
  {
   "cell_type": "code",
   "execution_count": 79,
   "id": "7c11ac85",
   "metadata": {},
   "outputs": [
    {
     "data": {
      "text/plain": [
       "RandomForestClassifier(max_depth=3, min_samples_leaf=3, random_state=123)"
      ]
     },
     "execution_count": 79,
     "metadata": {},
     "output_type": "execute_result"
    }
   ],
   "source": [
    "#fit the model\n",
    "rf.fit(X_train, y_train)"
   ]
  },
  {
   "cell_type": "code",
   "execution_count": 80,
   "id": "666e61fb",
   "metadata": {},
   "outputs": [
    {
     "name": "stdout",
     "output_type": "stream",
     "text": [
      "[1.39567208e-02 2.44412142e-01 9.29402601e-02 1.20525776e-01\n",
      " 2.54693348e-05 6.29995131e-02 1.36161481e-01 1.30707539e-03\n",
      " 3.61120912e-03 1.50779628e-03 2.96378788e-03 2.70339100e-03\n",
      " 1.42331546e-01 6.74358811e-02 2.32792436e-03 9.81760780e-02\n",
      " 6.61394911e-03]\n"
     ]
    }
   ],
   "source": [
    "print(rf.feature_importances_)"
   ]
  },
  {
   "cell_type": "code",
   "execution_count": 81,
   "id": "8b7227d1",
   "metadata": {},
   "outputs": [],
   "source": [
    "# classify\n",
    "y_pred = rf.predict(X_train)"
   ]
  },
  {
   "cell_type": "code",
   "execution_count": 82,
   "id": "5cc7c150",
   "metadata": {},
   "outputs": [],
   "source": [
    "# estimate probability\n",
    "y_pred_proba = rf.predict_proba(X_train)"
   ]
  },
  {
   "cell_type": "code",
   "execution_count": 83,
   "id": "ef692af1",
   "metadata": {},
   "outputs": [
    {
     "name": "stdout",
     "output_type": "stream",
     "text": [
      "Accuracy of random forest classifier on training set: 0.79\n"
     ]
    }
   ],
   "source": [
    "print('Accuracy of random forest classifier on training set: {:.2f}'\n",
    "     .format(rf.score(X_train, y_train)))"
   ]
  },
  {
   "cell_type": "code",
   "execution_count": 84,
   "id": "c6244c9b",
   "metadata": {},
   "outputs": [
    {
     "name": "stdout",
     "output_type": "stream",
     "text": [
      "[[2733  158]\n",
      " [ 660  386]]\n"
     ]
    }
   ],
   "source": [
    "print(confusion_matrix(y_train, y_pred))"
   ]
  },
  {
   "cell_type": "code",
   "execution_count": 85,
   "id": "c9dd215c",
   "metadata": {},
   "outputs": [
    {
     "name": "stdout",
     "output_type": "stream",
     "text": [
      "              precision    recall  f1-score   support\n",
      "\n",
      "          No       0.81      0.95      0.87      2891\n",
      "         Yes       0.71      0.37      0.49      1046\n",
      "\n",
      "    accuracy                           0.79      3937\n",
      "   macro avg       0.76      0.66      0.68      3937\n",
      "weighted avg       0.78      0.79      0.77      3937\n",
      "\n"
     ]
    }
   ],
   "source": [
    "print(classification_report(y_train, y_pred))"
   ]
  },
  {
   "cell_type": "code",
   "execution_count": 88,
   "id": "9086d749",
   "metadata": {},
   "outputs": [],
   "source": [
    "#time to validate"
   ]
  },
  {
   "cell_type": "code",
   "execution_count": 89,
   "id": "cbe9ebbe",
   "metadata": {},
   "outputs": [
    {
     "name": "stdout",
     "output_type": "stream",
     "text": [
      "Accuracy of random forest classifier on test set: 0.79\n"
     ]
    }
   ],
   "source": [
    "print('Accuracy of random forest classifier on test set: {:.2f}'\n",
    "     .format(rf.score(X_validate, y_validate)))"
   ]
  },
  {
   "cell_type": "code",
   "execution_count": 90,
   "id": "6f9273f8",
   "metadata": {},
   "outputs": [],
   "source": [
    "# Model #3"
   ]
  },
  {
   "cell_type": "code",
   "execution_count": 91,
   "id": "1d5a47b1",
   "metadata": {},
   "outputs": [],
   "source": [
    "# create knn \n",
    "knn = KNeighborsClassifier(n_neighbors=5, weights='uniform')"
   ]
  },
  {
   "cell_type": "code",
   "execution_count": 92,
   "id": "c97d40ff",
   "metadata": {},
   "outputs": [
    {
     "data": {
      "text/plain": [
       "KNeighborsClassifier()"
      ]
     },
     "execution_count": 92,
     "metadata": {},
     "output_type": "execute_result"
    }
   ],
   "source": [
    "# fit the model\n",
    "knn.fit(X_train, y_train)"
   ]
  },
  {
   "cell_type": "code",
   "execution_count": 93,
   "id": "1261a96c",
   "metadata": {},
   "outputs": [],
   "source": [
    "# make predictions\n",
    "y_pred = knn.predict(X_train)"
   ]
  },
  {
   "cell_type": "code",
   "execution_count": 94,
   "id": "53976e61",
   "metadata": {},
   "outputs": [],
   "source": [
    "# estimate probability of churn\n",
    "y_pred_proba = knn.predict_proba(X_train)"
   ]
  },
  {
   "cell_type": "code",
   "execution_count": 95,
   "id": "36b8bcaa",
   "metadata": {},
   "outputs": [
    {
     "name": "stdout",
     "output_type": "stream",
     "text": [
      "Accuracy of KNN classifier on training set: 0.82\n"
     ]
    }
   ],
   "source": [
    "#evaluate model, find accuracy\n",
    "print('Accuracy of KNN classifier on training set: {:.2f}'\n",
    "     .format(knn.score(X_train, y_train)))"
   ]
  },
  {
   "cell_type": "code",
   "execution_count": 96,
   "id": "5d8756a1",
   "metadata": {},
   "outputs": [
    {
     "name": "stdout",
     "output_type": "stream",
     "text": [
      "[[2659  232]\n",
      " [ 473  573]]\n"
     ]
    }
   ],
   "source": [
    "print(confusion_matrix(y_train, y_pred))"
   ]
  },
  {
   "cell_type": "code",
   "execution_count": 97,
   "id": "83184154",
   "metadata": {},
   "outputs": [
    {
     "name": "stdout",
     "output_type": "stream",
     "text": [
      "              precision    recall  f1-score   support\n",
      "\n",
      "          No       0.85      0.92      0.88      2891\n",
      "         Yes       0.71      0.55      0.62      1046\n",
      "\n",
      "    accuracy                           0.82      3937\n",
      "   macro avg       0.78      0.73      0.75      3937\n",
      "weighted avg       0.81      0.82      0.81      3937\n",
      "\n"
     ]
    }
   ],
   "source": [
    "print(classification_report(y_train, y_pred))"
   ]
  },
  {
   "cell_type": "code",
   "execution_count": 98,
   "id": "e219aa02",
   "metadata": {},
   "outputs": [
    {
     "name": "stdout",
     "output_type": "stream",
     "text": [
      "Accuracy of KNN classifier on test set: 0.77\n"
     ]
    }
   ],
   "source": [
    "#time to validate model\n",
    "print('Accuracy of KNN classifier on test set: {:.2f}'\n",
    "     .format(knn.score(X_validate, y_validate)))"
   ]
  },
  {
   "cell_type": "code",
   "execution_count": null,
   "id": "0f01755b",
   "metadata": {},
   "outputs": [],
   "source": [
    "#Testing the test set on my best model Decision Tree\n",
    "actual_test = y_test\n",
    "predicted_test = clf.predict(X_test)\n",
    "print(classification_report(actual_test, predicted_test))"
   ]
  },
  {
   "cell_type": "markdown",
   "id": "9a958154",
   "metadata": {},
   "source": [
    "Modeling Takeaways\n",
    "After evaluating all three models on train and validate, the Decision Tree and Random Forest were very close in performance, but the Decision Tree had a little better recall so I chose that as my best model.  Now I will evaluate my best model on the test data."
   ]
  },
  {
   "cell_type": "code",
   "execution_count": 99,
   "id": "2e56c9a1",
   "metadata": {},
   "outputs": [],
   "source": [
    "proba_test = clf.predict_proba(X_test)"
   ]
  },
  {
   "cell_type": "code",
   "execution_count": 100,
   "id": "ad5f828c",
   "metadata": {},
   "outputs": [
    {
     "data": {
      "text/html": [
       "<div>\n",
       "<style scoped>\n",
       "    .dataframe tbody tr th:only-of-type {\n",
       "        vertical-align: middle;\n",
       "    }\n",
       "\n",
       "    .dataframe tbody tr th {\n",
       "        vertical-align: top;\n",
       "    }\n",
       "\n",
       "    .dataframe thead th {\n",
       "        text-align: right;\n",
       "    }\n",
       "</style>\n",
       "<table border=\"1\" class=\"dataframe\">\n",
       "  <thead>\n",
       "    <tr style=\"text-align: right;\">\n",
       "      <th></th>\n",
       "      <th>No</th>\n",
       "      <th>Yes</th>\n",
       "    </tr>\n",
       "  </thead>\n",
       "  <tbody>\n",
       "    <tr>\n",
       "      <th>0</th>\n",
       "      <td>0.836158</td>\n",
       "      <td>0.163842</td>\n",
       "    </tr>\n",
       "    <tr>\n",
       "      <th>1</th>\n",
       "      <td>0.851124</td>\n",
       "      <td>0.148876</td>\n",
       "    </tr>\n",
       "    <tr>\n",
       "      <th>2</th>\n",
       "      <td>0.894665</td>\n",
       "      <td>0.105335</td>\n",
       "    </tr>\n",
       "    <tr>\n",
       "      <th>3</th>\n",
       "      <td>0.980333</td>\n",
       "      <td>0.019667</td>\n",
       "    </tr>\n",
       "    <tr>\n",
       "      <th>4</th>\n",
       "      <td>0.894665</td>\n",
       "      <td>0.105335</td>\n",
       "    </tr>\n",
       "  </tbody>\n",
       "</table>\n",
       "</div>"
      ],
      "text/plain": [
       "         No       Yes\n",
       "0  0.836158  0.163842\n",
       "1  0.851124  0.148876\n",
       "2  0.894665  0.105335\n",
       "3  0.980333  0.019667\n",
       "4  0.894665  0.105335"
      ]
     },
     "execution_count": 100,
     "metadata": {},
     "output_type": "execute_result"
    }
   ],
   "source": [
    "proba_df = pd.DataFrame(proba_test, columns=clf.classes_.tolist())\n",
    "proba_df.head()"
   ]
  },
  {
   "cell_type": "code",
   "execution_count": 101,
   "id": "99d17019",
   "metadata": {},
   "outputs": [
    {
     "data": {
      "text/html": [
       "<div>\n",
       "<style scoped>\n",
       "    .dataframe tbody tr th:only-of-type {\n",
       "        vertical-align: middle;\n",
       "    }\n",
       "\n",
       "    .dataframe tbody tr th {\n",
       "        vertical-align: top;\n",
       "    }\n",
       "\n",
       "    .dataframe thead th {\n",
       "        text-align: right;\n",
       "    }\n",
       "</style>\n",
       "<table border=\"1\" class=\"dataframe\">\n",
       "  <thead>\n",
       "    <tr style=\"text-align: right;\">\n",
       "      <th></th>\n",
       "      <th>index</th>\n",
       "      <th>gender</th>\n",
       "      <th>senior_citizen</th>\n",
       "      <th>partner</th>\n",
       "      <th>dependents</th>\n",
       "      <th>tenure</th>\n",
       "      <th>phone_service</th>\n",
       "      <th>multiple_lines</th>\n",
       "      <th>paperless_billing</th>\n",
       "      <th>monthly_charges</th>\n",
       "      <th>total_charges</th>\n",
       "      <th>churn</th>\n",
       "      <th>contract_type</th>\n",
       "      <th>internet_service_type</th>\n",
       "      <th>payment_type</th>\n",
       "    </tr>\n",
       "  </thead>\n",
       "  <tbody>\n",
       "    <tr>\n",
       "      <th>0</th>\n",
       "      <td>2897</td>\n",
       "      <td>Female</td>\n",
       "      <td>0</td>\n",
       "      <td>Yes</td>\n",
       "      <td>Yes</td>\n",
       "      <td>64</td>\n",
       "      <td>Yes</td>\n",
       "      <td>Yes</td>\n",
       "      <td>No</td>\n",
       "      <td>113.35</td>\n",
       "      <td>7222.75</td>\n",
       "      <td>No</td>\n",
       "      <td>One year</td>\n",
       "      <td>Fiber optic</td>\n",
       "      <td>Electronic check</td>\n",
       "    </tr>\n",
       "    <tr>\n",
       "      <th>1</th>\n",
       "      <td>6407</td>\n",
       "      <td>Female</td>\n",
       "      <td>0</td>\n",
       "      <td>No</td>\n",
       "      <td>No</td>\n",
       "      <td>2</td>\n",
       "      <td>Yes</td>\n",
       "      <td>No</td>\n",
       "      <td>No</td>\n",
       "      <td>20.45</td>\n",
       "      <td>34.8</td>\n",
       "      <td>No</td>\n",
       "      <td>One year</td>\n",
       "      <td>None</td>\n",
       "      <td>Mailed check</td>\n",
       "    </tr>\n",
       "    <tr>\n",
       "      <th>2</th>\n",
       "      <td>6272</td>\n",
       "      <td>Male</td>\n",
       "      <td>0</td>\n",
       "      <td>Yes</td>\n",
       "      <td>No</td>\n",
       "      <td>25</td>\n",
       "      <td>Yes</td>\n",
       "      <td>No</td>\n",
       "      <td>Yes</td>\n",
       "      <td>20.95</td>\n",
       "      <td>495.15</td>\n",
       "      <td>No</td>\n",
       "      <td>One year</td>\n",
       "      <td>None</td>\n",
       "      <td>Bank transfer (automatic)</td>\n",
       "    </tr>\n",
       "    <tr>\n",
       "      <th>3</th>\n",
       "      <td>5638</td>\n",
       "      <td>Female</td>\n",
       "      <td>0</td>\n",
       "      <td>Yes</td>\n",
       "      <td>No</td>\n",
       "      <td>72</td>\n",
       "      <td>Yes</td>\n",
       "      <td>No</td>\n",
       "      <td>No</td>\n",
       "      <td>20.50</td>\n",
       "      <td>1502.25</td>\n",
       "      <td>No</td>\n",
       "      <td>Two year</td>\n",
       "      <td>None</td>\n",
       "      <td>Credit card (automatic)</td>\n",
       "    </tr>\n",
       "    <tr>\n",
       "      <th>4</th>\n",
       "      <td>903</td>\n",
       "      <td>Male</td>\n",
       "      <td>0</td>\n",
       "      <td>No</td>\n",
       "      <td>No</td>\n",
       "      <td>56</td>\n",
       "      <td>Yes</td>\n",
       "      <td>Yes</td>\n",
       "      <td>Yes</td>\n",
       "      <td>64.65</td>\n",
       "      <td>3665.55</td>\n",
       "      <td>No</td>\n",
       "      <td>One year</td>\n",
       "      <td>DSL</td>\n",
       "      <td>Bank transfer (automatic)</td>\n",
       "    </tr>\n",
       "  </tbody>\n",
       "</table>\n",
       "</div>"
      ],
      "text/plain": [
       "   index  gender  senior_citizen partner dependents  tenure phone_service  \\\n",
       "0   2897  Female               0     Yes        Yes      64           Yes   \n",
       "1   6407  Female               0      No         No       2           Yes   \n",
       "2   6272    Male               0     Yes         No      25           Yes   \n",
       "3   5638  Female               0     Yes         No      72           Yes   \n",
       "4    903    Male               0      No         No      56           Yes   \n",
       "\n",
       "  multiple_lines paperless_billing  monthly_charges total_charges churn  \\\n",
       "0            Yes                No           113.35       7222.75    No   \n",
       "1             No                No            20.45          34.8    No   \n",
       "2             No               Yes            20.95        495.15    No   \n",
       "3             No                No            20.50       1502.25    No   \n",
       "4            Yes               Yes            64.65       3665.55    No   \n",
       "\n",
       "  contract_type internet_service_type               payment_type  \n",
       "0      One year           Fiber optic           Electronic check  \n",
       "1      One year                  None               Mailed check  \n",
       "2      One year                  None  Bank transfer (automatic)  \n",
       "3      Two year                  None    Credit card (automatic)  \n",
       "4      One year                   DSL  Bank transfer (automatic)  "
      ]
     },
     "execution_count": 101,
     "metadata": {},
     "output_type": "execute_result"
    }
   ],
   "source": [
    "reset_test = test.reset_index()\n",
    "reset_test.head()"
   ]
  },
  {
   "cell_type": "code",
   "execution_count": 102,
   "id": "ffef0693",
   "metadata": {},
   "outputs": [
    {
     "data": {
      "text/html": [
       "<div>\n",
       "<style scoped>\n",
       "    .dataframe tbody tr th:only-of-type {\n",
       "        vertical-align: middle;\n",
       "    }\n",
       "\n",
       "    .dataframe tbody tr th {\n",
       "        vertical-align: top;\n",
       "    }\n",
       "\n",
       "    .dataframe thead th {\n",
       "        text-align: right;\n",
       "    }\n",
       "</style>\n",
       "<table border=\"1\" class=\"dataframe\">\n",
       "  <thead>\n",
       "    <tr style=\"text-align: right;\">\n",
       "      <th></th>\n",
       "      <th>index</th>\n",
       "      <th>gender</th>\n",
       "      <th>senior_citizen</th>\n",
       "      <th>partner</th>\n",
       "      <th>dependents</th>\n",
       "      <th>tenure</th>\n",
       "      <th>phone_service</th>\n",
       "      <th>multiple_lines</th>\n",
       "      <th>paperless_billing</th>\n",
       "      <th>monthly_charges</th>\n",
       "      <th>total_charges</th>\n",
       "      <th>churn</th>\n",
       "      <th>contract_type</th>\n",
       "      <th>internet_service_type</th>\n",
       "      <th>payment_type</th>\n",
       "      <th>No</th>\n",
       "      <th>Yes</th>\n",
       "    </tr>\n",
       "  </thead>\n",
       "  <tbody>\n",
       "    <tr>\n",
       "      <th>0</th>\n",
       "      <td>2897</td>\n",
       "      <td>Female</td>\n",
       "      <td>0</td>\n",
       "      <td>Yes</td>\n",
       "      <td>Yes</td>\n",
       "      <td>64</td>\n",
       "      <td>Yes</td>\n",
       "      <td>Yes</td>\n",
       "      <td>No</td>\n",
       "      <td>113.35</td>\n",
       "      <td>7222.75</td>\n",
       "      <td>No</td>\n",
       "      <td>One year</td>\n",
       "      <td>Fiber optic</td>\n",
       "      <td>Electronic check</td>\n",
       "      <td>0.836158</td>\n",
       "      <td>0.163842</td>\n",
       "    </tr>\n",
       "    <tr>\n",
       "      <th>1</th>\n",
       "      <td>6407</td>\n",
       "      <td>Female</td>\n",
       "      <td>0</td>\n",
       "      <td>No</td>\n",
       "      <td>No</td>\n",
       "      <td>2</td>\n",
       "      <td>Yes</td>\n",
       "      <td>No</td>\n",
       "      <td>No</td>\n",
       "      <td>20.45</td>\n",
       "      <td>34.8</td>\n",
       "      <td>No</td>\n",
       "      <td>One year</td>\n",
       "      <td>None</td>\n",
       "      <td>Mailed check</td>\n",
       "      <td>0.851124</td>\n",
       "      <td>0.148876</td>\n",
       "    </tr>\n",
       "    <tr>\n",
       "      <th>2</th>\n",
       "      <td>6272</td>\n",
       "      <td>Male</td>\n",
       "      <td>0</td>\n",
       "      <td>Yes</td>\n",
       "      <td>No</td>\n",
       "      <td>25</td>\n",
       "      <td>Yes</td>\n",
       "      <td>No</td>\n",
       "      <td>Yes</td>\n",
       "      <td>20.95</td>\n",
       "      <td>495.15</td>\n",
       "      <td>No</td>\n",
       "      <td>One year</td>\n",
       "      <td>None</td>\n",
       "      <td>Bank transfer (automatic)</td>\n",
       "      <td>0.894665</td>\n",
       "      <td>0.105335</td>\n",
       "    </tr>\n",
       "    <tr>\n",
       "      <th>3</th>\n",
       "      <td>5638</td>\n",
       "      <td>Female</td>\n",
       "      <td>0</td>\n",
       "      <td>Yes</td>\n",
       "      <td>No</td>\n",
       "      <td>72</td>\n",
       "      <td>Yes</td>\n",
       "      <td>No</td>\n",
       "      <td>No</td>\n",
       "      <td>20.50</td>\n",
       "      <td>1502.25</td>\n",
       "      <td>No</td>\n",
       "      <td>Two year</td>\n",
       "      <td>None</td>\n",
       "      <td>Credit card (automatic)</td>\n",
       "      <td>0.980333</td>\n",
       "      <td>0.019667</td>\n",
       "    </tr>\n",
       "    <tr>\n",
       "      <th>4</th>\n",
       "      <td>903</td>\n",
       "      <td>Male</td>\n",
       "      <td>0</td>\n",
       "      <td>No</td>\n",
       "      <td>No</td>\n",
       "      <td>56</td>\n",
       "      <td>Yes</td>\n",
       "      <td>Yes</td>\n",
       "      <td>Yes</td>\n",
       "      <td>64.65</td>\n",
       "      <td>3665.55</td>\n",
       "      <td>No</td>\n",
       "      <td>One year</td>\n",
       "      <td>DSL</td>\n",
       "      <td>Bank transfer (automatic)</td>\n",
       "      <td>0.894665</td>\n",
       "      <td>0.105335</td>\n",
       "    </tr>\n",
       "  </tbody>\n",
       "</table>\n",
       "</div>"
      ],
      "text/plain": [
       "   index  gender  senior_citizen partner dependents  tenure phone_service  \\\n",
       "0   2897  Female               0     Yes        Yes      64           Yes   \n",
       "1   6407  Female               0      No         No       2           Yes   \n",
       "2   6272    Male               0     Yes         No      25           Yes   \n",
       "3   5638  Female               0     Yes         No      72           Yes   \n",
       "4    903    Male               0      No         No      56           Yes   \n",
       "\n",
       "  multiple_lines paperless_billing  monthly_charges total_charges churn  \\\n",
       "0            Yes                No           113.35       7222.75    No   \n",
       "1             No                No            20.45          34.8    No   \n",
       "2             No               Yes            20.95        495.15    No   \n",
       "3             No                No            20.50       1502.25    No   \n",
       "4            Yes               Yes            64.65       3665.55    No   \n",
       "\n",
       "  contract_type internet_service_type               payment_type        No  \\\n",
       "0      One year           Fiber optic           Electronic check  0.836158   \n",
       "1      One year                  None               Mailed check  0.851124   \n",
       "2      One year                  None  Bank transfer (automatic)  0.894665   \n",
       "3      Two year                  None    Credit card (automatic)  0.980333   \n",
       "4      One year                   DSL  Bank transfer (automatic)  0.894665   \n",
       "\n",
       "        Yes  \n",
       "0  0.163842  \n",
       "1  0.148876  \n",
       "2  0.105335  \n",
       "3  0.019667  \n",
       "4  0.105335  "
      ]
     },
     "execution_count": 102,
     "metadata": {},
     "output_type": "execute_result"
    }
   ],
   "source": [
    "test_proba_df = pd.concat([reset_test, proba_df], axis=1)\n",
    "test_proba_df.head()"
   ]
  },
  {
   "cell_type": "code",
   "execution_count": 103,
   "id": "f40501c3",
   "metadata": {},
   "outputs": [
    {
     "data": {
      "text/html": [
       "<div>\n",
       "<style scoped>\n",
       "    .dataframe tbody tr th:only-of-type {\n",
       "        vertical-align: middle;\n",
       "    }\n",
       "\n",
       "    .dataframe tbody tr th {\n",
       "        vertical-align: top;\n",
       "    }\n",
       "\n",
       "    .dataframe thead th {\n",
       "        text-align: right;\n",
       "    }\n",
       "</style>\n",
       "<table border=\"1\" class=\"dataframe\">\n",
       "  <thead>\n",
       "    <tr style=\"text-align: right;\">\n",
       "      <th></th>\n",
       "      <th>index</th>\n",
       "      <th>gender</th>\n",
       "      <th>senior_citizen</th>\n",
       "      <th>partner</th>\n",
       "      <th>dependents</th>\n",
       "      <th>tenure</th>\n",
       "      <th>phone_service</th>\n",
       "      <th>multiple_lines</th>\n",
       "      <th>paperless_billing</th>\n",
       "      <th>monthly_charges</th>\n",
       "      <th>total_charges</th>\n",
       "      <th>churn</th>\n",
       "      <th>contract_type</th>\n",
       "      <th>internet_service_type</th>\n",
       "      <th>payment_type</th>\n",
       "      <th>No</th>\n",
       "      <th>Yes</th>\n",
       "      <th>predicted</th>\n",
       "    </tr>\n",
       "  </thead>\n",
       "  <tbody>\n",
       "    <tr>\n",
       "      <th>0</th>\n",
       "      <td>2897</td>\n",
       "      <td>Female</td>\n",
       "      <td>0</td>\n",
       "      <td>Yes</td>\n",
       "      <td>Yes</td>\n",
       "      <td>64</td>\n",
       "      <td>Yes</td>\n",
       "      <td>Yes</td>\n",
       "      <td>No</td>\n",
       "      <td>113.35</td>\n",
       "      <td>7222.75</td>\n",
       "      <td>No</td>\n",
       "      <td>One year</td>\n",
       "      <td>Fiber optic</td>\n",
       "      <td>Electronic check</td>\n",
       "      <td>0.836158</td>\n",
       "      <td>0.163842</td>\n",
       "      <td>No</td>\n",
       "    </tr>\n",
       "    <tr>\n",
       "      <th>1</th>\n",
       "      <td>6407</td>\n",
       "      <td>Female</td>\n",
       "      <td>0</td>\n",
       "      <td>No</td>\n",
       "      <td>No</td>\n",
       "      <td>2</td>\n",
       "      <td>Yes</td>\n",
       "      <td>No</td>\n",
       "      <td>No</td>\n",
       "      <td>20.45</td>\n",
       "      <td>34.8</td>\n",
       "      <td>No</td>\n",
       "      <td>One year</td>\n",
       "      <td>None</td>\n",
       "      <td>Mailed check</td>\n",
       "      <td>0.851124</td>\n",
       "      <td>0.148876</td>\n",
       "      <td>No</td>\n",
       "    </tr>\n",
       "    <tr>\n",
       "      <th>2</th>\n",
       "      <td>6272</td>\n",
       "      <td>Male</td>\n",
       "      <td>0</td>\n",
       "      <td>Yes</td>\n",
       "      <td>No</td>\n",
       "      <td>25</td>\n",
       "      <td>Yes</td>\n",
       "      <td>No</td>\n",
       "      <td>Yes</td>\n",
       "      <td>20.95</td>\n",
       "      <td>495.15</td>\n",
       "      <td>No</td>\n",
       "      <td>One year</td>\n",
       "      <td>None</td>\n",
       "      <td>Bank transfer (automatic)</td>\n",
       "      <td>0.894665</td>\n",
       "      <td>0.105335</td>\n",
       "      <td>No</td>\n",
       "    </tr>\n",
       "    <tr>\n",
       "      <th>3</th>\n",
       "      <td>5638</td>\n",
       "      <td>Female</td>\n",
       "      <td>0</td>\n",
       "      <td>Yes</td>\n",
       "      <td>No</td>\n",
       "      <td>72</td>\n",
       "      <td>Yes</td>\n",
       "      <td>No</td>\n",
       "      <td>No</td>\n",
       "      <td>20.50</td>\n",
       "      <td>1502.25</td>\n",
       "      <td>No</td>\n",
       "      <td>Two year</td>\n",
       "      <td>None</td>\n",
       "      <td>Credit card (automatic)</td>\n",
       "      <td>0.980333</td>\n",
       "      <td>0.019667</td>\n",
       "      <td>No</td>\n",
       "    </tr>\n",
       "    <tr>\n",
       "      <th>4</th>\n",
       "      <td>903</td>\n",
       "      <td>Male</td>\n",
       "      <td>0</td>\n",
       "      <td>No</td>\n",
       "      <td>No</td>\n",
       "      <td>56</td>\n",
       "      <td>Yes</td>\n",
       "      <td>Yes</td>\n",
       "      <td>Yes</td>\n",
       "      <td>64.65</td>\n",
       "      <td>3665.55</td>\n",
       "      <td>No</td>\n",
       "      <td>One year</td>\n",
       "      <td>DSL</td>\n",
       "      <td>Bank transfer (automatic)</td>\n",
       "      <td>0.894665</td>\n",
       "      <td>0.105335</td>\n",
       "      <td>No</td>\n",
       "    </tr>\n",
       "    <tr>\n",
       "      <th>5</th>\n",
       "      <td>3306</td>\n",
       "      <td>Male</td>\n",
       "      <td>0</td>\n",
       "      <td>Yes</td>\n",
       "      <td>No</td>\n",
       "      <td>67</td>\n",
       "      <td>Yes</td>\n",
       "      <td>No</td>\n",
       "      <td>Yes</td>\n",
       "      <td>100.90</td>\n",
       "      <td>6733.15</td>\n",
       "      <td>No</td>\n",
       "      <td>One year</td>\n",
       "      <td>Fiber optic</td>\n",
       "      <td>Credit card (automatic)</td>\n",
       "      <td>0.836158</td>\n",
       "      <td>0.163842</td>\n",
       "      <td>No</td>\n",
       "    </tr>\n",
       "    <tr>\n",
       "      <th>6</th>\n",
       "      <td>1740</td>\n",
       "      <td>Male</td>\n",
       "      <td>0</td>\n",
       "      <td>No</td>\n",
       "      <td>No</td>\n",
       "      <td>2</td>\n",
       "      <td>Yes</td>\n",
       "      <td>No</td>\n",
       "      <td>No</td>\n",
       "      <td>44.65</td>\n",
       "      <td>74.9</td>\n",
       "      <td>Yes</td>\n",
       "      <td>Month-to-month</td>\n",
       "      <td>DSL</td>\n",
       "      <td>Mailed check</td>\n",
       "      <td>0.619145</td>\n",
       "      <td>0.380855</td>\n",
       "      <td>No</td>\n",
       "    </tr>\n",
       "    <tr>\n",
       "      <th>7</th>\n",
       "      <td>4037</td>\n",
       "      <td>Male</td>\n",
       "      <td>0</td>\n",
       "      <td>No</td>\n",
       "      <td>No</td>\n",
       "      <td>1</td>\n",
       "      <td>Yes</td>\n",
       "      <td>No</td>\n",
       "      <td>Yes</td>\n",
       "      <td>89.90</td>\n",
       "      <td>89.9</td>\n",
       "      <td>Yes</td>\n",
       "      <td>Month-to-month</td>\n",
       "      <td>Fiber optic</td>\n",
       "      <td>Electronic check</td>\n",
       "      <td>0.115108</td>\n",
       "      <td>0.884892</td>\n",
       "      <td>Yes</td>\n",
       "    </tr>\n",
       "    <tr>\n",
       "      <th>8</th>\n",
       "      <td>2165</td>\n",
       "      <td>Male</td>\n",
       "      <td>0</td>\n",
       "      <td>No</td>\n",
       "      <td>No</td>\n",
       "      <td>2</td>\n",
       "      <td>Yes</td>\n",
       "      <td>No</td>\n",
       "      <td>Yes</td>\n",
       "      <td>46.00</td>\n",
       "      <td>84.5</td>\n",
       "      <td>Yes</td>\n",
       "      <td>Month-to-month</td>\n",
       "      <td>DSL</td>\n",
       "      <td>Credit card (automatic)</td>\n",
       "      <td>0.619145</td>\n",
       "      <td>0.380855</td>\n",
       "      <td>No</td>\n",
       "    </tr>\n",
       "    <tr>\n",
       "      <th>9</th>\n",
       "      <td>58</td>\n",
       "      <td>Male</td>\n",
       "      <td>0</td>\n",
       "      <td>No</td>\n",
       "      <td>No</td>\n",
       "      <td>70</td>\n",
       "      <td>No</td>\n",
       "      <td>No phone service</td>\n",
       "      <td>No</td>\n",
       "      <td>48.40</td>\n",
       "      <td>3442.8</td>\n",
       "      <td>No</td>\n",
       "      <td>Two year</td>\n",
       "      <td>DSL</td>\n",
       "      <td>Bank transfer (automatic)</td>\n",
       "      <td>0.980333</td>\n",
       "      <td>0.019667</td>\n",
       "      <td>No</td>\n",
       "    </tr>\n",
       "    <tr>\n",
       "      <th>10</th>\n",
       "      <td>3463</td>\n",
       "      <td>Female</td>\n",
       "      <td>0</td>\n",
       "      <td>No</td>\n",
       "      <td>No</td>\n",
       "      <td>6</td>\n",
       "      <td>Yes</td>\n",
       "      <td>No</td>\n",
       "      <td>No</td>\n",
       "      <td>89.30</td>\n",
       "      <td>577.6</td>\n",
       "      <td>Yes</td>\n",
       "      <td>Month-to-month</td>\n",
       "      <td>Fiber optic</td>\n",
       "      <td>Electronic check</td>\n",
       "      <td>0.370933</td>\n",
       "      <td>0.629067</td>\n",
       "      <td>Yes</td>\n",
       "    </tr>\n",
       "    <tr>\n",
       "      <th>11</th>\n",
       "      <td>882</td>\n",
       "      <td>Female</td>\n",
       "      <td>0</td>\n",
       "      <td>No</td>\n",
       "      <td>No</td>\n",
       "      <td>47</td>\n",
       "      <td>Yes</td>\n",
       "      <td>No</td>\n",
       "      <td>Yes</td>\n",
       "      <td>58.90</td>\n",
       "      <td>2813.05</td>\n",
       "      <td>No</td>\n",
       "      <td>One year</td>\n",
       "      <td>DSL</td>\n",
       "      <td>Mailed check</td>\n",
       "      <td>0.894665</td>\n",
       "      <td>0.105335</td>\n",
       "      <td>No</td>\n",
       "    </tr>\n",
       "    <tr>\n",
       "      <th>12</th>\n",
       "      <td>1848</td>\n",
       "      <td>Male</td>\n",
       "      <td>0</td>\n",
       "      <td>Yes</td>\n",
       "      <td>Yes</td>\n",
       "      <td>1</td>\n",
       "      <td>Yes</td>\n",
       "      <td>No</td>\n",
       "      <td>Yes</td>\n",
       "      <td>48.75</td>\n",
       "      <td>48.75</td>\n",
       "      <td>No</td>\n",
       "      <td>Month-to-month</td>\n",
       "      <td>DSL</td>\n",
       "      <td>Mailed check</td>\n",
       "      <td>0.619145</td>\n",
       "      <td>0.380855</td>\n",
       "      <td>No</td>\n",
       "    </tr>\n",
       "    <tr>\n",
       "      <th>13</th>\n",
       "      <td>5677</td>\n",
       "      <td>Female</td>\n",
       "      <td>1</td>\n",
       "      <td>Yes</td>\n",
       "      <td>No</td>\n",
       "      <td>72</td>\n",
       "      <td>Yes</td>\n",
       "      <td>Yes</td>\n",
       "      <td>Yes</td>\n",
       "      <td>25.70</td>\n",
       "      <td>1937.4</td>\n",
       "      <td>No</td>\n",
       "      <td>Two year</td>\n",
       "      <td>None</td>\n",
       "      <td>Credit card (automatic)</td>\n",
       "      <td>0.980333</td>\n",
       "      <td>0.019667</td>\n",
       "      <td>No</td>\n",
       "    </tr>\n",
       "    <tr>\n",
       "      <th>14</th>\n",
       "      <td>5042</td>\n",
       "      <td>Male</td>\n",
       "      <td>0</td>\n",
       "      <td>No</td>\n",
       "      <td>Yes</td>\n",
       "      <td>12</td>\n",
       "      <td>Yes</td>\n",
       "      <td>Yes</td>\n",
       "      <td>Yes</td>\n",
       "      <td>73.75</td>\n",
       "      <td>871.4</td>\n",
       "      <td>Yes</td>\n",
       "      <td>Month-to-month</td>\n",
       "      <td>Fiber optic</td>\n",
       "      <td>Credit card (automatic)</td>\n",
       "      <td>0.370933</td>\n",
       "      <td>0.629067</td>\n",
       "      <td>Yes</td>\n",
       "    </tr>\n",
       "    <tr>\n",
       "      <th>15</th>\n",
       "      <td>6617</td>\n",
       "      <td>Female</td>\n",
       "      <td>1</td>\n",
       "      <td>No</td>\n",
       "      <td>No</td>\n",
       "      <td>4</td>\n",
       "      <td>Yes</td>\n",
       "      <td>No</td>\n",
       "      <td>No</td>\n",
       "      <td>20.05</td>\n",
       "      <td>91.45</td>\n",
       "      <td>No</td>\n",
       "      <td>Month-to-month</td>\n",
       "      <td>None</td>\n",
       "      <td>Mailed check</td>\n",
       "      <td>0.851124</td>\n",
       "      <td>0.148876</td>\n",
       "      <td>No</td>\n",
       "    </tr>\n",
       "    <tr>\n",
       "      <th>16</th>\n",
       "      <td>1316</td>\n",
       "      <td>Female</td>\n",
       "      <td>0</td>\n",
       "      <td>Yes</td>\n",
       "      <td>No</td>\n",
       "      <td>15</td>\n",
       "      <td>Yes</td>\n",
       "      <td>Yes</td>\n",
       "      <td>Yes</td>\n",
       "      <td>51.10</td>\n",
       "      <td>711.15</td>\n",
       "      <td>No</td>\n",
       "      <td>Month-to-month</td>\n",
       "      <td>DSL</td>\n",
       "      <td>Electronic check</td>\n",
       "      <td>0.619145</td>\n",
       "      <td>0.380855</td>\n",
       "      <td>No</td>\n",
       "    </tr>\n",
       "    <tr>\n",
       "      <th>17</th>\n",
       "      <td>4810</td>\n",
       "      <td>Male</td>\n",
       "      <td>1</td>\n",
       "      <td>Yes</td>\n",
       "      <td>No</td>\n",
       "      <td>35</td>\n",
       "      <td>Yes</td>\n",
       "      <td>Yes</td>\n",
       "      <td>Yes</td>\n",
       "      <td>94.55</td>\n",
       "      <td>3365.4</td>\n",
       "      <td>No</td>\n",
       "      <td>Month-to-month</td>\n",
       "      <td>Fiber optic</td>\n",
       "      <td>Electronic check</td>\n",
       "      <td>0.619048</td>\n",
       "      <td>0.380952</td>\n",
       "      <td>No</td>\n",
       "    </tr>\n",
       "    <tr>\n",
       "      <th>18</th>\n",
       "      <td>1907</td>\n",
       "      <td>Male</td>\n",
       "      <td>0</td>\n",
       "      <td>No</td>\n",
       "      <td>No</td>\n",
       "      <td>1</td>\n",
       "      <td>Yes</td>\n",
       "      <td>No</td>\n",
       "      <td>Yes</td>\n",
       "      <td>45.05</td>\n",
       "      <td>45.05</td>\n",
       "      <td>Yes</td>\n",
       "      <td>Month-to-month</td>\n",
       "      <td>DSL</td>\n",
       "      <td>Mailed check</td>\n",
       "      <td>0.619145</td>\n",
       "      <td>0.380855</td>\n",
       "      <td>No</td>\n",
       "    </tr>\n",
       "    <tr>\n",
       "      <th>19</th>\n",
       "      <td>6381</td>\n",
       "      <td>Female</td>\n",
       "      <td>0</td>\n",
       "      <td>Yes</td>\n",
       "      <td>No</td>\n",
       "      <td>38</td>\n",
       "      <td>Yes</td>\n",
       "      <td>No</td>\n",
       "      <td>Yes</td>\n",
       "      <td>20.25</td>\n",
       "      <td>814.75</td>\n",
       "      <td>No</td>\n",
       "      <td>One year</td>\n",
       "      <td>None</td>\n",
       "      <td>Credit card (automatic)</td>\n",
       "      <td>0.894665</td>\n",
       "      <td>0.105335</td>\n",
       "      <td>No</td>\n",
       "    </tr>\n",
       "  </tbody>\n",
       "</table>\n",
       "</div>"
      ],
      "text/plain": [
       "    index  gender  senior_citizen partner dependents  tenure phone_service  \\\n",
       "0    2897  Female               0     Yes        Yes      64           Yes   \n",
       "1    6407  Female               0      No         No       2           Yes   \n",
       "2    6272    Male               0     Yes         No      25           Yes   \n",
       "3    5638  Female               0     Yes         No      72           Yes   \n",
       "4     903    Male               0      No         No      56           Yes   \n",
       "5    3306    Male               0     Yes         No      67           Yes   \n",
       "6    1740    Male               0      No         No       2           Yes   \n",
       "7    4037    Male               0      No         No       1           Yes   \n",
       "8    2165    Male               0      No         No       2           Yes   \n",
       "9      58    Male               0      No         No      70            No   \n",
       "10   3463  Female               0      No         No       6           Yes   \n",
       "11    882  Female               0      No         No      47           Yes   \n",
       "12   1848    Male               0     Yes        Yes       1           Yes   \n",
       "13   5677  Female               1     Yes         No      72           Yes   \n",
       "14   5042    Male               0      No        Yes      12           Yes   \n",
       "15   6617  Female               1      No         No       4           Yes   \n",
       "16   1316  Female               0     Yes         No      15           Yes   \n",
       "17   4810    Male               1     Yes         No      35           Yes   \n",
       "18   1907    Male               0      No         No       1           Yes   \n",
       "19   6381  Female               0     Yes         No      38           Yes   \n",
       "\n",
       "      multiple_lines paperless_billing  monthly_charges total_charges churn  \\\n",
       "0                Yes                No           113.35       7222.75    No   \n",
       "1                 No                No            20.45          34.8    No   \n",
       "2                 No               Yes            20.95        495.15    No   \n",
       "3                 No                No            20.50       1502.25    No   \n",
       "4                Yes               Yes            64.65       3665.55    No   \n",
       "5                 No               Yes           100.90       6733.15    No   \n",
       "6                 No                No            44.65          74.9   Yes   \n",
       "7                 No               Yes            89.90          89.9   Yes   \n",
       "8                 No               Yes            46.00          84.5   Yes   \n",
       "9   No phone service                No            48.40        3442.8    No   \n",
       "10                No                No            89.30         577.6   Yes   \n",
       "11                No               Yes            58.90       2813.05    No   \n",
       "12                No               Yes            48.75         48.75    No   \n",
       "13               Yes               Yes            25.70        1937.4    No   \n",
       "14               Yes               Yes            73.75         871.4   Yes   \n",
       "15                No                No            20.05         91.45    No   \n",
       "16               Yes               Yes            51.10        711.15    No   \n",
       "17               Yes               Yes            94.55        3365.4    No   \n",
       "18                No               Yes            45.05         45.05   Yes   \n",
       "19                No               Yes            20.25        814.75    No   \n",
       "\n",
       "     contract_type internet_service_type               payment_type        No  \\\n",
       "0         One year           Fiber optic           Electronic check  0.836158   \n",
       "1         One year                  None               Mailed check  0.851124   \n",
       "2         One year                  None  Bank transfer (automatic)  0.894665   \n",
       "3         Two year                  None    Credit card (automatic)  0.980333   \n",
       "4         One year                   DSL  Bank transfer (automatic)  0.894665   \n",
       "5         One year           Fiber optic    Credit card (automatic)  0.836158   \n",
       "6   Month-to-month                   DSL               Mailed check  0.619145   \n",
       "7   Month-to-month           Fiber optic           Electronic check  0.115108   \n",
       "8   Month-to-month                   DSL    Credit card (automatic)  0.619145   \n",
       "9         Two year                   DSL  Bank transfer (automatic)  0.980333   \n",
       "10  Month-to-month           Fiber optic           Electronic check  0.370933   \n",
       "11        One year                   DSL               Mailed check  0.894665   \n",
       "12  Month-to-month                   DSL               Mailed check  0.619145   \n",
       "13        Two year                  None    Credit card (automatic)  0.980333   \n",
       "14  Month-to-month           Fiber optic    Credit card (automatic)  0.370933   \n",
       "15  Month-to-month                  None               Mailed check  0.851124   \n",
       "16  Month-to-month                   DSL           Electronic check  0.619145   \n",
       "17  Month-to-month           Fiber optic           Electronic check  0.619048   \n",
       "18  Month-to-month                   DSL               Mailed check  0.619145   \n",
       "19        One year                  None    Credit card (automatic)  0.894665   \n",
       "\n",
       "         Yes predicted  \n",
       "0   0.163842        No  \n",
       "1   0.148876        No  \n",
       "2   0.105335        No  \n",
       "3   0.019667        No  \n",
       "4   0.105335        No  \n",
       "5   0.163842        No  \n",
       "6   0.380855        No  \n",
       "7   0.884892       Yes  \n",
       "8   0.380855        No  \n",
       "9   0.019667        No  \n",
       "10  0.629067       Yes  \n",
       "11  0.105335        No  \n",
       "12  0.380855        No  \n",
       "13  0.019667        No  \n",
       "14  0.629067       Yes  \n",
       "15  0.148876        No  \n",
       "16  0.380855        No  \n",
       "17  0.380952        No  \n",
       "18  0.380855        No  \n",
       "19  0.105335        No  "
      ]
     },
     "execution_count": 103,
     "metadata": {},
     "output_type": "execute_result"
    }
   ],
   "source": [
    "test_proba_df['predicted'] = clf.predict(X_test)\n",
    "test_proba_df.head(20)"
   ]
  },
  {
   "cell_type": "code",
   "execution_count": 104,
   "id": "a5c06fda",
   "metadata": {},
   "outputs": [],
   "source": [
    "test_proba_df.to_csv('predictions.csv')"
   ]
  },
  {
   "cell_type": "code",
   "execution_count": null,
   "id": "301b36c6",
   "metadata": {},
   "outputs": [],
   "source": []
  }
 ],
 "metadata": {
  "kernelspec": {
   "display_name": "Python 3",
   "language": "python",
   "name": "python3"
  },
  "language_info": {
   "codemirror_mode": {
    "name": "ipython",
    "version": 3
   },
   "file_extension": ".py",
   "mimetype": "text/x-python",
   "name": "python",
   "nbconvert_exporter": "python",
   "pygments_lexer": "ipython3",
   "version": "3.8.8"
  }
 },
 "nbformat": 4,
 "nbformat_minor": 5
}
